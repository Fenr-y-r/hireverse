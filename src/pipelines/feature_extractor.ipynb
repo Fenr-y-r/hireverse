{
 "cells": [
  {
   "cell_type": "code",
   "execution_count": 15,
   "metadata": {
    "tags": [
     "parameters"
    ]
   },
   "outputs": [],
   "source": [
    "participant_id = \"P1\""
   ]
  },
  {
   "cell_type": "code",
   "execution_count": 16,
   "metadata": {},
   "outputs": [
    {
     "name": "stdout",
     "output_type": "stream",
     "text": [
      "The autoreload extension is already loaded. To reload it, use:\n",
      "  %reload_ext autoreload\n"
     ]
    }
   ],
   "source": [
    "%load_ext autoreload\n",
    "%autoreload 2\n",
    "import importlib.util\n",
    "from pathlib import Path\n",
    "import os\n",
    "import sys\n",
    "from utils.utils import *\n",
    "\n",
    "VID_FILE_PATH = MAIN_DIR + \"/data/raw/videos\"\n",
    "OUTPUT_CSV_FILE = MAIN_DIR + \"/data/processed/interview_features.csv\""
   ]
  },
  {
   "cell_type": "code",
   "execution_count": 17,
   "metadata": {},
   "outputs": [],
   "source": [
    "from utils.face_analyzer import FaceAnalyzer\n",
    "\n",
    "face_analyzer = FaceAnalyzer()\n",
    "frames = face_analyzer.get_video_frames_for_participant(\n",
    "    participant_id, VID_FILE_PATH, num_selected_frames=25)"
   ]
  },
  {
   "cell_type": "markdown",
   "metadata": {},
   "source": [
    "# Lexical Features"
   ]
  },
  {
   "cell_type": "code",
   "execution_count": 18,
   "metadata": {},
   "outputs": [],
   "source": [
    "# from src.utils.LexicalAnalyser import LexicalAnalyser\n",
    "\n",
    "# AUDIO_FILE_PATH = f\"../../data/raw/audio/trimmed_{participant_id}.wav\"\n",
    "# lexical_analyser = LexicalAnalyser(AUDIO_FILE_PATH)\n",
    "# # Extract all features\n",
    "# lexical_features = lexical_analyser.extract_all_features()\n",
    "\n",
    "# # Print the extracted features\n",
    "# print(lexical_features)"
   ]
  },
  {
   "cell_type": "markdown",
   "metadata": {},
   "source": [
    "# Facial Features"
   ]
  },
  {
   "cell_type": "markdown",
   "metadata": {},
   "source": [
    "### Face Mesh"
   ]
  },
  {
   "cell_type": "code",
   "execution_count": 19,
   "metadata": {},
   "outputs": [],
   "source": [
    "for frame in frames:\n",
    "    detected_faces_landmarks = face_analyzer.process_image_results(frame.image)\n",
    "    frame.facial_landmarks_obj= face_analyzer.get_largest_face_landmarks_obj(frame.image, detected_faces_landmarks)\n",
    "    if frame.facial_landmarks_obj:\n",
    "        frame.facial_landmarks = frame.facial_landmarks_obj.landmark"
   ]
  },
  {
   "cell_type": "markdown",
   "metadata": {},
   "source": [
    "### Face"
   ]
  },
  {
   "cell_type": "code",
   "execution_count": 20,
   "metadata": {},
   "outputs": [],
   "source": [
    "\n",
    "for frame in frames:\n",
    "    if frame.facial_landmarks:\n",
    "        frame.face = face_analyzer.get_face_coordinates(frame.facial_landmarks, frame.image)"
   ]
  },
  {
   "cell_type": "markdown",
   "metadata": {},
   "source": [
    "### Smile"
   ]
  },
  {
   "cell_type": "code",
   "execution_count": 21,
   "metadata": {},
   "outputs": [
    {
     "name": "stderr",
     "output_type": "stream",
     "text": [
      "Action: emotion: 100%|██████████| 1/1 [00:00<00:00,  2.40it/s]\n",
      "Action: emotion: 100%|██████████| 1/1 [00:00<00:00,  7.50it/s]\n",
      "Action: emotion: 100%|██████████| 1/1 [00:00<00:00, 10.30it/s]\n",
      "Action: emotion: 100%|██████████| 1/1 [00:00<00:00, 11.79it/s]\n",
      "Action: emotion: 100%|██████████| 1/1 [00:00<00:00, 15.41it/s]\n",
      "Action: emotion: 100%|██████████| 1/1 [00:00<00:00, 14.72it/s]\n",
      "Action: emotion: 100%|██████████| 1/1 [00:00<00:00, 12.32it/s]\n",
      "Action: emotion: 100%|██████████| 1/1 [00:00<00:00, 11.85it/s]\n",
      "Action: emotion: 100%|██████████| 1/1 [00:00<00:00,  9.37it/s]\n",
      "Action: emotion: 100%|██████████| 1/1 [00:00<00:00,  9.20it/s]\n",
      "Action: emotion: 100%|██████████| 1/1 [00:00<00:00, 10.77it/s]\n",
      "Action: emotion: 100%|██████████| 1/1 [00:00<00:00,  7.74it/s]\n",
      "Action: emotion: 100%|██████████| 1/1 [00:00<00:00,  9.46it/s]\n",
      "Action: emotion: 100%|██████████| 1/1 [00:00<00:00, 11.23it/s]\n",
      "Action: emotion: 100%|██████████| 1/1 [00:00<00:00, 10.42it/s]\n",
      "Action: emotion: 100%|██████████| 1/1 [00:00<00:00,  8.45it/s]\n",
      "Action: emotion: 100%|██████████| 1/1 [00:00<00:00, 11.38it/s]\n",
      "Action: emotion: 100%|██████████| 1/1 [00:00<00:00, 11.98it/s]\n",
      "Action: emotion: 100%|██████████| 1/1 [00:00<00:00,  7.21it/s]\n",
      "Action: emotion: 100%|██████████| 1/1 [00:00<00:00,  7.37it/s]\n",
      "Action: emotion: 100%|██████████| 1/1 [00:00<00:00,  8.01it/s]\n",
      "Action: emotion: 100%|██████████| 1/1 [00:00<00:00,  9.62it/s]\n",
      "Action: emotion: 100%|██████████| 1/1 [00:00<00:00,  9.58it/s]\n"
     ]
    }
   ],
   "source": [
    "import numpy as np\n",
    "\n",
    "SMOOTH_WINDOW = 5\n",
    "happiness_buffer = []\n",
    "def smooth_happiness(happiness_prob):\n",
    "    if happiness_prob is None:\n",
    "        return 0 # TODO: change?\n",
    "    happiness_buffer.append(happiness_prob)\n",
    "    if len(happiness_buffer) > SMOOTH_WINDOW:\n",
    "        happiness_buffer.pop(0)\n",
    "    return np.mean(happiness_buffer)\n",
    "\n",
    "\n",
    "for i, frame in enumerate(frames):\n",
    "    face_roi = face_analyzer.get_face_roi_image(frame.image, frame.face, expand_ratio=1.1)\n",
    "    frame.smile = smooth_happiness(face_analyzer.get_smile_from_frame(face_roi))"
   ]
  },
  {
   "cell_type": "markdown",
   "metadata": {},
   "source": [
    "### Selected Facial Features"
   ]
  },
  {
   "cell_type": "code",
   "execution_count": 22,
   "metadata": {},
   "outputs": [],
   "source": [
    "for frame in frames:\n",
    "    frame.two_landmarks_connectors = face_analyzer.get_selected_facial_landmarks(frame.facial_landmarks)"
   ]
  },
  {
   "cell_type": "markdown",
   "metadata": {},
   "source": [
    "### Head Pose"
   ]
  },
  {
   "cell_type": "code",
   "execution_count": 23,
   "metadata": {},
   "outputs": [],
   "source": [
    "texts = []\n",
    "for frame in frames:\n",
    "    result = face_analyzer.get_face_angles(frame.image, frame.facial_landmarks)\n",
    "    frame.face_angles = result"
   ]
  },
  {
   "cell_type": "markdown",
   "metadata": {},
   "source": [
    "# Prosodic Extraction"
   ]
  },
  {
   "cell_type": "code",
   "execution_count": 24,
   "metadata": {},
   "outputs": [
    {
     "name": "stdout",
     "output_type": "stream",
     "text": [
      "ProsodicFeatures(f0_mean=138.8311168142939, f0_min=75.34559605984698, f0_max=599.1469508185926, f0_range=523.8013547587456, f0_sd=67.08530112931376, intensity_mean=-17.989479064941406, intensity_min=-36.43029022216797, intensity_max=0.0, intensity_range=36.43029022216797, intensity_sd=7.597977638244629, f1_mean=626.2173706460609, f1_sd=255.618004717988, f2_mean=1801.0016796933116, f2_sd=369.19335979732216, f3_mean=2718.6018206978147, f3_sd=363.6766279398512, f2_f1_mean=3.2093469178503944, f3_f1_mean=4.813353523730503, f2_f1_sd=1.1984938994193113, f3_f1_sd=1.5116794397601092, jitter=0.02250039669976796, shimmer=0.17853661247111466, percent_unvoiced=14.22418608114985, percent_breaks=1.6075754239154016, max_pause_duration=2.429999999999999, avg_pause_duration=0.31397260273972616, duration=161.134)\n"
     ]
    }
   ],
   "source": [
    "from schemas.model_features import ProsodicFeatures\n",
    "from utils.prosody_analyzer import ProsodyAnalyzer\n",
    " \n",
    "\n",
    "prosody_analyzer = ProsodyAnalyzer(participant_id)\n",
    "prosodic_features: ProsodicFeatures = prosody_analyzer.extract_all_features()\n",
    "print(prosodic_features)"
   ]
  },
  {
   "cell_type": "markdown",
   "metadata": {},
   "source": [
    "# Features Storage"
   ]
  },
  {
   "cell_type": "markdown",
   "metadata": {},
   "source": [
    "### Facial Features Aggregation"
   ]
  },
  {
   "cell_type": "code",
   "execution_count": 25,
   "metadata": {},
   "outputs": [],
   "source": [
    "from utils.feature_storage import FeatureStorage\n",
    "\n",
    "\n",
    "feature_storage = FeatureStorage(OUTPUT_CSV_FILE)\n",
    "facial_features = feature_storage.aggregate_facial_features(frames)"
   ]
  },
  {
   "cell_type": "code",
   "execution_count": 26,
   "metadata": {},
   "outputs": [
    {
     "name": "stdout",
     "output_type": "stream",
     "text": [
      "Feature attributes: {'average_outer_brow_height_mean': 0.015816841919479872, 'average_inner_brow_height_mean': 0.016161303703513142, 'eye_open_mean': 0.011017327997293224, 'outer_lip_height_mean': 0.017899925240511243, 'inner_lip_height_mean': 0.0019792394129144503, 'lip_corner_distance_mean': 0.04586184124940081, 'smile_mean': 34.25866666666667, 'pitch_mean': -5.152441822552064, 'yaw_mean': 5.493754580446394, 'roll_mean': -0.550501627536451, 'average_outer_brow_height_std': 0.0011446686873879937, 'average_inner_brow_height_std': 0.0018430869420889753, 'eye_open_std': 0.001978584199663568, 'outer_lip_height_std': 0.003049972628691677, 'inner_lip_height_std': 0.0013786569838318819, 'lip_corner_distance_std': 0.0030827616358103296, 'smile_std': 24.065104806198818, 'pitch_std': 4.590858943327594, 'yaw_std': 9.416449883562535, 'roll_std': 37.79997069249305, 'average_outer_brow_height_min': 0.013164112545471937, 'average_inner_brow_height_min': 0.012239369718574325, 'eye_open_min': 0.007233642247428866, 'outer_lip_height_min': 0.011499515406211391, 'inner_lip_height_min': 0.00020173421847301888, 'lip_corner_distance_min': 0.039023802597367964, 'smile_min': 0.0, 'pitch_min': -20.499968976667724, 'yaw_min': -18.81418408990875, 'roll_min': -175.9465388781147, 'average_outer_brow_height_max': 0.017624798010086613, 'average_inner_brow_height_max': 0.019373305467744323, 'eye_open_max': 0.013784883879522597, 'outer_lip_height_max': 0.02527721135524996, 'inner_lip_height_max': 0.004598504426177101, 'lip_corner_distance_max': 0.050939246342583774, 'smile_max': 99.0, 'pitch_max': 0.6629979387600133, 'yaw_max': 27.585875333481297, 'roll_max': 16.567100868828653, 'average_outer_brow_height_median': 0.01595562330905452, 'average_inner_brow_height_median': 0.01623459708980883, 'eye_open_median': 0.011760298482048176, 'outer_lip_height_median': 0.017888361794091336, 'inner_lip_height_median': 0.0017487174681580784, 'lip_corner_distance_median': 0.04637843512471491, 'smile_median': 36.4, 'pitch_median': -4.973914962174494, 'yaw_median': 4.415655999555181, 'roll_median': 8.627562284571018}\n",
      "Feature attributes: {'f0_mean': 138.8311168142939, 'f0_min': 75.34559605984698, 'f0_max': 599.1469508185926, 'f0_range': 523.8013547587456, 'f0_sd': 67.08530112931376, 'intensity_mean': -17.98948, 'intensity_min': -36.43029, 'intensity_max': 0.0, 'intensity_range': 36.43029, 'intensity_sd': 7.5979776, 'f1_mean': 626.2173706460609, 'f1_sd': 255.618004717988, 'f2_mean': 1801.0016796933116, 'f2_sd': 369.19335979732216, 'f3_mean': 2718.6018206978147, 'f3_sd': 363.6766279398512, 'f2_f1_mean': 3.2093469178503944, 'f3_f1_mean': 4.813353523730503, 'f2_f1_sd': 1.1984938994193113, 'f3_f1_sd': 1.5116794397601092, 'jitter': 0.02250039669976796, 'shimmer': 0.17853661247111466, 'percent_unvoiced': 14.22418608114985, 'percent_breaks': 1.6075754239154016, 'max_pause_duration': 2.429999999999999, 'avg_pause_duration': 0.31397260273972616, 'duration': 161.134}\n"
     ]
    }
   ],
   "source": [
    "feature_storage.save_to_csv(participant_id, facial_features, prosodic_features)"
   ]
  },
  {
   "cell_type": "markdown",
   "metadata": {},
   "source": [
    "# Display Frames"
   ]
  },
  {
   "cell_type": "code",
   "execution_count": 27,
   "metadata": {},
   "outputs": [],
   "source": [
    "# for frame in frames:\n",
    "#     frame.reset_drawable_image()\n",
    "#     # frame.draw_face_border()\n",
    "    \n",
    "#     frame.draw_selected_facial_landmarks(draw_lines=True)\n",
    "    \n",
    "#     frame.put_face_angles()\n",
    "#     # frame.draw_facial_landmarks()\n",
    "#     frame.display()"
   ]
  }
 ],
 "metadata": {
  "kernelspec": {
   "display_name": "venv",
   "language": "python",
   "name": "python3"
  },
  "language_info": {
   "codemirror_mode": {
    "name": "ipython",
    "version": 3
   },
   "file_extension": ".py",
   "mimetype": "text/x-python",
   "name": "python",
   "nbconvert_exporter": "python",
   "pygments_lexer": "ipython3",
   "version": "3.9.13"
  }
 },
 "nbformat": 4,
 "nbformat_minor": 2
}
