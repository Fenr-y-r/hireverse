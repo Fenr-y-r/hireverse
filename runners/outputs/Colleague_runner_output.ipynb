{
 "cells": [
  {
   "cell_type": "markdown",
   "id": "585db416",
   "metadata": {
    "tags": [
     "papermill-error-cell-tag"
    ]
   },
   "source": [
    "<span style=\"color:red; font-family:Helvetica Neue, Helvetica, Arial, sans-serif; font-size:2em;\">An Exception was encountered at '<a href=\"#papermill-error-cell\">In [7]</a>'.</span>"
   ]
  },
  {
   "cell_type": "markdown",
   "id": "887983cd",
   "metadata": {
    "papermill": {
     "duration": 0.021287,
     "end_time": "2025-04-07T22:06:22.782027",
     "exception": false,
     "start_time": "2025-04-07T22:06:22.760740",
     "status": "completed"
    },
    "tags": []
   },
   "source": [
    "# Input"
   ]
  },
  {
   "cell_type": "code",
   "execution_count": 1,
   "id": "e81dbe56",
   "metadata": {
    "execution": {
     "iopub.execute_input": "2025-04-07T22:06:22.808507Z",
     "iopub.status.busy": "2025-04-07T22:06:22.807999Z",
     "iopub.status.idle": "2025-04-07T22:06:22.814851Z",
     "shell.execute_reply": "2025-04-07T22:06:22.814539Z"
    },
    "papermill": {
     "duration": 0.020156,
     "end_time": "2025-04-07T22:06:22.816070",
     "exception": false,
     "start_time": "2025-04-07T22:06:22.795914",
     "status": "completed"
    },
    "tags": [
     "parameters"
    ]
   },
   "outputs": [],
   "source": [
    "target_column = \"RecommendHiring\""
   ]
  },
  {
   "cell_type": "code",
   "execution_count": 2,
   "id": "184aadb0",
   "metadata": {
    "execution": {
     "iopub.execute_input": "2025-04-07T22:06:22.835751Z",
     "iopub.status.busy": "2025-04-07T22:06:22.835564Z",
     "iopub.status.idle": "2025-04-07T22:06:22.838030Z",
     "shell.execute_reply": "2025-04-07T22:06:22.837670Z"
    },
    "papermill": {
     "duration": 0.013533,
     "end_time": "2025-04-07T22:06:22.839221",
     "exception": false,
     "start_time": "2025-04-07T22:06:22.825688",
     "status": "completed"
    },
    "tags": [
     "injected-parameters"
    ]
   },
   "outputs": [],
   "source": [
    "# Parameters\n",
    "target_column = \"Colleague\"\n"
   ]
  },
  {
   "cell_type": "markdown",
   "id": "d9efeddc",
   "metadata": {
    "papermill": {
     "duration": 0.009565,
     "end_time": "2025-04-07T22:06:22.858736",
     "exception": false,
     "start_time": "2025-04-07T22:06:22.849171",
     "status": "completed"
    },
    "tags": []
   },
   "source": [
    "# Constants"
   ]
  },
  {
   "cell_type": "code",
   "execution_count": 3,
   "id": "f719882a",
   "metadata": {
    "execution": {
     "iopub.execute_input": "2025-04-07T22:06:22.878916Z",
     "iopub.status.busy": "2025-04-07T22:06:22.878718Z",
     "iopub.status.idle": "2025-04-07T22:06:24.761509Z",
     "shell.execute_reply": "2025-04-07T22:06:24.761068Z"
    },
    "papermill": {
     "duration": 1.894681,
     "end_time": "2025-04-07T22:06:24.763149",
     "exception": false,
     "start_time": "2025-04-07T22:06:22.868468",
     "status": "completed"
    },
    "tags": []
   },
   "outputs": [],
   "source": [
    "import os\n",
    "import numpy as np\n",
    "from sklearn.metrics import make_scorer\n",
    "\n",
    "SCRIPT_DIR = os.path.join(os.getcwd(),)\n",
    "\n",
    "SAVED_MODELS_PATH=\"./regression_models/saved_models\"\n",
    "\n",
    "DROPPED_LEXICAL_COLUMNS = [\n",
    "    \"Swear\",\n",
    "    \"Numbers\",\n",
    "    \"Inhibition\",\n",
    "    \"Preceptual\",\n",
    "    \"Anxiety\",\n",
    "    \"Anger\",\n",
    "    \"Sadness\",\n",
    "    \"Work\",\n",
    "    \"Articles\",\n",
    "    \"Verbs\",\n",
    "    \"Adverbs\",\n",
    "    \"Prepositions\",\n",
    "    \"Conjunctions\",\n",
    "    \"Negations\",\n",
    "]\n",
    "\n",
    "facial_features = [\n",
    "    \"average_inner_brow_height\",\n",
    "    \"average_outer_brow_height\",\n",
    "    \"eye_open\",\n",
    "    \"inner_lip_height\",\n",
    "    \"lip_corner_distance\",\n",
    "    \"outer_lip_height\",\n",
    "    \"smile\",\n",
    "    \"pitch\",\n",
    "    \"roll\",\n",
    "    \"yaw\",\n",
    "]\n",
    "stats = [\"max\", \"median\", \"min\", \"std\", \"mean\"]\n",
    "DROPPED_FACIAL_FEATURES = [\n",
    "    f\"{feature}_{stat}\" for feature in facial_features for stat in stats\n",
    "]\n",
    "\n",
    "\n",
    "DROPPED_PROSODIC_COLUMNS = []\n",
    "\n",
    "ALREADY_NORMALIZED_FEATURES = [\n",
    "    \"average_outer_brow_height_mean\",\n",
    "    \"average_inner_brow_height_mean\",\n",
    "    \"eye_open_mean\",\n",
    "    \"inner_lip_height_mean\",\n",
    "    \"inner_lip_height_mean\",\n",
    "    \"lip_corner_distance_mean\",\n",
    "    \"average_outer_brow_height_std\",\n",
    "    \"average_inner_brow_height_std\",\n",
    "    \"eye_open_std\",\n",
    "    \"outer_lip_height_std\",\n",
    "    \"inner_lip_height_std\",\n",
    "    \"lip_corner_distance_std\",\n",
    "    \"average_outer_brow_height_min\",\n",
    "    \"average_inner_brow_height_min\",\n",
    "    \"eye_open_min\",\n",
    "    \"outer_lip_height_min\",\n",
    "    \"inner_lip_height_min\",\n",
    "    \"lip_corner_distance_min\",\n",
    "    \"average_outer_brow_height_max\",\n",
    "    \"average_inner_brow_height_max\",\n",
    "    \"eye_open_max\",\n",
    "    \"outer_lip_height_max\",\n",
    "    \"inner_lip_height_max\",\n",
    "    \"lip_corner_distance_max\",\n",
    "    \"average_outer_brow_height_median\",\n",
    "    \"average_inner_brow_height_median\",\n",
    "    \"eye_open_median\",\n",
    "    \"outer_lip_height_median\",\n",
    "    \"inner_lip_height_median\",\n",
    "    \"lip_corner_distance_median\",\n",
    "]  # these are already in [0, 1]\n",
    "\n",
    "MUST_KEEP_FEATURES = [\n",
    "    \"pause_duration_avg\",\n",
    "    \"average_outer_brow_height_mean\",\n",
    "    \"average_inner_brow_height_mean\",\n",
    "    \"outer_lip_height_mean\",\n",
    "    \"Duration/Filler Words\",\n",
    "]\n",
    "\n",
    "\n",
    "GROUPS_COLUMN = \"cleaned_ids\"\n",
    "INDEX_COLUMN = \"participant_id\"\n",
    "\n",
    "\n",
    "def pearson_corr(y_true, y_pred):\n",
    "    return np.corrcoef(y_true, y_pred)[0, 1]\n",
    "\n",
    "\n",
    "SCORING_METRICS = {\n",
    "    \"r2\": \"r2\",\n",
    "    \"mae\": \"neg_mean_absolute_error\",\n",
    "    \"pearson\": make_scorer(pearson_corr),  # Pearson Correlation Coefficient\n",
    "}\n",
    "\n",
    "\n",
    "MUST_KEEP_FEATURES = [\n",
    "    # \"pause_duration_avg\",\n",
    "    # \"average_outer_brow_height_mean\",\n",
    "    # \"average_inner_brow_height_mean\",\n",
    "    # \"outer_lip_height_mean\",\n",
    "    \"Duration/Filler Words\",\n",
    "]\n",
    "\n",
    "PIPELINE_PARAMS = {'feature_selection__estimator__alpha': 0.057376790661083456, 'svr__C': 0.655379988356498, 'svr__gamma': 0.02784736494309893, 'svr__epsilon': 0.2617249201838037, 'svr__kernel': 'rbf'}\n",
    "HYPERPARAMETER_TUNING_ENABLED = True"
   ]
  },
  {
   "cell_type": "markdown",
   "id": "deb66f0f",
   "metadata": {
    "id": "fD4hl39NFMny",
    "papermill": {
     "duration": 0.009505,
     "end_time": "2025-04-07T22:06:24.783354",
     "exception": false,
     "start_time": "2025-04-07T22:06:24.773849",
     "status": "completed"
    },
    "tags": []
   },
   "source": [
    "# Data Preprocessing"
   ]
  },
  {
   "cell_type": "markdown",
   "id": "2c78e2bb",
   "metadata": {
    "id": "kFDduJ-UNVTL",
    "papermill": {
     "duration": 0.009523,
     "end_time": "2025-04-07T22:06:24.802559",
     "exception": false,
     "start_time": "2025-04-07T22:06:24.793036",
     "status": "completed"
    },
    "tags": []
   },
   "source": [
    "## Import Datasets"
   ]
  },
  {
   "cell_type": "code",
   "execution_count": 4,
   "id": "fd56c704",
   "metadata": {
    "colab": {
     "base_uri": "https://localhost:8080/"
    },
    "execution": {
     "iopub.execute_input": "2025-04-07T22:06:24.822372Z",
     "iopub.status.busy": "2025-04-07T22:06:24.822124Z",
     "iopub.status.idle": "2025-04-07T22:06:24.853990Z",
     "shell.execute_reply": "2025-04-07T22:06:24.853582Z"
    },
    "id": "Zff5x2vK99H_",
    "outputId": "a04675c7-e23f-4fe9-aa8f-3d82166daeab",
    "papermill": {
     "duration": 0.043239,
     "end_time": "2025-04-07T22:06:24.855313",
     "exception": false,
     "start_time": "2025-04-07T22:06:24.812074",
     "status": "completed"
    },
    "tags": []
   },
   "outputs": [],
   "source": [
    "import pandas as pd\n",
    "import os\n",
    "\n",
    "features_df = pd.read_csv(os.path.join(SCRIPT_DIR, \"datasets\", \"add.csv\"))\n",
    "features_df = features_df.set_index(\"participant_id\")\n",
    "\n",
    "labels_df = pd.read_csv(\n",
    "    os.path.join(os.path.join(SCRIPT_DIR,  \"datasets\", \"turker_scores_full_interview.csv\"))\n",
    ")\n",
    "labels_df = labels_df.set_index(\"Participant\")\n",
    "labels_df = labels_df.loc[labels_df[\"Worker\"] == \"AGGR\"]\n",
    "\n",
    "features_df.index = features_df.index.str.lower()\n",
    "labels_df.index = labels_df.index.str.lower()\n",
    "indexed_combined_df = features_df.join(labels_df[[target_column]], how=\"left\")\n",
    "combined_df = indexed_combined_df.reset_index(drop=True)"
   ]
  },
  {
   "cell_type": "markdown",
   "id": "d67fc354",
   "metadata": {
    "papermill": {
     "duration": 0.009979,
     "end_time": "2025-04-07T22:06:24.875540",
     "exception": false,
     "start_time": "2025-04-07T22:06:24.865561",
     "status": "completed"
    },
    "tags": []
   },
   "source": [
    "# Model"
   ]
  },
  {
   "cell_type": "markdown",
   "id": "f5c5748f",
   "metadata": {
    "id": "sDQ6pHknkARQ",
    "papermill": {
     "duration": 0.009485,
     "end_time": "2025-04-07T22:06:24.894627",
     "exception": false,
     "start_time": "2025-04-07T22:06:24.885142",
     "status": "completed"
    },
    "tags": []
   },
   "source": [
    "## Split Data"
   ]
  },
  {
   "cell_type": "code",
   "execution_count": 5,
   "id": "1e61472b",
   "metadata": {
    "execution": {
     "iopub.execute_input": "2025-04-07T22:06:24.914869Z",
     "iopub.status.busy": "2025-04-07T22:06:24.914640Z",
     "iopub.status.idle": "2025-04-07T22:06:24.918209Z",
     "shell.execute_reply": "2025-04-07T22:06:24.917852Z"
    },
    "papermill": {
     "duration": 0.015006,
     "end_time": "2025-04-07T22:06:24.919225",
     "exception": false,
     "start_time": "2025-04-07T22:06:24.904219",
     "status": "completed"
    },
    "tags": []
   },
   "outputs": [],
   "source": [
    "X = combined_df.drop(columns=[target_column, GROUPS_COLUMN])\n",
    "y = combined_df[target_column]"
   ]
  },
  {
   "cell_type": "markdown",
   "id": "c41ef9b1",
   "metadata": {
    "id": "XvvciJkN0UOa",
    "papermill": {
     "duration": 0.009603,
     "end_time": "2025-04-07T22:06:24.938744",
     "exception": false,
     "start_time": "2025-04-07T22:06:24.929141",
     "status": "completed"
    },
    "tags": []
   },
   "source": [
    "## Pipeline Creation"
   ]
  },
  {
   "cell_type": "code",
   "execution_count": 6,
   "id": "0d7db0bc",
   "metadata": {
    "colab": {
     "base_uri": "https://localhost:8080/",
     "height": 137
    },
    "execution": {
     "iopub.execute_input": "2025-04-07T22:06:24.958675Z",
     "iopub.status.busy": "2025-04-07T22:06:24.958508Z",
     "iopub.status.idle": "2025-04-07T22:06:25.119612Z",
     "shell.execute_reply": "2025-04-07T22:06:25.119263Z"
    },
    "id": "dtuJl5nq0TE6",
    "outputId": "29e327d6-818f-424a-de55-ab7d93a0cab2",
    "papermill": {
     "duration": 0.172528,
     "end_time": "2025-04-07T22:06:25.120883",
     "exception": false,
     "start_time": "2025-04-07T22:06:24.948355",
     "status": "completed"
    },
    "tags": []
   },
   "outputs": [],
   "source": [
    "import numpy as np\n",
    "from sklearn.compose import ColumnTransformer\n",
    "from sklearn.feature_selection import SelectFromModel\n",
    "from sklearn.impute import SimpleImputer\n",
    "from sklearn.linear_model import Lasso, LassoCV\n",
    "from sklearn.pipeline import Pipeline\n",
    "from sklearn.preprocessing import StandardScaler\n",
    "from sklearn.svm import SVR\n",
    "from sklearn.model_selection import GroupKFold, cross_val_score, cross_validate\n",
    "import sys\n",
    "\n",
    "sys.path.append(\"..\")\n",
    "from models.domain_aware_selector import DomainAwareSelector\n",
    "\n",
    "groups_column = combined_df[GROUPS_COLUMN].astype(str).values\n",
    "\n",
    "\n",
    "preprocessor = ColumnTransformer(\n",
    "    [\n",
    "        ('dropper', 'drop', DROPPED_FACIAL_FEATURES + \n",
    "                            DROPPED_LEXICAL_COLUMNS + \n",
    "                            DROPPED_PROSODIC_COLUMNS)\n",
    "    ],\n",
    "    remainder='passthrough'\n",
    ")\n",
    "unfitted_pipeline = Pipeline(\n",
    "    [\n",
    "        ('preprocessor', preprocessor),\n",
    "        (\"imputer\", SimpleImputer(strategy=\"mean\")),  # NaN imputation\n",
    "        (\"scaler\", StandardScaler()),\n",
    "        (\"feature_selection\", SelectFromModel(estimator=Lasso(    max_iter=30000))),\n",
    "        # ('feature_selection', DomainAwareSelector(\n",
    "        #     must_keep_features=MUST_KEEP_FEATURES,\n",
    "        #     selector=SelectFromModel(lasso_feature_selection_model, max_features=10),\n",
    "        # )),\n",
    "        (\"svr\", SVR(kernel=\"rbf\")),\n",
    "    ]\n",
    ")"
   ]
  },
  {
   "cell_type": "markdown",
   "id": "1cc235bc",
   "metadata": {
    "papermill": {
     "duration": 0.009716,
     "end_time": "2025-04-07T22:06:25.140792",
     "exception": false,
     "start_time": "2025-04-07T22:06:25.131076",
     "status": "completed"
    },
    "tags": []
   },
   "source": [
    "## Hyperparameter Tuning"
   ]
  },
  {
   "cell_type": "markdown",
   "id": "094e4292",
   "metadata": {
    "tags": [
     "papermill-error-cell-tag"
    ]
   },
   "source": [
    "<span id=\"papermill-error-cell\" style=\"color:red; font-family:Helvetica Neue, Helvetica, Arial, sans-serif; font-size:2em;\">Execution using papermill encountered an exception here and stopped:</span>"
   ]
  },
  {
   "cell_type": "code",
   "execution_count": 7,
   "id": "72a263c1",
   "metadata": {
    "execution": {
     "iopub.execute_input": "2025-04-07T22:06:25.161812Z",
     "iopub.status.busy": "2025-04-07T22:06:25.161570Z",
     "iopub.status.idle": "2025-04-07T22:07:03.602266Z",
     "shell.execute_reply": "2025-04-07T22:07:03.599536Z"
    },
    "papermill": {
     "duration": 38.456207,
     "end_time": "2025-04-07T22:07:03.607067",
     "exception": true,
     "start_time": "2025-04-07T22:06:25.150860",
     "status": "failed"
    },
    "tags": []
   },
   "outputs": [
    {
     "name": "stderr",
     "output_type": "stream",
     "text": [
      "/Users/bassel27/personal_projects/hireverse/venv/lib/python3.13/site-packages/tqdm/auto.py:21: TqdmWarning: IProgress not found. Please update jupyter and ipywidgets. See https://ipywidgets.readthedocs.io/en/stable/user_install.html\n",
      "  from .autonotebook import tqdm as notebook_tqdm\n",
      "[I 2025-04-08 00:06:25,267] A new study created in memory with name: no-name-2a1737c7-9eae-4e0a-812b-66562a1a8605\n"
     ]
    },
    {
     "name": "stderr",
     "output_type": "stream",
     "text": [
      "[I 2025-04-08 00:06:26,657] Trial 3 finished with value: -0.12846027528796372 and parameters: {'feature_selection__estimator__alpha': 0.013824538429730153, 'svr__C': 1.4849311473977405, 'svr__gamma': 4.765440836600511, 'svr__epsilon': 0.1968941003791991, 'svr__kernel': 'rbf'}. Best is trial 3 with value: -0.12846027528796372.\n"
     ]
    },
    {
     "name": "stderr",
     "output_type": "stream",
     "text": [
      "[I 2025-04-08 00:06:26,722] Trial 4 finished with value: 0.05960568271147384 and parameters: {'feature_selection__estimator__alpha': 0.025746257266175875, 'svr__C': 1.0697437692992164, 'svr__gamma': 0.14507280244446855, 'svr__epsilon': 0.19086217291953148, 'svr__kernel': 'rbf'}. Best is trial 4 with value: 0.05960568271147384.\n"
     ]
    },
    {
     "name": "stderr",
     "output_type": "stream",
     "text": [
      "[I 2025-04-08 00:06:26,743] Trial 1 finished with value: -0.021463863670058834 and parameters: {'feature_selection__estimator__alpha': 0.001171036332373995, 'svr__C': 26.04812729429545, 'svr__gamma': 0.017285023376502576, 'svr__epsilon': 0.221299272760421, 'svr__kernel': 'rbf'}. Best is trial 4 with value: 0.05960568271147384.\n"
     ]
    },
    {
     "name": "stderr",
     "output_type": "stream",
     "text": [
      "[I 2025-04-08 00:06:26,798] Trial 5 finished with value: -0.07932602833778427 and parameters: {'feature_selection__estimator__alpha': 0.014692130176140765, 'svr__C': 0.056163034583745726, 'svr__gamma': 0.0036861242277298877, 'svr__epsilon': 0.33063955898123587, 'svr__kernel': 'rbf'}. Best is trial 4 with value: 0.05960568271147384.\n"
     ]
    },
    {
     "name": "stderr",
     "output_type": "stream",
     "text": [
      "[I 2025-04-08 00:06:26,855] Trial 7 finished with value: -0.11254926524258627 and parameters: {'feature_selection__estimator__alpha': 0.03403511366308214, 'svr__C': 54.7910069032992, 'svr__gamma': 1.0440965529649893, 'svr__epsilon': 0.3282799452277051, 'svr__kernel': 'rbf'}. Best is trial 4 with value: 0.05960568271147384.\n"
     ]
    },
    {
     "name": "stderr",
     "output_type": "stream",
     "text": [
      "[I 2025-04-08 00:06:26,892] Trial 0 finished with value: 0.12552929674381516 and parameters: {'feature_selection__estimator__alpha': 0.0010970908753031897, 'svr__C': 0.35273020263697064, 'svr__gamma': 0.006906398108576087, 'svr__epsilon': 0.19212324760818458, 'svr__kernel': 'rbf'}. Best is trial 0 with value: 0.12552929674381516.\n"
     ]
    },
    {
     "name": "stderr",
     "output_type": "stream",
     "text": [
      "[I 2025-04-08 00:06:27,004] Trial 6 finished with value: -0.09965712977207865 and parameters: {'feature_selection__estimator__alpha': 0.0023665694524498166, 'svr__C': 13.963590608543294, 'svr__gamma': 0.23166924369284003, 'svr__epsilon': 0.18975851804031718, 'svr__kernel': 'rbf'}. Best is trial 0 with value: 0.12552929674381516.\n"
     ]
    },
    {
     "name": "stderr",
     "output_type": "stream",
     "text": [
      "[I 2025-04-08 00:06:27,081] Trial 2 finished with value: -0.128123893357746 and parameters: {'feature_selection__estimator__alpha': 0.0012420316598604822, 'svr__C': 47.88623712602386, 'svr__gamma': 7.517807320727595, 'svr__epsilon': 0.26196010866997627, 'svr__kernel': 'rbf'}. Best is trial 0 with value: 0.12552929674381516.\n"
     ]
    },
    {
     "name": "stderr",
     "output_type": "stream",
     "text": [
      "/Users/bassel27/personal_projects/hireverse/venv/lib/python3.13/site-packages/sklearn/feature_selection/_base.py:122: UserWarning: No features were selected: either the data is too noisy or the selection test too strict.\n",
      "  warnings.warn(\n"
     ]
    },
    {
     "name": "stderr",
     "output_type": "stream",
     "text": [
      "/Users/bassel27/personal_projects/hireverse/venv/lib/python3.13/site-packages/sklearn/feature_selection/_base.py:122: UserWarning: No features were selected: either the data is too noisy or the selection test too strict.\n",
      "  warnings.warn(\n",
      "/Users/bassel27/personal_projects/hireverse/venv/lib/python3.13/site-packages/sklearn/feature_selection/_base.py:122: UserWarning: No features were selected: either the data is too noisy or the selection test too strict.\n",
      "  warnings.warn(\n",
      "/Users/bassel27/personal_projects/hireverse/venv/lib/python3.13/site-packages/sklearn/feature_selection/_base.py:122: UserWarning: No features were selected: either the data is too noisy or the selection test too strict.\n",
      "  warnings.warn(\n",
      "/Users/bassel27/personal_projects/hireverse/venv/lib/python3.13/site-packages/sklearn/feature_selection/_base.py:122: UserWarning: No features were selected: either the data is too noisy or the selection test too strict.\n",
      "  warnings.warn(\n"
     ]
    },
    {
     "name": "stderr",
     "output_type": "stream",
     "text": [
      "/Users/bassel27/personal_projects/hireverse/venv/lib/python3.13/site-packages/sklearn/feature_selection/_base.py:122: UserWarning: No features were selected: either the data is too noisy or the selection test too strict.\n",
      "  warnings.warn(\n",
      "/Users/bassel27/personal_projects/hireverse/venv/lib/python3.13/site-packages/sklearn/feature_selection/_base.py:122: UserWarning: No features were selected: either the data is too noisy or the selection test too strict.\n",
      "  warnings.warn(\n",
      "/Users/bassel27/personal_projects/hireverse/venv/lib/python3.13/site-packages/sklearn/feature_selection/_base.py:122: UserWarning: No features were selected: either the data is too noisy or the selection test too strict.\n",
      "  warnings.warn(\n",
      "/Users/bassel27/personal_projects/hireverse/venv/lib/python3.13/site-packages/sklearn/feature_selection/_base.py:122: UserWarning: No features were selected: either the data is too noisy or the selection test too strict.\n",
      "  warnings.warn(\n"
     ]
    },
    {
     "name": "stderr",
     "output_type": "stream",
     "text": [
      "/Users/bassel27/personal_projects/hireverse/venv/lib/python3.13/site-packages/sklearn/feature_selection/_base.py:122: UserWarning: No features were selected: either the data is too noisy or the selection test too strict.\n",
      "  warnings.warn(\n",
      "/Users/bassel27/personal_projects/hireverse/venv/lib/python3.13/site-packages/sklearn/feature_selection/_base.py:122: UserWarning: No features were selected: either the data is too noisy or the selection test too strict.\n",
      "  warnings.warn(\n",
      "/Users/bassel27/personal_projects/hireverse/venv/lib/python3.13/site-packages/sklearn/feature_selection/_base.py:122: UserWarning: No features were selected: either the data is too noisy or the selection test too strict.\n",
      "  warnings.warn(\n",
      "/Users/bassel27/personal_projects/hireverse/venv/lib/python3.13/site-packages/sklearn/feature_selection/_base.py:122: UserWarning: No features were selected: either the data is too noisy or the selection test too strict.\n",
      "  warnings.warn(\n"
     ]
    },
    {
     "name": "stderr",
     "output_type": "stream",
     "text": [
      "[I 2025-04-08 00:06:28,097] Trial 10 finished with value: 0.021322782109675663 and parameters: {'feature_selection__estimator__alpha': 0.12258865788395534, 'svr__C': 0.4423265984053677, 'svr__gamma': 0.0022738172011802123, 'svr__epsilon': 0.1257897118517731, 'svr__kernel': 'rbf'}. Best is trial 0 with value: 0.12552929674381516.\n",
      "/Users/bassel27/personal_projects/hireverse/venv/lib/python3.13/site-packages/sklearn/feature_selection/_base.py:122: UserWarning: No features were selected: either the data is too noisy or the selection test too strict.\n",
      "  warnings.warn(\n"
     ]
    },
    {
     "name": "stderr",
     "output_type": "stream",
     "text": [
      "[I 2025-04-08 00:06:28,136] Trial 8 finished with value: -0.11991137357556807 and parameters: {'feature_selection__estimator__alpha': 0.0014366212971620267, 'svr__C': 8.214117618539785, 'svr__gamma': 0.2768399965727373, 'svr__epsilon': 0.4945754158497033, 'svr__kernel': 'rbf'}. Best is trial 0 with value: 0.12552929674381516.\n"
     ]
    },
    {
     "name": "stderr",
     "output_type": "stream",
     "text": [
      "/Users/bassel27/personal_projects/hireverse/venv/lib/python3.13/site-packages/sklearn/feature_selection/_base.py:122: UserWarning: No features were selected: either the data is too noisy or the selection test too strict.\n",
      "  warnings.warn(\n",
      "/Users/bassel27/personal_projects/hireverse/venv/lib/python3.13/site-packages/sklearn/feature_selection/_base.py:122: UserWarning: No features were selected: either the data is too noisy or the selection test too strict.\n",
      "  warnings.warn(\n",
      "[I 2025-04-08 00:06:28,222] Trial 9 finished with value: -0.11472169844208724 and parameters: {'feature_selection__estimator__alpha': 0.001250011948289771, 'svr__C': 0.21464077856800254, 'svr__gamma': 0.14511950875666443, 'svr__epsilon': 0.4587113352162229, 'svr__kernel': 'rbf'}. Best is trial 0 with value: 0.12552929674381516.\n"
     ]
    },
    {
     "name": "stderr",
     "output_type": "stream",
     "text": [
      "[I 2025-04-08 00:06:28,234] Trial 12 finished with value: -0.09574874398688452 and parameters: {'feature_selection__estimator__alpha': 0.0036226161764612145, 'svr__C': 0.019068401816232892, 'svr__gamma': 0.004106906315816061, 'svr__epsilon': 0.4153131541963624, 'svr__kernel': 'rbf'}. Best is trial 0 with value: 0.12552929674381516.\n"
     ]
    },
    {
     "name": "stderr",
     "output_type": "stream",
     "text": [
      "[I 2025-04-08 00:06:28,312] Trial 13 finished with value: -0.370983361423628 and parameters: {'feature_selection__estimator__alpha': 0.008515978048525913, 'svr__C': 86.12027453212798, 'svr__gamma': 0.003803455547663371, 'svr__epsilon': 0.25508023267231494, 'svr__kernel': 'rbf'}. Best is trial 0 with value: 0.12552929674381516.\n",
      "/Users/bassel27/personal_projects/hireverse/venv/lib/python3.13/site-packages/sklearn/feature_selection/_base.py:122: UserWarning: No features were selected: either the data is too noisy or the selection test too strict.\n",
      "  warnings.warn(\n"
     ]
    },
    {
     "name": "stderr",
     "output_type": "stream",
     "text": [
      "[I 2025-04-08 00:06:28,379] Trial 11 finished with value: -0.1313122006392251 and parameters: {'feature_selection__estimator__alpha': 0.002062283001044105, 'svr__C': 3.0501236567332923, 'svr__gamma': 5.713552794051136, 'svr__epsilon': 0.06204889327417861, 'svr__kernel': 'rbf'}. Best is trial 0 with value: 0.12552929674381516.\n",
      "/Users/bassel27/personal_projects/hireverse/venv/lib/python3.13/site-packages/sklearn/feature_selection/_base.py:122: UserWarning: No features were selected: either the data is too noisy or the selection test too strict.\n",
      "  warnings.warn(\n"
     ]
    },
    {
     "name": "stderr",
     "output_type": "stream",
     "text": [
      "/Users/bassel27/personal_projects/hireverse/venv/lib/python3.13/site-packages/sklearn/feature_selection/_base.py:122: UserWarning: No features were selected: either the data is too noisy or the selection test too strict.\n",
      "  warnings.warn(\n"
     ]
    },
    {
     "name": "stderr",
     "output_type": "stream",
     "text": [
      "[I 2025-04-08 00:06:28,499] Trial 15 finished with value: 0.05906145891946239 and parameters: {'feature_selection__estimator__alpha': 0.002351262707978544, 'svr__C': 2.363926605025209, 'svr__gamma': 0.009008803457384026, 'svr__epsilon': 0.061997526526871155, 'svr__kernel': 'rbf'}. Best is trial 0 with value: 0.12552929674381516.\n"
     ]
    },
    {
     "name": "stderr",
     "output_type": "stream",
     "text": [
      "/Users/bassel27/personal_projects/hireverse/venv/lib/python3.13/site-packages/sklearn/feature_selection/_base.py:122: UserWarning: No features were selected: either the data is too noisy or the selection test too strict.\n",
      "  warnings.warn(\n"
     ]
    },
    {
     "name": "stderr",
     "output_type": "stream",
     "text": [
      "[W 2025-04-08 00:07:01,634] Trial 14 failed with parameters: {'feature_selection__estimator__alpha': 0.29412590970298036, 'svr__C': 27.914039602185987, 'svr__gamma': 0.01119132085758421, 'svr__epsilon': 0.22149003933015884, 'svr__kernel': 'rbf'} because of the following error: ValueError('\\nAll the 20 fits failed.\\nIt is very likely that your model is misconfigured.\\nYou can try to debug the error by setting error_score=\\'raise\\'.\\n\\nBelow are more details about the failures:\\n--------------------------------------------------------------------------------\\n4 fits failed with the following error:\\nTraceback (most recent call last):\\n  File \"/Users/bassel27/personal_projects/hireverse/venv/lib/python3.13/site-packages/sklearn/model_selection/_validation.py\", line 866, in _fit_and_score\\n    estimator.fit(X_train, y_train, **fit_params)\\n    ~~~~~~~~~~~~~^^^^^^^^^^^^^^^^^^^^^^^^^^^^^^^^\\n  File \"/Users/bassel27/personal_projects/hireverse/venv/lib/python3.13/site-packages/sklearn/base.py\", line 1389, in wrapper\\n    return fit_method(estimator, *args, **kwargs)\\n  File \"/Users/bassel27/personal_projects/hireverse/venv/lib/python3.13/site-packages/sklearn/pipeline.py\", line 662, in fit\\n    self._final_estimator.fit(Xt, y, **last_step_params[\"fit\"])\\n    ~~~~~~~~~~~~~~~~~~~~~~~~~^^^^^^^^^^^^^^^^^^^^^^^^^^^^^^^^^^\\n  File \"/Users/bassel27/personal_projects/hireverse/venv/lib/python3.13/site-packages/sklearn/base.py\", line 1389, in wrapper\\n    return fit_method(estimator, *args, **kwargs)\\n  File \"/Users/bassel27/personal_projects/hireverse/venv/lib/python3.13/site-packages/sklearn/svm/_base.py\", line 197, in fit\\n    X, y = validate_data(\\n           ~~~~~~~~~~~~~^\\n        self,\\n        ^^^^^\\n    ...<5 lines>...\\n        accept_large_sparse=False,\\n        ^^^^^^^^^^^^^^^^^^^^^^^^^^\\n    )\\n    ^\\n  File \"/Users/bassel27/personal_projects/hireverse/venv/lib/python3.13/site-packages/sklearn/utils/validation.py\", line 2961, in validate_data\\n    X, y = check_X_y(X, y, **check_params)\\n           ~~~~~~~~~^^^^^^^^^^^^^^^^^^^^^^\\n  File \"/Users/bassel27/personal_projects/hireverse/venv/lib/python3.13/site-packages/sklearn/utils/validation.py\", line 1370, in check_X_y\\n    X = check_array(\\n        X,\\n    ...<12 lines>...\\n        input_name=\"X\",\\n    )\\n  File \"/Users/bassel27/personal_projects/hireverse/venv/lib/python3.13/site-packages/sklearn/utils/validation.py\", line 1139, in check_array\\n    raise ValueError(\\n    ...<3 lines>...\\n    )\\nValueError: Found array with 0 feature(s) (shape=(110, 0)) while a minimum of 1 is required by SVR.\\n\\n--------------------------------------------------------------------------------\\n16 fits failed with the following error:\\nTraceback (most recent call last):\\n  File \"/Users/bassel27/personal_projects/hireverse/venv/lib/python3.13/site-packages/sklearn/model_selection/_validation.py\", line 866, in _fit_and_score\\n    estimator.fit(X_train, y_train, **fit_params)\\n    ~~~~~~~~~~~~~^^^^^^^^^^^^^^^^^^^^^^^^^^^^^^^^\\n  File \"/Users/bassel27/personal_projects/hireverse/venv/lib/python3.13/site-packages/sklearn/base.py\", line 1389, in wrapper\\n    return fit_method(estimator, *args, **kwargs)\\n  File \"/Users/bassel27/personal_projects/hireverse/venv/lib/python3.13/site-packages/sklearn/pipeline.py\", line 662, in fit\\n    self._final_estimator.fit(Xt, y, **last_step_params[\"fit\"])\\n    ~~~~~~~~~~~~~~~~~~~~~~~~~^^^^^^^^^^^^^^^^^^^^^^^^^^^^^^^^^^\\n  File \"/Users/bassel27/personal_projects/hireverse/venv/lib/python3.13/site-packages/sklearn/base.py\", line 1389, in wrapper\\n    return fit_method(estimator, *args, **kwargs)\\n  File \"/Users/bassel27/personal_projects/hireverse/venv/lib/python3.13/site-packages/sklearn/svm/_base.py\", line 197, in fit\\n    X, y = validate_data(\\n           ~~~~~~~~~~~~~^\\n        self,\\n        ^^^^^\\n    ...<5 lines>...\\n        accept_large_sparse=False,\\n        ^^^^^^^^^^^^^^^^^^^^^^^^^^\\n    )\\n    ^\\n  File \"/Users/bassel27/personal_projects/hireverse/venv/lib/python3.13/site-packages/sklearn/utils/validation.py\", line 2961, in validate_data\\n    X, y = check_X_y(X, y, **check_params)\\n           ~~~~~~~~~^^^^^^^^^^^^^^^^^^^^^^\\n  File \"/Users/bassel27/personal_projects/hireverse/venv/lib/python3.13/site-packages/sklearn/utils/validation.py\", line 1370, in check_X_y\\n    X = check_array(\\n        X,\\n    ...<12 lines>...\\n        input_name=\"X\",\\n    )\\n  File \"/Users/bassel27/personal_projects/hireverse/venv/lib/python3.13/site-packages/sklearn/utils/validation.py\", line 1139, in check_array\\n    raise ValueError(\\n    ...<3 lines>...\\n    )\\nValueError: Found array with 0 feature(s) (shape=(109, 0)) while a minimum of 1 is required by SVR.\\n').\n",
      "Traceback (most recent call last):\n",
      "  File \"/Users/bassel27/personal_projects/hireverse/venv/lib/python3.13/site-packages/optuna/study/_optimize.py\", line 197, in _run_trial\n",
      "    value_or_values = func(trial)\n",
      "  File \"/var/folders/d8/gg3vwxbd3k54_36zkft8f2_c0000gn/T/ipykernel_49963/3283303424.py\", line 28, in objective\n",
      "    scores = cross_val_score(\n",
      "        pipeline_clone, X, y, cv=mc_cv_tuning, groups=groups_column, n_jobs=1\n",
      "    )\n",
      "  File \"/Users/bassel27/personal_projects/hireverse/venv/lib/python3.13/site-packages/sklearn/utils/_param_validation.py\", line 216, in wrapper\n",
      "    return func(*args, **kwargs)\n",
      "  File \"/Users/bassel27/personal_projects/hireverse/venv/lib/python3.13/site-packages/sklearn/model_selection/_validation.py\", line 684, in cross_val_score\n",
      "    cv_results = cross_validate(\n",
      "        estimator=estimator,\n",
      "    ...<9 lines>...\n",
      "        error_score=error_score,\n",
      "    )\n",
      "  File \"/Users/bassel27/personal_projects/hireverse/venv/lib/python3.13/site-packages/sklearn/utils/_param_validation.py\", line 216, in wrapper\n",
      "    return func(*args, **kwargs)\n",
      "  File \"/Users/bassel27/personal_projects/hireverse/venv/lib/python3.13/site-packages/sklearn/model_selection/_validation.py\", line 431, in cross_validate\n",
      "    _warn_or_raise_about_fit_failures(results, error_score)\n",
      "    ~~~~~~~~~~~~~~~~~~~~~~~~~~~~~~~~~^^^^^^^^^^^^^^^^^^^^^^\n",
      "  File \"/Users/bassel27/personal_projects/hireverse/venv/lib/python3.13/site-packages/sklearn/model_selection/_validation.py\", line 517, in _warn_or_raise_about_fit_failures\n",
      "    raise ValueError(all_fits_failed_message)\n",
      "ValueError: \n",
      "All the 20 fits failed.\n",
      "It is very likely that your model is misconfigured.\n",
      "You can try to debug the error by setting error_score='raise'.\n",
      "\n",
      "Below are more details about the failures:\n",
      "--------------------------------------------------------------------------------\n",
      "4 fits failed with the following error:\n",
      "Traceback (most recent call last):\n",
      "  File \"/Users/bassel27/personal_projects/hireverse/venv/lib/python3.13/site-packages/sklearn/model_selection/_validation.py\", line 866, in _fit_and_score\n",
      "    estimator.fit(X_train, y_train, **fit_params)\n",
      "    ~~~~~~~~~~~~~^^^^^^^^^^^^^^^^^^^^^^^^^^^^^^^^\n",
      "  File \"/Users/bassel27/personal_projects/hireverse/venv/lib/python3.13/site-packages/sklearn/base.py\", line 1389, in wrapper\n",
      "    return fit_method(estimator, *args, **kwargs)\n",
      "  File \"/Users/bassel27/personal_projects/hireverse/venv/lib/python3.13/site-packages/sklearn/pipeline.py\", line 662, in fit\n",
      "    self._final_estimator.fit(Xt, y, **last_step_params[\"fit\"])\n",
      "    ~~~~~~~~~~~~~~~~~~~~~~~~~^^^^^^^^^^^^^^^^^^^^^^^^^^^^^^^^^^\n",
      "  File \"/Users/bassel27/personal_projects/hireverse/venv/lib/python3.13/site-packages/sklearn/base.py\", line 1389, in wrapper\n",
      "    return fit_method(estimator, *args, **kwargs)\n",
      "  File \"/Users/bassel27/personal_projects/hireverse/venv/lib/python3.13/site-packages/sklearn/svm/_base.py\", line 197, in fit\n",
      "    X, y = validate_data(\n",
      "           ~~~~~~~~~~~~~^\n",
      "        self,\n",
      "        ^^^^^\n",
      "    ...<5 lines>...\n",
      "        accept_large_sparse=False,\n",
      "        ^^^^^^^^^^^^^^^^^^^^^^^^^^\n",
      "    )\n",
      "    ^\n",
      "  File \"/Users/bassel27/personal_projects/hireverse/venv/lib/python3.13/site-packages/sklearn/utils/validation.py\", line 2961, in validate_data\n",
      "    X, y = check_X_y(X, y, **check_params)\n",
      "           ~~~~~~~~~^^^^^^^^^^^^^^^^^^^^^^\n",
      "  File \"/Users/bassel27/personal_projects/hireverse/venv/lib/python3.13/site-packages/sklearn/utils/validation.py\", line 1370, in check_X_y\n",
      "    X = check_array(\n",
      "        X,\n",
      "    ...<12 lines>...\n",
      "        input_name=\"X\",\n",
      "    )\n",
      "  File \"/Users/bassel27/personal_projects/hireverse/venv/lib/python3.13/site-packages/sklearn/utils/validation.py\", line 1139, in check_array\n",
      "    raise ValueError(\n",
      "    ...<3 lines>...\n",
      "    )\n",
      "ValueError: Found array with 0 feature(s) (shape=(110, 0)) while a minimum of 1 is required by SVR.\n",
      "\n",
      "--------------------------------------------------------------------------------\n",
      "16 fits failed with the following error:\n",
      "Traceback (most recent call last):\n",
      "  File \"/Users/bassel27/personal_projects/hireverse/venv/lib/python3.13/site-packages/sklearn/model_selection/_validation.py\", line 866, in _fit_and_score\n",
      "    estimator.fit(X_train, y_train, **fit_params)\n",
      "    ~~~~~~~~~~~~~^^^^^^^^^^^^^^^^^^^^^^^^^^^^^^^^\n",
      "  File \"/Users/bassel27/personal_projects/hireverse/venv/lib/python3.13/site-packages/sklearn/base.py\", line 1389, in wrapper\n",
      "    return fit_method(estimator, *args, **kwargs)\n",
      "  File \"/Users/bassel27/personal_projects/hireverse/venv/lib/python3.13/site-packages/sklearn/pipeline.py\", line 662, in fit\n",
      "    self._final_estimator.fit(Xt, y, **last_step_params[\"fit\"])\n",
      "    ~~~~~~~~~~~~~~~~~~~~~~~~~^^^^^^^^^^^^^^^^^^^^^^^^^^^^^^^^^^\n",
      "  File \"/Users/bassel27/personal_projects/hireverse/venv/lib/python3.13/site-packages/sklearn/base.py\", line 1389, in wrapper\n",
      "    return fit_method(estimator, *args, **kwargs)\n",
      "  File \"/Users/bassel27/personal_projects/hireverse/venv/lib/python3.13/site-packages/sklearn/svm/_base.py\", line 197, in fit\n",
      "    X, y = validate_data(\n",
      "           ~~~~~~~~~~~~~^\n",
      "        self,\n",
      "        ^^^^^\n",
      "    ...<5 lines>...\n",
      "        accept_large_sparse=False,\n",
      "        ^^^^^^^^^^^^^^^^^^^^^^^^^^\n",
      "    )\n",
      "    ^\n",
      "  File \"/Users/bassel27/personal_projects/hireverse/venv/lib/python3.13/site-packages/sklearn/utils/validation.py\", line 2961, in validate_data\n",
      "    X, y = check_X_y(X, y, **check_params)\n",
      "           ~~~~~~~~~^^^^^^^^^^^^^^^^^^^^^^\n",
      "  File \"/Users/bassel27/personal_projects/hireverse/venv/lib/python3.13/site-packages/sklearn/utils/validation.py\", line 1370, in check_X_y\n",
      "    X = check_array(\n",
      "        X,\n",
      "    ...<12 lines>...\n",
      "        input_name=\"X\",\n",
      "    )\n",
      "  File \"/Users/bassel27/personal_projects/hireverse/venv/lib/python3.13/site-packages/sklearn/utils/validation.py\", line 1139, in check_array\n",
      "    raise ValueError(\n",
      "    ...<3 lines>...\n",
      "    )\n",
      "ValueError: Found array with 0 feature(s) (shape=(109, 0)) while a minimum of 1 is required by SVR.\n",
      "\n"
     ]
    },
    {
     "name": "stderr",
     "output_type": "stream",
     "text": [
      "[W 2025-04-08 00:07:01,661] Trial 14 failed with value None.\n"
     ]
    },
    {
     "name": "stderr",
     "output_type": "stream",
     "text": [
      "[I 2025-04-08 00:07:02,646] Trial 19 finished with value: 0.08714504237600312 and parameters: {'feature_selection__estimator__alpha': 0.04015095735433284, 'svr__C': 1.8880347994122713, 'svr__gamma': 0.029811243947166454, 'svr__epsilon': 0.01808028468656281, 'svr__kernel': 'rbf'}. Best is trial 0 with value: 0.12552929674381516.\n"
     ]
    },
    {
     "name": "stderr",
     "output_type": "stream",
     "text": [
      "[I 2025-04-08 00:07:02,714] Trial 21 finished with value: 0.17093478551425484 and parameters: {'feature_selection__estimator__alpha': 0.04857862185926792, 'svr__C': 0.2115053667610217, 'svr__gamma': 0.03263825880137117, 'svr__epsilon': 0.03204048125322656, 'svr__kernel': 'rbf'}. Best is trial 21 with value: 0.17093478551425484.\n"
     ]
    },
    {
     "name": "stderr",
     "output_type": "stream",
     "text": [
      "[I 2025-04-08 00:07:02,737] Trial 16 finished with value: -0.12658332195056726 and parameters: {'feature_selection__estimator__alpha': 0.0014793647849894265, 'svr__C': 11.702428700863521, 'svr__gamma': 4.852400446639869, 'svr__epsilon': 0.34255607553152645, 'svr__kernel': 'rbf'}. Best is trial 21 with value: 0.17093478551425484.\n"
     ]
    },
    {
     "name": "stderr",
     "output_type": "stream",
     "text": [
      "[I 2025-04-08 00:07:02,793] Trial 18 finished with value: 0.10424753586291118 and parameters: {'feature_selection__estimator__alpha': 0.05090447214327337, 'svr__C': 2.098643197451037, 'svr__gamma': 0.0242939491724364, 'svr__epsilon': 0.05689745460245907, 'svr__kernel': 'rbf'}. Best is trial 21 with value: 0.17093478551425484.\n"
     ]
    },
    {
     "name": "stderr",
     "output_type": "stream",
     "text": [
      "[I 2025-04-08 00:07:02,814] Trial 17 finished with value: -0.10822508276982797 and parameters: {'feature_selection__estimator__alpha': 0.004109364226232506, 'svr__C': 0.014090755930829197, 'svr__gamma': 0.01088545476689401, 'svr__epsilon': 0.030472393454878816, 'svr__kernel': 'rbf'}. Best is trial 21 with value: 0.17093478551425484.\n"
     ]
    },
    {
     "name": "stderr",
     "output_type": "stream",
     "text": [
      "[I 2025-04-08 00:07:02,847] Trial 20 finished with value: 0.06732909348708437 and parameters: {'feature_selection__estimator__alpha': 0.04993090410404894, 'svr__C': 2.5217137167190757, 'svr__gamma': 0.029059507800087044, 'svr__epsilon': 0.016963362481333066, 'svr__kernel': 'rbf'}. Best is trial 21 with value: 0.17093478551425484.\n"
     ]
    },
    {
     "name": "stderr",
     "output_type": "stream",
     "text": [
      "[I 2025-04-08 00:07:02,875] Trial 22 finished with value: 0.1736151014109107 and parameters: {'feature_selection__estimator__alpha': 0.0431951111076473, 'svr__C': 0.22428115674154575, 'svr__gamma': 0.03949889223202476, 'svr__epsilon': 0.14731381192905452, 'svr__kernel': 'rbf'}. Best is trial 22 with value: 0.1736151014109107.\n"
     ]
    },
    {
     "ename": "ValueError",
     "evalue": "\nAll the 20 fits failed.\nIt is very likely that your model is misconfigured.\nYou can try to debug the error by setting error_score='raise'.\n\nBelow are more details about the failures:\n--------------------------------------------------------------------------------\n4 fits failed with the following error:\nTraceback (most recent call last):\n  File \"/Users/bassel27/personal_projects/hireverse/venv/lib/python3.13/site-packages/sklearn/model_selection/_validation.py\", line 866, in _fit_and_score\n    estimator.fit(X_train, y_train, **fit_params)\n    ~~~~~~~~~~~~~^^^^^^^^^^^^^^^^^^^^^^^^^^^^^^^^\n  File \"/Users/bassel27/personal_projects/hireverse/venv/lib/python3.13/site-packages/sklearn/base.py\", line 1389, in wrapper\n    return fit_method(estimator, *args, **kwargs)\n  File \"/Users/bassel27/personal_projects/hireverse/venv/lib/python3.13/site-packages/sklearn/pipeline.py\", line 662, in fit\n    self._final_estimator.fit(Xt, y, **last_step_params[\"fit\"])\n    ~~~~~~~~~~~~~~~~~~~~~~~~~^^^^^^^^^^^^^^^^^^^^^^^^^^^^^^^^^^\n  File \"/Users/bassel27/personal_projects/hireverse/venv/lib/python3.13/site-packages/sklearn/base.py\", line 1389, in wrapper\n    return fit_method(estimator, *args, **kwargs)\n  File \"/Users/bassel27/personal_projects/hireverse/venv/lib/python3.13/site-packages/sklearn/svm/_base.py\", line 197, in fit\n    X, y = validate_data(\n           ~~~~~~~~~~~~~^\n        self,\n        ^^^^^\n    ...<5 lines>...\n        accept_large_sparse=False,\n        ^^^^^^^^^^^^^^^^^^^^^^^^^^\n    )\n    ^\n  File \"/Users/bassel27/personal_projects/hireverse/venv/lib/python3.13/site-packages/sklearn/utils/validation.py\", line 2961, in validate_data\n    X, y = check_X_y(X, y, **check_params)\n           ~~~~~~~~~^^^^^^^^^^^^^^^^^^^^^^\n  File \"/Users/bassel27/personal_projects/hireverse/venv/lib/python3.13/site-packages/sklearn/utils/validation.py\", line 1370, in check_X_y\n    X = check_array(\n        X,\n    ...<12 lines>...\n        input_name=\"X\",\n    )\n  File \"/Users/bassel27/personal_projects/hireverse/venv/lib/python3.13/site-packages/sklearn/utils/validation.py\", line 1139, in check_array\n    raise ValueError(\n    ...<3 lines>...\n    )\nValueError: Found array with 0 feature(s) (shape=(110, 0)) while a minimum of 1 is required by SVR.\n\n--------------------------------------------------------------------------------\n16 fits failed with the following error:\nTraceback (most recent call last):\n  File \"/Users/bassel27/personal_projects/hireverse/venv/lib/python3.13/site-packages/sklearn/model_selection/_validation.py\", line 866, in _fit_and_score\n    estimator.fit(X_train, y_train, **fit_params)\n    ~~~~~~~~~~~~~^^^^^^^^^^^^^^^^^^^^^^^^^^^^^^^^\n  File \"/Users/bassel27/personal_projects/hireverse/venv/lib/python3.13/site-packages/sklearn/base.py\", line 1389, in wrapper\n    return fit_method(estimator, *args, **kwargs)\n  File \"/Users/bassel27/personal_projects/hireverse/venv/lib/python3.13/site-packages/sklearn/pipeline.py\", line 662, in fit\n    self._final_estimator.fit(Xt, y, **last_step_params[\"fit\"])\n    ~~~~~~~~~~~~~~~~~~~~~~~~~^^^^^^^^^^^^^^^^^^^^^^^^^^^^^^^^^^\n  File \"/Users/bassel27/personal_projects/hireverse/venv/lib/python3.13/site-packages/sklearn/base.py\", line 1389, in wrapper\n    return fit_method(estimator, *args, **kwargs)\n  File \"/Users/bassel27/personal_projects/hireverse/venv/lib/python3.13/site-packages/sklearn/svm/_base.py\", line 197, in fit\n    X, y = validate_data(\n           ~~~~~~~~~~~~~^\n        self,\n        ^^^^^\n    ...<5 lines>...\n        accept_large_sparse=False,\n        ^^^^^^^^^^^^^^^^^^^^^^^^^^\n    )\n    ^\n  File \"/Users/bassel27/personal_projects/hireverse/venv/lib/python3.13/site-packages/sklearn/utils/validation.py\", line 2961, in validate_data\n    X, y = check_X_y(X, y, **check_params)\n           ~~~~~~~~~^^^^^^^^^^^^^^^^^^^^^^\n  File \"/Users/bassel27/personal_projects/hireverse/venv/lib/python3.13/site-packages/sklearn/utils/validation.py\", line 1370, in check_X_y\n    X = check_array(\n        X,\n    ...<12 lines>...\n        input_name=\"X\",\n    )\n  File \"/Users/bassel27/personal_projects/hireverse/venv/lib/python3.13/site-packages/sklearn/utils/validation.py\", line 1139, in check_array\n    raise ValueError(\n    ...<3 lines>...\n    )\nValueError: Found array with 0 feature(s) (shape=(109, 0)) while a minimum of 1 is required by SVR.\n",
     "output_type": "error",
     "traceback": [
      "\u001b[31m---------------------------------------------------------------------------\u001b[39m",
      "\u001b[31mValueError\u001b[39m                                Traceback (most recent call last)",
      "\u001b[36mCell\u001b[39m\u001b[36m \u001b[39m\u001b[32mIn[7]\u001b[39m\u001b[32m, line 35\u001b[39m\n\u001b[32m     33\u001b[39m \u001b[38;5;28;01mif\u001b[39;00m HYPERPARAMETER_TUNING_ENABLED:\n\u001b[32m     34\u001b[39m     study = optuna.create_study(direction=\u001b[33m\"\u001b[39m\u001b[33mmaximize\u001b[39m\u001b[33m\"\u001b[39m)\n\u001b[32m---> \u001b[39m\u001b[32m35\u001b[39m     \u001b[43mstudy\u001b[49m\u001b[43m.\u001b[49m\u001b[43moptimize\u001b[49m\u001b[43m(\u001b[49m\u001b[43mobjective\u001b[49m\u001b[43m,\u001b[49m\u001b[43m \u001b[49m\u001b[43mn_trials\u001b[49m\u001b[43m=\u001b[49m\u001b[32;43m100\u001b[39;49m\u001b[43m,\u001b[49m\u001b[43m \u001b[49m\u001b[43mn_jobs\u001b[49m\u001b[43m=\u001b[49m\u001b[43m-\u001b[49m\u001b[32;43m1\u001b[39;49m\u001b[43m,\u001b[49m\u001b[43m \u001b[49m\u001b[43mtimeout\u001b[49m\u001b[43m=\u001b[49m\u001b[32;43m4\u001b[39;49m\u001b[43m*\u001b[49m\u001b[32;43m60\u001b[39;49m\u001b[43m)\u001b[49m\n\u001b[32m     37\u001b[39m     \u001b[38;5;28mprint\u001b[39m(\u001b[33m\"\u001b[39m\u001b[33mBest hyperparameters:\u001b[39m\u001b[33m\"\u001b[39m, study.best_params)\n\u001b[32m     38\u001b[39m     \u001b[38;5;28mprint\u001b[39m(\u001b[33mf\u001b[39m\u001b[33m\"\u001b[39m\u001b[33mBest R² score: \u001b[39m\u001b[38;5;132;01m{\u001b[39;00mstudy.best_value\u001b[38;5;132;01m:\u001b[39;00m\u001b[33m.4f\u001b[39m\u001b[38;5;132;01m}\u001b[39;00m\u001b[33m\"\u001b[39m)\n",
      "\u001b[36mFile \u001b[39m\u001b[32m~/personal_projects/hireverse/venv/lib/python3.13/site-packages/optuna/study/study.py:475\u001b[39m, in \u001b[36mStudy.optimize\u001b[39m\u001b[34m(self, func, n_trials, timeout, n_jobs, catch, callbacks, gc_after_trial, show_progress_bar)\u001b[39m\n\u001b[32m    373\u001b[39m \u001b[38;5;28;01mdef\u001b[39;00m\u001b[38;5;250m \u001b[39m\u001b[34moptimize\u001b[39m(\n\u001b[32m    374\u001b[39m     \u001b[38;5;28mself\u001b[39m,\n\u001b[32m    375\u001b[39m     func: ObjectiveFuncType,\n\u001b[32m   (...)\u001b[39m\u001b[32m    382\u001b[39m     show_progress_bar: \u001b[38;5;28mbool\u001b[39m = \u001b[38;5;28;01mFalse\u001b[39;00m,\n\u001b[32m    383\u001b[39m ) -> \u001b[38;5;28;01mNone\u001b[39;00m:\n\u001b[32m    384\u001b[39m \u001b[38;5;250m    \u001b[39m\u001b[33;03m\"\"\"Optimize an objective function.\u001b[39;00m\n\u001b[32m    385\u001b[39m \n\u001b[32m    386\u001b[39m \u001b[33;03m    Optimization is done by choosing a suitable set of hyperparameter values from a given\u001b[39;00m\n\u001b[32m   (...)\u001b[39m\u001b[32m    473\u001b[39m \u001b[33;03m            If nested invocation of this method occurs.\u001b[39;00m\n\u001b[32m    474\u001b[39m \u001b[33;03m    \"\"\"\u001b[39;00m\n\u001b[32m--> \u001b[39m\u001b[32m475\u001b[39m     \u001b[43m_optimize\u001b[49m\u001b[43m(\u001b[49m\n\u001b[32m    476\u001b[39m \u001b[43m        \u001b[49m\u001b[43mstudy\u001b[49m\u001b[43m=\u001b[49m\u001b[38;5;28;43mself\u001b[39;49m\u001b[43m,\u001b[49m\n\u001b[32m    477\u001b[39m \u001b[43m        \u001b[49m\u001b[43mfunc\u001b[49m\u001b[43m=\u001b[49m\u001b[43mfunc\u001b[49m\u001b[43m,\u001b[49m\n\u001b[32m    478\u001b[39m \u001b[43m        \u001b[49m\u001b[43mn_trials\u001b[49m\u001b[43m=\u001b[49m\u001b[43mn_trials\u001b[49m\u001b[43m,\u001b[49m\n\u001b[32m    479\u001b[39m \u001b[43m        \u001b[49m\u001b[43mtimeout\u001b[49m\u001b[43m=\u001b[49m\u001b[43mtimeout\u001b[49m\u001b[43m,\u001b[49m\n\u001b[32m    480\u001b[39m \u001b[43m        \u001b[49m\u001b[43mn_jobs\u001b[49m\u001b[43m=\u001b[49m\u001b[43mn_jobs\u001b[49m\u001b[43m,\u001b[49m\n\u001b[32m    481\u001b[39m \u001b[43m        \u001b[49m\u001b[43mcatch\u001b[49m\u001b[43m=\u001b[49m\u001b[38;5;28;43mtuple\u001b[39;49m\u001b[43m(\u001b[49m\u001b[43mcatch\u001b[49m\u001b[43m)\u001b[49m\u001b[43m \u001b[49m\u001b[38;5;28;43;01mif\u001b[39;49;00m\u001b[43m \u001b[49m\u001b[38;5;28;43misinstance\u001b[39;49m\u001b[43m(\u001b[49m\u001b[43mcatch\u001b[49m\u001b[43m,\u001b[49m\u001b[43m \u001b[49m\u001b[43mIterable\u001b[49m\u001b[43m)\u001b[49m\u001b[43m \u001b[49m\u001b[38;5;28;43;01melse\u001b[39;49;00m\u001b[43m \u001b[49m\u001b[43m(\u001b[49m\u001b[43mcatch\u001b[49m\u001b[43m,\u001b[49m\u001b[43m)\u001b[49m\u001b[43m,\u001b[49m\n\u001b[32m    482\u001b[39m \u001b[43m        \u001b[49m\u001b[43mcallbacks\u001b[49m\u001b[43m=\u001b[49m\u001b[43mcallbacks\u001b[49m\u001b[43m,\u001b[49m\n\u001b[32m    483\u001b[39m \u001b[43m        \u001b[49m\u001b[43mgc_after_trial\u001b[49m\u001b[43m=\u001b[49m\u001b[43mgc_after_trial\u001b[49m\u001b[43m,\u001b[49m\n\u001b[32m    484\u001b[39m \u001b[43m        \u001b[49m\u001b[43mshow_progress_bar\u001b[49m\u001b[43m=\u001b[49m\u001b[43mshow_progress_bar\u001b[49m\u001b[43m,\u001b[49m\n\u001b[32m    485\u001b[39m \u001b[43m    \u001b[49m\u001b[43m)\u001b[49m\n",
      "\u001b[36mFile \u001b[39m\u001b[32m~/personal_projects/hireverse/venv/lib/python3.13/site-packages/optuna/study/_optimize.py:100\u001b[39m, in \u001b[36m_optimize\u001b[39m\u001b[34m(study, func, n_trials, timeout, n_jobs, catch, callbacks, gc_after_trial, show_progress_bar)\u001b[39m\n\u001b[32m     98\u001b[39m                     \u001b[38;5;66;03m# Raise if exception occurred in executing the completed futures.\u001b[39;00m\n\u001b[32m     99\u001b[39m                     \u001b[38;5;28;01mfor\u001b[39;00m f \u001b[38;5;129;01min\u001b[39;00m completed:\n\u001b[32m--> \u001b[39m\u001b[32m100\u001b[39m                         \u001b[43mf\u001b[49m\u001b[43m.\u001b[49m\u001b[43mresult\u001b[49m\u001b[43m(\u001b[49m\u001b[43m)\u001b[49m\n\u001b[32m    102\u001b[39m                 futures.add(\n\u001b[32m    103\u001b[39m                     executor.submit(\n\u001b[32m    104\u001b[39m                         _optimize_sequential,\n\u001b[32m   (...)\u001b[39m\u001b[32m    115\u001b[39m                     )\n\u001b[32m    116\u001b[39m                 )\n\u001b[32m    117\u001b[39m \u001b[38;5;28;01mfinally\u001b[39;00m:\n",
      "\u001b[36mFile \u001b[39m\u001b[32m/opt/homebrew/Cellar/python@3.13/3.13.1/Frameworks/Python.framework/Versions/3.13/lib/python3.13/concurrent/futures/_base.py:449\u001b[39m, in \u001b[36mFuture.result\u001b[39m\u001b[34m(self, timeout)\u001b[39m\n\u001b[32m    447\u001b[39m     \u001b[38;5;28;01mraise\u001b[39;00m CancelledError()\n\u001b[32m    448\u001b[39m \u001b[38;5;28;01melif\u001b[39;00m \u001b[38;5;28mself\u001b[39m._state == FINISHED:\n\u001b[32m--> \u001b[39m\u001b[32m449\u001b[39m     \u001b[38;5;28;01mreturn\u001b[39;00m \u001b[38;5;28;43mself\u001b[39;49m\u001b[43m.\u001b[49m\u001b[43m__get_result\u001b[49m\u001b[43m(\u001b[49m\u001b[43m)\u001b[49m\n\u001b[32m    451\u001b[39m \u001b[38;5;28mself\u001b[39m._condition.wait(timeout)\n\u001b[32m    453\u001b[39m \u001b[38;5;28;01mif\u001b[39;00m \u001b[38;5;28mself\u001b[39m._state \u001b[38;5;129;01min\u001b[39;00m [CANCELLED, CANCELLED_AND_NOTIFIED]:\n",
      "\u001b[36mFile \u001b[39m\u001b[32m/opt/homebrew/Cellar/python@3.13/3.13.1/Frameworks/Python.framework/Versions/3.13/lib/python3.13/concurrent/futures/_base.py:401\u001b[39m, in \u001b[36mFuture.__get_result\u001b[39m\u001b[34m(self)\u001b[39m\n\u001b[32m    399\u001b[39m \u001b[38;5;28;01mif\u001b[39;00m \u001b[38;5;28mself\u001b[39m._exception:\n\u001b[32m    400\u001b[39m     \u001b[38;5;28;01mtry\u001b[39;00m:\n\u001b[32m--> \u001b[39m\u001b[32m401\u001b[39m         \u001b[38;5;28;01mraise\u001b[39;00m \u001b[38;5;28mself\u001b[39m._exception\n\u001b[32m    402\u001b[39m     \u001b[38;5;28;01mfinally\u001b[39;00m:\n\u001b[32m    403\u001b[39m         \u001b[38;5;66;03m# Break a reference cycle with the exception in self._exception\u001b[39;00m\n\u001b[32m    404\u001b[39m         \u001b[38;5;28mself\u001b[39m = \u001b[38;5;28;01mNone\u001b[39;00m\n",
      "\u001b[36mFile \u001b[39m\u001b[32m/opt/homebrew/Cellar/python@3.13/3.13.1/Frameworks/Python.framework/Versions/3.13/lib/python3.13/concurrent/futures/thread.py:59\u001b[39m, in \u001b[36m_WorkItem.run\u001b[39m\u001b[34m(self)\u001b[39m\n\u001b[32m     56\u001b[39m     \u001b[38;5;28;01mreturn\u001b[39;00m\n\u001b[32m     58\u001b[39m \u001b[38;5;28;01mtry\u001b[39;00m:\n\u001b[32m---> \u001b[39m\u001b[32m59\u001b[39m     result = \u001b[38;5;28;43mself\u001b[39;49m\u001b[43m.\u001b[49m\u001b[43mfn\u001b[49m\u001b[43m(\u001b[49m\u001b[43m*\u001b[49m\u001b[38;5;28;43mself\u001b[39;49m\u001b[43m.\u001b[49m\u001b[43margs\u001b[49m\u001b[43m,\u001b[49m\u001b[43m \u001b[49m\u001b[43m*\u001b[49m\u001b[43m*\u001b[49m\u001b[38;5;28;43mself\u001b[39;49m\u001b[43m.\u001b[49m\u001b[43mkwargs\u001b[49m\u001b[43m)\u001b[49m\n\u001b[32m     60\u001b[39m \u001b[38;5;28;01mexcept\u001b[39;00m \u001b[38;5;167;01mBaseException\u001b[39;00m \u001b[38;5;28;01mas\u001b[39;00m exc:\n\u001b[32m     61\u001b[39m     \u001b[38;5;28mself\u001b[39m.future.set_exception(exc)\n",
      "\u001b[36mFile \u001b[39m\u001b[32m~/personal_projects/hireverse/venv/lib/python3.13/site-packages/optuna/study/_optimize.py:160\u001b[39m, in \u001b[36m_optimize_sequential\u001b[39m\u001b[34m(study, func, n_trials, timeout, catch, callbacks, gc_after_trial, reseed_sampler_rng, time_start, progress_bar)\u001b[39m\n\u001b[32m    157\u001b[39m         \u001b[38;5;28;01mbreak\u001b[39;00m\n\u001b[32m    159\u001b[39m \u001b[38;5;28;01mtry\u001b[39;00m:\n\u001b[32m--> \u001b[39m\u001b[32m160\u001b[39m     frozen_trial = \u001b[43m_run_trial\u001b[49m\u001b[43m(\u001b[49m\u001b[43mstudy\u001b[49m\u001b[43m,\u001b[49m\u001b[43m \u001b[49m\u001b[43mfunc\u001b[49m\u001b[43m,\u001b[49m\u001b[43m \u001b[49m\u001b[43mcatch\u001b[49m\u001b[43m)\u001b[49m\n\u001b[32m    161\u001b[39m \u001b[38;5;28;01mfinally\u001b[39;00m:\n\u001b[32m    162\u001b[39m     \u001b[38;5;66;03m# The following line mitigates memory problems that can be occurred in some\u001b[39;00m\n\u001b[32m    163\u001b[39m     \u001b[38;5;66;03m# environments (e.g., services that use computing containers such as GitHub Actions).\u001b[39;00m\n\u001b[32m    164\u001b[39m     \u001b[38;5;66;03m# Please refer to the following PR for further details:\u001b[39;00m\n\u001b[32m    165\u001b[39m     \u001b[38;5;66;03m# https://github.com/optuna/optuna/pull/325.\u001b[39;00m\n\u001b[32m    166\u001b[39m     \u001b[38;5;28;01mif\u001b[39;00m gc_after_trial:\n",
      "\u001b[36mFile \u001b[39m\u001b[32m~/personal_projects/hireverse/venv/lib/python3.13/site-packages/optuna/study/_optimize.py:248\u001b[39m, in \u001b[36m_run_trial\u001b[39m\u001b[34m(study, func, catch)\u001b[39m\n\u001b[32m    241\u001b[39m         \u001b[38;5;28;01massert\u001b[39;00m \u001b[38;5;28;01mFalse\u001b[39;00m, \u001b[33m\"\u001b[39m\u001b[33mShould not reach.\u001b[39m\u001b[33m\"\u001b[39m\n\u001b[32m    243\u001b[39m \u001b[38;5;28;01mif\u001b[39;00m (\n\u001b[32m    244\u001b[39m     frozen_trial.state == TrialState.FAIL\n\u001b[32m    245\u001b[39m     \u001b[38;5;129;01mand\u001b[39;00m func_err \u001b[38;5;129;01mis\u001b[39;00m \u001b[38;5;129;01mnot\u001b[39;00m \u001b[38;5;28;01mNone\u001b[39;00m\n\u001b[32m    246\u001b[39m     \u001b[38;5;129;01mand\u001b[39;00m \u001b[38;5;129;01mnot\u001b[39;00m \u001b[38;5;28misinstance\u001b[39m(func_err, catch)\n\u001b[32m    247\u001b[39m ):\n\u001b[32m--> \u001b[39m\u001b[32m248\u001b[39m     \u001b[38;5;28;01mraise\u001b[39;00m func_err\n\u001b[32m    249\u001b[39m \u001b[38;5;28;01mreturn\u001b[39;00m frozen_trial\n",
      "\u001b[36mFile \u001b[39m\u001b[32m~/personal_projects/hireverse/venv/lib/python3.13/site-packages/optuna/study/_optimize.py:197\u001b[39m, in \u001b[36m_run_trial\u001b[39m\u001b[34m(study, func, catch)\u001b[39m\n\u001b[32m    195\u001b[39m \u001b[38;5;28;01mwith\u001b[39;00m get_heartbeat_thread(trial._trial_id, study._storage):\n\u001b[32m    196\u001b[39m     \u001b[38;5;28;01mtry\u001b[39;00m:\n\u001b[32m--> \u001b[39m\u001b[32m197\u001b[39m         value_or_values = \u001b[43mfunc\u001b[49m\u001b[43m(\u001b[49m\u001b[43mtrial\u001b[49m\u001b[43m)\u001b[49m\n\u001b[32m    198\u001b[39m     \u001b[38;5;28;01mexcept\u001b[39;00m exceptions.TrialPruned \u001b[38;5;28;01mas\u001b[39;00m e:\n\u001b[32m    199\u001b[39m         \u001b[38;5;66;03m# TODO(mamu): Handle multi-objective cases.\u001b[39;00m\n\u001b[32m    200\u001b[39m         state = TrialState.PRUNED\n",
      "\u001b[36mCell\u001b[39m\u001b[36m \u001b[39m\u001b[32mIn[7]\u001b[39m\u001b[32m, line 28\u001b[39m, in \u001b[36mobjective\u001b[39m\u001b[34m(trial)\u001b[39m\n\u001b[32m     25\u001b[39m pipeline_clone.set_params(**params)\n\u001b[32m     27\u001b[39m mc_cv_tuning = GroupShuffleSplit(n_splits=\u001b[32m20\u001b[39m, test_size=\u001b[32m0.2\u001b[39m, random_state=\u001b[32m42\u001b[39m)\n\u001b[32m---> \u001b[39m\u001b[32m28\u001b[39m scores = \u001b[43mcross_val_score\u001b[49m\u001b[43m(\u001b[49m\n\u001b[32m     29\u001b[39m \u001b[43m    \u001b[49m\u001b[43mpipeline_clone\u001b[49m\u001b[43m,\u001b[49m\u001b[43m \u001b[49m\u001b[43mX\u001b[49m\u001b[43m,\u001b[49m\u001b[43m \u001b[49m\u001b[43my\u001b[49m\u001b[43m,\u001b[49m\u001b[43m \u001b[49m\u001b[43mcv\u001b[49m\u001b[43m=\u001b[49m\u001b[43mmc_cv_tuning\u001b[49m\u001b[43m,\u001b[49m\u001b[43m \u001b[49m\u001b[43mgroups\u001b[49m\u001b[43m=\u001b[49m\u001b[43mgroups_column\u001b[49m\u001b[43m,\u001b[49m\u001b[43m \u001b[49m\u001b[43mn_jobs\u001b[49m\u001b[43m=\u001b[49m\u001b[32;43m1\u001b[39;49m\n\u001b[32m     30\u001b[39m \u001b[43m\u001b[49m\u001b[43m)\u001b[49m\n\u001b[32m     31\u001b[39m \u001b[38;5;28;01mreturn\u001b[39;00m np.mean(scores)\n",
      "\u001b[36mFile \u001b[39m\u001b[32m~/personal_projects/hireverse/venv/lib/python3.13/site-packages/sklearn/utils/_param_validation.py:216\u001b[39m, in \u001b[36mvalidate_params.<locals>.decorator.<locals>.wrapper\u001b[39m\u001b[34m(*args, **kwargs)\u001b[39m\n\u001b[32m    210\u001b[39m \u001b[38;5;28;01mtry\u001b[39;00m:\n\u001b[32m    211\u001b[39m     \u001b[38;5;28;01mwith\u001b[39;00m config_context(\n\u001b[32m    212\u001b[39m         skip_parameter_validation=(\n\u001b[32m    213\u001b[39m             prefer_skip_nested_validation \u001b[38;5;129;01mor\u001b[39;00m global_skip_validation\n\u001b[32m    214\u001b[39m         )\n\u001b[32m    215\u001b[39m     ):\n\u001b[32m--> \u001b[39m\u001b[32m216\u001b[39m         \u001b[38;5;28;01mreturn\u001b[39;00m \u001b[43mfunc\u001b[49m\u001b[43m(\u001b[49m\u001b[43m*\u001b[49m\u001b[43margs\u001b[49m\u001b[43m,\u001b[49m\u001b[43m \u001b[49m\u001b[43m*\u001b[49m\u001b[43m*\u001b[49m\u001b[43mkwargs\u001b[49m\u001b[43m)\u001b[49m\n\u001b[32m    217\u001b[39m \u001b[38;5;28;01mexcept\u001b[39;00m InvalidParameterError \u001b[38;5;28;01mas\u001b[39;00m e:\n\u001b[32m    218\u001b[39m     \u001b[38;5;66;03m# When the function is just a wrapper around an estimator, we allow\u001b[39;00m\n\u001b[32m    219\u001b[39m     \u001b[38;5;66;03m# the function to delegate validation to the estimator, but we replace\u001b[39;00m\n\u001b[32m    220\u001b[39m     \u001b[38;5;66;03m# the name of the estimator by the name of the function in the error\u001b[39;00m\n\u001b[32m    221\u001b[39m     \u001b[38;5;66;03m# message to avoid confusion.\u001b[39;00m\n\u001b[32m    222\u001b[39m     msg = re.sub(\n\u001b[32m    223\u001b[39m         \u001b[33mr\u001b[39m\u001b[33m\"\u001b[39m\u001b[33mparameter of \u001b[39m\u001b[33m\\\u001b[39m\u001b[33mw+ must be\u001b[39m\u001b[33m\"\u001b[39m,\n\u001b[32m    224\u001b[39m         \u001b[33mf\u001b[39m\u001b[33m\"\u001b[39m\u001b[33mparameter of \u001b[39m\u001b[38;5;132;01m{\u001b[39;00mfunc.\u001b[34m__qualname__\u001b[39m\u001b[38;5;132;01m}\u001b[39;00m\u001b[33m must be\u001b[39m\u001b[33m\"\u001b[39m,\n\u001b[32m    225\u001b[39m         \u001b[38;5;28mstr\u001b[39m(e),\n\u001b[32m    226\u001b[39m     )\n",
      "\u001b[36mFile \u001b[39m\u001b[32m~/personal_projects/hireverse/venv/lib/python3.13/site-packages/sklearn/model_selection/_validation.py:684\u001b[39m, in \u001b[36mcross_val_score\u001b[39m\u001b[34m(estimator, X, y, groups, scoring, cv, n_jobs, verbose, params, pre_dispatch, error_score)\u001b[39m\n\u001b[32m    681\u001b[39m \u001b[38;5;66;03m# To ensure multimetric format is not supported\u001b[39;00m\n\u001b[32m    682\u001b[39m scorer = check_scoring(estimator, scoring=scoring)\n\u001b[32m--> \u001b[39m\u001b[32m684\u001b[39m cv_results = \u001b[43mcross_validate\u001b[49m\u001b[43m(\u001b[49m\n\u001b[32m    685\u001b[39m \u001b[43m    \u001b[49m\u001b[43mestimator\u001b[49m\u001b[43m=\u001b[49m\u001b[43mestimator\u001b[49m\u001b[43m,\u001b[49m\n\u001b[32m    686\u001b[39m \u001b[43m    \u001b[49m\u001b[43mX\u001b[49m\u001b[43m=\u001b[49m\u001b[43mX\u001b[49m\u001b[43m,\u001b[49m\n\u001b[32m    687\u001b[39m \u001b[43m    \u001b[49m\u001b[43my\u001b[49m\u001b[43m=\u001b[49m\u001b[43my\u001b[49m\u001b[43m,\u001b[49m\n\u001b[32m    688\u001b[39m \u001b[43m    \u001b[49m\u001b[43mgroups\u001b[49m\u001b[43m=\u001b[49m\u001b[43mgroups\u001b[49m\u001b[43m,\u001b[49m\n\u001b[32m    689\u001b[39m \u001b[43m    \u001b[49m\u001b[43mscoring\u001b[49m\u001b[43m=\u001b[49m\u001b[43m{\u001b[49m\u001b[33;43m\"\u001b[39;49m\u001b[33;43mscore\u001b[39;49m\u001b[33;43m\"\u001b[39;49m\u001b[43m:\u001b[49m\u001b[43m \u001b[49m\u001b[43mscorer\u001b[49m\u001b[43m}\u001b[49m\u001b[43m,\u001b[49m\n\u001b[32m    690\u001b[39m \u001b[43m    \u001b[49m\u001b[43mcv\u001b[49m\u001b[43m=\u001b[49m\u001b[43mcv\u001b[49m\u001b[43m,\u001b[49m\n\u001b[32m    691\u001b[39m \u001b[43m    \u001b[49m\u001b[43mn_jobs\u001b[49m\u001b[43m=\u001b[49m\u001b[43mn_jobs\u001b[49m\u001b[43m,\u001b[49m\n\u001b[32m    692\u001b[39m \u001b[43m    \u001b[49m\u001b[43mverbose\u001b[49m\u001b[43m=\u001b[49m\u001b[43mverbose\u001b[49m\u001b[43m,\u001b[49m\n\u001b[32m    693\u001b[39m \u001b[43m    \u001b[49m\u001b[43mparams\u001b[49m\u001b[43m=\u001b[49m\u001b[43mparams\u001b[49m\u001b[43m,\u001b[49m\n\u001b[32m    694\u001b[39m \u001b[43m    \u001b[49m\u001b[43mpre_dispatch\u001b[49m\u001b[43m=\u001b[49m\u001b[43mpre_dispatch\u001b[49m\u001b[43m,\u001b[49m\n\u001b[32m    695\u001b[39m \u001b[43m    \u001b[49m\u001b[43merror_score\u001b[49m\u001b[43m=\u001b[49m\u001b[43merror_score\u001b[49m\u001b[43m,\u001b[49m\n\u001b[32m    696\u001b[39m \u001b[43m\u001b[49m\u001b[43m)\u001b[49m\n\u001b[32m    697\u001b[39m \u001b[38;5;28;01mreturn\u001b[39;00m cv_results[\u001b[33m\"\u001b[39m\u001b[33mtest_score\u001b[39m\u001b[33m\"\u001b[39m]\n",
      "\u001b[36mFile \u001b[39m\u001b[32m~/personal_projects/hireverse/venv/lib/python3.13/site-packages/sklearn/utils/_param_validation.py:216\u001b[39m, in \u001b[36mvalidate_params.<locals>.decorator.<locals>.wrapper\u001b[39m\u001b[34m(*args, **kwargs)\u001b[39m\n\u001b[32m    210\u001b[39m \u001b[38;5;28;01mtry\u001b[39;00m:\n\u001b[32m    211\u001b[39m     \u001b[38;5;28;01mwith\u001b[39;00m config_context(\n\u001b[32m    212\u001b[39m         skip_parameter_validation=(\n\u001b[32m    213\u001b[39m             prefer_skip_nested_validation \u001b[38;5;129;01mor\u001b[39;00m global_skip_validation\n\u001b[32m    214\u001b[39m         )\n\u001b[32m    215\u001b[39m     ):\n\u001b[32m--> \u001b[39m\u001b[32m216\u001b[39m         \u001b[38;5;28;01mreturn\u001b[39;00m \u001b[43mfunc\u001b[49m\u001b[43m(\u001b[49m\u001b[43m*\u001b[49m\u001b[43margs\u001b[49m\u001b[43m,\u001b[49m\u001b[43m \u001b[49m\u001b[43m*\u001b[49m\u001b[43m*\u001b[49m\u001b[43mkwargs\u001b[49m\u001b[43m)\u001b[49m\n\u001b[32m    217\u001b[39m \u001b[38;5;28;01mexcept\u001b[39;00m InvalidParameterError \u001b[38;5;28;01mas\u001b[39;00m e:\n\u001b[32m    218\u001b[39m     \u001b[38;5;66;03m# When the function is just a wrapper around an estimator, we allow\u001b[39;00m\n\u001b[32m    219\u001b[39m     \u001b[38;5;66;03m# the function to delegate validation to the estimator, but we replace\u001b[39;00m\n\u001b[32m    220\u001b[39m     \u001b[38;5;66;03m# the name of the estimator by the name of the function in the error\u001b[39;00m\n\u001b[32m    221\u001b[39m     \u001b[38;5;66;03m# message to avoid confusion.\u001b[39;00m\n\u001b[32m    222\u001b[39m     msg = re.sub(\n\u001b[32m    223\u001b[39m         \u001b[33mr\u001b[39m\u001b[33m\"\u001b[39m\u001b[33mparameter of \u001b[39m\u001b[33m\\\u001b[39m\u001b[33mw+ must be\u001b[39m\u001b[33m\"\u001b[39m,\n\u001b[32m    224\u001b[39m         \u001b[33mf\u001b[39m\u001b[33m\"\u001b[39m\u001b[33mparameter of \u001b[39m\u001b[38;5;132;01m{\u001b[39;00mfunc.\u001b[34m__qualname__\u001b[39m\u001b[38;5;132;01m}\u001b[39;00m\u001b[33m must be\u001b[39m\u001b[33m\"\u001b[39m,\n\u001b[32m    225\u001b[39m         \u001b[38;5;28mstr\u001b[39m(e),\n\u001b[32m    226\u001b[39m     )\n",
      "\u001b[36mFile \u001b[39m\u001b[32m~/personal_projects/hireverse/venv/lib/python3.13/site-packages/sklearn/model_selection/_validation.py:431\u001b[39m, in \u001b[36mcross_validate\u001b[39m\u001b[34m(estimator, X, y, groups, scoring, cv, n_jobs, verbose, params, pre_dispatch, return_train_score, return_estimator, return_indices, error_score)\u001b[39m\n\u001b[32m    410\u001b[39m parallel = Parallel(n_jobs=n_jobs, verbose=verbose, pre_dispatch=pre_dispatch)\n\u001b[32m    411\u001b[39m results = parallel(\n\u001b[32m    412\u001b[39m     delayed(_fit_and_score)(\n\u001b[32m    413\u001b[39m         clone(estimator),\n\u001b[32m   (...)\u001b[39m\u001b[32m    428\u001b[39m     \u001b[38;5;28;01mfor\u001b[39;00m train, test \u001b[38;5;129;01min\u001b[39;00m indices\n\u001b[32m    429\u001b[39m )\n\u001b[32m--> \u001b[39m\u001b[32m431\u001b[39m \u001b[43m_warn_or_raise_about_fit_failures\u001b[49m\u001b[43m(\u001b[49m\u001b[43mresults\u001b[49m\u001b[43m,\u001b[49m\u001b[43m \u001b[49m\u001b[43merror_score\u001b[49m\u001b[43m)\u001b[49m\n\u001b[32m    433\u001b[39m \u001b[38;5;66;03m# For callable scoring, the return type is only know after calling. If the\u001b[39;00m\n\u001b[32m    434\u001b[39m \u001b[38;5;66;03m# return type is a dictionary, the error scores can now be inserted with\u001b[39;00m\n\u001b[32m    435\u001b[39m \u001b[38;5;66;03m# the correct key.\u001b[39;00m\n\u001b[32m    436\u001b[39m \u001b[38;5;28;01mif\u001b[39;00m \u001b[38;5;28mcallable\u001b[39m(scoring):\n",
      "\u001b[36mFile \u001b[39m\u001b[32m~/personal_projects/hireverse/venv/lib/python3.13/site-packages/sklearn/model_selection/_validation.py:517\u001b[39m, in \u001b[36m_warn_or_raise_about_fit_failures\u001b[39m\u001b[34m(results, error_score)\u001b[39m\n\u001b[32m    510\u001b[39m \u001b[38;5;28;01mif\u001b[39;00m num_failed_fits == num_fits:\n\u001b[32m    511\u001b[39m     all_fits_failed_message = (\n\u001b[32m    512\u001b[39m         \u001b[33mf\u001b[39m\u001b[33m\"\u001b[39m\u001b[38;5;130;01m\\n\u001b[39;00m\u001b[33mAll the \u001b[39m\u001b[38;5;132;01m{\u001b[39;00mnum_fits\u001b[38;5;132;01m}\u001b[39;00m\u001b[33m fits failed.\u001b[39m\u001b[38;5;130;01m\\n\u001b[39;00m\u001b[33m\"\u001b[39m\n\u001b[32m    513\u001b[39m         \u001b[33m\"\u001b[39m\u001b[33mIt is very likely that your model is misconfigured.\u001b[39m\u001b[38;5;130;01m\\n\u001b[39;00m\u001b[33m\"\u001b[39m\n\u001b[32m    514\u001b[39m         \u001b[33m\"\u001b[39m\u001b[33mYou can try to debug the error by setting error_score=\u001b[39m\u001b[33m'\u001b[39m\u001b[33mraise\u001b[39m\u001b[33m'\u001b[39m\u001b[33m.\u001b[39m\u001b[38;5;130;01m\\n\u001b[39;00m\u001b[38;5;130;01m\\n\u001b[39;00m\u001b[33m\"\u001b[39m\n\u001b[32m    515\u001b[39m         \u001b[33mf\u001b[39m\u001b[33m\"\u001b[39m\u001b[33mBelow are more details about the failures:\u001b[39m\u001b[38;5;130;01m\\n\u001b[39;00m\u001b[38;5;132;01m{\u001b[39;00mfit_errors_summary\u001b[38;5;132;01m}\u001b[39;00m\u001b[33m\"\u001b[39m\n\u001b[32m    516\u001b[39m     )\n\u001b[32m--> \u001b[39m\u001b[32m517\u001b[39m     \u001b[38;5;28;01mraise\u001b[39;00m \u001b[38;5;167;01mValueError\u001b[39;00m(all_fits_failed_message)\n\u001b[32m    519\u001b[39m \u001b[38;5;28;01melse\u001b[39;00m:\n\u001b[32m    520\u001b[39m     some_fits_failed_message = (\n\u001b[32m    521\u001b[39m         \u001b[33mf\u001b[39m\u001b[33m\"\u001b[39m\u001b[38;5;130;01m\\n\u001b[39;00m\u001b[38;5;132;01m{\u001b[39;00mnum_failed_fits\u001b[38;5;132;01m}\u001b[39;00m\u001b[33m fits failed out of a total of \u001b[39m\u001b[38;5;132;01m{\u001b[39;00mnum_fits\u001b[38;5;132;01m}\u001b[39;00m\u001b[33m.\u001b[39m\u001b[38;5;130;01m\\n\u001b[39;00m\u001b[33m\"\u001b[39m\n\u001b[32m    522\u001b[39m         \u001b[33m\"\u001b[39m\u001b[33mThe score on these train-test partitions for these parameters\u001b[39m\u001b[33m\"\u001b[39m\n\u001b[32m   (...)\u001b[39m\u001b[32m    526\u001b[39m         \u001b[33mf\u001b[39m\u001b[33m\"\u001b[39m\u001b[33mBelow are more details about the failures:\u001b[39m\u001b[38;5;130;01m\\n\u001b[39;00m\u001b[38;5;132;01m{\u001b[39;00mfit_errors_summary\u001b[38;5;132;01m}\u001b[39;00m\u001b[33m\"\u001b[39m\n\u001b[32m    527\u001b[39m     )\n",
      "\u001b[31mValueError\u001b[39m: \nAll the 20 fits failed.\nIt is very likely that your model is misconfigured.\nYou can try to debug the error by setting error_score='raise'.\n\nBelow are more details about the failures:\n--------------------------------------------------------------------------------\n4 fits failed with the following error:\nTraceback (most recent call last):\n  File \"/Users/bassel27/personal_projects/hireverse/venv/lib/python3.13/site-packages/sklearn/model_selection/_validation.py\", line 866, in _fit_and_score\n    estimator.fit(X_train, y_train, **fit_params)\n    ~~~~~~~~~~~~~^^^^^^^^^^^^^^^^^^^^^^^^^^^^^^^^\n  File \"/Users/bassel27/personal_projects/hireverse/venv/lib/python3.13/site-packages/sklearn/base.py\", line 1389, in wrapper\n    return fit_method(estimator, *args, **kwargs)\n  File \"/Users/bassel27/personal_projects/hireverse/venv/lib/python3.13/site-packages/sklearn/pipeline.py\", line 662, in fit\n    self._final_estimator.fit(Xt, y, **last_step_params[\"fit\"])\n    ~~~~~~~~~~~~~~~~~~~~~~~~~^^^^^^^^^^^^^^^^^^^^^^^^^^^^^^^^^^\n  File \"/Users/bassel27/personal_projects/hireverse/venv/lib/python3.13/site-packages/sklearn/base.py\", line 1389, in wrapper\n    return fit_method(estimator, *args, **kwargs)\n  File \"/Users/bassel27/personal_projects/hireverse/venv/lib/python3.13/site-packages/sklearn/svm/_base.py\", line 197, in fit\n    X, y = validate_data(\n           ~~~~~~~~~~~~~^\n        self,\n        ^^^^^\n    ...<5 lines>...\n        accept_large_sparse=False,\n        ^^^^^^^^^^^^^^^^^^^^^^^^^^\n    )\n    ^\n  File \"/Users/bassel27/personal_projects/hireverse/venv/lib/python3.13/site-packages/sklearn/utils/validation.py\", line 2961, in validate_data\n    X, y = check_X_y(X, y, **check_params)\n           ~~~~~~~~~^^^^^^^^^^^^^^^^^^^^^^\n  File \"/Users/bassel27/personal_projects/hireverse/venv/lib/python3.13/site-packages/sklearn/utils/validation.py\", line 1370, in check_X_y\n    X = check_array(\n        X,\n    ...<12 lines>...\n        input_name=\"X\",\n    )\n  File \"/Users/bassel27/personal_projects/hireverse/venv/lib/python3.13/site-packages/sklearn/utils/validation.py\", line 1139, in check_array\n    raise ValueError(\n    ...<3 lines>...\n    )\nValueError: Found array with 0 feature(s) (shape=(110, 0)) while a minimum of 1 is required by SVR.\n\n--------------------------------------------------------------------------------\n16 fits failed with the following error:\nTraceback (most recent call last):\n  File \"/Users/bassel27/personal_projects/hireverse/venv/lib/python3.13/site-packages/sklearn/model_selection/_validation.py\", line 866, in _fit_and_score\n    estimator.fit(X_train, y_train, **fit_params)\n    ~~~~~~~~~~~~~^^^^^^^^^^^^^^^^^^^^^^^^^^^^^^^^\n  File \"/Users/bassel27/personal_projects/hireverse/venv/lib/python3.13/site-packages/sklearn/base.py\", line 1389, in wrapper\n    return fit_method(estimator, *args, **kwargs)\n  File \"/Users/bassel27/personal_projects/hireverse/venv/lib/python3.13/site-packages/sklearn/pipeline.py\", line 662, in fit\n    self._final_estimator.fit(Xt, y, **last_step_params[\"fit\"])\n    ~~~~~~~~~~~~~~~~~~~~~~~~~^^^^^^^^^^^^^^^^^^^^^^^^^^^^^^^^^^\n  File \"/Users/bassel27/personal_projects/hireverse/venv/lib/python3.13/site-packages/sklearn/base.py\", line 1389, in wrapper\n    return fit_method(estimator, *args, **kwargs)\n  File \"/Users/bassel27/personal_projects/hireverse/venv/lib/python3.13/site-packages/sklearn/svm/_base.py\", line 197, in fit\n    X, y = validate_data(\n           ~~~~~~~~~~~~~^\n        self,\n        ^^^^^\n    ...<5 lines>...\n        accept_large_sparse=False,\n        ^^^^^^^^^^^^^^^^^^^^^^^^^^\n    )\n    ^\n  File \"/Users/bassel27/personal_projects/hireverse/venv/lib/python3.13/site-packages/sklearn/utils/validation.py\", line 2961, in validate_data\n    X, y = check_X_y(X, y, **check_params)\n           ~~~~~~~~~^^^^^^^^^^^^^^^^^^^^^^\n  File \"/Users/bassel27/personal_projects/hireverse/venv/lib/python3.13/site-packages/sklearn/utils/validation.py\", line 1370, in check_X_y\n    X = check_array(\n        X,\n    ...<12 lines>...\n        input_name=\"X\",\n    )\n  File \"/Users/bassel27/personal_projects/hireverse/venv/lib/python3.13/site-packages/sklearn/utils/validation.py\", line 1139, in check_array\n    raise ValueError(\n    ...<3 lines>...\n    )\nValueError: Found array with 0 feature(s) (shape=(109, 0)) while a minimum of 1 is required by SVR.\n"
     ]
    }
   ],
   "source": [
    "import optuna\n",
    "from sklearn.base import clone\n",
    "from sklearn.model_selection import GroupShuffleSplit, cross_val_score\n",
    "import numpy as np\n",
    "\n",
    "def objective(trial):\n",
    "    pipeline_clone = clone(unfitted_pipeline)  # Clone pipeline for thread safety\n",
    "    \n",
    "    params = {\n",
    "        \"feature_selection__estimator__alpha\": trial.suggest_float(\n",
    "            \"feature_selection__estimator__alpha\", 1e-3, 0.3, log=True\n",
    "        ),\n",
    "        \"svr__C\": trial.suggest_float(\"svr__C\", 0.01, 100, log=True),\n",
    "        \"svr__gamma\": trial.suggest_float(\"svr__gamma\", 1e-3, 1e1, log=True),\n",
    "        \"svr__epsilon\": trial.suggest_float(\"svr__epsilon\", 0.01, 0.5),\n",
    "        \"svr__kernel\": trial.suggest_categorical(\"svr__kernel\", [\"rbf\"\n",
    "                                                                #  , \"poly\"\n",
    "                                                                 ]),\n",
    "    }\n",
    "    \n",
    "    # if params[\"svr__kernel\"] == \"poly\":\n",
    "    #     params[\"svr__degree\"] = trial.suggest_int(\"svr__degree\", 2, 3)  # Reduced from 5\n",
    "    #     params[\"svr__coef0\"] = trial.suggest_float(\"svr__coef0\", 0.0, 0.5)  # Narrower range\n",
    "        \n",
    "    pipeline_clone.set_params(**params)\n",
    "    \n",
    "    mc_cv_tuning = GroupShuffleSplit(n_splits=20, test_size=0.2, random_state=42)\n",
    "    scores = cross_val_score(\n",
    "        pipeline_clone, X, y, cv=mc_cv_tuning, groups=groups_column, n_jobs=1\n",
    "    )\n",
    "    return np.mean(scores)\n",
    "\n",
    "if HYPERPARAMETER_TUNING_ENABLED:\n",
    "    study = optuna.create_study(direction=\"maximize\")\n",
    "    study.optimize(objective, n_trials=100, n_jobs=-1, timeout=4*60)\n",
    "    \n",
    "    print(\"Best hyperparameters:\", study.best_params)\n",
    "    print(f\"Best R² score: {study.best_value:.4f}\")"
   ]
  },
  {
   "cell_type": "markdown",
   "id": "dae23d76",
   "metadata": {
    "papermill": {
     "duration": null,
     "end_time": null,
     "exception": null,
     "start_time": null,
     "status": "pending"
    },
    "tags": []
   },
   "source": [
    "## Store Trained Model"
   ]
  },
  {
   "cell_type": "code",
   "execution_count": null,
   "id": "225ec223",
   "metadata": {
    "papermill": {
     "duration": null,
     "end_time": null,
     "exception": null,
     "start_time": null,
     "status": "pending"
    },
    "tags": []
   },
   "outputs": [],
   "source": [
    "from sklearn import clone\n",
    "\n",
    "if HYPERPARAMETER_TUNING_ENABLED:\n",
    "    unfitted_pipeline.set_params(**study.best_params)\n",
    "else:\n",
    "    unfitted_pipeline.set_params(**PIPELINE_PARAMS)\n",
    "fitted_pipeline = clone(unfitted_pipeline)\n",
    "fitted_pipeline.fit(X, y)"
   ]
  },
  {
   "cell_type": "markdown",
   "id": "e9ed3552",
   "metadata": {
    "papermill": {
     "duration": null,
     "end_time": null,
     "exception": null,
     "start_time": null,
     "status": "pending"
    },
    "tags": []
   },
   "source": [
    "## Feature Selection Results"
   ]
  },
  {
   "cell_type": "code",
   "execution_count": null,
   "id": "003aec66",
   "metadata": {
    "papermill": {
     "duration": null,
     "end_time": null,
     "exception": null,
     "start_time": null,
     "status": "pending"
    },
    "tags": []
   },
   "outputs": [],
   "source": [
    "preprocessor = fitted_pipeline.named_steps['preprocessor']\n",
    "feature_names = preprocessor.get_feature_names_out()    # after preprocessing\n",
    "\n",
    "feature_selector = fitted_pipeline.named_steps['feature_selection']\n",
    "selected_mask = feature_selector.get_support()\n",
    "\n",
    "selected_features = feature_names[selected_mask]\n",
    "unselected_features = feature_names[~selected_mask]\n",
    "\n",
    "print(f\"Number of Selected features ({len(selected_features)}):\")\n",
    "print(f\"Selected features: {selected_features}\")\n",
    "print(f\"Unselected features: {unselected_features}\")"
   ]
  },
  {
   "cell_type": "markdown",
   "id": "e59b7d79",
   "metadata": {
    "papermill": {
     "duration": null,
     "end_time": null,
     "exception": null,
     "start_time": null,
     "status": "pending"
    },
    "tags": []
   },
   "source": [
    "# Monte Carlo Cross Validation"
   ]
  },
  {
   "cell_type": "code",
   "execution_count": null,
   "id": "83b87fe1",
   "metadata": {
    "papermill": {
     "duration": null,
     "end_time": null,
     "exception": null,
     "start_time": null,
     "status": "pending"
    },
    "tags": []
   },
   "outputs": [],
   "source": [
    "from sklearn.model_selection import cross_validate\n",
    "from sklearn.metrics import r2_score\n",
    "\n",
    "scoring = {\n",
    "    \"r2\": make_scorer(r2_score),\n",
    "    \"pearson\": make_scorer(pearson_corr)\n",
    "}\n",
    "\n",
    "results = cross_validate(\n",
    "    unfitted_pipeline,\n",
    "    X,\n",
    "    y,\n",
    "    cv=GroupShuffleSplit(n_splits=1000, test_size=0.2, random_state=42),\n",
    "    groups=groups_column,\n",
    "    scoring=scoring,\n",
    "    n_jobs=-1,\n",
    ")\n",
    "\n",
    "r2_scores = results[\"test_r2\"]\n",
    "pearson_scores = results[\"test_pearson\"]\n",
    "# Report the average performance and variability\n",
    "avg_r2_score = np.mean(r2_scores)\n",
    "print(\n",
    "    f\"Mean R² Score: {avg_r2_score:.2f} (±{np.std(r2_scores):.2f})\"\n",
    ")\n",
    "avg_perason_score = np.mean(pearson_scores)\n",
    "print(\n",
    "    f\"Mean Pearson Correlation: {avg_perason_score:.2f} (±{np.std(pearson_scores):.2f})\"\n",
    ")\n",
    "\n",
    "# Mean R² Score: 0.20 (±0.23)\n",
    "# Mean Pearson Correlation: 0.53 (±0.16)"
   ]
  },
  {
   "cell_type": "markdown",
   "id": "1c2abf2e",
   "metadata": {
    "papermill": {
     "duration": null,
     "end_time": null,
     "exception": null,
     "start_time": null,
     "status": "pending"
    },
    "tags": []
   },
   "source": [
    "# Save the Model"
   ]
  },
  {
   "cell_type": "code",
   "execution_count": null,
   "id": "3a3cacf3",
   "metadata": {
    "papermill": {
     "duration": null,
     "end_time": null,
     "exception": null,
     "start_time": null,
     "status": "pending"
    },
    "tags": []
   },
   "outputs": [],
   "source": [
    "from joblib import dump, load\n",
    "\n",
    "dump(fitted_pipeline, os.path.join(SAVED_MODELS_PATH,f'{target_column}.joblib'))"
   ]
  }
 ],
 "metadata": {
  "colab": {
   "provenance": []
  },
  "kernelspec": {
   "display_name": "venv",
   "language": "python",
   "name": "python3"
  },
  "language_info": {
   "codemirror_mode": {
    "name": "ipython",
    "version": 3
   },
   "file_extension": ".py",
   "mimetype": "text/x-python",
   "name": "python",
   "nbconvert_exporter": "python",
   "pygments_lexer": "ipython3",
   "version": "3.13.1"
  },
  "papermill": {
   "default_parameters": {},
   "duration": 43.696278,
   "end_time": "2025-04-07T22:07:04.773127",
   "environment_variables": {},
   "exception": true,
   "input_path": "/Users/bassel27/personal_projects/hireverse/hirability_model.ipynb",
   "output_path": "/Users/bassel27/personal_projects/hireverse/runners/outputs/Colleague_runner_output.ipynb",
   "parameters": {
    "target_column": "Colleague"
   },
   "start_time": "2025-04-07T22:06:21.076849",
   "version": "2.6.0"
  }
 },
 "nbformat": 4,
 "nbformat_minor": 5
}