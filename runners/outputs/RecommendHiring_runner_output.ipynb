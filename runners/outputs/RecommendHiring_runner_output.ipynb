{
 "cells": [
  {
   "cell_type": "markdown",
   "id": "17ef0d72",
   "metadata": {
    "papermill": {
     "duration": 0.010898,
     "end_time": "2025-04-07T22:05:19.819328",
     "exception": false,
     "start_time": "2025-04-07T22:05:19.808430",
     "status": "completed"
    },
    "tags": []
   },
   "source": [
    "# Input"
   ]
  },
  {
   "cell_type": "code",
   "execution_count": 1,
   "id": "63555e7d",
   "metadata": {
    "execution": {
     "iopub.execute_input": "2025-04-07T22:05:19.839904Z",
     "iopub.status.busy": "2025-04-07T22:05:19.839672Z",
     "iopub.status.idle": "2025-04-07T22:05:19.843469Z",
     "shell.execute_reply": "2025-04-07T22:05:19.843155Z"
    },
    "papermill": {
     "duration": 0.015553,
     "end_time": "2025-04-07T22:05:19.845048",
     "exception": false,
     "start_time": "2025-04-07T22:05:19.829495",
     "status": "completed"
    },
    "tags": [
     "parameters"
    ]
   },
   "outputs": [],
   "source": [
    "target_column = \"RecommendHiring\""
   ]
  },
  {
   "cell_type": "code",
   "execution_count": 2,
   "id": "d0ce5721",
   "metadata": {
    "execution": {
     "iopub.execute_input": "2025-04-07T22:05:19.865789Z",
     "iopub.status.busy": "2025-04-07T22:05:19.865625Z",
     "iopub.status.idle": "2025-04-07T22:05:19.867588Z",
     "shell.execute_reply": "2025-04-07T22:05:19.867280Z"
    },
    "papermill": {
     "duration": 0.014179,
     "end_time": "2025-04-07T22:05:19.868628",
     "exception": false,
     "start_time": "2025-04-07T22:05:19.854449",
     "status": "completed"
    },
    "tags": [
     "injected-parameters"
    ]
   },
   "outputs": [],
   "source": [
    "# Parameters\n",
    "target_column = \"RecommendHiring\"\n"
   ]
  },
  {
   "cell_type": "markdown",
   "id": "3749970e",
   "metadata": {
    "papermill": {
     "duration": 0.009204,
     "end_time": "2025-04-07T22:05:19.887751",
     "exception": false,
     "start_time": "2025-04-07T22:05:19.878547",
     "status": "completed"
    },
    "tags": []
   },
   "source": [
    "# Constants"
   ]
  },
  {
   "cell_type": "code",
   "execution_count": 3,
   "id": "7845fce8",
   "metadata": {
    "execution": {
     "iopub.execute_input": "2025-04-07T22:05:19.907916Z",
     "iopub.status.busy": "2025-04-07T22:05:19.907692Z",
     "iopub.status.idle": "2025-04-07T22:05:21.250345Z",
     "shell.execute_reply": "2025-04-07T22:05:21.249962Z"
    },
    "papermill": {
     "duration": 1.354602,
     "end_time": "2025-04-07T22:05:21.251605",
     "exception": false,
     "start_time": "2025-04-07T22:05:19.897003",
     "status": "completed"
    },
    "tags": []
   },
   "outputs": [],
   "source": [
    "import os\n",
    "import numpy as np\n",
    "from sklearn.metrics import make_scorer\n",
    "\n",
    "SCRIPT_DIR = os.path.join(os.getcwd(),)\n",
    "\n",
    "SAVED_MODELS_PATH=\"./regression_models/saved_models\"\n",
    "\n",
    "DROPPED_LEXICAL_COLUMNS = [\n",
    "    \"Swear\",\n",
    "    \"Numbers\",\n",
    "    \"Inhibition\",\n",
    "    \"Preceptual\",\n",
    "    \"Anxiety\",\n",
    "    \"Anger\",\n",
    "    \"Sadness\",\n",
    "    \"Work\",\n",
    "    \"Articles\",\n",
    "    \"Verbs\",\n",
    "    \"Adverbs\",\n",
    "    \"Prepositions\",\n",
    "    \"Conjunctions\",\n",
    "    \"Negations\",\n",
    "]\n",
    "\n",
    "facial_features = [\n",
    "    \"average_inner_brow_height\",\n",
    "    \"average_outer_brow_height\",\n",
    "    \"eye_open\",\n",
    "    \"inner_lip_height\",\n",
    "    \"lip_corner_distance\",\n",
    "    \"outer_lip_height\",\n",
    "    \"smile\",\n",
    "    \"pitch\",\n",
    "    \"roll\",\n",
    "    \"yaw\",\n",
    "]\n",
    "stats = [\"max\", \"median\", \"min\", \"std\", \"mean\"]\n",
    "DROPPED_FACIAL_FEATURES = [\n",
    "    f\"{feature}_{stat}\" for feature in facial_features for stat in stats\n",
    "]\n",
    "\n",
    "\n",
    "DROPPED_PROSODIC_COLUMNS = []\n",
    "\n",
    "ALREADY_NORMALIZED_FEATURES = [\n",
    "    \"average_outer_brow_height_mean\",\n",
    "    \"average_inner_brow_height_mean\",\n",
    "    \"eye_open_mean\",\n",
    "    \"inner_lip_height_mean\",\n",
    "    \"inner_lip_height_mean\",\n",
    "    \"lip_corner_distance_mean\",\n",
    "    \"average_outer_brow_height_std\",\n",
    "    \"average_inner_brow_height_std\",\n",
    "    \"eye_open_std\",\n",
    "    \"outer_lip_height_std\",\n",
    "    \"inner_lip_height_std\",\n",
    "    \"lip_corner_distance_std\",\n",
    "    \"average_outer_brow_height_min\",\n",
    "    \"average_inner_brow_height_min\",\n",
    "    \"eye_open_min\",\n",
    "    \"outer_lip_height_min\",\n",
    "    \"inner_lip_height_min\",\n",
    "    \"lip_corner_distance_min\",\n",
    "    \"average_outer_brow_height_max\",\n",
    "    \"average_inner_brow_height_max\",\n",
    "    \"eye_open_max\",\n",
    "    \"outer_lip_height_max\",\n",
    "    \"inner_lip_height_max\",\n",
    "    \"lip_corner_distance_max\",\n",
    "    \"average_outer_brow_height_median\",\n",
    "    \"average_inner_brow_height_median\",\n",
    "    \"eye_open_median\",\n",
    "    \"outer_lip_height_median\",\n",
    "    \"inner_lip_height_median\",\n",
    "    \"lip_corner_distance_median\",\n",
    "]  # these are already in [0, 1]\n",
    "\n",
    "MUST_KEEP_FEATURES = [\n",
    "    \"pause_duration_avg\",\n",
    "    \"average_outer_brow_height_mean\",\n",
    "    \"average_inner_brow_height_mean\",\n",
    "    \"outer_lip_height_mean\",\n",
    "    \"Duration/Filler Words\",\n",
    "]\n",
    "\n",
    "\n",
    "GROUPS_COLUMN = \"cleaned_ids\"\n",
    "INDEX_COLUMN = \"participant_id\"\n",
    "\n",
    "\n",
    "def pearson_corr(y_true, y_pred):\n",
    "    return np.corrcoef(y_true, y_pred)[0, 1]\n",
    "\n",
    "\n",
    "SCORING_METRICS = {\n",
    "    \"r2\": \"r2\",\n",
    "    \"mae\": \"neg_mean_absolute_error\",\n",
    "    \"pearson\": make_scorer(pearson_corr),  # Pearson Correlation Coefficient\n",
    "}\n",
    "\n",
    "\n",
    "MUST_KEEP_FEATURES = [\n",
    "    # \"pause_duration_avg\",\n",
    "    # \"average_outer_brow_height_mean\",\n",
    "    # \"average_inner_brow_height_mean\",\n",
    "    # \"outer_lip_height_mean\",\n",
    "    \"Duration/Filler Words\",\n",
    "]\n",
    "\n",
    "PIPELINE_PARAMS = {'feature_selection__estimator__alpha': 0.057376790661083456, 'svr__C': 0.655379988356498, 'svr__gamma': 0.02784736494309893, 'svr__epsilon': 0.2617249201838037, 'svr__kernel': 'rbf'}\n",
    "HYPERPARAMETER_TUNING_ENABLED = True"
   ]
  },
  {
   "cell_type": "markdown",
   "id": "029b3aa8",
   "metadata": {
    "id": "fD4hl39NFMny",
    "papermill": {
     "duration": 0.009431,
     "end_time": "2025-04-07T22:05:21.271261",
     "exception": false,
     "start_time": "2025-04-07T22:05:21.261830",
     "status": "completed"
    },
    "tags": []
   },
   "source": [
    "# Data Preprocessing"
   ]
  },
  {
   "cell_type": "markdown",
   "id": "e945b496",
   "metadata": {
    "id": "kFDduJ-UNVTL",
    "papermill": {
     "duration": 0.009505,
     "end_time": "2025-04-07T22:05:21.290170",
     "exception": false,
     "start_time": "2025-04-07T22:05:21.280665",
     "status": "completed"
    },
    "tags": []
   },
   "source": [
    "## Import Datasets"
   ]
  },
  {
   "cell_type": "code",
   "execution_count": 4,
   "id": "818216fd",
   "metadata": {
    "colab": {
     "base_uri": "https://localhost:8080/"
    },
    "execution": {
     "iopub.execute_input": "2025-04-07T22:05:21.310582Z",
     "iopub.status.busy": "2025-04-07T22:05:21.310318Z",
     "iopub.status.idle": "2025-04-07T22:05:21.325902Z",
     "shell.execute_reply": "2025-04-07T22:05:21.325539Z"
    },
    "id": "Zff5x2vK99H_",
    "outputId": "a04675c7-e23f-4fe9-aa8f-3d82166daeab",
    "papermill": {
     "duration": 0.02682,
     "end_time": "2025-04-07T22:05:21.327052",
     "exception": false,
     "start_time": "2025-04-07T22:05:21.300232",
     "status": "completed"
    },
    "tags": []
   },
   "outputs": [],
   "source": [
    "import pandas as pd\n",
    "import os\n",
    "\n",
    "features_df = pd.read_csv(os.path.join(SCRIPT_DIR, \"datasets\", \"add.csv\"))\n",
    "features_df = features_df.set_index(\"participant_id\")\n",
    "\n",
    "labels_df = pd.read_csv(\n",
    "    os.path.join(os.path.join(SCRIPT_DIR,  \"datasets\", \"turker_scores_full_interview.csv\"))\n",
    ")\n",
    "labels_df = labels_df.set_index(\"Participant\")\n",
    "labels_df = labels_df.loc[labels_df[\"Worker\"] == \"AGGR\"]\n",
    "\n",
    "features_df.index = features_df.index.str.lower()\n",
    "labels_df.index = labels_df.index.str.lower()\n",
    "indexed_combined_df = features_df.join(labels_df[[target_column]], how=\"left\")\n",
    "combined_df = indexed_combined_df.reset_index(drop=True)"
   ]
  },
  {
   "cell_type": "markdown",
   "id": "235d231b",
   "metadata": {
    "papermill": {
     "duration": 0.009662,
     "end_time": "2025-04-07T22:05:21.346459",
     "exception": false,
     "start_time": "2025-04-07T22:05:21.336797",
     "status": "completed"
    },
    "tags": []
   },
   "source": [
    "# Model"
   ]
  },
  {
   "cell_type": "markdown",
   "id": "0bdffb91",
   "metadata": {
    "id": "sDQ6pHknkARQ",
    "papermill": {
     "duration": 0.009474,
     "end_time": "2025-04-07T22:05:21.365647",
     "exception": false,
     "start_time": "2025-04-07T22:05:21.356173",
     "status": "completed"
    },
    "tags": []
   },
   "source": [
    "## Split Data"
   ]
  },
  {
   "cell_type": "code",
   "execution_count": 5,
   "id": "c8830eea",
   "metadata": {
    "execution": {
     "iopub.execute_input": "2025-04-07T22:05:21.386358Z",
     "iopub.status.busy": "2025-04-07T22:05:21.386115Z",
     "iopub.status.idle": "2025-04-07T22:05:21.389475Z",
     "shell.execute_reply": "2025-04-07T22:05:21.389070Z"
    },
    "papermill": {
     "duration": 0.015124,
     "end_time": "2025-04-07T22:05:21.390786",
     "exception": false,
     "start_time": "2025-04-07T22:05:21.375662",
     "status": "completed"
    },
    "tags": []
   },
   "outputs": [],
   "source": [
    "X = combined_df.drop(columns=[target_column, GROUPS_COLUMN])\n",
    "y = combined_df[target_column]"
   ]
  },
  {
   "cell_type": "markdown",
   "id": "35c393d2",
   "metadata": {
    "id": "XvvciJkN0UOa",
    "papermill": {
     "duration": 0.009842,
     "end_time": "2025-04-07T22:05:21.412007",
     "exception": false,
     "start_time": "2025-04-07T22:05:21.402165",
     "status": "completed"
    },
    "tags": []
   },
   "source": [
    "## Pipeline Creation"
   ]
  },
  {
   "cell_type": "code",
   "execution_count": 6,
   "id": "e7f65f04",
   "metadata": {
    "colab": {
     "base_uri": "https://localhost:8080/",
     "height": 137
    },
    "execution": {
     "iopub.execute_input": "2025-04-07T22:05:21.432061Z",
     "iopub.status.busy": "2025-04-07T22:05:21.431843Z",
     "iopub.status.idle": "2025-04-07T22:05:21.548106Z",
     "shell.execute_reply": "2025-04-07T22:05:21.547734Z"
    },
    "id": "dtuJl5nq0TE6",
    "outputId": "29e327d6-818f-424a-de55-ab7d93a0cab2",
    "papermill": {
     "duration": 0.127672,
     "end_time": "2025-04-07T22:05:21.549377",
     "exception": false,
     "start_time": "2025-04-07T22:05:21.421705",
     "status": "completed"
    },
    "tags": []
   },
   "outputs": [],
   "source": [
    "import numpy as np\n",
    "from sklearn.compose import ColumnTransformer\n",
    "from sklearn.feature_selection import SelectFromModel\n",
    "from sklearn.impute import SimpleImputer\n",
    "from sklearn.linear_model import Lasso, LassoCV\n",
    "from sklearn.pipeline import Pipeline\n",
    "from sklearn.preprocessing import StandardScaler\n",
    "from sklearn.svm import SVR\n",
    "from sklearn.model_selection import GroupKFold, cross_val_score, cross_validate\n",
    "import sys\n",
    "\n",
    "sys.path.append(\"..\")\n",
    "from models.domain_aware_selector import DomainAwareSelector\n",
    "\n",
    "groups_column = combined_df[GROUPS_COLUMN].astype(str).values\n",
    "\n",
    "\n",
    "preprocessor = ColumnTransformer(\n",
    "    [\n",
    "        ('dropper', 'drop', DROPPED_FACIAL_FEATURES + \n",
    "                            DROPPED_LEXICAL_COLUMNS + \n",
    "                            DROPPED_PROSODIC_COLUMNS)\n",
    "    ],\n",
    "    remainder='passthrough'\n",
    ")\n",
    "unfitted_pipeline = Pipeline(\n",
    "    [\n",
    "        ('preprocessor', preprocessor),\n",
    "        (\"imputer\", SimpleImputer(strategy=\"mean\")),  # NaN imputation\n",
    "        (\"scaler\", StandardScaler()),\n",
    "        (\"feature_selection\", SelectFromModel(estimator=Lasso(    max_iter=30000))),\n",
    "        # ('feature_selection', DomainAwareSelector(\n",
    "        #     must_keep_features=MUST_KEEP_FEATURES,\n",
    "        #     selector=SelectFromModel(lasso_feature_selection_model, max_features=10),\n",
    "        # )),\n",
    "        (\"svr\", SVR(kernel=\"rbf\")),\n",
    "    ]\n",
    ")"
   ]
  },
  {
   "cell_type": "markdown",
   "id": "b5e61fb5",
   "metadata": {
    "papermill": {
     "duration": 0.009712,
     "end_time": "2025-04-07T22:05:21.569203",
     "exception": false,
     "start_time": "2025-04-07T22:05:21.559491",
     "status": "completed"
    },
    "tags": []
   },
   "source": [
    "## Hyperparameter Tuning"
   ]
  },
  {
   "cell_type": "code",
   "execution_count": 7,
   "id": "4ac04f69",
   "metadata": {
    "execution": {
     "iopub.execute_input": "2025-04-07T22:05:21.590830Z",
     "iopub.status.busy": "2025-04-07T22:05:21.590569Z",
     "iopub.status.idle": "2025-04-07T22:05:41.603110Z",
     "shell.execute_reply": "2025-04-07T22:05:41.601439Z"
    },
    "papermill": {
     "duration": 20.026984,
     "end_time": "2025-04-07T22:05:41.606460",
     "exception": false,
     "start_time": "2025-04-07T22:05:21.579476",
     "status": "completed"
    },
    "tags": []
   },
   "outputs": [
    {
     "name": "stderr",
     "output_type": "stream",
     "text": [
      "/Users/bassel27/personal_projects/hireverse/venv/lib/python3.13/site-packages/tqdm/auto.py:21: TqdmWarning: IProgress not found. Please update jupyter and ipywidgets. See https://ipywidgets.readthedocs.io/en/stable/user_install.html\n",
      "  from .autonotebook import tqdm as notebook_tqdm\n",
      "[I 2025-04-08 00:05:21,665] A new study created in memory with name: no-name-4de8f328-e1f6-4730-9749-2798ef686c3b\n"
     ]
    },
    {
     "name": "stderr",
     "output_type": "stream",
     "text": [
      "[I 2025-04-08 00:05:23,148] Trial 7 finished with value: 0.12106065630821308 and parameters: {'feature_selection__estimator__alpha': 0.23295489008266504, 'svr__C': 0.16329745183849026, 'svr__gamma': 0.10387488595782803, 'svr__epsilon': 0.014846825247926434, 'svr__kernel': 'rbf'}. Best is trial 7 with value: 0.12106065630821308.\n"
     ]
    },
    {
     "name": "stderr",
     "output_type": "stream",
     "text": [
      "[I 2025-04-08 00:05:23,173] Trial 6 finished with value: 0.18750320554977745 and parameters: {'feature_selection__estimator__alpha': 0.09076916174765001, 'svr__C': 1.9469368935578368, 'svr__gamma': 0.001027658428580485, 'svr__epsilon': 0.14314690513943187, 'svr__kernel': 'rbf'}. Best is trial 6 with value: 0.18750320554977745.\n"
     ]
    },
    {
     "name": "stderr",
     "output_type": "stream",
     "text": [
      "[I 2025-04-08 00:05:23,187] Trial 1 finished with value: -0.07145703833097625 and parameters: {'feature_selection__estimator__alpha': 0.0706257779274622, 'svr__C': 1.514041401957959, 'svr__gamma': 3.649387321031822, 'svr__epsilon': 0.043420991057115034, 'svr__kernel': 'rbf'}. Best is trial 6 with value: 0.18750320554977745.\n"
     ]
    },
    {
     "name": "stderr",
     "output_type": "stream",
     "text": [
      "[I 2025-04-08 00:05:23,191] Trial 4 finished with value: 0.10735348483626794 and parameters: {'feature_selection__estimator__alpha': 0.08396723195035317, 'svr__C': 0.14906047608030865, 'svr__gamma': 0.009479943915147532, 'svr__epsilon': 0.4491244026168849, 'svr__kernel': 'rbf'}. Best is trial 6 with value: 0.18750320554977745.\n"
     ]
    },
    {
     "name": "stderr",
     "output_type": "stream",
     "text": [
      "[I 2025-04-08 00:05:23,193] Trial 2 finished with value: 0.10408197527218858 and parameters: {'feature_selection__estimator__alpha': 0.12853236222617043, 'svr__C': 0.32402286951105974, 'svr__gamma': 0.003734041402913637, 'svr__epsilon': 0.09996499254322051, 'svr__kernel': 'rbf'}. Best is trial 6 with value: 0.18750320554977745.\n"
     ]
    },
    {
     "name": "stderr",
     "output_type": "stream",
     "text": [
      "[I 2025-04-08 00:05:23,243] Trial 0 finished with value: -0.11061623888703305 and parameters: {'feature_selection__estimator__alpha': 0.014017186203255864, 'svr__C': 0.015962369024710234, 'svr__gamma': 2.154601777305153, 'svr__epsilon': 0.17786288575371023, 'svr__kernel': 'rbf'}. Best is trial 6 with value: 0.18750320554977745.\n"
     ]
    },
    {
     "name": "stderr",
     "output_type": "stream",
     "text": [
      "[I 2025-04-08 00:05:23,258] Trial 3 finished with value: 0.13231334960128088 and parameters: {'feature_selection__estimator__alpha': 0.003584298361138121, 'svr__C': 64.67888895680039, 'svr__gamma': 0.007338603208542238, 'svr__epsilon': 0.47001608367595676, 'svr__kernel': 'rbf'}. Best is trial 6 with value: 0.18750320554977745.\n"
     ]
    },
    {
     "name": "stderr",
     "output_type": "stream",
     "text": [
      "[I 2025-04-08 00:05:23,263] Trial 5 finished with value: -0.09173102743639772 and parameters: {'feature_selection__estimator__alpha': 0.012484277920529996, 'svr__C': 23.363611202234218, 'svr__gamma': 5.419683782496277, 'svr__epsilon': 0.278678030421261, 'svr__kernel': 'rbf'}. Best is trial 6 with value: 0.18750320554977745.\n"
     ]
    },
    {
     "name": "stderr",
     "output_type": "stream",
     "text": [
      "[I 2025-04-08 00:05:24,738] Trial 12 finished with value: -0.12144206532356487 and parameters: {'feature_selection__estimator__alpha': 0.12594425117617178, 'svr__C': 92.83049358521227, 'svr__gamma': 0.3223744393595612, 'svr__epsilon': 0.36096674142209484, 'svr__kernel': 'rbf'}. Best is trial 9 with value: 0.23967570063962648.\n"
     ]
    },
    {
     "name": "stderr",
     "output_type": "stream",
     "text": [
      "[I 2025-04-08 00:05:24,741] Trial 10 finished with value: 0.03314964207013362 and parameters: {'feature_selection__estimator__alpha': 0.0037684817816394447, 'svr__C': 0.20221197075250327, 'svr__gamma': 0.004154331402509373, 'svr__epsilon': 0.36699589964736223, 'svr__kernel': 'rbf'}. Best is trial 9 with value: 0.23967570063962648.\n"
     ]
    },
    {
     "name": "stderr",
     "output_type": "stream",
     "text": [
      "[I 2025-04-08 00:05:24,744] Trial 9 finished with value: 0.23967570063962648 and parameters: {'feature_selection__estimator__alpha': 0.03780858263494991, 'svr__C': 3.216414058214142, 'svr__gamma': 0.02015280842415415, 'svr__epsilon': 0.3933802075545844, 'svr__kernel': 'rbf'}. Best is trial 9 with value: 0.23967570063962648.\n"
     ]
    },
    {
     "name": "stderr",
     "output_type": "stream",
     "text": [
      "[I 2025-04-08 00:05:24,745] Trial 11 finished with value: 0.040166570861926015 and parameters: {'feature_selection__estimator__alpha': 0.21990266417926382, 'svr__C': 0.10782336135862733, 'svr__gamma': 0.025727799615687594, 'svr__epsilon': 0.37396411018472, 'svr__kernel': 'rbf'}. Best is trial 9 with value: 0.23967570063962648.\n"
     ]
    },
    {
     "name": "stderr",
     "output_type": "stream",
     "text": [
      "[I 2025-04-08 00:05:24,747] Trial 13 finished with value: 0.20664528510759445 and parameters: {'feature_selection__estimator__alpha': 0.10380050187259278, 'svr__C': 0.46547169656349857, 'svr__gamma': 0.1548109920146894, 'svr__epsilon': 0.4238088779454849, 'svr__kernel': 'rbf'}. Best is trial 15 with value: 0.24813142964499768.\n"
     ]
    },
    {
     "name": "stderr",
     "output_type": "stream",
     "text": [
      "[I 2025-04-08 00:05:24,748] Trial 8 finished with value: -0.09174751389398582 and parameters: {'feature_selection__estimator__alpha': 0.0037054607463817032, 'svr__C': 1.9652051920551181, 'svr__gamma': 4.53243565391879, 'svr__epsilon': 0.309867816201157, 'svr__kernel': 'rbf'}. Best is trial 15 with value: 0.24813142964499768.\n"
     ]
    },
    {
     "name": "stderr",
     "output_type": "stream",
     "text": [
      "[I 2025-04-08 00:05:24,748] Trial 15 finished with value: 0.24813142964499768 and parameters: {'feature_selection__estimator__alpha': 0.029180069648507622, 'svr__C': 3.3501215652655776, 'svr__gamma': 0.014582564495148213, 'svr__epsilon': 0.019131771093601813, 'svr__kernel': 'rbf'}. Best is trial 15 with value: 0.24813142964499768.\n"
     ]
    },
    {
     "name": "stderr",
     "output_type": "stream",
     "text": [
      "[I 2025-04-08 00:05:24,913] Trial 14 finished with value: 0.07085688859731416 and parameters: {'feature_selection__estimator__alpha': 0.001504318105098105, 'svr__C': 0.6702230962094851, 'svr__gamma': 0.0013330296953376986, 'svr__epsilon': 0.36705825984670837, 'svr__kernel': 'rbf'}. Best is trial 15 with value: 0.24813142964499768.\n"
     ]
    },
    {
     "name": "stderr",
     "output_type": "stream",
     "text": [
      "[I 2025-04-08 00:05:26,206] Trial 22 finished with value: 0.12066043432393472 and parameters: {'feature_selection__estimator__alpha': 0.02662016442056353, 'svr__C': 8.807551331561898, 'svr__gamma': 0.02430895585054657, 'svr__epsilon': 0.21077565069791157, 'svr__kernel': 'rbf'}. Best is trial 15 with value: 0.24813142964499768.\n"
     ]
    },
    {
     "name": "stderr",
     "output_type": "stream",
     "text": [
      "[I 2025-04-08 00:05:26,231] Trial 19 finished with value: 0.0994799364731748 and parameters: {'feature_selection__estimator__alpha': 0.028931530342246357, 'svr__C': 12.050267038210984, 'svr__gamma': 0.020157359085203573, 'svr__epsilon': 0.20983651645547946, 'svr__kernel': 'rbf'}. Best is trial 15 with value: 0.24813142964499768.\n"
     ]
    },
    {
     "name": "stderr",
     "output_type": "stream",
     "text": [
      "[I 2025-04-08 00:05:26,274] Trial 21 finished with value: 0.09179494065604067 and parameters: {'feature_selection__estimator__alpha': 0.02499717645190666, 'svr__C': 8.08921967460057, 'svr__gamma': 0.03446837691909716, 'svr__epsilon': 0.22580024675860394, 'svr__kernel': 'rbf'}. Best is trial 15 with value: 0.24813142964499768.\n"
     ]
    },
    {
     "name": "stderr",
     "output_type": "stream",
     "text": [
      "[I 2025-04-08 00:05:26,316] Trial 20 finished with value: 0.07936107117961069 and parameters: {'feature_selection__estimator__alpha': 0.030017395466951653, 'svr__C': 9.570518692214351, 'svr__gamma': 0.029128575421011074, 'svr__epsilon': 0.22710176477694538, 'svr__kernel': 'rbf'}. Best is trial 15 with value: 0.24813142964499768.\n"
     ]
    },
    {
     "name": "stderr",
     "output_type": "stream",
     "text": [
      "[I 2025-04-08 00:05:26,353] Trial 17 finished with value: 0.16683164500480865 and parameters: {'feature_selection__estimator__alpha': 0.02779943884194328, 'svr__C': 9.139544691143046, 'svr__gamma': 0.016750903171833136, 'svr__epsilon': 0.21043511425091635, 'svr__kernel': 'rbf'}. Best is trial 15 with value: 0.24813142964499768.\n"
     ]
    },
    {
     "name": "stderr",
     "output_type": "stream",
     "text": [
      "[I 2025-04-08 00:05:26,393] Trial 16 finished with value: 0.1169361660014255 and parameters: {'feature_selection__estimator__alpha': 0.034498631398440456, 'svr__C': 6.870382157051065, 'svr__gamma': 0.035507866580886664, 'svr__epsilon': 0.204998866006327, 'svr__kernel': 'rbf'}. Best is trial 15 with value: 0.24813142964499768.\n"
     ]
    },
    {
     "name": "stderr",
     "output_type": "stream",
     "text": [
      "[I 2025-04-08 00:05:26,426] Trial 18 finished with value: 0.07447810819320785 and parameters: {'feature_selection__estimator__alpha': 0.03241731969673402, 'svr__C': 7.0705970211680365, 'svr__gamma': 0.03707854800412228, 'svr__epsilon': 0.22080440642013632, 'svr__kernel': 'rbf'}. Best is trial 15 with value: 0.24813142964499768.\n"
     ]
    },
    {
     "name": "stderr",
     "output_type": "stream",
     "text": [
      "[I 2025-04-08 00:05:26,468] Trial 23 finished with value: 0.086978941471093 and parameters: {'feature_selection__estimator__alpha': 0.03462342552761465, 'svr__C': 8.347471817977937, 'svr__gamma': 0.03580585578840131, 'svr__epsilon': 0.24286501528984078, 'svr__kernel': 'rbf'}. Best is trial 15 with value: 0.24813142964499768.\n"
     ]
    },
    {
     "name": "stderr",
     "output_type": "stream",
     "text": [
      "[I 2025-04-08 00:05:27,697] Trial 24 finished with value: -0.044757970620684484 and parameters: {'feature_selection__estimator__alpha': 0.045745411829118406, 'svr__C': 6.396223280994758, 'svr__gamma': 0.8944596507968421, 'svr__epsilon': 0.09570340964512325, 'svr__kernel': 'rbf'}. Best is trial 15 with value: 0.24813142964499768.\n"
     ]
    },
    {
     "name": "stderr",
     "output_type": "stream",
     "text": [
      "[I 2025-04-08 00:05:27,706] Trial 27 finished with value: 0.13888917160906505 and parameters: {'feature_selection__estimator__alpha': 0.05281763031314678, 'svr__C': 3.370138900861989, 'svr__gamma': 0.11204106870121136, 'svr__epsilon': 0.42657118562754537, 'svr__kernel': 'rbf'}. Best is trial 15 with value: 0.24813142964499768.\n"
     ]
    },
    {
     "name": "stderr",
     "output_type": "stream",
     "text": [
      "[I 2025-04-08 00:05:27,825] Trial 26 finished with value: -0.029592929527416777 and parameters: {'feature_selection__estimator__alpha': 0.007901307692975533, 'svr__C': 2.756898529577531, 'svr__gamma': 0.19394618058475419, 'svr__epsilon': 0.07653647889895913, 'svr__kernel': 'rbf'}. Best is trial 15 with value: 0.24813142964499768.\n"
     ]
    },
    {
     "name": "stderr",
     "output_type": "stream",
     "text": [
      "[I 2025-04-08 00:05:27,883] Trial 28 finished with value: 0.14985733520441513 and parameters: {'feature_selection__estimator__alpha': 0.054310942888939936, 'svr__C': 0.6234156392753779, 'svr__gamma': 0.17892644443825365, 'svr__epsilon': 0.42774735986429124, 'svr__kernel': 'rbf'}. Best is trial 15 with value: 0.24813142964499768.\n"
     ]
    },
    {
     "name": "stderr",
     "output_type": "stream",
     "text": [
      "[I 2025-04-08 00:05:27,913] Trial 25 finished with value: 0.022229317160861416 and parameters: {'feature_selection__estimator__alpha': 0.044879678630118665, 'svr__C': 3.7462310488115573, 'svr__gamma': 0.4586000698610211, 'svr__epsilon': 0.08338660230831946, 'svr__kernel': 'rbf'}. Best is trial 15 with value: 0.24813142964499768.\n"
     ]
    },
    {
     "name": "stderr",
     "output_type": "stream",
     "text": [
      "[I 2025-04-08 00:05:27,954] Trial 30 finished with value: 0.1299121178772467 and parameters: {'feature_selection__estimator__alpha': 0.05943082406850078, 'svr__C': 3.0083484155748046, 'svr__gamma': 0.15143923145328678, 'svr__epsilon': 0.4225602002740639, 'svr__kernel': 'rbf'}. Best is trial 15 with value: 0.24813142964499768.\n"
     ]
    },
    {
     "name": "stderr",
     "output_type": "stream",
     "text": [
      "[I 2025-04-08 00:05:28,029] Trial 31 finished with value: -0.0041000422087891395 and parameters: {'feature_selection__estimator__alpha': 0.06018087637854856, 'svr__C': 0.04845435929722613, 'svr__gamma': 0.16337658704243593, 'svr__epsilon': 0.4237618806885994, 'svr__kernel': 'rbf'}. Best is trial 15 with value: 0.24813142964499768.\n"
     ]
    },
    {
     "name": "stderr",
     "output_type": "stream",
     "text": [
      "[I 2025-04-08 00:05:28,030] Trial 29 finished with value: 0.16145925035671843 and parameters: {'feature_selection__estimator__alpha': 0.054525724059805665, 'svr__C': 0.5927568439821541, 'svr__gamma': 0.15854730247932283, 'svr__epsilon': 0.4311259521101842, 'svr__kernel': 'rbf'}. Best is trial 15 with value: 0.24813142964499768.\n"
     ]
    },
    {
     "name": "stderr",
     "output_type": "stream",
     "text": [
      "[I 2025-04-08 00:05:29,207] Trial 34 finished with value: -0.09431939465494305 and parameters: {'feature_selection__estimator__alpha': 0.009542808798699464, 'svr__C': 0.7449534857394822, 'svr__gamma': 0.5869951485530753, 'svr__epsilon': 0.49162760767708097, 'svr__kernel': 'rbf'}. Best is trial 15 with value: 0.24813142964499768.\n"
     ]
    },
    {
     "name": "stderr",
     "output_type": "stream",
     "text": [
      "[I 2025-04-08 00:05:29,251] Trial 33 finished with value: -0.07088434190764 and parameters: {'feature_selection__estimator__alpha': 0.007521210130757491, 'svr__C': 0.6273297180493963, 'svr__gamma': 0.2255550187550141, 'svr__epsilon': 0.42160755019881013, 'svr__kernel': 'rbf'}. Best is trial 15 with value: 0.24813142964499768.\n"
     ]
    },
    {
     "name": "stderr",
     "output_type": "stream",
     "text": [
      "[I 2025-04-08 00:05:29,285] Trial 32 finished with value: -0.08667758717033537 and parameters: {'feature_selection__estimator__alpha': 0.009348066113916477, 'svr__C': 0.6455952103772098, 'svr__gamma': 0.3338904669169455, 'svr__epsilon': 0.4899863253264874, 'svr__kernel': 'rbf'}. Best is trial 15 with value: 0.24813142964499768.\n"
     ]
    },
    {
     "name": "stderr",
     "output_type": "stream",
     "text": [
      "[I 2025-04-08 00:05:29,402] Trial 35 finished with value: -0.010552177750852371 and parameters: {'feature_selection__estimator__alpha': 0.13309996094210008, 'svr__C': 27.56945384530035, 'svr__gamma': 0.4109789561367606, 'svr__epsilon': 0.4984488977293095, 'svr__kernel': 'rbf'}. Best is trial 15 with value: 0.24813142964499768.\n"
     ]
    },
    {
     "name": "stderr",
     "output_type": "stream",
     "text": [
      "[I 2025-04-08 00:05:29,446] Trial 37 finished with value: -0.09624844033482798 and parameters: {'feature_selection__estimator__alpha': 0.01581116471211229, 'svr__C': 0.03985312979013148, 'svr__gamma': 0.6800644656533112, 'svr__epsilon': 0.49130496152675573, 'svr__kernel': 'rbf'}. Best is trial 15 with value: 0.24813142964499768.\n"
     ]
    },
    {
     "name": "stderr",
     "output_type": "stream",
     "text": [
      "[I 2025-04-08 00:05:29,485] Trial 36 finished with value: -0.060014579988538874 and parameters: {'feature_selection__estimator__alpha': 0.013908790607415983, 'svr__C': 0.03981063881246289, 'svr__gamma': 0.06648613048059575, 'svr__epsilon': 0.31366048093009385, 'svr__kernel': 'rbf'}. Best is trial 15 with value: 0.24813142964499768.\n"
     ]
    },
    {
     "name": "stderr",
     "output_type": "stream",
     "text": [
      "[I 2025-04-08 00:05:29,639] Trial 39 finished with value: 0.08708090864220011 and parameters: {'feature_selection__estimator__alpha': 0.10534881027285649, 'svr__C': 0.985973461930203, 'svr__gamma': 0.001036767157512272, 'svr__epsilon': 0.32143774674380254, 'svr__kernel': 'rbf'}. Best is trial 15 with value: 0.24813142964499768.\n"
     ]
    },
    {
     "name": "stderr",
     "output_type": "stream",
     "text": [
      "[I 2025-04-08 00:05:29,654] Trial 38 finished with value: 0.12090699650603406 and parameters: {'feature_selection__estimator__alpha': 0.09955374657478798, 'svr__C': 1.0692822091158964, 'svr__gamma': 0.0010648735627785525, 'svr__epsilon': 0.11734533844660036, 'svr__kernel': 'rbf'}. Best is trial 15 with value: 0.24813142964499768.\n"
     ]
    },
    {
     "name": "stderr",
     "output_type": "stream",
     "text": [
      "[I 2025-04-08 00:05:30,666] Trial 41 finished with value: 0.19530469404800815 and parameters: {'feature_selection__estimator__alpha': 0.10069853005290456, 'svr__C': 1.5435268724683835, 'svr__gamma': 0.0014994514174858514, 'svr__epsilon': 0.14708253830911788, 'svr__kernel': 'rbf'}. Best is trial 15 with value: 0.24813142964499768.\n"
     ]
    },
    {
     "name": "stderr",
     "output_type": "stream",
     "text": [
      "[I 2025-04-08 00:05:30,788] Trial 42 finished with value: 0.17537135808482485 and parameters: {'feature_selection__estimator__alpha': 0.11714673970732889, 'svr__C': 1.4917289823291424, 'svr__gamma': 0.0012442607737887202, 'svr__epsilon': 0.1421480140930868, 'svr__kernel': 'rbf'}. Best is trial 15 with value: 0.24813142964499768.\n"
     ]
    },
    {
     "name": "stderr",
     "output_type": "stream",
     "text": [
      "[I 2025-04-08 00:05:30,865] Trial 43 finished with value: 0.1876198023532125 and parameters: {'feature_selection__estimator__alpha': 0.0971358775354925, 'svr__C': 1.4215750005929106, 'svr__gamma': 0.0014659491386802789, 'svr__epsilon': 0.14973886467247258, 'svr__kernel': 'rbf'}. Best is trial 15 with value: 0.24813142964499768.\n"
     ]
    },
    {
     "name": "stderr",
     "output_type": "stream",
     "text": [
      "[I 2025-04-08 00:05:30,896] Trial 40 finished with value: 0.17354517965641206 and parameters: {'feature_selection__estimator__alpha': 0.09958511802224665, 'svr__C': 1.5193641913966716, 'svr__gamma': 0.0011186558748626397, 'svr__epsilon': 0.1545057289424658, 'svr__kernel': 'rbf'}. Best is trial 15 with value: 0.24813142964499768.\n"
     ]
    },
    {
     "name": "stderr",
     "output_type": "stream",
     "text": [
      "[I 2025-04-08 00:05:31,066] Trial 44 finished with value: 0.19018887378139557 and parameters: {'feature_selection__estimator__alpha': 0.08961906625623337, 'svr__C': 1.9313568001465566, 'svr__gamma': 0.001076112238131948, 'svr__epsilon': 0.140821644174219, 'svr__kernel': 'rbf'}. Best is trial 15 with value: 0.24813142964499768.\n"
     ]
    },
    {
     "name": "stderr",
     "output_type": "stream",
     "text": [
      "[I 2025-04-08 00:05:31,193] Trial 45 finished with value: 0.15378341473790386 and parameters: {'feature_selection__estimator__alpha': 0.09113852754282209, 'svr__C': 1.3347103630138035, 'svr__gamma': 0.0010439104662512155, 'svr__epsilon': 0.15505812747692033, 'svr__kernel': 'rbf'}. Best is trial 15 with value: 0.24813142964499768.\n"
     ]
    },
    {
     "name": "stderr",
     "output_type": "stream",
     "text": [
      "[I 2025-04-08 00:05:31,329] Trial 47 finished with value: 0.02632813303621969 and parameters: {'feature_selection__estimator__alpha': 0.19099641027255443, 'svr__C': 0.3400610368611258, 'svr__gamma': 0.002835418281603581, 'svr__epsilon': 0.1673990843909, 'svr__kernel': 'rbf'}. Best is trial 15 with value: 0.24813142964499768.\n"
     ]
    },
    {
     "name": "stderr",
     "output_type": "stream",
     "text": [
      "[I 2025-04-08 00:05:31,412] Trial 46 finished with value: 0.015401058443459532 and parameters: {'feature_selection__estimator__alpha': 0.1850520005230049, 'svr__C': 0.32353786337457957, 'svr__gamma': 0.0026038387034506096, 'svr__epsilon': 0.14587291307978373, 'svr__kernel': 'rbf'}. Best is trial 15 with value: 0.24813142964499768.\n"
     ]
    },
    {
     "name": "stderr",
     "output_type": "stream",
     "text": [
      "[I 2025-04-08 00:05:32,290] Trial 48 finished with value: 0.009672807003590333 and parameters: {'feature_selection__estimator__alpha': 0.1798435786245101, 'svr__C': 0.3162425920944247, 'svr__gamma': 0.0023860408357293957, 'svr__epsilon': 0.1496424992902157, 'svr__kernel': 'rbf'}. Best is trial 15 with value: 0.24813142964499768.\n"
     ]
    },
    {
     "name": "stderr",
     "output_type": "stream",
     "text": [
      "[I 2025-04-08 00:05:32,347] Trial 50 finished with value: 0.01708960159170453 and parameters: {'feature_selection__estimator__alpha': 0.18095598047387046, 'svr__C': 0.29382179576781253, 'svr__gamma': 0.0024515454944440563, 'svr__epsilon': 0.0525798412202088, 'svr__kernel': 'rbf'}. Best is trial 15 with value: 0.24813142964499768.\n"
     ]
    },
    {
     "name": "stderr",
     "output_type": "stream",
     "text": [
      "[I 2025-04-08 00:05:32,400] Trial 49 finished with value: 0.01645283691697492 and parameters: {'feature_selection__estimator__alpha': 0.20147725516727719, 'svr__C': 0.32887987054321965, 'svr__gamma': 0.002628409570782439, 'svr__epsilon': 0.03229167597992828, 'svr__kernel': 'rbf'}. Best is trial 15 with value: 0.24813142964499768.\n"
     ]
    },
    {
     "name": "stderr",
     "output_type": "stream",
     "text": [
      "[I 2025-04-08 00:05:32,501] Trial 51 finished with value: 0.02622320559174061 and parameters: {'feature_selection__estimator__alpha': 0.186132224151453, 'svr__C': 0.30296134743639236, 'svr__gamma': 0.00268483888163982, 'svr__epsilon': 0.01231661497583697, 'svr__kernel': 'rbf'}. Best is trial 15 with value: 0.24813142964499768.\n"
     ]
    },
    {
     "name": "stderr",
     "output_type": "stream",
     "text": [
      "[I 2025-04-08 00:05:32,580] Trial 52 finished with value: 0.038003450644577004 and parameters: {'feature_selection__estimator__alpha': 0.17340389398103193, 'svr__C': 0.3701019456840213, 'svr__gamma': 0.002570017437270471, 'svr__epsilon': 0.045231493761231756, 'svr__kernel': 'rbf'}. Best is trial 15 with value: 0.24813142964499768.\n"
     ]
    },
    {
     "name": "stderr",
     "output_type": "stream",
     "text": [
      "[I 2025-04-08 00:05:32,670] Trial 53 finished with value: 0.0342698704016422 and parameters: {'feature_selection__estimator__alpha': 0.19704098421182073, 'svr__C': 0.32594271419969106, 'svr__gamma': 0.0030873556323624306, 'svr__epsilon': 0.021773643914685226, 'svr__kernel': 'rbf'}. Best is trial 15 with value: 0.24813142964499768.\n"
     ]
    },
    {
     "name": "stderr",
     "output_type": "stream",
     "text": [
      "/Users/bassel27/personal_projects/hireverse/venv/lib/python3.13/site-packages/sklearn/feature_selection/_base.py:122: UserWarning: No features were selected: either the data is too noisy or the selection test too strict.\n",
      "  warnings.warn(\n",
      "/Users/bassel27/personal_projects/hireverse/venv/lib/python3.13/site-packages/sklearn/feature_selection/_base.py:122: UserWarning: No features were selected: either the data is too noisy or the selection test too strict.\n",
      "  warnings.warn(\n"
     ]
    },
    {
     "name": "stderr",
     "output_type": "stream",
     "text": [
      "[I 2025-04-08 00:05:32,833] Trial 55 finished with value: 0.2510909691907664 and parameters: {'feature_selection__estimator__alpha': 0.0197063391009616, 'svr__C': 4.530937755553478, 'svr__gamma': 0.007631913870493268, 'svr__epsilon': 0.03461905964980379, 'svr__kernel': 'rbf'}. Best is trial 55 with value: 0.2510909691907664.\n"
     ]
    },
    {
     "name": "stderr",
     "output_type": "stream",
     "text": [
      "[I 2025-04-08 00:05:32,835] Trial 54 finished with value: 0.12136625017057981 and parameters: {'feature_selection__estimator__alpha': 0.17810464549979318, 'svr__C': 0.383893041574283, 'svr__gamma': 0.008115564397631737, 'svr__epsilon': 0.04675648267018705, 'svr__kernel': 'rbf'}. Best is trial 55 with value: 0.2510909691907664.\n"
     ]
    },
    {
     "name": "stderr",
     "output_type": "stream",
     "text": [
      "/Users/bassel27/personal_projects/hireverse/venv/lib/python3.13/site-packages/sklearn/feature_selection/_base.py:122: UserWarning: No features were selected: either the data is too noisy or the selection test too strict.\n",
      "  warnings.warn(\n",
      "/Users/bassel27/personal_projects/hireverse/venv/lib/python3.13/site-packages/sklearn/feature_selection/_base.py:122: UserWarning: No features were selected: either the data is too noisy or the selection test too strict.\n",
      "  warnings.warn(\n"
     ]
    },
    {
     "name": "stderr",
     "output_type": "stream",
     "text": [
      "/Users/bassel27/personal_projects/hireverse/venv/lib/python3.13/site-packages/sklearn/feature_selection/_base.py:122: UserWarning: No features were selected: either the data is too noisy or the selection test too strict.\n",
      "  warnings.warn(\n",
      "/Users/bassel27/personal_projects/hireverse/venv/lib/python3.13/site-packages/sklearn/feature_selection/_base.py:122: UserWarning: No features were selected: either the data is too noisy or the selection test too strict.\n",
      "  warnings.warn(\n",
      "/Users/bassel27/personal_projects/hireverse/venv/lib/python3.13/site-packages/sklearn/feature_selection/_base.py:122: UserWarning: No features were selected: either the data is too noisy or the selection test too strict.\n",
      "  warnings.warn(\n",
      "/Users/bassel27/personal_projects/hireverse/venv/lib/python3.13/site-packages/sklearn/feature_selection/_base.py:122: UserWarning: No features were selected: either the data is too noisy or the selection test too strict.\n",
      "  warnings.warn(\n"
     ]
    },
    {
     "name": "stderr",
     "output_type": "stream",
     "text": [
      "/Users/bassel27/personal_projects/hireverse/venv/lib/python3.13/site-packages/sklearn/feature_selection/_base.py:122: UserWarning: No features were selected: either the data is too noisy or the selection test too strict.\n",
      "  warnings.warn(\n",
      "/Users/bassel27/personal_projects/hireverse/venv/lib/python3.13/site-packages/sklearn/feature_selection/_base.py:122: UserWarning: No features were selected: either the data is too noisy or the selection test too strict.\n",
      "  warnings.warn(\n",
      "/Users/bassel27/personal_projects/hireverse/venv/lib/python3.13/site-packages/sklearn/feature_selection/_base.py:122: UserWarning: No features were selected: either the data is too noisy or the selection test too strict.\n",
      "  warnings.warn(\n",
      "/Users/bassel27/personal_projects/hireverse/venv/lib/python3.13/site-packages/sklearn/feature_selection/_base.py:122: UserWarning: No features were selected: either the data is too noisy or the selection test too strict.\n",
      "  warnings.warn(\n"
     ]
    },
    {
     "name": "stderr",
     "output_type": "stream",
     "text": [
      "/Users/bassel27/personal_projects/hireverse/venv/lib/python3.13/site-packages/sklearn/feature_selection/_base.py:122: UserWarning: No features were selected: either the data is too noisy or the selection test too strict.\n",
      "  warnings.warn(\n"
     ]
    },
    {
     "name": "stderr",
     "output_type": "stream",
     "text": [
      "[I 2025-04-08 00:05:34,114] Trial 56 finished with value: 0.2817477904884497 and parameters: {'feature_selection__estimator__alpha': 0.07682219440992656, 'svr__C': 4.725180690326845, 'svr__gamma': 0.007543479148510431, 'svr__epsilon': 0.027975528665009075, 'svr__kernel': 'rbf'}. Best is trial 56 with value: 0.2817477904884497.\n"
     ]
    },
    {
     "name": "stderr",
     "output_type": "stream",
     "text": [
      "/Users/bassel27/personal_projects/hireverse/venv/lib/python3.13/site-packages/sklearn/feature_selection/_base.py:122: UserWarning: No features were selected: either the data is too noisy or the selection test too strict.\n",
      "  warnings.warn(\n",
      "[I 2025-04-08 00:05:34,232] Trial 61 finished with value: 0.30570881443235776 and parameters: {'feature_selection__estimator__alpha': 0.07713372658882832, 'svr__C': 4.375518726867743, 'svr__gamma': 0.006825349238374233, 'svr__epsilon': 0.18432927654425854, 'svr__kernel': 'rbf'}. Best is trial 61 with value: 0.30570881443235776.\n"
     ]
    },
    {
     "name": "stderr",
     "output_type": "stream",
     "text": [
      "/Users/bassel27/personal_projects/hireverse/venv/lib/python3.13/site-packages/sklearn/model_selection/_validation.py:528: FitFailedWarning: \n",
      "6 fits failed out of a total of 20.\n",
      "The score on these train-test partitions for these parameters will be set to nan.\n",
      "If these failures are not expected, you can try to debug them by setting error_score='raise'.\n",
      "\n",
      "Below are more details about the failures:\n",
      "--------------------------------------------------------------------------------\n",
      "1 fits failed with the following error:\n",
      "Traceback (most recent call last):\n",
      "  File \"/Users/bassel27/personal_projects/hireverse/venv/lib/python3.13/site-packages/sklearn/model_selection/_validation.py\", line 866, in _fit_and_score\n",
      "    estimator.fit(X_train, y_train, **fit_params)\n",
      "    ~~~~~~~~~~~~~^^^^^^^^^^^^^^^^^^^^^^^^^^^^^^^^\n",
      "  File \"/Users/bassel27/personal_projects/hireverse/venv/lib/python3.13/site-packages/sklearn/base.py\", line 1389, in wrapper\n",
      "    return fit_method(estimator, *args, **kwargs)\n",
      "  File \"/Users/bassel27/personal_projects/hireverse/venv/lib/python3.13/site-packages/sklearn/pipeline.py\", line 662, in fit\n",
      "    self._final_estimator.fit(Xt, y, **last_step_params[\"fit\"])\n",
      "    ~~~~~~~~~~~~~~~~~~~~~~~~~^^^^^^^^^^^^^^^^^^^^^^^^^^^^^^^^^^\n",
      "  File \"/Users/bassel27/personal_projects/hireverse/venv/lib/python3.13/site-packages/sklearn/base.py\", line 1389, in wrapper\n",
      "    return fit_method(estimator, *args, **kwargs)\n",
      "  File \"/Users/bassel27/personal_projects/hireverse/venv/lib/python3.13/site-packages/sklearn/svm/_base.py\", line 197, in fit\n",
      "    X, y = validate_data(\n",
      "           ~~~~~~~~~~~~~^\n",
      "        self,\n",
      "        ^^^^^\n",
      "    ...<5 lines>...\n",
      "        accept_large_sparse=False,\n",
      "        ^^^^^^^^^^^^^^^^^^^^^^^^^^\n",
      "    )\n",
      "    ^\n",
      "  File \"/Users/bassel27/personal_projects/hireverse/venv/lib/python3.13/site-packages/sklearn/utils/validation.py\", line 2961, in validate_data\n",
      "    X, y = check_X_y(X, y, **check_params)\n",
      "           ~~~~~~~~~^^^^^^^^^^^^^^^^^^^^^^\n",
      "  File \"/Users/bassel27/personal_projects/hireverse/venv/lib/python3.13/site-packages/sklearn/utils/validation.py\", line 1370, in check_X_y\n",
      "    X = check_array(\n",
      "        X,\n",
      "    ...<12 lines>...\n",
      "        input_name=\"X\",\n",
      "    )\n",
      "  File \"/Users/bassel27/personal_projects/hireverse/venv/lib/python3.13/site-packages/sklearn/utils/validation.py\", line 1139, in check_array\n",
      "    raise ValueError(\n",
      "    ...<3 lines>...\n",
      "    )\n",
      "ValueError: Found array with 0 feature(s) (shape=(110, 0)) while a minimum of 1 is required by SVR.\n",
      "\n",
      "--------------------------------------------------------------------------------\n",
      "5 fits failed with the following error:\n",
      "Traceback (most recent call last):\n",
      "  File \"/Users/bassel27/personal_projects/hireverse/venv/lib/python3.13/site-packages/sklearn/model_selection/_validation.py\", line 866, in _fit_and_score\n",
      "    estimator.fit(X_train, y_train, **fit_params)\n",
      "    ~~~~~~~~~~~~~^^^^^^^^^^^^^^^^^^^^^^^^^^^^^^^^\n",
      "  File \"/Users/bassel27/personal_projects/hireverse/venv/lib/python3.13/site-packages/sklearn/base.py\", line 1389, in wrapper\n",
      "    return fit_method(estimator, *args, **kwargs)\n",
      "  File \"/Users/bassel27/personal_projects/hireverse/venv/lib/python3.13/site-packages/sklearn/pipeline.py\", line 662, in fit\n",
      "    self._final_estimator.fit(Xt, y, **last_step_params[\"fit\"])\n",
      "    ~~~~~~~~~~~~~~~~~~~~~~~~~^^^^^^^^^^^^^^^^^^^^^^^^^^^^^^^^^^\n",
      "  File \"/Users/bassel27/personal_projects/hireverse/venv/lib/python3.13/site-packages/sklearn/base.py\", line 1389, in wrapper\n",
      "    return fit_method(estimator, *args, **kwargs)\n",
      "  File \"/Users/bassel27/personal_projects/hireverse/venv/lib/python3.13/site-packages/sklearn/svm/_base.py\", line 197, in fit\n",
      "    X, y = validate_data(\n",
      "           ~~~~~~~~~~~~~^\n",
      "        self,\n",
      "        ^^^^^\n",
      "    ...<5 lines>...\n",
      "        accept_large_sparse=False,\n",
      "        ^^^^^^^^^^^^^^^^^^^^^^^^^^\n",
      "    )\n",
      "    ^\n",
      "  File \"/Users/bassel27/personal_projects/hireverse/venv/lib/python3.13/site-packages/sklearn/utils/validation.py\", line 2961, in validate_data\n",
      "    X, y = check_X_y(X, y, **check_params)\n",
      "           ~~~~~~~~~^^^^^^^^^^^^^^^^^^^^^^\n",
      "  File \"/Users/bassel27/personal_projects/hireverse/venv/lib/python3.13/site-packages/sklearn/utils/validation.py\", line 1370, in check_X_y\n",
      "    X = check_array(\n",
      "        X,\n",
      "    ...<12 lines>...\n",
      "        input_name=\"X\",\n",
      "    )\n",
      "  File \"/Users/bassel27/personal_projects/hireverse/venv/lib/python3.13/site-packages/sklearn/utils/validation.py\", line 1139, in check_array\n",
      "    raise ValueError(\n",
      "    ...<3 lines>...\n",
      "    )\n",
      "ValueError: Found array with 0 feature(s) (shape=(109, 0)) while a minimum of 1 is required by SVR.\n",
      "\n",
      "  warnings.warn(some_fits_failed_message, FitFailedWarning)\n",
      "[W 2025-04-08 00:05:34,261] Trial 58 failed with parameters: {'feature_selection__estimator__alpha': 0.29742129812841783, 'svr__C': 2.2754345735156956, 'svr__gamma': 0.007324229409500976, 'svr__epsilon': 0.2881208439721523, 'svr__kernel': 'rbf'} because of the following error: The value nan is not acceptable.\n",
      "/Users/bassel27/personal_projects/hireverse/venv/lib/python3.13/site-packages/sklearn/model_selection/_validation.py:528: FitFailedWarning: \n",
      "6 fits failed out of a total of 20.\n",
      "The score on these train-test partitions for these parameters will be set to nan.\n",
      "If these failures are not expected, you can try to debug them by setting error_score='raise'.\n",
      "\n",
      "Below are more details about the failures:\n",
      "--------------------------------------------------------------------------------\n",
      "1 fits failed with the following error:\n",
      "Traceback (most recent call last):\n",
      "  File \"/Users/bassel27/personal_projects/hireverse/venv/lib/python3.13/site-packages/sklearn/model_selection/_validation.py\", line 866, in _fit_and_score\n",
      "    estimator.fit(X_train, y_train, **fit_params)\n",
      "    ~~~~~~~~~~~~~^^^^^^^^^^^^^^^^^^^^^^^^^^^^^^^^\n",
      "  File \"/Users/bassel27/personal_projects/hireverse/venv/lib/python3.13/site-packages/sklearn/base.py\", line 1389, in wrapper\n",
      "    return fit_method(estimator, *args, **kwargs)\n",
      "  File \"/Users/bassel27/personal_projects/hireverse/venv/lib/python3.13/site-packages/sklearn/pipeline.py\", line 662, in fit\n",
      "    self._final_estimator.fit(Xt, y, **last_step_params[\"fit\"])\n",
      "    ~~~~~~~~~~~~~~~~~~~~~~~~~^^^^^^^^^^^^^^^^^^^^^^^^^^^^^^^^^^\n",
      "  File \"/Users/bassel27/personal_projects/hireverse/venv/lib/python3.13/site-packages/sklearn/base.py\", line 1389, in wrapper\n",
      "    return fit_method(estimator, *args, **kwargs)\n",
      "  File \"/Users/bassel27/personal_projects/hireverse/venv/lib/python3.13/site-packages/sklearn/svm/_base.py\", line 197, in fit\n",
      "    X, y = validate_data(\n",
      "           ~~~~~~~~~~~~~^\n",
      "        self,\n",
      "        ^^^^^\n",
      "    ...<5 lines>...\n",
      "        accept_large_sparse=False,\n",
      "        ^^^^^^^^^^^^^^^^^^^^^^^^^^\n",
      "    )\n",
      "    ^\n",
      "  File \"/Users/bassel27/personal_projects/hireverse/venv/lib/python3.13/site-packages/sklearn/utils/validation.py\", line 2961, in validate_data\n",
      "    X, y = check_X_y(X, y, **check_params)\n",
      "           ~~~~~~~~~^^^^^^^^^^^^^^^^^^^^^^\n",
      "  File \"/Users/bassel27/personal_projects/hireverse/venv/lib/python3.13/site-packages/sklearn/utils/validation.py\", line 1370, in check_X_y\n",
      "    X = check_array(\n",
      "        X,\n",
      "    ...<12 lines>...\n",
      "        input_name=\"X\",\n",
      "    )\n",
      "  File \"/Users/bassel27/personal_projects/hireverse/venv/lib/python3.13/site-packages/sklearn/utils/validation.py\", line 1139, in check_array\n",
      "    raise ValueError(\n",
      "    ...<3 lines>...\n",
      "    )\n",
      "ValueError: Found array with 0 feature(s) (shape=(110, 0)) while a minimum of 1 is required by SVR.\n",
      "\n",
      "--------------------------------------------------------------------------------\n",
      "5 fits failed with the following error:\n",
      "Traceback (most recent call last):\n",
      "  File \"/Users/bassel27/personal_projects/hireverse/venv/lib/python3.13/site-packages/sklearn/model_selection/_validation.py\", line 866, in _fit_and_score\n",
      "    estimator.fit(X_train, y_train, **fit_params)\n",
      "    ~~~~~~~~~~~~~^^^^^^^^^^^^^^^^^^^^^^^^^^^^^^^^\n",
      "  File \"/Users/bassel27/personal_projects/hireverse/venv/lib/python3.13/site-packages/sklearn/base.py\", line 1389, in wrapper\n",
      "    return fit_method(estimator, *args, **kwargs)\n",
      "  File \"/Users/bassel27/personal_projects/hireverse/venv/lib/python3.13/site-packages/sklearn/pipeline.py\", line 662, in fit\n",
      "    self._final_estimator.fit(Xt, y, **last_step_params[\"fit\"])\n",
      "    ~~~~~~~~~~~~~~~~~~~~~~~~~^^^^^^^^^^^^^^^^^^^^^^^^^^^^^^^^^^\n",
      "  File \"/Users/bassel27/personal_projects/hireverse/venv/lib/python3.13/site-packages/sklearn/base.py\", line 1389, in wrapper\n",
      "    return fit_method(estimator, *args, **kwargs)\n",
      "  File \"/Users/bassel27/personal_projects/hireverse/venv/lib/python3.13/site-packages/sklearn/svm/_base.py\", line 197, in fit\n",
      "    X, y = validate_data(\n",
      "           ~~~~~~~~~~~~~^\n",
      "        self,\n",
      "        ^^^^^\n",
      "    ...<5 lines>...\n",
      "        accept_large_sparse=False,\n",
      "        ^^^^^^^^^^^^^^^^^^^^^^^^^^\n",
      "    )\n",
      "    ^\n",
      "  File \"/Users/bassel27/personal_projects/hireverse/venv/lib/python3.13/site-packages/sklearn/utils/validation.py\", line 2961, in validate_data\n",
      "    X, y = check_X_y(X, y, **check_params)\n",
      "           ~~~~~~~~~^^^^^^^^^^^^^^^^^^^^^^\n",
      "  File \"/Users/bassel27/personal_projects/hireverse/venv/lib/python3.13/site-packages/sklearn/utils/validation.py\", line 1370, in check_X_y\n",
      "    X = check_array(\n",
      "        X,\n",
      "    ...<12 lines>...\n",
      "        input_name=\"X\",\n",
      "    )\n",
      "  File \"/Users/bassel27/personal_projects/hireverse/venv/lib/python3.13/site-packages/sklearn/utils/validation.py\", line 1139, in check_array\n",
      "    raise ValueError(\n",
      "    ...<3 lines>...\n",
      "    )\n",
      "ValueError: Found array with 0 feature(s) (shape=(109, 0)) while a minimum of 1 is required by SVR.\n",
      "\n",
      "  warnings.warn(some_fits_failed_message, FitFailedWarning)\n"
     ]
    },
    {
     "name": "stderr",
     "output_type": "stream",
     "text": [
      "[W 2025-04-08 00:05:34,273] Trial 57 failed with parameters: {'feature_selection__estimator__alpha': 0.2930495293836648, 'svr__C': 4.837055808614691, 'svr__gamma': 0.0070892886715310036, 'svr__epsilon': 0.016457953705170725, 'svr__kernel': 'rbf'} because of the following error: The value nan is not acceptable.\n"
     ]
    },
    {
     "name": "stderr",
     "output_type": "stream",
     "text": [
      "[W 2025-04-08 00:05:34,280] Trial 58 failed with value np.float64(nan).\n"
     ]
    },
    {
     "name": "stderr",
     "output_type": "stream",
     "text": [
      "[W 2025-04-08 00:05:34,292] Trial 57 failed with value np.float64(nan).\n"
     ]
    },
    {
     "name": "stderr",
     "output_type": "stream",
     "text": [
      "[I 2025-04-08 00:05:34,313] Trial 59 finished with value: 0.2834026481638394 and parameters: {'feature_selection__estimator__alpha': 0.08162301885522416, 'svr__C': 2.3045320217986376, 'svr__gamma': 0.006875419480122634, 'svr__epsilon': 0.18625994167143162, 'svr__kernel': 'rbf'}. Best is trial 61 with value: 0.30570881443235776.\n"
     ]
    },
    {
     "name": "stderr",
     "output_type": "stream",
     "text": [
      "[I 2025-04-08 00:05:34,379] Trial 60 finished with value: 0.30365965096360154 and parameters: {'feature_selection__estimator__alpha': 0.07553664590344296, 'svr__C': 4.717220948326764, 'svr__gamma': 0.006561565010177305, 'svr__epsilon': 0.1865318660313911, 'svr__kernel': 'rbf'}. Best is trial 61 with value: 0.30570881443235776.\n"
     ]
    },
    {
     "name": "stderr",
     "output_type": "stream",
     "text": [
      "/Users/bassel27/personal_projects/hireverse/venv/lib/python3.13/site-packages/sklearn/model_selection/_validation.py:528: FitFailedWarning: \n",
      "2 fits failed out of a total of 20.\n",
      "The score on these train-test partitions for these parameters will be set to nan.\n",
      "If these failures are not expected, you can try to debug them by setting error_score='raise'.\n",
      "\n",
      "Below are more details about the failures:\n",
      "--------------------------------------------------------------------------------\n",
      "2 fits failed with the following error:\n",
      "Traceback (most recent call last):\n",
      "  File \"/Users/bassel27/personal_projects/hireverse/venv/lib/python3.13/site-packages/sklearn/model_selection/_validation.py\", line 866, in _fit_and_score\n",
      "    estimator.fit(X_train, y_train, **fit_params)\n",
      "    ~~~~~~~~~~~~~^^^^^^^^^^^^^^^^^^^^^^^^^^^^^^^^\n",
      "  File \"/Users/bassel27/personal_projects/hireverse/venv/lib/python3.13/site-packages/sklearn/base.py\", line 1389, in wrapper\n",
      "    return fit_method(estimator, *args, **kwargs)\n",
      "  File \"/Users/bassel27/personal_projects/hireverse/venv/lib/python3.13/site-packages/sklearn/pipeline.py\", line 662, in fit\n",
      "    self._final_estimator.fit(Xt, y, **last_step_params[\"fit\"])\n",
      "    ~~~~~~~~~~~~~~~~~~~~~~~~~^^^^^^^^^^^^^^^^^^^^^^^^^^^^^^^^^^\n",
      "  File \"/Users/bassel27/personal_projects/hireverse/venv/lib/python3.13/site-packages/sklearn/base.py\", line 1389, in wrapper\n",
      "    return fit_method(estimator, *args, **kwargs)\n",
      "  File \"/Users/bassel27/personal_projects/hireverse/venv/lib/python3.13/site-packages/sklearn/svm/_base.py\", line 197, in fit\n",
      "    X, y = validate_data(\n",
      "           ~~~~~~~~~~~~~^\n",
      "        self,\n",
      "        ^^^^^\n",
      "    ...<5 lines>...\n",
      "        accept_large_sparse=False,\n",
      "        ^^^^^^^^^^^^^^^^^^^^^^^^^^\n",
      "    )\n",
      "    ^\n",
      "  File \"/Users/bassel27/personal_projects/hireverse/venv/lib/python3.13/site-packages/sklearn/utils/validation.py\", line 2961, in validate_data\n",
      "    X, y = check_X_y(X, y, **check_params)\n",
      "           ~~~~~~~~~^^^^^^^^^^^^^^^^^^^^^^\n",
      "  File \"/Users/bassel27/personal_projects/hireverse/venv/lib/python3.13/site-packages/sklearn/utils/validation.py\", line 1370, in check_X_y\n",
      "    X = check_array(\n",
      "        X,\n",
      "    ...<12 lines>...\n",
      "        input_name=\"X\",\n",
      "    )\n",
      "  File \"/Users/bassel27/personal_projects/hireverse/venv/lib/python3.13/site-packages/sklearn/utils/validation.py\", line 1139, in check_array\n",
      "    raise ValueError(\n",
      "    ...<3 lines>...\n",
      "    )\n",
      "ValueError: Found array with 0 feature(s) (shape=(109, 0)) while a minimum of 1 is required by SVR.\n",
      "\n",
      "  warnings.warn(some_fits_failed_message, FitFailedWarning)\n",
      "[W 2025-04-08 00:05:34,579] Trial 62 failed with parameters: {'feature_selection__estimator__alpha': 0.27226170362053587, 'svr__C': 4.35709581659905, 'svr__gamma': 0.005380987451165242, 'svr__epsilon': 0.284389079460912, 'svr__kernel': 'rbf'} because of the following error: The value nan is not acceptable.\n"
     ]
    },
    {
     "name": "stderr",
     "output_type": "stream",
     "text": [
      "[W 2025-04-08 00:05:34,592] Trial 62 failed with value np.float64(nan).\n"
     ]
    },
    {
     "name": "stderr",
     "output_type": "stream",
     "text": [
      "[I 2025-04-08 00:05:34,678] Trial 63 finished with value: 0.27290010693418043 and parameters: {'feature_selection__estimator__alpha': 0.07021328869779225, 'svr__C': 5.397060965379826, 'svr__gamma': 0.005578736064267427, 'svr__epsilon': 0.3899515517495442, 'svr__kernel': 'rbf'}. Best is trial 61 with value: 0.30570881443235776.\n"
     ]
    },
    {
     "name": "stderr",
     "output_type": "stream",
     "text": [
      "[I 2025-04-08 00:05:35,721] Trial 64 finished with value: 0.09794048728516683 and parameters: {'feature_selection__estimator__alpha': 0.019494206654298463, 'svr__C': 16.470312691686036, 'svr__gamma': 0.012612081026344927, 'svr__epsilon': 0.3943287414347365, 'svr__kernel': 'rbf'}. Best is trial 61 with value: 0.30570881443235776.\n"
     ]
    },
    {
     "name": "stderr",
     "output_type": "stream",
     "text": [
      "[I 2025-04-08 00:05:35,881] Trial 65 finished with value: 0.24634366696464416 and parameters: {'feature_selection__estimator__alpha': 0.021475112115222572, 'svr__C': 4.714999835653949, 'svr__gamma': 0.0059163630164957735, 'svr__epsilon': 0.39321747614848, 'svr__kernel': 'rbf'}. Best is trial 61 with value: 0.30570881443235776.\n"
     ]
    },
    {
     "name": "stderr",
     "output_type": "stream",
     "text": [
      "[I 2025-04-08 00:05:35,908] Trial 67 finished with value: 0.26410856149131695 and parameters: {'feature_selection__estimator__alpha': 0.07190174051929955, 'svr__C': 4.761774064014571, 'svr__gamma': 0.014362728961689065, 'svr__epsilon': 0.1884309659852224, 'svr__kernel': 'rbf'}. Best is trial 61 with value: 0.30570881443235776.\n"
     ]
    },
    {
     "name": "stderr",
     "output_type": "stream",
     "text": [
      "[I 2025-04-08 00:05:35,922] Trial 69 finished with value: 0.2666115615108647 and parameters: {'feature_selection__estimator__alpha': 0.02215252452907048, 'svr__C': 4.8213815974182115, 'svr__gamma': 0.005861711813791785, 'svr__epsilon': 0.2744635682633617, 'svr__kernel': 'rbf'}. Best is trial 61 with value: 0.30570881443235776.\n"
     ]
    },
    {
     "name": "stderr",
     "output_type": "stream",
     "text": [
      "[I 2025-04-08 00:05:35,984] Trial 66 finished with value: 0.23004278021075136 and parameters: {'feature_selection__estimator__alpha': 0.019216654782632084, 'svr__C': 4.993786680294791, 'svr__gamma': 0.012738223722114791, 'svr__epsilon': 0.18308182752363505, 'svr__kernel': 'rbf'}. Best is trial 61 with value: 0.30570881443235776.\n"
     ]
    },
    {
     "name": "stderr",
     "output_type": "stream",
     "text": [
      "/Users/bassel27/personal_projects/hireverse/venv/lib/python3.13/site-packages/sklearn/feature_selection/_base.py:122: UserWarning: No features were selected: either the data is too noisy or the selection test too strict.\n",
      "  warnings.warn(\n",
      "[I 2025-04-08 00:05:36,061] Trial 68 finished with value: 0.2627676082636186 and parameters: {'feature_selection__estimator__alpha': 0.022094313789706093, 'svr__C': 4.57525406294619, 'svr__gamma': 0.005077554314433621, 'svr__epsilon': 0.2860972266850448, 'svr__kernel': 'rbf'}. Best is trial 61 with value: 0.30570881443235776.\n"
     ]
    },
    {
     "name": "stderr",
     "output_type": "stream",
     "text": [
      "/Users/bassel27/personal_projects/hireverse/venv/lib/python3.13/site-packages/sklearn/feature_selection/_base.py:122: UserWarning: No features were selected: either the data is too noisy or the selection test too strict.\n",
      "  warnings.warn(\n",
      "[I 2025-04-08 00:05:36,294] Trial 70 finished with value: 0.1883874533059792 and parameters: {'feature_selection__estimator__alpha': 0.019030587904388722, 'svr__C': 16.567684891836844, 'svr__gamma': 0.005376121325538222, 'svr__epsilon': 0.28823678084673093, 'svr__kernel': 'rbf'}. Best is trial 61 with value: 0.30570881443235776.\n"
     ]
    },
    {
     "name": "stderr",
     "output_type": "stream",
     "text": [
      "[I 2025-04-08 00:05:36,333] Trial 71 finished with value: 0.2934418824182692 and parameters: {'feature_selection__estimator__alpha': 0.07917583005185624, 'svr__C': 4.407696879172425, 'svr__gamma': 0.005017858889521863, 'svr__epsilon': 0.27531114169496435, 'svr__kernel': 'rbf'}. Best is trial 61 with value: 0.30570881443235776.\n"
     ]
    },
    {
     "name": "stderr",
     "output_type": "stream",
     "text": [
      "/Users/bassel27/personal_projects/hireverse/venv/lib/python3.13/site-packages/sklearn/feature_selection/_base.py:122: UserWarning: No features were selected: either the data is too noisy or the selection test too strict.\n",
      "  warnings.warn(\n",
      "/Users/bassel27/personal_projects/hireverse/venv/lib/python3.13/site-packages/sklearn/feature_selection/_base.py:122: UserWarning: No features were selected: either the data is too noisy or the selection test too strict.\n",
      "  warnings.warn(\n"
     ]
    },
    {
     "name": "stderr",
     "output_type": "stream",
     "text": [
      "/Users/bassel27/personal_projects/hireverse/venv/lib/python3.13/site-packages/sklearn/feature_selection/_base.py:122: UserWarning: No features were selected: either the data is too noisy or the selection test too strict.\n",
      "  warnings.warn(\n",
      "/Users/bassel27/personal_projects/hireverse/venv/lib/python3.13/site-packages/sklearn/feature_selection/_base.py:122: UserWarning: No features were selected: either the data is too noisy or the selection test too strict.\n",
      "  warnings.warn(\n",
      "/Users/bassel27/personal_projects/hireverse/venv/lib/python3.13/site-packages/sklearn/feature_selection/_base.py:122: UserWarning: No features were selected: either the data is too noisy or the selection test too strict.\n",
      "  warnings.warn(\n"
     ]
    },
    {
     "name": "stderr",
     "output_type": "stream",
     "text": [
      "/Users/bassel27/personal_projects/hireverse/venv/lib/python3.13/site-packages/sklearn/feature_selection/_base.py:122: UserWarning: No features were selected: either the data is too noisy or the selection test too strict.\n",
      "  warnings.warn(\n",
      "/Users/bassel27/personal_projects/hireverse/venv/lib/python3.13/site-packages/sklearn/feature_selection/_base.py:122: UserWarning: No features were selected: either the data is too noisy or the selection test too strict.\n",
      "  warnings.warn(\n"
     ]
    },
    {
     "name": "stderr",
     "output_type": "stream",
     "text": [
      "/Users/bassel27/personal_projects/hireverse/venv/lib/python3.13/site-packages/sklearn/model_selection/_validation.py:528: FitFailedWarning: \n",
      "6 fits failed out of a total of 20.\n",
      "The score on these train-test partitions for these parameters will be set to nan.\n",
      "If these failures are not expected, you can try to debug them by setting error_score='raise'.\n",
      "\n",
      "Below are more details about the failures:\n",
      "--------------------------------------------------------------------------------\n",
      "1 fits failed with the following error:\n",
      "Traceback (most recent call last):\n",
      "  File \"/Users/bassel27/personal_projects/hireverse/venv/lib/python3.13/site-packages/sklearn/model_selection/_validation.py\", line 866, in _fit_and_score\n",
      "    estimator.fit(X_train, y_train, **fit_params)\n",
      "    ~~~~~~~~~~~~~^^^^^^^^^^^^^^^^^^^^^^^^^^^^^^^^\n",
      "  File \"/Users/bassel27/personal_projects/hireverse/venv/lib/python3.13/site-packages/sklearn/base.py\", line 1389, in wrapper\n",
      "    return fit_method(estimator, *args, **kwargs)\n",
      "  File \"/Users/bassel27/personal_projects/hireverse/venv/lib/python3.13/site-packages/sklearn/pipeline.py\", line 662, in fit\n",
      "    self._final_estimator.fit(Xt, y, **last_step_params[\"fit\"])\n",
      "    ~~~~~~~~~~~~~~~~~~~~~~~~~^^^^^^^^^^^^^^^^^^^^^^^^^^^^^^^^^^\n",
      "  File \"/Users/bassel27/personal_projects/hireverse/venv/lib/python3.13/site-packages/sklearn/base.py\", line 1389, in wrapper\n",
      "    return fit_method(estimator, *args, **kwargs)\n",
      "  File \"/Users/bassel27/personal_projects/hireverse/venv/lib/python3.13/site-packages/sklearn/svm/_base.py\", line 197, in fit\n",
      "    X, y = validate_data(\n",
      "           ~~~~~~~~~~~~~^\n",
      "        self,\n",
      "        ^^^^^\n",
      "    ...<5 lines>...\n",
      "        accept_large_sparse=False,\n",
      "        ^^^^^^^^^^^^^^^^^^^^^^^^^^\n",
      "    )\n",
      "    ^\n",
      "  File \"/Users/bassel27/personal_projects/hireverse/venv/lib/python3.13/site-packages/sklearn/utils/validation.py\", line 2961, in validate_data\n",
      "    X, y = check_X_y(X, y, **check_params)\n",
      "           ~~~~~~~~~^^^^^^^^^^^^^^^^^^^^^^\n",
      "  File \"/Users/bassel27/personal_projects/hireverse/venv/lib/python3.13/site-packages/sklearn/utils/validation.py\", line 1370, in check_X_y\n",
      "    X = check_array(\n",
      "        X,\n",
      "    ...<12 lines>...\n",
      "        input_name=\"X\",\n",
      "    )\n",
      "  File \"/Users/bassel27/personal_projects/hireverse/venv/lib/python3.13/site-packages/sklearn/utils/validation.py\", line 1139, in check_array\n",
      "    raise ValueError(\n",
      "    ...<3 lines>...\n",
      "    )\n",
      "ValueError: Found array with 0 feature(s) (shape=(110, 0)) while a minimum of 1 is required by SVR.\n",
      "\n",
      "--------------------------------------------------------------------------------\n",
      "5 fits failed with the following error:\n",
      "Traceback (most recent call last):\n",
      "  File \"/Users/bassel27/personal_projects/hireverse/venv/lib/python3.13/site-packages/sklearn/model_selection/_validation.py\", line 866, in _fit_and_score\n",
      "    estimator.fit(X_train, y_train, **fit_params)\n",
      "    ~~~~~~~~~~~~~^^^^^^^^^^^^^^^^^^^^^^^^^^^^^^^^\n",
      "  File \"/Users/bassel27/personal_projects/hireverse/venv/lib/python3.13/site-packages/sklearn/base.py\", line 1389, in wrapper\n",
      "    return fit_method(estimator, *args, **kwargs)\n",
      "  File \"/Users/bassel27/personal_projects/hireverse/venv/lib/python3.13/site-packages/sklearn/pipeline.py\", line 662, in fit\n",
      "    self._final_estimator.fit(Xt, y, **last_step_params[\"fit\"])\n",
      "    ~~~~~~~~~~~~~~~~~~~~~~~~~^^^^^^^^^^^^^^^^^^^^^^^^^^^^^^^^^^\n",
      "  File \"/Users/bassel27/personal_projects/hireverse/venv/lib/python3.13/site-packages/sklearn/base.py\", line 1389, in wrapper\n",
      "    return fit_method(estimator, *args, **kwargs)\n",
      "  File \"/Users/bassel27/personal_projects/hireverse/venv/lib/python3.13/site-packages/sklearn/svm/_base.py\", line 197, in fit\n",
      "    X, y = validate_data(\n",
      "           ~~~~~~~~~~~~~^\n",
      "        self,\n",
      "        ^^^^^\n",
      "    ...<5 lines>...\n",
      "        accept_large_sparse=False,\n",
      "        ^^^^^^^^^^^^^^^^^^^^^^^^^^\n",
      "    )\n",
      "    ^\n",
      "  File \"/Users/bassel27/personal_projects/hireverse/venv/lib/python3.13/site-packages/sklearn/utils/validation.py\", line 2961, in validate_data\n",
      "    X, y = check_X_y(X, y, **check_params)\n",
      "           ~~~~~~~~~^^^^^^^^^^^^^^^^^^^^^^\n",
      "  File \"/Users/bassel27/personal_projects/hireverse/venv/lib/python3.13/site-packages/sklearn/utils/validation.py\", line 1370, in check_X_y\n",
      "    X = check_array(\n",
      "        X,\n",
      "    ...<12 lines>...\n",
      "        input_name=\"X\",\n",
      "    )\n",
      "  File \"/Users/bassel27/personal_projects/hireverse/venv/lib/python3.13/site-packages/sklearn/utils/validation.py\", line 1139, in check_array\n",
      "    raise ValueError(\n",
      "    ...<3 lines>...\n",
      "    )\n",
      "ValueError: Found array with 0 feature(s) (shape=(109, 0)) while a minimum of 1 is required by SVR.\n",
      "\n",
      "  warnings.warn(some_fits_failed_message, FitFailedWarning)\n",
      "[W 2025-04-08 00:05:37,350] Trial 72 failed with parameters: {'feature_selection__estimator__alpha': 0.29609931369115416, 'svr__C': 3.901657820032351, 'svr__gamma': 0.004990212011236106, 'svr__epsilon': 0.27257161499064225, 'svr__kernel': 'rbf'} because of the following error: The value nan is not acceptable.\n"
     ]
    },
    {
     "name": "stderr",
     "output_type": "stream",
     "text": [
      "[W 2025-04-08 00:05:37,365] Trial 72 failed with value np.float64(nan).\n"
     ]
    },
    {
     "name": "stderr",
     "output_type": "stream",
     "text": [
      "[I 2025-04-08 00:05:37,619] Trial 75 finished with value: 0.2511201071140397 and parameters: {'feature_selection__estimator__alpha': 0.07164320940144157, 'svr__C': 27.166557383644264, 'svr__gamma': 0.0050381837743218895, 'svr__epsilon': 0.27716444539114127, 'svr__kernel': 'rbf'}. Best is trial 61 with value: 0.30570881443235776.\n"
     ]
    },
    {
     "name": "stderr",
     "output_type": "stream",
     "text": [
      "/Users/bassel27/personal_projects/hireverse/venv/lib/python3.13/site-packages/sklearn/model_selection/_validation.py:528: FitFailedWarning: \n",
      "3 fits failed out of a total of 20.\n",
      "The score on these train-test partitions for these parameters will be set to nan.\n",
      "If these failures are not expected, you can try to debug them by setting error_score='raise'.\n",
      "\n",
      "Below are more details about the failures:\n",
      "--------------------------------------------------------------------------------\n",
      "3 fits failed with the following error:\n",
      "Traceback (most recent call last):\n",
      "  File \"/Users/bassel27/personal_projects/hireverse/venv/lib/python3.13/site-packages/sklearn/model_selection/_validation.py\", line 866, in _fit_and_score\n",
      "    estimator.fit(X_train, y_train, **fit_params)\n",
      "    ~~~~~~~~~~~~~^^^^^^^^^^^^^^^^^^^^^^^^^^^^^^^^\n",
      "  File \"/Users/bassel27/personal_projects/hireverse/venv/lib/python3.13/site-packages/sklearn/base.py\", line 1389, in wrapper\n",
      "    return fit_method(estimator, *args, **kwargs)\n",
      "  File \"/Users/bassel27/personal_projects/hireverse/venv/lib/python3.13/site-packages/sklearn/pipeline.py\", line 662, in fit\n",
      "    self._final_estimator.fit(Xt, y, **last_step_params[\"fit\"])\n",
      "    ~~~~~~~~~~~~~~~~~~~~~~~~~^^^^^^^^^^^^^^^^^^^^^^^^^^^^^^^^^^\n",
      "  File \"/Users/bassel27/personal_projects/hireverse/venv/lib/python3.13/site-packages/sklearn/base.py\", line 1389, in wrapper\n",
      "    return fit_method(estimator, *args, **kwargs)\n",
      "  File \"/Users/bassel27/personal_projects/hireverse/venv/lib/python3.13/site-packages/sklearn/svm/_base.py\", line 197, in fit\n",
      "    X, y = validate_data(\n",
      "           ~~~~~~~~~~~~~^\n",
      "        self,\n",
      "        ^^^^^\n",
      "    ...<5 lines>...\n",
      "        accept_large_sparse=False,\n",
      "        ^^^^^^^^^^^^^^^^^^^^^^^^^^\n",
      "    )\n",
      "    ^\n",
      "  File \"/Users/bassel27/personal_projects/hireverse/venv/lib/python3.13/site-packages/sklearn/utils/validation.py\", line 2961, in validate_data\n",
      "    X, y = check_X_y(X, y, **check_params)\n",
      "           ~~~~~~~~~^^^^^^^^^^^^^^^^^^^^^^\n",
      "  File \"/Users/bassel27/personal_projects/hireverse/venv/lib/python3.13/site-packages/sklearn/utils/validation.py\", line 1370, in check_X_y\n",
      "    X = check_array(\n",
      "        X,\n",
      "    ...<12 lines>...\n",
      "        input_name=\"X\",\n",
      "    )\n",
      "  File \"/Users/bassel27/personal_projects/hireverse/venv/lib/python3.13/site-packages/sklearn/utils/validation.py\", line 1139, in check_array\n",
      "    raise ValueError(\n",
      "    ...<3 lines>...\n",
      "    )\n",
      "ValueError: Found array with 0 feature(s) (shape=(109, 0)) while a minimum of 1 is required by SVR.\n",
      "\n",
      "  warnings.warn(some_fits_failed_message, FitFailedWarning)\n",
      "[I 2025-04-08 00:05:37,629] Trial 73 finished with value: 0.3000539662509998 and parameters: {'feature_selection__estimator__alpha': 0.07442014138136253, 'svr__C': 4.993779398352896, 'svr__gamma': 0.005325060635169226, 'svr__epsilon': 0.18854815241833175, 'svr__kernel': 'rbf'}. Best is trial 61 with value: 0.30570881443235776.\n"
     ]
    },
    {
     "name": "stderr",
     "output_type": "stream",
     "text": [
      "[W 2025-04-08 00:05:37,640] Trial 74 failed with parameters: {'feature_selection__estimator__alpha': 0.2828615959279588, 'svr__C': 13.966284036312928, 'svr__gamma': 0.004734292474075097, 'svr__epsilon': 0.18875380103201195, 'svr__kernel': 'rbf'} because of the following error: The value nan is not acceptable.\n"
     ]
    },
    {
     "name": "stderr",
     "output_type": "stream",
     "text": [
      "[W 2025-04-08 00:05:37,700] Trial 74 failed with value np.float64(nan).\n"
     ]
    },
    {
     "name": "stderr",
     "output_type": "stream",
     "text": [
      "[I 2025-04-08 00:05:37,762] Trial 76 finished with value: 0.28186653030505815 and parameters: {'feature_selection__estimator__alpha': 0.07553381110865022, 'svr__C': 14.004819625729544, 'svr__gamma': 0.005228390165187907, 'svr__epsilon': 0.271072066290216, 'svr__kernel': 'rbf'}. Best is trial 61 with value: 0.30570881443235776.\n"
     ]
    },
    {
     "name": "stderr",
     "output_type": "stream",
     "text": [
      "[I 2025-04-08 00:05:37,856] Trial 77 finished with value: 0.17975583064815143 and parameters: {'feature_selection__estimator__alpha': 0.07663133952817296, 'svr__C': 32.123667118924224, 'svr__gamma': 0.0099562592033595, 'svr__epsilon': 0.25927890441613954, 'svr__kernel': 'rbf'}. Best is trial 61 with value: 0.30570881443235776.\n"
     ]
    },
    {
     "name": "stderr",
     "output_type": "stream",
     "text": [
      "[I 2025-04-08 00:05:37,947] Trial 78 finished with value: 0.13976763138577009 and parameters: {'feature_selection__estimator__alpha': 0.07996781315328097, 'svr__C': 39.28921020916982, 'svr__gamma': 0.01064577082996104, 'svr__epsilon': 0.26450029623131166, 'svr__kernel': 'rbf'}. Best is trial 61 with value: 0.30570881443235776.\n"
     ]
    },
    {
     "name": "stderr",
     "output_type": "stream",
     "text": [
      "[I 2025-04-08 00:05:38,080] Trial 79 finished with value: 0.29630604590948273 and parameters: {'feature_selection__estimator__alpha': 0.07149260157410696, 'svr__C': 2.372073080890454, 'svr__gamma': 0.009671783013023525, 'svr__epsilon': 0.25761671333313446, 'svr__kernel': 'rbf'}. Best is trial 61 with value: 0.30570881443235776.\n"
     ]
    },
    {
     "name": "stderr",
     "output_type": "stream",
     "text": [
      "/Users/bassel27/personal_projects/hireverse/venv/lib/python3.13/site-packages/sklearn/feature_selection/_base.py:122: UserWarning: No features were selected: either the data is too noisy or the selection test too strict.\n",
      "  warnings.warn(\n",
      "/Users/bassel27/personal_projects/hireverse/venv/lib/python3.13/site-packages/sklearn/feature_selection/_base.py:122: UserWarning: No features were selected: either the data is too noisy or the selection test too strict.\n",
      "  warnings.warn(\n"
     ]
    },
    {
     "name": "stderr",
     "output_type": "stream",
     "text": [
      "/Users/bassel27/personal_projects/hireverse/venv/lib/python3.13/site-packages/sklearn/feature_selection/_base.py:122: UserWarning: No features were selected: either the data is too noisy or the selection test too strict.\n",
      "  warnings.warn(\n",
      "/Users/bassel27/personal_projects/hireverse/venv/lib/python3.13/site-packages/sklearn/feature_selection/_base.py:122: UserWarning: No features were selected: either the data is too noisy or the selection test too strict.\n",
      "  warnings.warn(\n",
      "/Users/bassel27/personal_projects/hireverse/venv/lib/python3.13/site-packages/sklearn/feature_selection/_base.py:122: UserWarning: No features were selected: either the data is too noisy or the selection test too strict.\n",
      "  warnings.warn(\n",
      "[I 2025-04-08 00:05:38,840] Trial 80 finished with value: 0.2803458858858944 and parameters: {'feature_selection__estimator__alpha': 0.07417360119825951, 'svr__C': 2.3968044639457755, 'svr__gamma': 0.004043832418116612, 'svr__epsilon': 0.26162220568962696, 'svr__kernel': 'rbf'}. Best is trial 61 with value: 0.30570881443235776.\n"
     ]
    },
    {
     "name": "stderr",
     "output_type": "stream",
     "text": [
      "/Users/bassel27/personal_projects/hireverse/venv/lib/python3.13/site-packages/sklearn/feature_selection/_base.py:122: UserWarning: No features were selected: either the data is too noisy or the selection test too strict.\n",
      "  warnings.warn(\n",
      "/Users/bassel27/personal_projects/hireverse/venv/lib/python3.13/site-packages/sklearn/model_selection/_validation.py:528: FitFailedWarning: \n",
      "3 fits failed out of a total of 20.\n",
      "The score on these train-test partitions for these parameters will be set to nan.\n",
      "If these failures are not expected, you can try to debug them by setting error_score='raise'.\n",
      "\n",
      "Below are more details about the failures:\n",
      "--------------------------------------------------------------------------------\n",
      "3 fits failed with the following error:\n",
      "Traceback (most recent call last):\n",
      "  File \"/Users/bassel27/personal_projects/hireverse/venv/lib/python3.13/site-packages/sklearn/model_selection/_validation.py\", line 866, in _fit_and_score\n",
      "    estimator.fit(X_train, y_train, **fit_params)\n",
      "    ~~~~~~~~~~~~~^^^^^^^^^^^^^^^^^^^^^^^^^^^^^^^^\n",
      "  File \"/Users/bassel27/personal_projects/hireverse/venv/lib/python3.13/site-packages/sklearn/base.py\", line 1389, in wrapper\n",
      "    return fit_method(estimator, *args, **kwargs)\n",
      "  File \"/Users/bassel27/personal_projects/hireverse/venv/lib/python3.13/site-packages/sklearn/pipeline.py\", line 662, in fit\n",
      "    self._final_estimator.fit(Xt, y, **last_step_params[\"fit\"])\n",
      "    ~~~~~~~~~~~~~~~~~~~~~~~~~^^^^^^^^^^^^^^^^^^^^^^^^^^^^^^^^^^\n",
      "  File \"/Users/bassel27/personal_projects/hireverse/venv/lib/python3.13/site-packages/sklearn/base.py\", line 1389, in wrapper\n",
      "    return fit_method(estimator, *args, **kwargs)\n",
      "  File \"/Users/bassel27/personal_projects/hireverse/venv/lib/python3.13/site-packages/sklearn/svm/_base.py\", line 197, in fit\n",
      "    X, y = validate_data(\n",
      "           ~~~~~~~~~~~~~^\n",
      "        self,\n",
      "        ^^^^^\n",
      "    ...<5 lines>...\n",
      "        accept_large_sparse=False,\n",
      "        ^^^^^^^^^^^^^^^^^^^^^^^^^^\n",
      "    )\n",
      "    ^\n",
      "  File \"/Users/bassel27/personal_projects/hireverse/venv/lib/python3.13/site-packages/sklearn/utils/validation.py\", line 2961, in validate_data\n",
      "    X, y = check_X_y(X, y, **check_params)\n",
      "           ~~~~~~~~~^^^^^^^^^^^^^^^^^^^^^^\n",
      "  File \"/Users/bassel27/personal_projects/hireverse/venv/lib/python3.13/site-packages/sklearn/utils/validation.py\", line 1370, in check_X_y\n",
      "    X = check_array(\n",
      "        X,\n",
      "    ...<12 lines>...\n",
      "        input_name=\"X\",\n",
      "    )\n",
      "  File \"/Users/bassel27/personal_projects/hireverse/venv/lib/python3.13/site-packages/sklearn/utils/validation.py\", line 1139, in check_array\n",
      "    raise ValueError(\n",
      "    ...<3 lines>...\n",
      "    )\n",
      "ValueError: Found array with 0 feature(s) (shape=(109, 0)) while a minimum of 1 is required by SVR.\n",
      "\n",
      "  warnings.warn(some_fits_failed_message, FitFailedWarning)\n",
      "[W 2025-04-08 00:05:39,131] Trial 81 failed with parameters: {'feature_selection__estimator__alpha': 0.28688414126818135, 'svr__C': 2.3296846395330673, 'svr__gamma': 0.010575712765387277, 'svr__epsilon': 0.2586363960523844, 'svr__kernel': 'rbf'} because of the following error: The value nan is not acceptable.\n"
     ]
    },
    {
     "name": "stderr",
     "output_type": "stream",
     "text": [
      "[W 2025-04-08 00:05:39,140] Trial 81 failed with value np.float64(nan).\n"
     ]
    },
    {
     "name": "stderr",
     "output_type": "stream",
     "text": [
      "[I 2025-04-08 00:05:39,162] Trial 82 finished with value: 0.3018474147550757 and parameters: {'feature_selection__estimator__alpha': 0.04265675572707276, 'svr__C': 2.189026705966331, 'svr__gamma': 0.009730184540539531, 'svr__epsilon': 0.24320708527571178, 'svr__kernel': 'rbf'}. Best is trial 61 with value: 0.30570881443235776.\n"
     ]
    },
    {
     "name": "stderr",
     "output_type": "stream",
     "text": [
      "[I 2025-04-08 00:05:39,277] Trial 83 finished with value: 0.3005818031157156 and parameters: {'feature_selection__estimator__alpha': 0.07534081509959387, 'svr__C': 2.1758219184704553, 'svr__gamma': 0.008333656583613442, 'svr__epsilon': 0.25675368840014695, 'svr__kernel': 'rbf'}. Best is trial 61 with value: 0.30570881443235776.\n"
     ]
    },
    {
     "name": "stderr",
     "output_type": "stream",
     "text": [
      "[I 2025-04-08 00:05:39,332] Trial 84 finished with value: 0.30491695457311707 and parameters: {'feature_selection__estimator__alpha': 0.04387980923871652, 'svr__C': 2.2698223178676824, 'svr__gamma': 0.009985836703482742, 'svr__epsilon': 0.250586688529689, 'svr__kernel': 'rbf'}. Best is trial 61 with value: 0.30570881443235776.\n"
     ]
    },
    {
     "name": "stderr",
     "output_type": "stream",
     "text": [
      "/Users/bassel27/personal_projects/hireverse/venv/lib/python3.13/site-packages/sklearn/model_selection/_validation.py:528: FitFailedWarning: \n",
      "3 fits failed out of a total of 20.\n",
      "The score on these train-test partitions for these parameters will be set to nan.\n",
      "If these failures are not expected, you can try to debug them by setting error_score='raise'.\n",
      "\n",
      "Below are more details about the failures:\n",
      "--------------------------------------------------------------------------------\n",
      "3 fits failed with the following error:\n",
      "Traceback (most recent call last):\n",
      "  File \"/Users/bassel27/personal_projects/hireverse/venv/lib/python3.13/site-packages/sklearn/model_selection/_validation.py\", line 866, in _fit_and_score\n",
      "    estimator.fit(X_train, y_train, **fit_params)\n",
      "    ~~~~~~~~~~~~~^^^^^^^^^^^^^^^^^^^^^^^^^^^^^^^^\n",
      "  File \"/Users/bassel27/personal_projects/hireverse/venv/lib/python3.13/site-packages/sklearn/base.py\", line 1389, in wrapper\n",
      "    return fit_method(estimator, *args, **kwargs)\n",
      "  File \"/Users/bassel27/personal_projects/hireverse/venv/lib/python3.13/site-packages/sklearn/pipeline.py\", line 662, in fit\n",
      "    self._final_estimator.fit(Xt, y, **last_step_params[\"fit\"])\n",
      "    ~~~~~~~~~~~~~~~~~~~~~~~~~^^^^^^^^^^^^^^^^^^^^^^^^^^^^^^^^^^\n",
      "  File \"/Users/bassel27/personal_projects/hireverse/venv/lib/python3.13/site-packages/sklearn/base.py\", line 1389, in wrapper\n",
      "    return fit_method(estimator, *args, **kwargs)\n",
      "  File \"/Users/bassel27/personal_projects/hireverse/venv/lib/python3.13/site-packages/sklearn/svm/_base.py\", line 197, in fit\n",
      "    X, y = validate_data(\n",
      "           ~~~~~~~~~~~~~^\n",
      "        self,\n",
      "        ^^^^^\n",
      "    ...<5 lines>...\n",
      "        accept_large_sparse=False,\n",
      "        ^^^^^^^^^^^^^^^^^^^^^^^^^^\n",
      "    )\n",
      "    ^\n",
      "  File \"/Users/bassel27/personal_projects/hireverse/venv/lib/python3.13/site-packages/sklearn/utils/validation.py\", line 2961, in validate_data\n",
      "    X, y = check_X_y(X, y, **check_params)\n",
      "           ~~~~~~~~~^^^^^^^^^^^^^^^^^^^^^^\n",
      "  File \"/Users/bassel27/personal_projects/hireverse/venv/lib/python3.13/site-packages/sklearn/utils/validation.py\", line 1370, in check_X_y\n",
      "    X = check_array(\n",
      "        X,\n",
      "    ...<12 lines>...\n",
      "        input_name=\"X\",\n",
      "    )\n",
      "  File \"/Users/bassel27/personal_projects/hireverse/venv/lib/python3.13/site-packages/sklearn/utils/validation.py\", line 1139, in check_array\n",
      "    raise ValueError(\n",
      "    ...<3 lines>...\n",
      "    )\n",
      "ValueError: Found array with 0 feature(s) (shape=(109, 0)) while a minimum of 1 is required by SVR.\n",
      "\n",
      "  warnings.warn(some_fits_failed_message, FitFailedWarning)\n",
      "[W 2025-04-08 00:05:39,439] Trial 85 failed with parameters: {'feature_selection__estimator__alpha': 0.2792132347600846, 'svr__C': 12.668465687719921, 'svr__gamma': 0.0035390938881657273, 'svr__epsilon': 0.3360561704199433, 'svr__kernel': 'rbf'} because of the following error: The value nan is not acceptable.\n"
     ]
    },
    {
     "name": "stderr",
     "output_type": "stream",
     "text": [
      "/Users/bassel27/personal_projects/hireverse/venv/lib/python3.13/site-packages/sklearn/feature_selection/_base.py:122: UserWarning: No features were selected: either the data is too noisy or the selection test too strict.\n",
      "  warnings.warn(\n",
      "[I 2025-04-08 00:05:39,448] Trial 86 finished with value: -0.09178092969361695 and parameters: {'feature_selection__estimator__alpha': 0.0412768633395143, 'svr__C': 11.242730334808844, 'svr__gamma': 8.423844214470174, 'svr__epsilon': 0.3413254420263029, 'svr__kernel': 'rbf'}. Best is trial 61 with value: 0.30570881443235776.\n"
     ]
    },
    {
     "name": "stderr",
     "output_type": "stream",
     "text": [
      "[W 2025-04-08 00:05:39,456] Trial 85 failed with value np.float64(nan).\n"
     ]
    },
    {
     "name": "stderr",
     "output_type": "stream",
     "text": [
      "/Users/bassel27/personal_projects/hireverse/venv/lib/python3.13/site-packages/sklearn/feature_selection/_base.py:122: UserWarning: No features were selected: either the data is too noisy or the selection test too strict.\n",
      "  warnings.warn(\n"
     ]
    },
    {
     "name": "stderr",
     "output_type": "stream",
     "text": [
      "[I 2025-04-08 00:05:39,635] Trial 87 finished with value: 0.2825017393576009 and parameters: {'feature_selection__estimator__alpha': 0.04332228999240127, 'svr__C': 2.3564707089269366, 'svr__gamma': 0.003793760289603059, 'svr__epsilon': 0.24061696364316953, 'svr__kernel': 'rbf'}. Best is trial 61 with value: 0.30570881443235776.\n"
     ]
    },
    {
     "name": "stderr",
     "output_type": "stream",
     "text": [
      "/Users/bassel27/personal_projects/hireverse/venv/lib/python3.13/site-packages/sklearn/feature_selection/_base.py:122: UserWarning: No features were selected: either the data is too noisy or the selection test too strict.\n",
      "  warnings.warn(\n",
      "/Users/bassel27/personal_projects/hireverse/venv/lib/python3.13/site-packages/sklearn/feature_selection/_base.py:122: UserWarning: No features were selected: either the data is too noisy or the selection test too strict.\n",
      "  warnings.warn(\n"
     ]
    },
    {
     "name": "stderr",
     "output_type": "stream",
     "text": [
      "/Users/bassel27/personal_projects/hireverse/venv/lib/python3.13/site-packages/sklearn/feature_selection/_base.py:122: UserWarning: No features were selected: either the data is too noisy or the selection test too strict.\n",
      "  warnings.warn(\n",
      "/Users/bassel27/personal_projects/hireverse/venv/lib/python3.13/site-packages/sklearn/feature_selection/_base.py:122: UserWarning: No features were selected: either the data is too noisy or the selection test too strict.\n",
      "  warnings.warn(\n"
     ]
    },
    {
     "name": "stderr",
     "output_type": "stream",
     "text": [
      "/Users/bassel27/personal_projects/hireverse/venv/lib/python3.13/site-packages/sklearn/feature_selection/_base.py:122: UserWarning: No features were selected: either the data is too noisy or the selection test too strict.\n",
      "  warnings.warn(\n",
      "/Users/bassel27/personal_projects/hireverse/venv/lib/python3.13/site-packages/sklearn/feature_selection/_base.py:122: UserWarning: No features were selected: either the data is too noisy or the selection test too strict.\n",
      "  warnings.warn(\n",
      "/Users/bassel27/personal_projects/hireverse/venv/lib/python3.13/site-packages/sklearn/feature_selection/_base.py:122: UserWarning: No features were selected: either the data is too noisy or the selection test too strict.\n",
      "  warnings.warn(\n",
      "/Users/bassel27/personal_projects/hireverse/venv/lib/python3.13/site-packages/sklearn/feature_selection/_base.py:122: UserWarning: No features were selected: either the data is too noisy or the selection test too strict.\n",
      "  warnings.warn(\n",
      "/Users/bassel27/personal_projects/hireverse/venv/lib/python3.13/site-packages/sklearn/feature_selection/_base.py:122: UserWarning: No features were selected: either the data is too noisy or the selection test too strict.\n",
      "  warnings.warn(\n"
     ]
    },
    {
     "name": "stderr",
     "output_type": "stream",
     "text": [
      "/Users/bassel27/personal_projects/hireverse/venv/lib/python3.13/site-packages/sklearn/feature_selection/_base.py:122: UserWarning: No features were selected: either the data is too noisy or the selection test too strict.\n",
      "  warnings.warn(\n"
     ]
    },
    {
     "name": "stderr",
     "output_type": "stream",
     "text": [
      "/Users/bassel27/personal_projects/hireverse/venv/lib/python3.13/site-packages/sklearn/feature_selection/_base.py:122: UserWarning: No features were selected: either the data is too noisy or the selection test too strict.\n",
      "  warnings.warn(\n",
      "/Users/bassel27/personal_projects/hireverse/venv/lib/python3.13/site-packages/sklearn/feature_selection/_base.py:122: UserWarning: No features were selected: either the data is too noisy or the selection test too strict.\n",
      "  warnings.warn(\n"
     ]
    },
    {
     "name": "stderr",
     "output_type": "stream",
     "text": [
      "/Users/bassel27/personal_projects/hireverse/venv/lib/python3.13/site-packages/sklearn/feature_selection/_base.py:122: UserWarning: No features were selected: either the data is too noisy or the selection test too strict.\n",
      "  warnings.warn(\n",
      "[I 2025-04-08 00:05:40,459] Trial 88 finished with value: 0.26866190787824024 and parameters: {'feature_selection__estimator__alpha': 0.04191942385718349, 'svr__C': 13.16522662861538, 'svr__gamma': 0.007404050669460779, 'svr__epsilon': 0.32812166014249344, 'svr__kernel': 'rbf'}. Best is trial 61 with value: 0.30570881443235776.\n"
     ]
    },
    {
     "name": "stderr",
     "output_type": "stream",
     "text": [
      "/Users/bassel27/personal_projects/hireverse/venv/lib/python3.13/site-packages/sklearn/model_selection/_validation.py:528: FitFailedWarning: \n",
      "3 fits failed out of a total of 20.\n",
      "The score on these train-test partitions for these parameters will be set to nan.\n",
      "If these failures are not expected, you can try to debug them by setting error_score='raise'.\n",
      "\n",
      "Below are more details about the failures:\n",
      "--------------------------------------------------------------------------------\n",
      "3 fits failed with the following error:\n",
      "Traceback (most recent call last):\n",
      "  File \"/Users/bassel27/personal_projects/hireverse/venv/lib/python3.13/site-packages/sklearn/model_selection/_validation.py\", line 866, in _fit_and_score\n",
      "    estimator.fit(X_train, y_train, **fit_params)\n",
      "    ~~~~~~~~~~~~~^^^^^^^^^^^^^^^^^^^^^^^^^^^^^^^^\n",
      "  File \"/Users/bassel27/personal_projects/hireverse/venv/lib/python3.13/site-packages/sklearn/base.py\", line 1389, in wrapper\n",
      "    return fit_method(estimator, *args, **kwargs)\n",
      "  File \"/Users/bassel27/personal_projects/hireverse/venv/lib/python3.13/site-packages/sklearn/pipeline.py\", line 662, in fit\n",
      "    self._final_estimator.fit(Xt, y, **last_step_params[\"fit\"])\n",
      "    ~~~~~~~~~~~~~~~~~~~~~~~~~^^^^^^^^^^^^^^^^^^^^^^^^^^^^^^^^^^\n",
      "  File \"/Users/bassel27/personal_projects/hireverse/venv/lib/python3.13/site-packages/sklearn/base.py\", line 1389, in wrapper\n",
      "    return fit_method(estimator, *args, **kwargs)\n",
      "  File \"/Users/bassel27/personal_projects/hireverse/venv/lib/python3.13/site-packages/sklearn/svm/_base.py\", line 197, in fit\n",
      "    X, y = validate_data(\n",
      "           ~~~~~~~~~~~~~^\n",
      "        self,\n",
      "        ^^^^^\n",
      "    ...<5 lines>...\n",
      "        accept_large_sparse=False,\n",
      "        ^^^^^^^^^^^^^^^^^^^^^^^^^^\n",
      "    )\n",
      "    ^\n",
      "  File \"/Users/bassel27/personal_projects/hireverse/venv/lib/python3.13/site-packages/sklearn/utils/validation.py\", line 2961, in validate_data\n",
      "    X, y = check_X_y(X, y, **check_params)\n",
      "           ~~~~~~~~~^^^^^^^^^^^^^^^^^^^^^^\n",
      "  File \"/Users/bassel27/personal_projects/hireverse/venv/lib/python3.13/site-packages/sklearn/utils/validation.py\", line 1370, in check_X_y\n",
      "    X = check_array(\n",
      "        X,\n",
      "    ...<12 lines>...\n",
      "        input_name=\"X\",\n",
      "    )\n",
      "  File \"/Users/bassel27/personal_projects/hireverse/venv/lib/python3.13/site-packages/sklearn/utils/validation.py\", line 1139, in check_array\n",
      "    raise ValueError(\n",
      "    ...<3 lines>...\n",
      "    )\n",
      "ValueError: Found array with 0 feature(s) (shape=(109, 0)) while a minimum of 1 is required by SVR.\n",
      "\n",
      "  warnings.warn(some_fits_failed_message, FitFailedWarning)\n",
      "[W 2025-04-08 00:05:40,591] Trial 91 failed with parameters: {'feature_selection__estimator__alpha': 0.2768577711450264, 'svr__C': 2.4835814243884253, 'svr__gamma': 0.02136656715304432, 'svr__epsilon': 0.24198842510913865, 'svr__kernel': 'rbf'} because of the following error: The value nan is not acceptable.\n"
     ]
    },
    {
     "name": "stderr",
     "output_type": "stream",
     "text": [
      "[W 2025-04-08 00:05:40,609] Trial 91 failed with value np.float64(nan).\n",
      "/Users/bassel27/personal_projects/hireverse/venv/lib/python3.13/site-packages/sklearn/model_selection/_validation.py:528: FitFailedWarning: \n",
      "6 fits failed out of a total of 20.\n",
      "The score on these train-test partitions for these parameters will be set to nan.\n",
      "If these failures are not expected, you can try to debug them by setting error_score='raise'.\n",
      "\n",
      "Below are more details about the failures:\n",
      "--------------------------------------------------------------------------------\n",
      "1 fits failed with the following error:\n",
      "Traceback (most recent call last):\n",
      "  File \"/Users/bassel27/personal_projects/hireverse/venv/lib/python3.13/site-packages/sklearn/model_selection/_validation.py\", line 866, in _fit_and_score\n",
      "    estimator.fit(X_train, y_train, **fit_params)\n",
      "    ~~~~~~~~~~~~~^^^^^^^^^^^^^^^^^^^^^^^^^^^^^^^^\n",
      "  File \"/Users/bassel27/personal_projects/hireverse/venv/lib/python3.13/site-packages/sklearn/base.py\", line 1389, in wrapper\n",
      "    return fit_method(estimator, *args, **kwargs)\n",
      "  File \"/Users/bassel27/personal_projects/hireverse/venv/lib/python3.13/site-packages/sklearn/pipeline.py\", line 662, in fit\n",
      "    self._final_estimator.fit(Xt, y, **last_step_params[\"fit\"])\n",
      "    ~~~~~~~~~~~~~~~~~~~~~~~~~^^^^^^^^^^^^^^^^^^^^^^^^^^^^^^^^^^\n",
      "  File \"/Users/bassel27/personal_projects/hireverse/venv/lib/python3.13/site-packages/sklearn/base.py\", line 1389, in wrapper\n",
      "    return fit_method(estimator, *args, **kwargs)\n",
      "  File \"/Users/bassel27/personal_projects/hireverse/venv/lib/python3.13/site-packages/sklearn/svm/_base.py\", line 197, in fit\n",
      "    X, y = validate_data(\n",
      "           ~~~~~~~~~~~~~^\n",
      "        self,\n",
      "        ^^^^^\n",
      "    ...<5 lines>...\n",
      "        accept_large_sparse=False,\n",
      "        ^^^^^^^^^^^^^^^^^^^^^^^^^^\n",
      "    )\n",
      "    ^\n",
      "  File \"/Users/bassel27/personal_projects/hireverse/venv/lib/python3.13/site-packages/sklearn/utils/validation.py\", line 2961, in validate_data\n",
      "    X, y = check_X_y(X, y, **check_params)\n",
      "           ~~~~~~~~~^^^^^^^^^^^^^^^^^^^^^^\n",
      "  File \"/Users/bassel27/personal_projects/hireverse/venv/lib/python3.13/site-packages/sklearn/utils/validation.py\", line 1370, in check_X_y\n",
      "    X = check_array(\n",
      "        X,\n",
      "    ...<12 lines>...\n",
      "        input_name=\"X\",\n",
      "    )\n",
      "  File \"/Users/bassel27/personal_projects/hireverse/venv/lib/python3.13/site-packages/sklearn/utils/validation.py\", line 1139, in check_array\n",
      "    raise ValueError(\n",
      "    ...<3 lines>...\n",
      "    )\n",
      "ValueError: Found array with 0 feature(s) (shape=(110, 0)) while a minimum of 1 is required by SVR.\n",
      "\n",
      "--------------------------------------------------------------------------------\n",
      "5 fits failed with the following error:\n",
      "Traceback (most recent call last):\n",
      "  File \"/Users/bassel27/personal_projects/hireverse/venv/lib/python3.13/site-packages/sklearn/model_selection/_validation.py\", line 866, in _fit_and_score\n",
      "    estimator.fit(X_train, y_train, **fit_params)\n",
      "    ~~~~~~~~~~~~~^^^^^^^^^^^^^^^^^^^^^^^^^^^^^^^^\n",
      "  File \"/Users/bassel27/personal_projects/hireverse/venv/lib/python3.13/site-packages/sklearn/base.py\", line 1389, in wrapper\n",
      "    return fit_method(estimator, *args, **kwargs)\n",
      "  File \"/Users/bassel27/personal_projects/hireverse/venv/lib/python3.13/site-packages/sklearn/pipeline.py\", line 662, in fit\n",
      "    self._final_estimator.fit(Xt, y, **last_step_params[\"fit\"])\n",
      "    ~~~~~~~~~~~~~~~~~~~~~~~~~^^^^^^^^^^^^^^^^^^^^^^^^^^^^^^^^^^\n",
      "  File \"/Users/bassel27/personal_projects/hireverse/venv/lib/python3.13/site-packages/sklearn/base.py\", line 1389, in wrapper\n",
      "    return fit_method(estimator, *args, **kwargs)\n",
      "  File \"/Users/bassel27/personal_projects/hireverse/venv/lib/python3.13/site-packages/sklearn/svm/_base.py\", line 197, in fit\n",
      "    X, y = validate_data(\n",
      "           ~~~~~~~~~~~~~^\n",
      "        self,\n",
      "        ^^^^^\n",
      "    ...<5 lines>...\n",
      "        accept_large_sparse=False,\n",
      "        ^^^^^^^^^^^^^^^^^^^^^^^^^^\n",
      "    )\n",
      "    ^\n",
      "  File \"/Users/bassel27/personal_projects/hireverse/venv/lib/python3.13/site-packages/sklearn/utils/validation.py\", line 2961, in validate_data\n",
      "    X, y = check_X_y(X, y, **check_params)\n",
      "           ~~~~~~~~~^^^^^^^^^^^^^^^^^^^^^^\n",
      "  File \"/Users/bassel27/personal_projects/hireverse/venv/lib/python3.13/site-packages/sklearn/utils/validation.py\", line 1370, in check_X_y\n",
      "    X = check_array(\n",
      "        X,\n",
      "    ...<12 lines>...\n",
      "        input_name=\"X\",\n",
      "    )\n",
      "  File \"/Users/bassel27/personal_projects/hireverse/venv/lib/python3.13/site-packages/sklearn/utils/validation.py\", line 1139, in check_array\n",
      "    raise ValueError(\n",
      "    ...<3 lines>...\n",
      "    )\n",
      "ValueError: Found array with 0 feature(s) (shape=(109, 0)) while a minimum of 1 is required by SVR.\n",
      "\n",
      "  warnings.warn(some_fits_failed_message, FitFailedWarning)\n"
     ]
    },
    {
     "name": "stderr",
     "output_type": "stream",
     "text": [
      "[W 2025-04-08 00:05:40,623] Trial 89 failed with parameters: {'feature_selection__estimator__alpha': 0.29525170765975306, 'svr__C': 13.16990675494826, 'svr__gamma': 0.017835710015006997, 'svr__epsilon': 0.2390220929083243, 'svr__kernel': 'rbf'} because of the following error: The value nan is not acceptable.\n"
     ]
    },
    {
     "name": "stderr",
     "output_type": "stream",
     "text": [
      "[W 2025-04-08 00:05:40,653] Trial 89 failed with value np.float64(nan).\n"
     ]
    },
    {
     "name": "stderr",
     "output_type": "stream",
     "text": [
      "/Users/bassel27/personal_projects/hireverse/venv/lib/python3.13/site-packages/sklearn/model_selection/_validation.py:528: FitFailedWarning: \n",
      "6 fits failed out of a total of 20.\n",
      "The score on these train-test partitions for these parameters will be set to nan.\n",
      "If these failures are not expected, you can try to debug them by setting error_score='raise'.\n",
      "\n",
      "Below are more details about the failures:\n",
      "--------------------------------------------------------------------------------\n",
      "1 fits failed with the following error:\n",
      "Traceback (most recent call last):\n",
      "  File \"/Users/bassel27/personal_projects/hireverse/venv/lib/python3.13/site-packages/sklearn/model_selection/_validation.py\", line 866, in _fit_and_score\n",
      "    estimator.fit(X_train, y_train, **fit_params)\n",
      "    ~~~~~~~~~~~~~^^^^^^^^^^^^^^^^^^^^^^^^^^^^^^^^\n",
      "  File \"/Users/bassel27/personal_projects/hireverse/venv/lib/python3.13/site-packages/sklearn/base.py\", line 1389, in wrapper\n",
      "    return fit_method(estimator, *args, **kwargs)\n",
      "  File \"/Users/bassel27/personal_projects/hireverse/venv/lib/python3.13/site-packages/sklearn/pipeline.py\", line 662, in fit\n",
      "    self._final_estimator.fit(Xt, y, **last_step_params[\"fit\"])\n",
      "    ~~~~~~~~~~~~~~~~~~~~~~~~~^^^^^^^^^^^^^^^^^^^^^^^^^^^^^^^^^^\n",
      "  File \"/Users/bassel27/personal_projects/hireverse/venv/lib/python3.13/site-packages/sklearn/base.py\", line 1389, in wrapper\n",
      "    return fit_method(estimator, *args, **kwargs)\n",
      "  File \"/Users/bassel27/personal_projects/hireverse/venv/lib/python3.13/site-packages/sklearn/svm/_base.py\", line 197, in fit\n",
      "    X, y = validate_data(\n",
      "           ~~~~~~~~~~~~~^\n",
      "        self,\n",
      "        ^^^^^\n",
      "    ...<5 lines>...\n",
      "        accept_large_sparse=False,\n",
      "        ^^^^^^^^^^^^^^^^^^^^^^^^^^\n",
      "    )\n",
      "    ^\n",
      "  File \"/Users/bassel27/personal_projects/hireverse/venv/lib/python3.13/site-packages/sklearn/utils/validation.py\", line 2961, in validate_data\n",
      "    X, y = check_X_y(X, y, **check_params)\n",
      "           ~~~~~~~~~^^^^^^^^^^^^^^^^^^^^^^\n",
      "  File \"/Users/bassel27/personal_projects/hireverse/venv/lib/python3.13/site-packages/sklearn/utils/validation.py\", line 1370, in check_X_y\n",
      "    X = check_array(\n",
      "        X,\n",
      "    ...<12 lines>...\n",
      "        input_name=\"X\",\n",
      "    )\n",
      "  File \"/Users/bassel27/personal_projects/hireverse/venv/lib/python3.13/site-packages/sklearn/utils/validation.py\", line 1139, in check_array\n",
      "    raise ValueError(\n",
      "    ...<3 lines>...\n",
      "    )\n",
      "ValueError: Found array with 0 feature(s) (shape=(110, 0)) while a minimum of 1 is required by SVR.\n",
      "\n",
      "--------------------------------------------------------------------------------\n",
      "5 fits failed with the following error:\n",
      "Traceback (most recent call last):\n",
      "  File \"/Users/bassel27/personal_projects/hireverse/venv/lib/python3.13/site-packages/sklearn/model_selection/_validation.py\", line 866, in _fit_and_score\n",
      "    estimator.fit(X_train, y_train, **fit_params)\n",
      "    ~~~~~~~~~~~~~^^^^^^^^^^^^^^^^^^^^^^^^^^^^^^^^\n",
      "  File \"/Users/bassel27/personal_projects/hireverse/venv/lib/python3.13/site-packages/sklearn/base.py\", line 1389, in wrapper\n",
      "    return fit_method(estimator, *args, **kwargs)\n",
      "  File \"/Users/bassel27/personal_projects/hireverse/venv/lib/python3.13/site-packages/sklearn/pipeline.py\", line 662, in fit\n",
      "    self._final_estimator.fit(Xt, y, **last_step_params[\"fit\"])\n",
      "    ~~~~~~~~~~~~~~~~~~~~~~~~~^^^^^^^^^^^^^^^^^^^^^^^^^^^^^^^^^^\n",
      "  File \"/Users/bassel27/personal_projects/hireverse/venv/lib/python3.13/site-packages/sklearn/base.py\", line 1389, in wrapper\n",
      "    return fit_method(estimator, *args, **kwargs)\n",
      "  File \"/Users/bassel27/personal_projects/hireverse/venv/lib/python3.13/site-packages/sklearn/svm/_base.py\", line 197, in fit\n",
      "    X, y = validate_data(\n",
      "           ~~~~~~~~~~~~~^\n",
      "        self,\n",
      "        ^^^^^\n",
      "    ...<5 lines>...\n",
      "        accept_large_sparse=False,\n",
      "        ^^^^^^^^^^^^^^^^^^^^^^^^^^\n",
      "    )\n",
      "    ^\n",
      "  File \"/Users/bassel27/personal_projects/hireverse/venv/lib/python3.13/site-packages/sklearn/utils/validation.py\", line 2961, in validate_data\n",
      "    X, y = check_X_y(X, y, **check_params)\n",
      "           ~~~~~~~~~^^^^^^^^^^^^^^^^^^^^^^\n",
      "  File \"/Users/bassel27/personal_projects/hireverse/venv/lib/python3.13/site-packages/sklearn/utils/validation.py\", line 1370, in check_X_y\n",
      "    X = check_array(\n",
      "        X,\n",
      "    ...<12 lines>...\n",
      "        input_name=\"X\",\n",
      "    )\n",
      "  File \"/Users/bassel27/personal_projects/hireverse/venv/lib/python3.13/site-packages/sklearn/utils/validation.py\", line 1139, in check_array\n",
      "    raise ValueError(\n",
      "    ...<3 lines>...\n",
      "    )\n",
      "ValueError: Found array with 0 feature(s) (shape=(109, 0)) while a minimum of 1 is required by SVR.\n",
      "\n",
      "  warnings.warn(some_fits_failed_message, FitFailedWarning)\n",
      "[W 2025-04-08 00:05:40,720] Trial 90 failed with parameters: {'feature_selection__estimator__alpha': 0.29888085638674916, 'svr__C': 11.84257072466447, 'svr__gamma': 0.05483500002302964, 'svr__epsilon': 0.243017230742977, 'svr__kernel': 'rbf'} because of the following error: The value nan is not acceptable.\n"
     ]
    },
    {
     "name": "stderr",
     "output_type": "stream",
     "text": [
      "[W 2025-04-08 00:05:40,727] Trial 90 failed with value np.float64(nan).\n"
     ]
    },
    {
     "name": "stderr",
     "output_type": "stream",
     "text": [
      "[I 2025-04-08 00:05:40,885] Trial 92 finished with value: 0.20543874337313656 and parameters: {'feature_selection__estimator__alpha': 0.04296840043483186, 'svr__C': 3.2112614197475184, 'svr__gamma': 0.051967354161672974, 'svr__epsilon': 0.243429701209381, 'svr__kernel': 'rbf'}. Best is trial 61 with value: 0.30570881443235776.\n"
     ]
    },
    {
     "name": "stderr",
     "output_type": "stream",
     "text": [
      "[I 2025-04-08 00:05:40,959] Trial 94 finished with value: 0.1653882106937529 and parameters: {'feature_selection__estimator__alpha': 0.14861374855348825, 'svr__C': 3.3735169687416757, 'svr__gamma': 0.0228148330188134, 'svr__epsilon': 0.24889141340279808, 'svr__kernel': 'rbf'}. Best is trial 61 with value: 0.30570881443235776.\n"
     ]
    },
    {
     "name": "stderr",
     "output_type": "stream",
     "text": [
      "[I 2025-04-08 00:05:40,974] Trial 93 finished with value: 0.16804261126411685 and parameters: {'feature_selection__estimator__alpha': 0.13525851162877256, 'svr__C': 2.8155146004056992, 'svr__gamma': 0.05196739311818385, 'svr__epsilon': 0.24467260684806472, 'svr__kernel': 'rbf'}. Best is trial 61 with value: 0.30570881443235776.\n"
     ]
    },
    {
     "name": "stderr",
     "output_type": "stream",
     "text": [
      "[I 2025-04-08 00:05:41,170] Trial 95 finished with value: 0.19219677465902313 and parameters: {'feature_selection__estimator__alpha': 0.1485050679627278, 'svr__C': 2.1092073762460193, 'svr__gamma': 0.018928614842857506, 'svr__epsilon': 0.19544307813965472, 'svr__kernel': 'rbf'}. Best is trial 61 with value: 0.30570881443235776.\n"
     ]
    },
    {
     "name": "stderr",
     "output_type": "stream",
     "text": [
      "[I 2025-04-08 00:05:41,470] Trial 96 finished with value: 0.18657713811276241 and parameters: {'feature_selection__estimator__alpha': 0.14595531445201756, 'svr__C': 2.1110299188622093, 'svr__gamma': 0.022388572338239248, 'svr__epsilon': 0.1954891573133331, 'svr__kernel': 'rbf'}. Best is trial 61 with value: 0.30570881443235776.\n"
     ]
    },
    {
     "name": "stderr",
     "output_type": "stream",
     "text": [
      "[I 2025-04-08 00:05:41,568] Trial 97 finished with value: 0.2191371144102261 and parameters: {'feature_selection__estimator__alpha': 0.13602360217037018, 'svr__C': 2.0298388260631204, 'svr__gamma': 0.01770428709770485, 'svr__epsilon': 0.24204094467618115, 'svr__kernel': 'rbf'}. Best is trial 61 with value: 0.30570881443235776.\n"
     ]
    },
    {
     "name": "stderr",
     "output_type": "stream",
     "text": [
      "[I 2025-04-08 00:05:41,590] Trial 98 finished with value: 0.21626138236573972 and parameters: {'feature_selection__estimator__alpha': 0.13525917464601594, 'svr__C': 2.0439741064374664, 'svr__gamma': 0.020073381601721365, 'svr__epsilon': 0.19831354214179459, 'svr__kernel': 'rbf'}. Best is trial 61 with value: 0.30570881443235776.\n"
     ]
    },
    {
     "name": "stderr",
     "output_type": "stream",
     "text": [
      "[I 2025-04-08 00:05:41,596] Trial 99 finished with value: 0.16921452477697213 and parameters: {'feature_selection__estimator__alpha': 0.14848700701355116, 'svr__C': 3.296925631774624, 'svr__gamma': 0.021407455933109498, 'svr__epsilon': 0.19511011967228536, 'svr__kernel': 'rbf'}. Best is trial 61 with value: 0.30570881443235776.\n"
     ]
    },
    {
     "name": "stdout",
     "output_type": "stream",
     "text": [
      "Best hyperparameters: {'feature_selection__estimator__alpha': 0.07713372658882832, 'svr__C': 4.375518726867743, 'svr__gamma': 0.006825349238374233, 'svr__epsilon': 0.18432927654425854, 'svr__kernel': 'rbf'}\n",
      "Best R² score: 0.3057\n"
     ]
    }
   ],
   "source": [
    "import optuna\n",
    "from sklearn.base import clone\n",
    "from sklearn.model_selection import GroupShuffleSplit, cross_val_score\n",
    "import numpy as np\n",
    "\n",
    "def objective(trial):\n",
    "    pipeline_clone = clone(unfitted_pipeline)  # Clone pipeline for thread safety\n",
    "    \n",
    "    params = {\n",
    "        \"feature_selection__estimator__alpha\": trial.suggest_float(\n",
    "            \"feature_selection__estimator__alpha\", 1e-3, 0.3, log=True\n",
    "        ),\n",
    "        \"svr__C\": trial.suggest_float(\"svr__C\", 0.01, 100, log=True),\n",
    "        \"svr__gamma\": trial.suggest_float(\"svr__gamma\", 1e-3, 1e1, log=True),\n",
    "        \"svr__epsilon\": trial.suggest_float(\"svr__epsilon\", 0.01, 0.5),\n",
    "        \"svr__kernel\": trial.suggest_categorical(\"svr__kernel\", [\"rbf\"\n",
    "                                                                #  , \"poly\"\n",
    "                                                                 ]),\n",
    "    }\n",
    "    \n",
    "    # if params[\"svr__kernel\"] == \"poly\":\n",
    "    #     params[\"svr__degree\"] = trial.suggest_int(\"svr__degree\", 2, 3)  # Reduced from 5\n",
    "    #     params[\"svr__coef0\"] = trial.suggest_float(\"svr__coef0\", 0.0, 0.5)  # Narrower range\n",
    "        \n",
    "    pipeline_clone.set_params(**params)\n",
    "    \n",
    "    mc_cv_tuning = GroupShuffleSplit(n_splits=20, test_size=0.2, random_state=42)\n",
    "    scores = cross_val_score(\n",
    "        pipeline_clone, X, y, cv=mc_cv_tuning, groups=groups_column, n_jobs=1\n",
    "    )\n",
    "    return np.mean(scores)\n",
    "\n",
    "if HYPERPARAMETER_TUNING_ENABLED:\n",
    "    study = optuna.create_study(direction=\"maximize\")\n",
    "    study.optimize(objective, n_trials=100, n_jobs=-1, timeout=4*60)\n",
    "    \n",
    "    print(\"Best hyperparameters:\", study.best_params)\n",
    "    print(f\"Best R² score: {study.best_value:.4f}\")"
   ]
  },
  {
   "cell_type": "markdown",
   "id": "d8f04e0f",
   "metadata": {
    "papermill": {
     "duration": 0.030847,
     "end_time": "2025-04-07T22:05:41.673033",
     "exception": false,
     "start_time": "2025-04-07T22:05:41.642186",
     "status": "completed"
    },
    "tags": []
   },
   "source": [
    "## Store Trained Model"
   ]
  },
  {
   "cell_type": "code",
   "execution_count": 8,
   "id": "f170c54f",
   "metadata": {
    "execution": {
     "iopub.execute_input": "2025-04-07T22:05:41.737052Z",
     "iopub.status.busy": "2025-04-07T22:05:41.736680Z",
     "iopub.status.idle": "2025-04-07T22:05:41.782432Z",
     "shell.execute_reply": "2025-04-07T22:05:41.782069Z"
    },
    "papermill": {
     "duration": 0.081472,
     "end_time": "2025-04-07T22:05:41.784398",
     "exception": false,
     "start_time": "2025-04-07T22:05:41.702926",
     "status": "completed"
    },
    "tags": []
   },
   "outputs": [
    {
     "name": "stderr",
     "output_type": "stream",
     "text": [
      "/Users/bassel27/personal_projects/hireverse/venv/lib/python3.13/site-packages/sklearn/compose/_column_transformer.py:1667: FutureWarning: \n",
      "The format of the columns of the 'remainder' transformer in ColumnTransformer.transformers_ will change in version 1.7 to match the format of the other transformers.\n",
      "At the moment the remainder columns are stored as indices (of type int). With the same ColumnTransformer configuration, in the future they will be stored as column names (of type str).\n",
      "To use the new behavior now and suppress this warning, use ColumnTransformer(force_int_remainder_cols=False).\n",
      "\n",
      "  warnings.warn(\n"
     ]
    },
    {
     "data": {
      "text/html": [
       "<style>#sk-container-id-1 {\n",
       "  /* Definition of color scheme common for light and dark mode */\n",
       "  --sklearn-color-text: #000;\n",
       "  --sklearn-color-text-muted: #666;\n",
       "  --sklearn-color-line: gray;\n",
       "  /* Definition of color scheme for unfitted estimators */\n",
       "  --sklearn-color-unfitted-level-0: #fff5e6;\n",
       "  --sklearn-color-unfitted-level-1: #f6e4d2;\n",
       "  --sklearn-color-unfitted-level-2: #ffe0b3;\n",
       "  --sklearn-color-unfitted-level-3: chocolate;\n",
       "  /* Definition of color scheme for fitted estimators */\n",
       "  --sklearn-color-fitted-level-0: #f0f8ff;\n",
       "  --sklearn-color-fitted-level-1: #d4ebff;\n",
       "  --sklearn-color-fitted-level-2: #b3dbfd;\n",
       "  --sklearn-color-fitted-level-3: cornflowerblue;\n",
       "\n",
       "  /* Specific color for light theme */\n",
       "  --sklearn-color-text-on-default-background: var(--sg-text-color, var(--theme-code-foreground, var(--jp-content-font-color1, black)));\n",
       "  --sklearn-color-background: var(--sg-background-color, var(--theme-background, var(--jp-layout-color0, white)));\n",
       "  --sklearn-color-border-box: var(--sg-text-color, var(--theme-code-foreground, var(--jp-content-font-color1, black)));\n",
       "  --sklearn-color-icon: #696969;\n",
       "\n",
       "  @media (prefers-color-scheme: dark) {\n",
       "    /* Redefinition of color scheme for dark theme */\n",
       "    --sklearn-color-text-on-default-background: var(--sg-text-color, var(--theme-code-foreground, var(--jp-content-font-color1, white)));\n",
       "    --sklearn-color-background: var(--sg-background-color, var(--theme-background, var(--jp-layout-color0, #111)));\n",
       "    --sklearn-color-border-box: var(--sg-text-color, var(--theme-code-foreground, var(--jp-content-font-color1, white)));\n",
       "    --sklearn-color-icon: #878787;\n",
       "  }\n",
       "}\n",
       "\n",
       "#sk-container-id-1 {\n",
       "  color: var(--sklearn-color-text);\n",
       "}\n",
       "\n",
       "#sk-container-id-1 pre {\n",
       "  padding: 0;\n",
       "}\n",
       "\n",
       "#sk-container-id-1 input.sk-hidden--visually {\n",
       "  border: 0;\n",
       "  clip: rect(1px 1px 1px 1px);\n",
       "  clip: rect(1px, 1px, 1px, 1px);\n",
       "  height: 1px;\n",
       "  margin: -1px;\n",
       "  overflow: hidden;\n",
       "  padding: 0;\n",
       "  position: absolute;\n",
       "  width: 1px;\n",
       "}\n",
       "\n",
       "#sk-container-id-1 div.sk-dashed-wrapped {\n",
       "  border: 1px dashed var(--sklearn-color-line);\n",
       "  margin: 0 0.4em 0.5em 0.4em;\n",
       "  box-sizing: border-box;\n",
       "  padding-bottom: 0.4em;\n",
       "  background-color: var(--sklearn-color-background);\n",
       "}\n",
       "\n",
       "#sk-container-id-1 div.sk-container {\n",
       "  /* jupyter's `normalize.less` sets `[hidden] { display: none; }`\n",
       "     but bootstrap.min.css set `[hidden] { display: none !important; }`\n",
       "     so we also need the `!important` here to be able to override the\n",
       "     default hidden behavior on the sphinx rendered scikit-learn.org.\n",
       "     See: https://github.com/scikit-learn/scikit-learn/issues/21755 */\n",
       "  display: inline-block !important;\n",
       "  position: relative;\n",
       "}\n",
       "\n",
       "#sk-container-id-1 div.sk-text-repr-fallback {\n",
       "  display: none;\n",
       "}\n",
       "\n",
       "div.sk-parallel-item,\n",
       "div.sk-serial,\n",
       "div.sk-item {\n",
       "  /* draw centered vertical line to link estimators */\n",
       "  background-image: linear-gradient(var(--sklearn-color-text-on-default-background), var(--sklearn-color-text-on-default-background));\n",
       "  background-size: 2px 100%;\n",
       "  background-repeat: no-repeat;\n",
       "  background-position: center center;\n",
       "}\n",
       "\n",
       "/* Parallel-specific style estimator block */\n",
       "\n",
       "#sk-container-id-1 div.sk-parallel-item::after {\n",
       "  content: \"\";\n",
       "  width: 100%;\n",
       "  border-bottom: 2px solid var(--sklearn-color-text-on-default-background);\n",
       "  flex-grow: 1;\n",
       "}\n",
       "\n",
       "#sk-container-id-1 div.sk-parallel {\n",
       "  display: flex;\n",
       "  align-items: stretch;\n",
       "  justify-content: center;\n",
       "  background-color: var(--sklearn-color-background);\n",
       "  position: relative;\n",
       "}\n",
       "\n",
       "#sk-container-id-1 div.sk-parallel-item {\n",
       "  display: flex;\n",
       "  flex-direction: column;\n",
       "}\n",
       "\n",
       "#sk-container-id-1 div.sk-parallel-item:first-child::after {\n",
       "  align-self: flex-end;\n",
       "  width: 50%;\n",
       "}\n",
       "\n",
       "#sk-container-id-1 div.sk-parallel-item:last-child::after {\n",
       "  align-self: flex-start;\n",
       "  width: 50%;\n",
       "}\n",
       "\n",
       "#sk-container-id-1 div.sk-parallel-item:only-child::after {\n",
       "  width: 0;\n",
       "}\n",
       "\n",
       "/* Serial-specific style estimator block */\n",
       "\n",
       "#sk-container-id-1 div.sk-serial {\n",
       "  display: flex;\n",
       "  flex-direction: column;\n",
       "  align-items: center;\n",
       "  background-color: var(--sklearn-color-background);\n",
       "  padding-right: 1em;\n",
       "  padding-left: 1em;\n",
       "}\n",
       "\n",
       "\n",
       "/* Toggleable style: style used for estimator/Pipeline/ColumnTransformer box that is\n",
       "clickable and can be expanded/collapsed.\n",
       "- Pipeline and ColumnTransformer use this feature and define the default style\n",
       "- Estimators will overwrite some part of the style using the `sk-estimator` class\n",
       "*/\n",
       "\n",
       "/* Pipeline and ColumnTransformer style (default) */\n",
       "\n",
       "#sk-container-id-1 div.sk-toggleable {\n",
       "  /* Default theme specific background. It is overwritten whether we have a\n",
       "  specific estimator or a Pipeline/ColumnTransformer */\n",
       "  background-color: var(--sklearn-color-background);\n",
       "}\n",
       "\n",
       "/* Toggleable label */\n",
       "#sk-container-id-1 label.sk-toggleable__label {\n",
       "  cursor: pointer;\n",
       "  display: flex;\n",
       "  width: 100%;\n",
       "  margin-bottom: 0;\n",
       "  padding: 0.5em;\n",
       "  box-sizing: border-box;\n",
       "  text-align: center;\n",
       "  align-items: start;\n",
       "  justify-content: space-between;\n",
       "  gap: 0.5em;\n",
       "}\n",
       "\n",
       "#sk-container-id-1 label.sk-toggleable__label .caption {\n",
       "  font-size: 0.6rem;\n",
       "  font-weight: lighter;\n",
       "  color: var(--sklearn-color-text-muted);\n",
       "}\n",
       "\n",
       "#sk-container-id-1 label.sk-toggleable__label-arrow:before {\n",
       "  /* Arrow on the left of the label */\n",
       "  content: \"▸\";\n",
       "  float: left;\n",
       "  margin-right: 0.25em;\n",
       "  color: var(--sklearn-color-icon);\n",
       "}\n",
       "\n",
       "#sk-container-id-1 label.sk-toggleable__label-arrow:hover:before {\n",
       "  color: var(--sklearn-color-text);\n",
       "}\n",
       "\n",
       "/* Toggleable content - dropdown */\n",
       "\n",
       "#sk-container-id-1 div.sk-toggleable__content {\n",
       "  max-height: 0;\n",
       "  max-width: 0;\n",
       "  overflow: hidden;\n",
       "  text-align: left;\n",
       "  /* unfitted */\n",
       "  background-color: var(--sklearn-color-unfitted-level-0);\n",
       "}\n",
       "\n",
       "#sk-container-id-1 div.sk-toggleable__content.fitted {\n",
       "  /* fitted */\n",
       "  background-color: var(--sklearn-color-fitted-level-0);\n",
       "}\n",
       "\n",
       "#sk-container-id-1 div.sk-toggleable__content pre {\n",
       "  margin: 0.2em;\n",
       "  border-radius: 0.25em;\n",
       "  color: var(--sklearn-color-text);\n",
       "  /* unfitted */\n",
       "  background-color: var(--sklearn-color-unfitted-level-0);\n",
       "}\n",
       "\n",
       "#sk-container-id-1 div.sk-toggleable__content.fitted pre {\n",
       "  /* unfitted */\n",
       "  background-color: var(--sklearn-color-fitted-level-0);\n",
       "}\n",
       "\n",
       "#sk-container-id-1 input.sk-toggleable__control:checked~div.sk-toggleable__content {\n",
       "  /* Expand drop-down */\n",
       "  max-height: 200px;\n",
       "  max-width: 100%;\n",
       "  overflow: auto;\n",
       "}\n",
       "\n",
       "#sk-container-id-1 input.sk-toggleable__control:checked~label.sk-toggleable__label-arrow:before {\n",
       "  content: \"▾\";\n",
       "}\n",
       "\n",
       "/* Pipeline/ColumnTransformer-specific style */\n",
       "\n",
       "#sk-container-id-1 div.sk-label input.sk-toggleable__control:checked~label.sk-toggleable__label {\n",
       "  color: var(--sklearn-color-text);\n",
       "  background-color: var(--sklearn-color-unfitted-level-2);\n",
       "}\n",
       "\n",
       "#sk-container-id-1 div.sk-label.fitted input.sk-toggleable__control:checked~label.sk-toggleable__label {\n",
       "  background-color: var(--sklearn-color-fitted-level-2);\n",
       "}\n",
       "\n",
       "/* Estimator-specific style */\n",
       "\n",
       "/* Colorize estimator box */\n",
       "#sk-container-id-1 div.sk-estimator input.sk-toggleable__control:checked~label.sk-toggleable__label {\n",
       "  /* unfitted */\n",
       "  background-color: var(--sklearn-color-unfitted-level-2);\n",
       "}\n",
       "\n",
       "#sk-container-id-1 div.sk-estimator.fitted input.sk-toggleable__control:checked~label.sk-toggleable__label {\n",
       "  /* fitted */\n",
       "  background-color: var(--sklearn-color-fitted-level-2);\n",
       "}\n",
       "\n",
       "#sk-container-id-1 div.sk-label label.sk-toggleable__label,\n",
       "#sk-container-id-1 div.sk-label label {\n",
       "  /* The background is the default theme color */\n",
       "  color: var(--sklearn-color-text-on-default-background);\n",
       "}\n",
       "\n",
       "/* On hover, darken the color of the background */\n",
       "#sk-container-id-1 div.sk-label:hover label.sk-toggleable__label {\n",
       "  color: var(--sklearn-color-text);\n",
       "  background-color: var(--sklearn-color-unfitted-level-2);\n",
       "}\n",
       "\n",
       "/* Label box, darken color on hover, fitted */\n",
       "#sk-container-id-1 div.sk-label.fitted:hover label.sk-toggleable__label.fitted {\n",
       "  color: var(--sklearn-color-text);\n",
       "  background-color: var(--sklearn-color-fitted-level-2);\n",
       "}\n",
       "\n",
       "/* Estimator label */\n",
       "\n",
       "#sk-container-id-1 div.sk-label label {\n",
       "  font-family: monospace;\n",
       "  font-weight: bold;\n",
       "  display: inline-block;\n",
       "  line-height: 1.2em;\n",
       "}\n",
       "\n",
       "#sk-container-id-1 div.sk-label-container {\n",
       "  text-align: center;\n",
       "}\n",
       "\n",
       "/* Estimator-specific */\n",
       "#sk-container-id-1 div.sk-estimator {\n",
       "  font-family: monospace;\n",
       "  border: 1px dotted var(--sklearn-color-border-box);\n",
       "  border-radius: 0.25em;\n",
       "  box-sizing: border-box;\n",
       "  margin-bottom: 0.5em;\n",
       "  /* unfitted */\n",
       "  background-color: var(--sklearn-color-unfitted-level-0);\n",
       "}\n",
       "\n",
       "#sk-container-id-1 div.sk-estimator.fitted {\n",
       "  /* fitted */\n",
       "  background-color: var(--sklearn-color-fitted-level-0);\n",
       "}\n",
       "\n",
       "/* on hover */\n",
       "#sk-container-id-1 div.sk-estimator:hover {\n",
       "  /* unfitted */\n",
       "  background-color: var(--sklearn-color-unfitted-level-2);\n",
       "}\n",
       "\n",
       "#sk-container-id-1 div.sk-estimator.fitted:hover {\n",
       "  /* fitted */\n",
       "  background-color: var(--sklearn-color-fitted-level-2);\n",
       "}\n",
       "\n",
       "/* Specification for estimator info (e.g. \"i\" and \"?\") */\n",
       "\n",
       "/* Common style for \"i\" and \"?\" */\n",
       "\n",
       ".sk-estimator-doc-link,\n",
       "a:link.sk-estimator-doc-link,\n",
       "a:visited.sk-estimator-doc-link {\n",
       "  float: right;\n",
       "  font-size: smaller;\n",
       "  line-height: 1em;\n",
       "  font-family: monospace;\n",
       "  background-color: var(--sklearn-color-background);\n",
       "  border-radius: 1em;\n",
       "  height: 1em;\n",
       "  width: 1em;\n",
       "  text-decoration: none !important;\n",
       "  margin-left: 0.5em;\n",
       "  text-align: center;\n",
       "  /* unfitted */\n",
       "  border: var(--sklearn-color-unfitted-level-1) 1pt solid;\n",
       "  color: var(--sklearn-color-unfitted-level-1);\n",
       "}\n",
       "\n",
       ".sk-estimator-doc-link.fitted,\n",
       "a:link.sk-estimator-doc-link.fitted,\n",
       "a:visited.sk-estimator-doc-link.fitted {\n",
       "  /* fitted */\n",
       "  border: var(--sklearn-color-fitted-level-1) 1pt solid;\n",
       "  color: var(--sklearn-color-fitted-level-1);\n",
       "}\n",
       "\n",
       "/* On hover */\n",
       "div.sk-estimator:hover .sk-estimator-doc-link:hover,\n",
       ".sk-estimator-doc-link:hover,\n",
       "div.sk-label-container:hover .sk-estimator-doc-link:hover,\n",
       ".sk-estimator-doc-link:hover {\n",
       "  /* unfitted */\n",
       "  background-color: var(--sklearn-color-unfitted-level-3);\n",
       "  color: var(--sklearn-color-background);\n",
       "  text-decoration: none;\n",
       "}\n",
       "\n",
       "div.sk-estimator.fitted:hover .sk-estimator-doc-link.fitted:hover,\n",
       ".sk-estimator-doc-link.fitted:hover,\n",
       "div.sk-label-container:hover .sk-estimator-doc-link.fitted:hover,\n",
       ".sk-estimator-doc-link.fitted:hover {\n",
       "  /* fitted */\n",
       "  background-color: var(--sklearn-color-fitted-level-3);\n",
       "  color: var(--sklearn-color-background);\n",
       "  text-decoration: none;\n",
       "}\n",
       "\n",
       "/* Span, style for the box shown on hovering the info icon */\n",
       ".sk-estimator-doc-link span {\n",
       "  display: none;\n",
       "  z-index: 9999;\n",
       "  position: relative;\n",
       "  font-weight: normal;\n",
       "  right: .2ex;\n",
       "  padding: .5ex;\n",
       "  margin: .5ex;\n",
       "  width: min-content;\n",
       "  min-width: 20ex;\n",
       "  max-width: 50ex;\n",
       "  color: var(--sklearn-color-text);\n",
       "  box-shadow: 2pt 2pt 4pt #999;\n",
       "  /* unfitted */\n",
       "  background: var(--sklearn-color-unfitted-level-0);\n",
       "  border: .5pt solid var(--sklearn-color-unfitted-level-3);\n",
       "}\n",
       "\n",
       ".sk-estimator-doc-link.fitted span {\n",
       "  /* fitted */\n",
       "  background: var(--sklearn-color-fitted-level-0);\n",
       "  border: var(--sklearn-color-fitted-level-3);\n",
       "}\n",
       "\n",
       ".sk-estimator-doc-link:hover span {\n",
       "  display: block;\n",
       "}\n",
       "\n",
       "/* \"?\"-specific style due to the `<a>` HTML tag */\n",
       "\n",
       "#sk-container-id-1 a.estimator_doc_link {\n",
       "  float: right;\n",
       "  font-size: 1rem;\n",
       "  line-height: 1em;\n",
       "  font-family: monospace;\n",
       "  background-color: var(--sklearn-color-background);\n",
       "  border-radius: 1rem;\n",
       "  height: 1rem;\n",
       "  width: 1rem;\n",
       "  text-decoration: none;\n",
       "  /* unfitted */\n",
       "  color: var(--sklearn-color-unfitted-level-1);\n",
       "  border: var(--sklearn-color-unfitted-level-1) 1pt solid;\n",
       "}\n",
       "\n",
       "#sk-container-id-1 a.estimator_doc_link.fitted {\n",
       "  /* fitted */\n",
       "  border: var(--sklearn-color-fitted-level-1) 1pt solid;\n",
       "  color: var(--sklearn-color-fitted-level-1);\n",
       "}\n",
       "\n",
       "/* On hover */\n",
       "#sk-container-id-1 a.estimator_doc_link:hover {\n",
       "  /* unfitted */\n",
       "  background-color: var(--sklearn-color-unfitted-level-3);\n",
       "  color: var(--sklearn-color-background);\n",
       "  text-decoration: none;\n",
       "}\n",
       "\n",
       "#sk-container-id-1 a.estimator_doc_link.fitted:hover {\n",
       "  /* fitted */\n",
       "  background-color: var(--sklearn-color-fitted-level-3);\n",
       "}\n",
       "</style><div id=\"sk-container-id-1\" class=\"sk-top-container\"><div class=\"sk-text-repr-fallback\"><pre>Pipeline(steps=[(&#x27;preprocessor&#x27;,\n",
       "                 ColumnTransformer(remainder=&#x27;passthrough&#x27;,\n",
       "                                   transformers=[(&#x27;dropper&#x27;, &#x27;drop&#x27;,\n",
       "                                                  [&#x27;average_inner_brow_height_max&#x27;,\n",
       "                                                   &#x27;average_inner_brow_height_median&#x27;,\n",
       "                                                   &#x27;average_inner_brow_height_min&#x27;,\n",
       "                                                   &#x27;average_inner_brow_height_std&#x27;,\n",
       "                                                   &#x27;average_inner_brow_height_mean&#x27;,\n",
       "                                                   &#x27;average_outer_brow_height_max&#x27;,\n",
       "                                                   &#x27;average_outer_brow_height_median&#x27;,\n",
       "                                                   &#x27;average_out...\n",
       "                                                   &#x27;outer_lip_height_max&#x27;,\n",
       "                                                   &#x27;outer_lip_height_median&#x27;,\n",
       "                                                   &#x27;outer_lip_height_min&#x27;,\n",
       "                                                   &#x27;outer_lip_height_std&#x27;,\n",
       "                                                   &#x27;outer_lip_height_mean&#x27;, ...])])),\n",
       "                (&#x27;imputer&#x27;, SimpleImputer()), (&#x27;scaler&#x27;, StandardScaler()),\n",
       "                (&#x27;feature_selection&#x27;,\n",
       "                 SelectFromModel(estimator=Lasso(alpha=0.07713372658882832,\n",
       "                                                 max_iter=30000))),\n",
       "                (&#x27;svr&#x27;,\n",
       "                 SVR(C=4.375518726867743, epsilon=0.18432927654425854,\n",
       "                     gamma=0.006825349238374233))])</pre><b>In a Jupyter environment, please rerun this cell to show the HTML representation or trust the notebook. <br />On GitHub, the HTML representation is unable to render, please try loading this page with nbviewer.org.</b></div><div class=\"sk-container\" hidden><div class=\"sk-item sk-dashed-wrapped\"><div class=\"sk-label-container\"><div class=\"sk-label fitted sk-toggleable\"><input class=\"sk-toggleable__control sk-hidden--visually\" id=\"sk-estimator-id-1\" type=\"checkbox\" ><label for=\"sk-estimator-id-1\" class=\"sk-toggleable__label fitted sk-toggleable__label-arrow\"><div><div>Pipeline</div></div><div><a class=\"sk-estimator-doc-link fitted\" rel=\"noreferrer\" target=\"_blank\" href=\"https://scikit-learn.org/1.6/modules/generated/sklearn.pipeline.Pipeline.html\">?<span>Documentation for Pipeline</span></a><span class=\"sk-estimator-doc-link fitted\">i<span>Fitted</span></span></div></label><div class=\"sk-toggleable__content fitted\"><pre>Pipeline(steps=[(&#x27;preprocessor&#x27;,\n",
       "                 ColumnTransformer(remainder=&#x27;passthrough&#x27;,\n",
       "                                   transformers=[(&#x27;dropper&#x27;, &#x27;drop&#x27;,\n",
       "                                                  [&#x27;average_inner_brow_height_max&#x27;,\n",
       "                                                   &#x27;average_inner_brow_height_median&#x27;,\n",
       "                                                   &#x27;average_inner_brow_height_min&#x27;,\n",
       "                                                   &#x27;average_inner_brow_height_std&#x27;,\n",
       "                                                   &#x27;average_inner_brow_height_mean&#x27;,\n",
       "                                                   &#x27;average_outer_brow_height_max&#x27;,\n",
       "                                                   &#x27;average_outer_brow_height_median&#x27;,\n",
       "                                                   &#x27;average_out...\n",
       "                                                   &#x27;outer_lip_height_max&#x27;,\n",
       "                                                   &#x27;outer_lip_height_median&#x27;,\n",
       "                                                   &#x27;outer_lip_height_min&#x27;,\n",
       "                                                   &#x27;outer_lip_height_std&#x27;,\n",
       "                                                   &#x27;outer_lip_height_mean&#x27;, ...])])),\n",
       "                (&#x27;imputer&#x27;, SimpleImputer()), (&#x27;scaler&#x27;, StandardScaler()),\n",
       "                (&#x27;feature_selection&#x27;,\n",
       "                 SelectFromModel(estimator=Lasso(alpha=0.07713372658882832,\n",
       "                                                 max_iter=30000))),\n",
       "                (&#x27;svr&#x27;,\n",
       "                 SVR(C=4.375518726867743, epsilon=0.18432927654425854,\n",
       "                     gamma=0.006825349238374233))])</pre></div> </div></div><div class=\"sk-serial\"><div class=\"sk-item sk-dashed-wrapped\"><div class=\"sk-label-container\"><div class=\"sk-label fitted sk-toggleable\"><input class=\"sk-toggleable__control sk-hidden--visually\" id=\"sk-estimator-id-2\" type=\"checkbox\" ><label for=\"sk-estimator-id-2\" class=\"sk-toggleable__label fitted sk-toggleable__label-arrow\"><div><div>preprocessor: ColumnTransformer</div></div><div><a class=\"sk-estimator-doc-link fitted\" rel=\"noreferrer\" target=\"_blank\" href=\"https://scikit-learn.org/1.6/modules/generated/sklearn.compose.ColumnTransformer.html\">?<span>Documentation for preprocessor: ColumnTransformer</span></a></div></label><div class=\"sk-toggleable__content fitted\"><pre>ColumnTransformer(remainder=&#x27;passthrough&#x27;,\n",
       "                  transformers=[(&#x27;dropper&#x27;, &#x27;drop&#x27;,\n",
       "                                 [&#x27;average_inner_brow_height_max&#x27;,\n",
       "                                  &#x27;average_inner_brow_height_median&#x27;,\n",
       "                                  &#x27;average_inner_brow_height_min&#x27;,\n",
       "                                  &#x27;average_inner_brow_height_std&#x27;,\n",
       "                                  &#x27;average_inner_brow_height_mean&#x27;,\n",
       "                                  &#x27;average_outer_brow_height_max&#x27;,\n",
       "                                  &#x27;average_outer_brow_height_median&#x27;,\n",
       "                                  &#x27;average_outer_brow_height_min&#x27;,\n",
       "                                  &#x27;average_out...\n",
       "                                  &#x27;inner_lip_height_median&#x27;,\n",
       "                                  &#x27;inner_lip_height_min&#x27;,\n",
       "                                  &#x27;inner_lip_height_std&#x27;,\n",
       "                                  &#x27;inner_lip_height_mean&#x27;,\n",
       "                                  &#x27;lip_corner_distance_max&#x27;,\n",
       "                                  &#x27;lip_corner_distance_median&#x27;,\n",
       "                                  &#x27;lip_corner_distance_min&#x27;,\n",
       "                                  &#x27;lip_corner_distance_std&#x27;,\n",
       "                                  &#x27;lip_corner_distance_mean&#x27;,\n",
       "                                  &#x27;outer_lip_height_max&#x27;,\n",
       "                                  &#x27;outer_lip_height_median&#x27;,\n",
       "                                  &#x27;outer_lip_height_min&#x27;,\n",
       "                                  &#x27;outer_lip_height_std&#x27;,\n",
       "                                  &#x27;outer_lip_height_mean&#x27;, ...])])</pre></div> </div></div><div class=\"sk-parallel\"><div class=\"sk-parallel-item\"><div class=\"sk-item\"><div class=\"sk-label-container\"><div class=\"sk-label fitted sk-toggleable\"><input class=\"sk-toggleable__control sk-hidden--visually\" id=\"sk-estimator-id-3\" type=\"checkbox\" ><label for=\"sk-estimator-id-3\" class=\"sk-toggleable__label fitted sk-toggleable__label-arrow\"><div><div>dropper</div></div></label><div class=\"sk-toggleable__content fitted\"><pre>[&#x27;average_inner_brow_height_max&#x27;, &#x27;average_inner_brow_height_median&#x27;, &#x27;average_inner_brow_height_min&#x27;, &#x27;average_inner_brow_height_std&#x27;, &#x27;average_inner_brow_height_mean&#x27;, &#x27;average_outer_brow_height_max&#x27;, &#x27;average_outer_brow_height_median&#x27;, &#x27;average_outer_brow_height_min&#x27;, &#x27;average_outer_brow_height_std&#x27;, &#x27;average_outer_brow_height_mean&#x27;, &#x27;eye_open_max&#x27;, &#x27;eye_open_median&#x27;, &#x27;eye_open_min&#x27;, &#x27;eye_open_std&#x27;, &#x27;eye_open_mean&#x27;, &#x27;inner_lip_height_max&#x27;, &#x27;inner_lip_height_median&#x27;, &#x27;inner_lip_height_min&#x27;, &#x27;inner_lip_height_std&#x27;, &#x27;inner_lip_height_mean&#x27;, &#x27;lip_corner_distance_max&#x27;, &#x27;lip_corner_distance_median&#x27;, &#x27;lip_corner_distance_min&#x27;, &#x27;lip_corner_distance_std&#x27;, &#x27;lip_corner_distance_mean&#x27;, &#x27;outer_lip_height_max&#x27;, &#x27;outer_lip_height_median&#x27;, &#x27;outer_lip_height_min&#x27;, &#x27;outer_lip_height_std&#x27;, &#x27;outer_lip_height_mean&#x27;, &#x27;smile_max&#x27;, &#x27;smile_median&#x27;, &#x27;smile_min&#x27;, &#x27;smile_std&#x27;, &#x27;smile_mean&#x27;, &#x27;pitch_max&#x27;, &#x27;pitch_median&#x27;, &#x27;pitch_min&#x27;, &#x27;pitch_std&#x27;, &#x27;pitch_mean&#x27;, &#x27;roll_max&#x27;, &#x27;roll_median&#x27;, &#x27;roll_min&#x27;, &#x27;roll_std&#x27;, &#x27;roll_mean&#x27;, &#x27;yaw_max&#x27;, &#x27;yaw_median&#x27;, &#x27;yaw_min&#x27;, &#x27;yaw_std&#x27;, &#x27;yaw_mean&#x27;, &#x27;Swear&#x27;, &#x27;Numbers&#x27;, &#x27;Inhibition&#x27;, &#x27;Preceptual&#x27;, &#x27;Anxiety&#x27;, &#x27;Anger&#x27;, &#x27;Sadness&#x27;, &#x27;Work&#x27;, &#x27;Articles&#x27;, &#x27;Verbs&#x27;, &#x27;Adverbs&#x27;, &#x27;Prepositions&#x27;, &#x27;Conjunctions&#x27;, &#x27;Negations&#x27;]</pre></div> </div></div><div class=\"sk-serial\"><div class=\"sk-item\"><div class=\"sk-estimator fitted sk-toggleable\"><input class=\"sk-toggleable__control sk-hidden--visually\" id=\"sk-estimator-id-4\" type=\"checkbox\" ><label for=\"sk-estimator-id-4\" class=\"sk-toggleable__label fitted sk-toggleable__label-arrow\"><div><div>drop</div></div></label><div class=\"sk-toggleable__content fitted\"><pre>drop</pre></div> </div></div></div></div></div><div class=\"sk-parallel-item\"><div class=\"sk-item\"><div class=\"sk-label-container\"><div class=\"sk-label fitted sk-toggleable\"><input class=\"sk-toggleable__control sk-hidden--visually\" id=\"sk-estimator-id-5\" type=\"checkbox\" ><label for=\"sk-estimator-id-5\" class=\"sk-toggleable__label fitted sk-toggleable__label-arrow\"><div><div>remainder</div></div></label><div class=\"sk-toggleable__content fitted\"><pre>[&#x27;f0_mean&#x27;, &#x27;f0_min&#x27;, &#x27;f0_max&#x27;, &#x27;f0_range&#x27;, &#x27;f0_sd&#x27;, &#x27;intensity_mean&#x27;, &#x27;intensity_min&#x27;, &#x27;intensity_max&#x27;, &#x27;intensity_range&#x27;, &#x27;intensity_sd&#x27;, &#x27;f1_mean&#x27;, &#x27;f1_sd&#x27;, &#x27;f2_mean&#x27;, &#x27;f2_sd&#x27;, &#x27;f3_mean&#x27;, &#x27;f3_sd&#x27;, &#x27;f2_f1_mean&#x27;, &#x27;f3_f1_mean&#x27;, &#x27;f2_f1_sd&#x27;, &#x27;f3_f1_sd&#x27;, &#x27;jitter&#x27;, &#x27;shimmer&#x27;, &#x27;percent_unvoiced&#x27;, &#x27;percent_breaks&#x27;, &#x27;pause_duration_max&#x27;, &#x27;pause_duration_avg&#x27;, &#x27;duration&#x27;, &#x27;Total Words&#x27;, &#x27;Unique Words&#x27;, &#x27;Filler Words&#x27;, &#x27;Audio Duration (s)&#x27;, &#x27;Duration/Total Words&#x27;, &#x27;Duration/Unique Words&#x27;, &#x27;Duration/Filler Words&#x27;, &#x27;Individual&#x27;, &#x27;We&#x27;, &#x27;They&#x27;, &#x27;Non-Fluences&#x27;, &#x27;PosEmotion&#x27;, &#x27;NegEmotion&#x27;, &#x27;Cognitive&#x27;, &#x27;Relativity&#x27;, &#x27;Quantifiers&#x27;]</pre></div> </div></div><div class=\"sk-serial\"><div class=\"sk-item\"><div class=\"sk-estimator fitted sk-toggleable\"><input class=\"sk-toggleable__control sk-hidden--visually\" id=\"sk-estimator-id-6\" type=\"checkbox\" ><label for=\"sk-estimator-id-6\" class=\"sk-toggleable__label fitted sk-toggleable__label-arrow\"><div><div>passthrough</div></div></label><div class=\"sk-toggleable__content fitted\"><pre>passthrough</pre></div> </div></div></div></div></div></div></div><div class=\"sk-item\"><div class=\"sk-estimator fitted sk-toggleable\"><input class=\"sk-toggleable__control sk-hidden--visually\" id=\"sk-estimator-id-7\" type=\"checkbox\" ><label for=\"sk-estimator-id-7\" class=\"sk-toggleable__label fitted sk-toggleable__label-arrow\"><div><div>SimpleImputer</div></div><div><a class=\"sk-estimator-doc-link fitted\" rel=\"noreferrer\" target=\"_blank\" href=\"https://scikit-learn.org/1.6/modules/generated/sklearn.impute.SimpleImputer.html\">?<span>Documentation for SimpleImputer</span></a></div></label><div class=\"sk-toggleable__content fitted\"><pre>SimpleImputer()</pre></div> </div></div><div class=\"sk-item\"><div class=\"sk-estimator fitted sk-toggleable\"><input class=\"sk-toggleable__control sk-hidden--visually\" id=\"sk-estimator-id-8\" type=\"checkbox\" ><label for=\"sk-estimator-id-8\" class=\"sk-toggleable__label fitted sk-toggleable__label-arrow\"><div><div>StandardScaler</div></div><div><a class=\"sk-estimator-doc-link fitted\" rel=\"noreferrer\" target=\"_blank\" href=\"https://scikit-learn.org/1.6/modules/generated/sklearn.preprocessing.StandardScaler.html\">?<span>Documentation for StandardScaler</span></a></div></label><div class=\"sk-toggleable__content fitted\"><pre>StandardScaler()</pre></div> </div></div><div class=\"sk-item sk-dashed-wrapped\"><div class=\"sk-label-container\"><div class=\"sk-label fitted sk-toggleable\"><input class=\"sk-toggleable__control sk-hidden--visually\" id=\"sk-estimator-id-9\" type=\"checkbox\" ><label for=\"sk-estimator-id-9\" class=\"sk-toggleable__label fitted sk-toggleable__label-arrow\"><div><div>feature_selection: SelectFromModel</div></div><div><a class=\"sk-estimator-doc-link fitted\" rel=\"noreferrer\" target=\"_blank\" href=\"https://scikit-learn.org/1.6/modules/generated/sklearn.feature_selection.SelectFromModel.html\">?<span>Documentation for feature_selection: SelectFromModel</span></a></div></label><div class=\"sk-toggleable__content fitted\"><pre>SelectFromModel(estimator=Lasso(alpha=0.07713372658882832, max_iter=30000))</pre></div> </div></div><div class=\"sk-parallel\"><div class=\"sk-parallel-item\"><div class=\"sk-item\"><div class=\"sk-label-container\"><div class=\"sk-label fitted sk-toggleable\"><input class=\"sk-toggleable__control sk-hidden--visually\" id=\"sk-estimator-id-10\" type=\"checkbox\" ><label for=\"sk-estimator-id-10\" class=\"sk-toggleable__label fitted sk-toggleable__label-arrow\"><div><div>estimator: Lasso</div></div></label><div class=\"sk-toggleable__content fitted\"><pre>Lasso(alpha=0.07713372658882832, max_iter=30000)</pre></div> </div></div><div class=\"sk-serial\"><div class=\"sk-item\"><div class=\"sk-estimator fitted sk-toggleable\"><input class=\"sk-toggleable__control sk-hidden--visually\" id=\"sk-estimator-id-11\" type=\"checkbox\" ><label for=\"sk-estimator-id-11\" class=\"sk-toggleable__label fitted sk-toggleable__label-arrow\"><div><div>Lasso</div></div><div><a class=\"sk-estimator-doc-link fitted\" rel=\"noreferrer\" target=\"_blank\" href=\"https://scikit-learn.org/1.6/modules/generated/sklearn.linear_model.Lasso.html\">?<span>Documentation for Lasso</span></a></div></label><div class=\"sk-toggleable__content fitted\"><pre>Lasso(alpha=0.07713372658882832, max_iter=30000)</pre></div> </div></div></div></div></div></div></div><div class=\"sk-item\"><div class=\"sk-estimator fitted sk-toggleable\"><input class=\"sk-toggleable__control sk-hidden--visually\" id=\"sk-estimator-id-12\" type=\"checkbox\" ><label for=\"sk-estimator-id-12\" class=\"sk-toggleable__label fitted sk-toggleable__label-arrow\"><div><div>SVR</div></div><div><a class=\"sk-estimator-doc-link fitted\" rel=\"noreferrer\" target=\"_blank\" href=\"https://scikit-learn.org/1.6/modules/generated/sklearn.svm.SVR.html\">?<span>Documentation for SVR</span></a></div></label><div class=\"sk-toggleable__content fitted\"><pre>SVR(C=4.375518726867743, epsilon=0.18432927654425854,\n",
       "    gamma=0.006825349238374233)</pre></div> </div></div></div></div></div></div>"
      ],
      "text/plain": [
       "Pipeline(steps=[('preprocessor',\n",
       "                 ColumnTransformer(remainder='passthrough',\n",
       "                                   transformers=[('dropper', 'drop',\n",
       "                                                  ['average_inner_brow_height_max',\n",
       "                                                   'average_inner_brow_height_median',\n",
       "                                                   'average_inner_brow_height_min',\n",
       "                                                   'average_inner_brow_height_std',\n",
       "                                                   'average_inner_brow_height_mean',\n",
       "                                                   'average_outer_brow_height_max',\n",
       "                                                   'average_outer_brow_height_median',\n",
       "                                                   'average_out...\n",
       "                                                   'outer_lip_height_max',\n",
       "                                                   'outer_lip_height_median',\n",
       "                                                   'outer_lip_height_min',\n",
       "                                                   'outer_lip_height_std',\n",
       "                                                   'outer_lip_height_mean', ...])])),\n",
       "                ('imputer', SimpleImputer()), ('scaler', StandardScaler()),\n",
       "                ('feature_selection',\n",
       "                 SelectFromModel(estimator=Lasso(alpha=0.07713372658882832,\n",
       "                                                 max_iter=30000))),\n",
       "                ('svr',\n",
       "                 SVR(C=4.375518726867743, epsilon=0.18432927654425854,\n",
       "                     gamma=0.006825349238374233))])"
      ]
     },
     "execution_count": 8,
     "metadata": {},
     "output_type": "execute_result"
    }
   ],
   "source": [
    "from sklearn import clone\n",
    "\n",
    "if HYPERPARAMETER_TUNING_ENABLED:\n",
    "    unfitted_pipeline.set_params(**study.best_params)\n",
    "else:\n",
    "    unfitted_pipeline.set_params(**PIPELINE_PARAMS)\n",
    "fitted_pipeline = clone(unfitted_pipeline)\n",
    "fitted_pipeline.fit(X, y)"
   ]
  },
  {
   "cell_type": "markdown",
   "id": "7517dd8e",
   "metadata": {
    "papermill": {
     "duration": 0.033228,
     "end_time": "2025-04-07T22:05:41.849752",
     "exception": false,
     "start_time": "2025-04-07T22:05:41.816524",
     "status": "completed"
    },
    "tags": []
   },
   "source": [
    "## Feature Selection Results"
   ]
  },
  {
   "cell_type": "code",
   "execution_count": 9,
   "id": "37b0ee8b",
   "metadata": {
    "execution": {
     "iopub.execute_input": "2025-04-07T22:05:41.913899Z",
     "iopub.status.busy": "2025-04-07T22:05:41.913676Z",
     "iopub.status.idle": "2025-04-07T22:05:41.918786Z",
     "shell.execute_reply": "2025-04-07T22:05:41.918453Z"
    },
    "papermill": {
     "duration": 0.039018,
     "end_time": "2025-04-07T22:05:41.919840",
     "exception": false,
     "start_time": "2025-04-07T22:05:41.880822",
     "status": "completed"
    },
    "tags": []
   },
   "outputs": [
    {
     "name": "stdout",
     "output_type": "stream",
     "text": [
      "Number of Selected features (8):\n",
      "Selected features: ['remainder__intensity_mean' 'remainder__f3_sd' 'remainder__f2_f1_mean'\n",
      " 'remainder__percent_unvoiced' 'remainder__percent_breaks'\n",
      " 'remainder__Duration/Total Words' 'remainder__They'\n",
      " 'remainder__Cognitive']\n",
      "Unselected features: ['remainder__f0_mean' 'remainder__f0_min' 'remainder__f0_max'\n",
      " 'remainder__f0_range' 'remainder__f0_sd' 'remainder__intensity_min'\n",
      " 'remainder__intensity_max' 'remainder__intensity_range'\n",
      " 'remainder__intensity_sd' 'remainder__f1_mean' 'remainder__f1_sd'\n",
      " 'remainder__f2_mean' 'remainder__f2_sd' 'remainder__f3_mean'\n",
      " 'remainder__f3_f1_mean' 'remainder__f2_f1_sd' 'remainder__f3_f1_sd'\n",
      " 'remainder__jitter' 'remainder__shimmer' 'remainder__pause_duration_max'\n",
      " 'remainder__pause_duration_avg' 'remainder__duration'\n",
      " 'remainder__Total Words' 'remainder__Unique Words'\n",
      " 'remainder__Filler Words' 'remainder__Audio Duration (s)'\n",
      " 'remainder__Duration/Unique Words' 'remainder__Duration/Filler Words'\n",
      " 'remainder__Individual' 'remainder__We' 'remainder__Non-Fluences'\n",
      " 'remainder__PosEmotion' 'remainder__NegEmotion' 'remainder__Relativity'\n",
      " 'remainder__Quantifiers']\n"
     ]
    }
   ],
   "source": [
    "preprocessor = fitted_pipeline.named_steps['preprocessor']\n",
    "feature_names = preprocessor.get_feature_names_out()    # after preprocessing\n",
    "\n",
    "feature_selector = fitted_pipeline.named_steps['feature_selection']\n",
    "selected_mask = feature_selector.get_support()\n",
    "\n",
    "selected_features = feature_names[selected_mask]\n",
    "unselected_features = feature_names[~selected_mask]\n",
    "\n",
    "print(f\"Number of Selected features ({len(selected_features)}):\")\n",
    "print(f\"Selected features: {selected_features}\")\n",
    "print(f\"Unselected features: {unselected_features}\")"
   ]
  },
  {
   "cell_type": "markdown",
   "id": "a250562f",
   "metadata": {
    "papermill": {
     "duration": 0.031266,
     "end_time": "2025-04-07T22:05:41.983083",
     "exception": false,
     "start_time": "2025-04-07T22:05:41.951817",
     "status": "completed"
    },
    "tags": []
   },
   "source": [
    "# Monte Carlo Cross Validation"
   ]
  },
  {
   "cell_type": "code",
   "execution_count": 10,
   "id": "b0d97a1c",
   "metadata": {
    "execution": {
     "iopub.execute_input": "2025-04-07T22:05:42.045709Z",
     "iopub.status.busy": "2025-04-07T22:05:42.045509Z",
     "iopub.status.idle": "2025-04-07T22:06:02.136929Z",
     "shell.execute_reply": "2025-04-07T22:06:02.135458Z"
    },
    "papermill": {
     "duration": 20.130427,
     "end_time": "2025-04-07T22:06:02.144457",
     "exception": false,
     "start_time": "2025-04-07T22:05:42.014030",
     "status": "completed"
    },
    "tags": []
   },
   "outputs": [
    {
     "name": "stderr",
     "output_type": "stream",
     "text": [
      "Traceback (most recent call last):\n"
     ]
    },
    {
     "name": "stderr",
     "output_type": "stream",
     "text": [
      "Traceback (most recent call last):\n"
     ]
    },
    {
     "name": "stderr",
     "output_type": "stream",
     "text": [
      "  File \"/Users/bassel27/.vscode/extensions/ms-python.debugpy-2025.6.0-darwin-arm64/bundled/libs/debugpy/_vendored/pydevd/_pydevd_bundle/pydevd_comm.py\", line 422, in _on_run\n",
      "    cmd.send(self.sock)\n",
      "    ~~~~~~~~^^^^^^^^^^^\n"
     ]
    },
    {
     "name": "stderr",
     "output_type": "stream",
     "text": [
      "  File \"/Users/bassel27/.vscode/extensions/ms-python.debugpy-2025.6.0-darwin-arm64/bundled/libs/debugpy/_vendored/pydevd/_pydevd_bundle/pydevd_comm.py\", line 422, in _on_run\n",
      "    cmd.send(self.sock)\n",
      "    ~~~~~~~~^^^^^^^^^^^\n"
     ]
    },
    {
     "name": "stderr",
     "output_type": "stream",
     "text": [
      "  File \"/Users/bassel27/.vscode/extensions/ms-python.debugpy-2025.6.0-darwin-arm64/bundled/libs/debugpy/_vendored/pydevd/_pydevd_bundle/pydevd_net_command.py\", line 111, in send\n",
      "    sock.sendall((\"Content-Length: %s\\r\\n\\r\\n\" % len(as_bytes)).encode(\"ascii\"))\n",
      "    ~~~~~~~~~~~~^^^^^^^^^^^^^^^^^^^^^^^^^^^^^^^^^^^^^^^^^^^^^^^^^^^^^^^^^^^^^^^^\n"
     ]
    },
    {
     "name": "stderr",
     "output_type": "stream",
     "text": [
      "  File \"/Users/bassel27/.vscode/extensions/ms-python.debugpy-2025.6.0-darwin-arm64/bundled/libs/debugpy/_vendored/pydevd/_pydevd_bundle/pydevd_net_command.py\", line 111, in send\n",
      "    sock.sendall((\"Content-Length: %s\\r\\n\\r\\n\" % len(as_bytes)).encode(\"ascii\"))\n",
      "    ~~~~~~~~~~~~^^^^^^^^^^^^^^^^^^^^^^^^^^^^^^^^^^^^^^^^^^^^^^^^^^^^^^^^^^^^^^^^\n"
     ]
    },
    {
     "name": "stderr",
     "output_type": "stream",
     "text": [
      "OSError: [Errno 9] Bad file descriptor\n"
     ]
    },
    {
     "name": "stderr",
     "output_type": "stream",
     "text": [
      "OSError: [Errno 9] Bad file descriptor\n"
     ]
    },
    {
     "name": "stderr",
     "output_type": "stream",
     "text": [
      "\n",
      "During handling of the above exception, another exception occurred:\n",
      "\n"
     ]
    },
    {
     "name": "stderr",
     "output_type": "stream",
     "text": [
      "\n",
      "During handling of the above exception, another exception occurred:\n",
      "\n"
     ]
    },
    {
     "name": "stderr",
     "output_type": "stream",
     "text": [
      "Traceback (most recent call last):\n"
     ]
    },
    {
     "name": "stderr",
     "output_type": "stream",
     "text": [
      "Traceback (most recent call last):\n"
     ]
    },
    {
     "name": "stderr",
     "output_type": "stream",
     "text": [
      "  File \"/Users/bassel27/.vscode/extensions/ms-python.debugpy-2025.6.0-darwin-arm64/bundled/libs/debugpy/_vendored/pydevd/_pydevd_bundle/pydevd_daemon_thread.py\", line 53, in run\n",
      "    self._on_run()\n",
      "    ~~~~~~~~~~~~^^\n"
     ]
    },
    {
     "name": "stderr",
     "output_type": "stream",
     "text": [
      "  File \"/Users/bassel27/.vscode/extensions/ms-python.debugpy-2025.6.0-darwin-arm64/bundled/libs/debugpy/_vendored/pydevd/_pydevd_bundle/pydevd_comm.py\", line 432, in _on_run\n",
      "    self.py_db.dispose_and_kill_all_pydevd_threads()\n",
      "    ~~~~~~~~~~~~~~~~~~~~~~~~~~~~~~~~~~~~~~~~~~~~~~^^\n"
     ]
    },
    {
     "name": "stderr",
     "output_type": "stream",
     "text": [
      "  File \"/Users/bassel27/.vscode/extensions/ms-python.debugpy-2025.6.0-darwin-arm64/bundled/libs/debugpy/_vendored/pydevd/pydevd.py\", line 2558, in dispose_and_kill_all_pydevd_threads\n",
      "    self._client_socket.close()\n",
      "    ~~~~~~~~~~~~~~~~~~~~~~~~~^^\n"
     ]
    },
    {
     "name": "stderr",
     "output_type": "stream",
     "text": [
      "  File \"/Users/bassel27/.vscode/extensions/ms-python.debugpy-2025.6.0-darwin-arm64/bundled/libs/debugpy/_vendored/pydevd/_pydevd_bundle/pydevd_daemon_thread.py\", line 53, in run\n",
      "    self._on_run()\n",
      "    ~~~~~~~~~~~~^^\n"
     ]
    },
    {
     "name": "stderr",
     "output_type": "stream",
     "text": [
      "  File \"/Users/bassel27/.vscode/extensions/ms-python.debugpy-2025.6.0-darwin-arm64/bundled/libs/debugpy/_vendored/pydevd/_pydevd_bundle/pydevd_comm.py\", line 432, in _on_run\n",
      "    self.py_db.dispose_and_kill_all_pydevd_threads()\n",
      "    ~~~~~~~~~~~~~~~~~~~~~~~~~~~~~~~~~~~~~~~~~~~~~~^^\n"
     ]
    },
    {
     "name": "stderr",
     "output_type": "stream",
     "text": [
      "  File \"/opt/homebrew/Cellar/python@3.13/3.13.1/Frameworks/Python.framework/Versions/3.13/lib/python3.13/socket.py\", line 505, in close\n",
      "    self._real_close()\n",
      "    ~~~~~~~~~~~~~~~~^^\n"
     ]
    },
    {
     "name": "stderr",
     "output_type": "stream",
     "text": [
      "  File \"/opt/homebrew/Cellar/python@3.13/3.13.1/Frameworks/Python.framework/Versions/3.13/lib/python3.13/socket.py\", line 499, in _real_close\n",
      "    _ss.close(self)\n",
      "    ~~~~~~~~~^^^^^^\n"
     ]
    },
    {
     "name": "stderr",
     "output_type": "stream",
     "text": [
      "Traceback (most recent call last):\n"
     ]
    },
    {
     "name": "stderr",
     "output_type": "stream",
     "text": [
      "  File \"/Users/bassel27/.vscode/extensions/ms-python.debugpy-2025.6.0-darwin-arm64/bundled/libs/debugpy/_vendored/pydevd/pydevd.py\", line 2558, in dispose_and_kill_all_pydevd_threads\n",
      "    self._client_socket.close()\n",
      "    ~~~~~~~~~~~~~~~~~~~~~~~~~^^\n"
     ]
    },
    {
     "name": "stderr",
     "output_type": "stream",
     "text": [
      "  File \"/opt/homebrew/Cellar/python@3.13/3.13.1/Frameworks/Python.framework/Versions/3.13/lib/python3.13/socket.py\", line 505, in close\n",
      "    self._real_close()\n",
      "    ~~~~~~~~~~~~~~~~^^\n"
     ]
    },
    {
     "name": "stderr",
     "output_type": "stream",
     "text": [
      "  File \"/opt/homebrew/Cellar/python@3.13/3.13.1/Frameworks/Python.framework/Versions/3.13/lib/python3.13/socket.py\", line 499, in _real_close\n",
      "    _ss.close(self)\n",
      "    ~~~~~~~~~^^^^^^\n"
     ]
    },
    {
     "name": "stderr",
     "output_type": "stream",
     "text": [
      "OSError: [Errno 9] Bad file descriptor\n"
     ]
    },
    {
     "name": "stderr",
     "output_type": "stream",
     "text": [
      "OSError: [Errno 9] Bad file descriptor\n"
     ]
    },
    {
     "name": "stderr",
     "output_type": "stream",
     "text": [
      "  File \"/Users/bassel27/.vscode/extensions/ms-python.debugpy-2025.6.0-darwin-arm64/bundled/libs/debugpy/_vendored/pydevd/_pydevd_bundle/pydevd_comm.py\", line 422, in _on_run\n",
      "    cmd.send(self.sock)\n",
      "    ~~~~~~~~^^^^^^^^^^^\n"
     ]
    },
    {
     "name": "stderr",
     "output_type": "stream",
     "text": [
      "  File \"/Users/bassel27/.vscode/extensions/ms-python.debugpy-2025.6.0-darwin-arm64/bundled/libs/debugpy/_vendored/pydevd/_pydevd_bundle/pydevd_net_command.py\", line 111, in send\n",
      "    sock.sendall((\"Content-Length: %s\\r\\n\\r\\n\" % len(as_bytes)).encode(\"ascii\"))\n",
      "    ~~~~~~~~~~~~^^^^^^^^^^^^^^^^^^^^^^^^^^^^^^^^^^^^^^^^^^^^^^^^^^^^^^^^^^^^^^^^\n"
     ]
    },
    {
     "name": "stderr",
     "output_type": "stream",
     "text": [
      "Traceback (most recent call last):\n"
     ]
    },
    {
     "name": "stderr",
     "output_type": "stream",
     "text": [
      "OSError: [Errno 9] Bad file descriptor\n"
     ]
    },
    {
     "name": "stderr",
     "output_type": "stream",
     "text": [
      "\n",
      "During handling of the above exception, another exception occurred:\n",
      "\n"
     ]
    },
    {
     "name": "stderr",
     "output_type": "stream",
     "text": [
      "  File \"/Users/bassel27/.vscode/extensions/ms-python.debugpy-2025.6.0-darwin-arm64/bundled/libs/debugpy/_vendored/pydevd/_pydevd_bundle/pydevd_comm.py\", line 422, in _on_run\n",
      "    cmd.send(self.sock)\n",
      "    ~~~~~~~~^^^^^^^^^^^\n"
     ]
    },
    {
     "name": "stderr",
     "output_type": "stream",
     "text": [
      "Traceback (most recent call last):\n"
     ]
    },
    {
     "name": "stderr",
     "output_type": "stream",
     "text": [
      "  File \"/Users/bassel27/.vscode/extensions/ms-python.debugpy-2025.6.0-darwin-arm64/bundled/libs/debugpy/_vendored/pydevd/_pydevd_bundle/pydevd_net_command.py\", line 111, in send\n",
      "    sock.sendall((\"Content-Length: %s\\r\\n\\r\\n\" % len(as_bytes)).encode(\"ascii\"))\n",
      "    ~~~~~~~~~~~~^^^^^^^^^^^^^^^^^^^^^^^^^^^^^^^^^^^^^^^^^^^^^^^^^^^^^^^^^^^^^^^^\n"
     ]
    },
    {
     "name": "stderr",
     "output_type": "stream",
     "text": [
      "  File \"/Users/bassel27/.vscode/extensions/ms-python.debugpy-2025.6.0-darwin-arm64/bundled/libs/debugpy/_vendored/pydevd/_pydevd_bundle/pydevd_daemon_thread.py\", line 53, in run\n",
      "    self._on_run()\n",
      "    ~~~~~~~~~~~~^^\n"
     ]
    },
    {
     "name": "stderr",
     "output_type": "stream",
     "text": [
      "OSError: [Errno 9] Bad file descriptor\n"
     ]
    },
    {
     "name": "stderr",
     "output_type": "stream",
     "text": [
      "  File \"/Users/bassel27/.vscode/extensions/ms-python.debugpy-2025.6.0-darwin-arm64/bundled/libs/debugpy/_vendored/pydevd/_pydevd_bundle/pydevd_comm.py\", line 432, in _on_run\n",
      "    self.py_db.dispose_and_kill_all_pydevd_threads()\n",
      "    ~~~~~~~~~~~~~~~~~~~~~~~~~~~~~~~~~~~~~~~~~~~~~~^^\n"
     ]
    },
    {
     "name": "stderr",
     "output_type": "stream",
     "text": [
      "\n",
      "During handling of the above exception, another exception occurred:\n",
      "\n"
     ]
    },
    {
     "name": "stderr",
     "output_type": "stream",
     "text": [
      "  File \"/Users/bassel27/.vscode/extensions/ms-python.debugpy-2025.6.0-darwin-arm64/bundled/libs/debugpy/_vendored/pydevd/pydevd.py\", line 2558, in dispose_and_kill_all_pydevd_threads\n",
      "    self._client_socket.close()\n",
      "    ~~~~~~~~~~~~~~~~~~~~~~~~~^^\n"
     ]
    },
    {
     "name": "stderr",
     "output_type": "stream",
     "text": [
      "Traceback (most recent call last):\n"
     ]
    },
    {
     "name": "stderr",
     "output_type": "stream",
     "text": [
      "  File \"/opt/homebrew/Cellar/python@3.13/3.13.1/Frameworks/Python.framework/Versions/3.13/lib/python3.13/socket.py\", line 505, in close\n",
      "    self._real_close()\n",
      "    ~~~~~~~~~~~~~~~~^^\n"
     ]
    },
    {
     "name": "stderr",
     "output_type": "stream",
     "text": [
      "  File \"/Users/bassel27/.vscode/extensions/ms-python.debugpy-2025.6.0-darwin-arm64/bundled/libs/debugpy/_vendored/pydevd/_pydevd_bundle/pydevd_daemon_thread.py\", line 53, in run\n",
      "    self._on_run()\n",
      "    ~~~~~~~~~~~~^^\n"
     ]
    },
    {
     "name": "stderr",
     "output_type": "stream",
     "text": [
      "  File \"/Users/bassel27/.vscode/extensions/ms-python.debugpy-2025.6.0-darwin-arm64/bundled/libs/debugpy/_vendored/pydevd/_pydevd_bundle/pydevd_comm.py\", line 432, in _on_run\n",
      "    self.py_db.dispose_and_kill_all_pydevd_threads()\n",
      "    ~~~~~~~~~~~~~~~~~~~~~~~~~~~~~~~~~~~~~~~~~~~~~~^^\n"
     ]
    },
    {
     "name": "stderr",
     "output_type": "stream",
     "text": [
      "  File \"/opt/homebrew/Cellar/python@3.13/3.13.1/Frameworks/Python.framework/Versions/3.13/lib/python3.13/socket.py\", line 499, in _real_close\n",
      "    _ss.close(self)\n",
      "    ~~~~~~~~~^^^^^^\n"
     ]
    },
    {
     "name": "stderr",
     "output_type": "stream",
     "text": [
      "  File \"/Users/bassel27/.vscode/extensions/ms-python.debugpy-2025.6.0-darwin-arm64/bundled/libs/debugpy/_vendored/pydevd/pydevd.py\", line 2558, in dispose_and_kill_all_pydevd_threads\n",
      "    self._client_socket.close()\n",
      "    ~~~~~~~~~~~~~~~~~~~~~~~~~^^\n"
     ]
    },
    {
     "name": "stderr",
     "output_type": "stream",
     "text": [
      "OSError: [Errno 9] Bad file descriptor\n"
     ]
    },
    {
     "name": "stderr",
     "output_type": "stream",
     "text": [
      "  File \"/opt/homebrew/Cellar/python@3.13/3.13.1/Frameworks/Python.framework/Versions/3.13/lib/python3.13/socket.py\", line 505, in close\n",
      "    self._real_close()\n",
      "    ~~~~~~~~~~~~~~~~^^\n"
     ]
    },
    {
     "name": "stderr",
     "output_type": "stream",
     "text": [
      "  File \"/opt/homebrew/Cellar/python@3.13/3.13.1/Frameworks/Python.framework/Versions/3.13/lib/python3.13/socket.py\", line 499, in _real_close\n",
      "    _ss.close(self)\n",
      "    ~~~~~~~~~^^^^^^\n"
     ]
    },
    {
     "name": "stderr",
     "output_type": "stream",
     "text": [
      "OSError: [Errno 9] Bad file descriptor\n"
     ]
    },
    {
     "name": "stderr",
     "output_type": "stream",
     "text": [
      "Traceback (most recent call last):\n"
     ]
    },
    {
     "name": "stderr",
     "output_type": "stream",
     "text": [
      "  File \"/Users/bassel27/.vscode/extensions/ms-python.debugpy-2025.6.0-darwin-arm64/bundled/libs/debugpy/_vendored/pydevd/_pydevd_bundle/pydevd_comm.py\", line 422, in _on_run\n",
      "    cmd.send(self.sock)\n",
      "    ~~~~~~~~^^^^^^^^^^^\n"
     ]
    },
    {
     "name": "stderr",
     "output_type": "stream",
     "text": [
      "  File \"/Users/bassel27/.vscode/extensions/ms-python.debugpy-2025.6.0-darwin-arm64/bundled/libs/debugpy/_vendored/pydevd/_pydevd_bundle/pydevd_net_command.py\", line 111, in send\n",
      "    sock.sendall((\"Content-Length: %s\\r\\n\\r\\n\" % len(as_bytes)).encode(\"ascii\"))\n",
      "    ~~~~~~~~~~~~^^^^^^^^^^^^^^^^^^^^^^^^^^^^^^^^^^^^^^^^^^^^^^^^^^^^^^^^^^^^^^^^\n"
     ]
    },
    {
     "name": "stderr",
     "output_type": "stream",
     "text": [
      "OSError: [Errno 9] Bad file descriptor\n"
     ]
    },
    {
     "name": "stderr",
     "output_type": "stream",
     "text": [
      "\n",
      "During handling of the above exception, another exception occurred:\n",
      "\n"
     ]
    },
    {
     "name": "stderr",
     "output_type": "stream",
     "text": [
      "Traceback (most recent call last):\n"
     ]
    },
    {
     "name": "stderr",
     "output_type": "stream",
     "text": [
      "  File \"/Users/bassel27/.vscode/extensions/ms-python.debugpy-2025.6.0-darwin-arm64/bundled/libs/debugpy/_vendored/pydevd/_pydevd_bundle/pydevd_daemon_thread.py\", line 53, in run\n",
      "    self._on_run()\n",
      "    ~~~~~~~~~~~~^^\n"
     ]
    },
    {
     "name": "stderr",
     "output_type": "stream",
     "text": [
      "  File \"/Users/bassel27/.vscode/extensions/ms-python.debugpy-2025.6.0-darwin-arm64/bundled/libs/debugpy/_vendored/pydevd/_pydevd_bundle/pydevd_comm.py\", line 432, in _on_run\n",
      "    self.py_db.dispose_and_kill_all_pydevd_threads()\n",
      "    ~~~~~~~~~~~~~~~~~~~~~~~~~~~~~~~~~~~~~~~~~~~~~~^^\n"
     ]
    },
    {
     "name": "stderr",
     "output_type": "stream",
     "text": [
      "  File \"/Users/bassel27/.vscode/extensions/ms-python.debugpy-2025.6.0-darwin-arm64/bundled/libs/debugpy/_vendored/pydevd/pydevd.py\", line 2558, in dispose_and_kill_all_pydevd_threads\n",
      "    self._client_socket.close()\n",
      "    ~~~~~~~~~~~~~~~~~~~~~~~~~^^\n"
     ]
    },
    {
     "name": "stderr",
     "output_type": "stream",
     "text": [
      "  File \"/opt/homebrew/Cellar/python@3.13/3.13.1/Frameworks/Python.framework/Versions/3.13/lib/python3.13/socket.py\", line 505, in close\n",
      "    self._real_close()\n",
      "    ~~~~~~~~~~~~~~~~^^\n"
     ]
    },
    {
     "name": "stderr",
     "output_type": "stream",
     "text": [
      "  File \"/opt/homebrew/Cellar/python@3.13/3.13.1/Frameworks/Python.framework/Versions/3.13/lib/python3.13/socket.py\", line 499, in _real_close\n",
      "    _ss.close(self)\n",
      "    ~~~~~~~~~^^^^^^\n"
     ]
    },
    {
     "name": "stderr",
     "output_type": "stream",
     "text": [
      "OSError: [Errno 9] Bad file descriptor\n"
     ]
    },
    {
     "name": "stdout",
     "output_type": "stream",
     "text": [
      "Mean R² Score: 0.20 (±0.28)\n",
      "Mean Pearson Correlation: 0.54 (±0.16)\n"
     ]
    }
   ],
   "source": [
    "from sklearn.model_selection import cross_validate\n",
    "from sklearn.metrics import r2_score\n",
    "\n",
    "scoring = {\n",
    "    \"r2\": make_scorer(r2_score),\n",
    "    \"pearson\": make_scorer(pearson_corr)\n",
    "}\n",
    "\n",
    "results = cross_validate(\n",
    "    unfitted_pipeline,\n",
    "    X,\n",
    "    y,\n",
    "    cv=GroupShuffleSplit(n_splits=1000, test_size=0.2, random_state=42),\n",
    "    groups=groups_column,\n",
    "    scoring=scoring,\n",
    "    n_jobs=-1,\n",
    ")\n",
    "\n",
    "r2_scores = results[\"test_r2\"]\n",
    "pearson_scores = results[\"test_pearson\"]\n",
    "# Report the average performance and variability\n",
    "avg_r2_score = np.mean(r2_scores)\n",
    "print(\n",
    "    f\"Mean R² Score: {avg_r2_score:.2f} (±{np.std(r2_scores):.2f})\"\n",
    ")\n",
    "avg_perason_score = np.mean(pearson_scores)\n",
    "print(\n",
    "    f\"Mean Pearson Correlation: {avg_perason_score:.2f} (±{np.std(pearson_scores):.2f})\"\n",
    ")\n",
    "\n",
    "# Mean R² Score: 0.20 (±0.23)\n",
    "# Mean Pearson Correlation: 0.53 (±0.16)"
   ]
  },
  {
   "cell_type": "markdown",
   "id": "d2e1bb63",
   "metadata": {
    "papermill": {
     "duration": 0.044593,
     "end_time": "2025-04-07T22:06:02.248978",
     "exception": false,
     "start_time": "2025-04-07T22:06:02.204385",
     "status": "completed"
    },
    "tags": []
   },
   "source": [
    "# Save the Model"
   ]
  },
  {
   "cell_type": "code",
   "execution_count": 11,
   "id": "e33f322b",
   "metadata": {
    "execution": {
     "iopub.execute_input": "2025-04-07T22:06:02.333084Z",
     "iopub.status.busy": "2025-04-07T22:06:02.332822Z",
     "iopub.status.idle": "2025-04-07T22:06:02.343298Z",
     "shell.execute_reply": "2025-04-07T22:06:02.342870Z"
    },
    "papermill": {
     "duration": 0.054517,
     "end_time": "2025-04-07T22:06:02.344612",
     "exception": false,
     "start_time": "2025-04-07T22:06:02.290095",
     "status": "completed"
    },
    "tags": []
   },
   "outputs": [
    {
     "data": {
      "text/plain": [
       "['./regression_models/saved_models/RecommendHiring.joblib']"
      ]
     },
     "execution_count": 11,
     "metadata": {},
     "output_type": "execute_result"
    }
   ],
   "source": [
    "from joblib import dump, load\n",
    "\n",
    "dump(fitted_pipeline, os.path.join(SAVED_MODELS_PATH,f'{target_column}.joblib'))"
   ]
  }
 ],
 "metadata": {
  "colab": {
   "provenance": []
  },
  "kernelspec": {
   "display_name": "venv",
   "language": "python",
   "name": "python3"
  },
  "language_info": {
   "codemirror_mode": {
    "name": "ipython",
    "version": 3
   },
   "file_extension": ".py",
   "mimetype": "text/x-python",
   "name": "python",
   "nbconvert_exporter": "python",
   "pygments_lexer": "ipython3",
   "version": "3.13.1"
  },
  "papermill": {
   "default_parameters": {},
   "duration": 46.65788,
   "end_time": "2025-04-07T22:06:05.018048",
   "environment_variables": {},
   "exception": null,
   "input_path": "/Users/bassel27/personal_projects/hireverse/hirability_model.ipynb",
   "output_path": "/Users/bassel27/personal_projects/hireverse/runners/outputs/RecommendHiring_runner_output.ipynb",
   "parameters": {
    "target_column": "RecommendHiring"
   },
   "start_time": "2025-04-07T22:05:18.360168",
   "version": "2.6.0"
  }
 },
 "nbformat": 4,
 "nbformat_minor": 5
}