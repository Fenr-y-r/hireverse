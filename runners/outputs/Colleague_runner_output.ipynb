{
 "cells": [
  {
   "cell_type": "markdown",
   "id": "504c0fdc",
   "metadata": {
    "papermill": {
     "duration": 0.007587,
     "end_time": "2025-04-07T22:45:44.547129",
     "exception": false,
     "start_time": "2025-04-07T22:45:44.539542",
     "status": "completed"
    },
    "tags": []
   },
   "source": [
    "# Input"
   ]
  },
  {
   "cell_type": "code",
   "execution_count": 1,
   "id": "01d1c1fc",
   "metadata": {
    "execution": {
     "iopub.execute_input": "2025-04-07T22:45:44.554224Z",
     "iopub.status.busy": "2025-04-07T22:45:44.553920Z",
     "iopub.status.idle": "2025-04-07T22:45:44.557852Z",
     "shell.execute_reply": "2025-04-07T22:45:44.557353Z"
    },
    "papermill": {
     "duration": 0.008954,
     "end_time": "2025-04-07T22:45:44.559225",
     "exception": false,
     "start_time": "2025-04-07T22:45:44.550271",
     "status": "completed"
    },
    "tags": [
     "parameters"
    ]
   },
   "outputs": [],
   "source": [
    "target_column = \"RecommendHiring\""
   ]
  },
  {
   "cell_type": "code",
   "execution_count": 2,
   "id": "2886e3d4",
   "metadata": {
    "execution": {
     "iopub.execute_input": "2025-04-07T22:45:44.564975Z",
     "iopub.status.busy": "2025-04-07T22:45:44.564801Z",
     "iopub.status.idle": "2025-04-07T22:45:44.567006Z",
     "shell.execute_reply": "2025-04-07T22:45:44.566678Z"
    },
    "papermill": {
     "duration": 0.006014,
     "end_time": "2025-04-07T22:45:44.568016",
     "exception": false,
     "start_time": "2025-04-07T22:45:44.562002",
     "status": "completed"
    },
    "tags": [
     "injected-parameters"
    ]
   },
   "outputs": [],
   "source": [
    "# Parameters\n",
    "target_column = \"Colleague\"\n"
   ]
  },
  {
   "cell_type": "markdown",
   "id": "08a4233c",
   "metadata": {
    "papermill": {
     "duration": 0.002055,
     "end_time": "2025-04-07T22:45:44.572442",
     "exception": false,
     "start_time": "2025-04-07T22:45:44.570387",
     "status": "completed"
    },
    "tags": []
   },
   "source": [
    "# Constants"
   ]
  },
  {
   "cell_type": "code",
   "execution_count": 3,
   "id": "9da93ab7",
   "metadata": {
    "execution": {
     "iopub.execute_input": "2025-04-07T22:45:44.577149Z",
     "iopub.status.busy": "2025-04-07T22:45:44.576959Z",
     "iopub.status.idle": "2025-04-07T22:45:45.315158Z",
     "shell.execute_reply": "2025-04-07T22:45:45.314802Z"
    },
    "papermill": {
     "duration": 0.741723,
     "end_time": "2025-04-07T22:45:45.316197",
     "exception": false,
     "start_time": "2025-04-07T22:45:44.574474",
     "status": "completed"
    },
    "tags": []
   },
   "outputs": [],
   "source": [
    "import os\n",
    "import numpy as np\n",
    "from sklearn.metrics import make_scorer\n",
    "\n",
    "SCRIPT_DIR = os.path.join(os.getcwd(),)\n",
    "\n",
    "SAVED_MODELS_PATH=\"./regression_models/saved_models\"\n",
    "\n",
    "DROPPED_LEXICAL_COLUMNS = [\n",
    "    \"Swear\",\n",
    "    \"Numbers\",\n",
    "    \"Inhibition\",\n",
    "    \"Preceptual\",\n",
    "    \"Anxiety\",\n",
    "    \"Anger\",\n",
    "    \"Sadness\",\n",
    "    \"Work\",\n",
    "    \"Articles\",\n",
    "    \"Verbs\",\n",
    "    \"Adverbs\",\n",
    "    \"Prepositions\",\n",
    "    \"Conjunctions\",\n",
    "    \"Negations\",\n",
    "]\n",
    "\n",
    "facial_features = [\n",
    "    \"average_inner_brow_height\",\n",
    "    \"average_outer_brow_height\",\n",
    "    \"eye_open\",\n",
    "    \"inner_lip_height\",\n",
    "    \"lip_corner_distance\",\n",
    "    \"outer_lip_height\",\n",
    "    \"smile\",\n",
    "    \"pitch\",\n",
    "    \"roll\",\n",
    "    \"yaw\",\n",
    "]\n",
    "stats = [\"max\", \"median\", \"min\", \"std\", \"mean\"]\n",
    "DROPPED_FACIAL_FEATURES = [\n",
    "    f\"{feature}_{stat}\" for feature in facial_features for stat in stats\n",
    "]\n",
    "\n",
    "\n",
    "DROPPED_PROSODIC_COLUMNS = []\n",
    "\n",
    "ALREADY_NORMALIZED_FEATURES = [\n",
    "    \"average_outer_brow_height_mean\",\n",
    "    \"average_inner_brow_height_mean\",\n",
    "    \"eye_open_mean\",\n",
    "    \"inner_lip_height_mean\",\n",
    "    \"inner_lip_height_mean\",\n",
    "    \"lip_corner_distance_mean\",\n",
    "    \"average_outer_brow_height_std\",\n",
    "    \"average_inner_brow_height_std\",\n",
    "    \"eye_open_std\",\n",
    "    \"outer_lip_height_std\",\n",
    "    \"inner_lip_height_std\",\n",
    "    \"lip_corner_distance_std\",\n",
    "    \"average_outer_brow_height_min\",\n",
    "    \"average_inner_brow_height_min\",\n",
    "    \"eye_open_min\",\n",
    "    \"outer_lip_height_min\",\n",
    "    \"inner_lip_height_min\",\n",
    "    \"lip_corner_distance_min\",\n",
    "    \"average_outer_brow_height_max\",\n",
    "    \"average_inner_brow_height_max\",\n",
    "    \"eye_open_max\",\n",
    "    \"outer_lip_height_max\",\n",
    "    \"inner_lip_height_max\",\n",
    "    \"lip_corner_distance_max\",\n",
    "    \"average_outer_brow_height_median\",\n",
    "    \"average_inner_brow_height_median\",\n",
    "    \"eye_open_median\",\n",
    "    \"outer_lip_height_median\",\n",
    "    \"inner_lip_height_median\",\n",
    "    \"lip_corner_distance_median\",\n",
    "]  # these are already in [0, 1]\n",
    "\n",
    "MUST_KEEP_FEATURES = [\n",
    "    \"pause_duration_avg\",\n",
    "    \"average_outer_brow_height_mean\",\n",
    "    \"average_inner_brow_height_mean\",\n",
    "    \"outer_lip_height_mean\",\n",
    "    \"Duration/Filler Words\",\n",
    "]\n",
    "\n",
    "\n",
    "GROUPS_COLUMN = \"cleaned_ids\"\n",
    "INDEX_COLUMN = \"participant_id\"\n",
    "\n",
    "\n",
    "def pearson_corr(y_true, y_pred):\n",
    "    return np.corrcoef(y_true, y_pred)[0, 1]\n",
    "\n",
    "\n",
    "SCORING_METRICS = {\n",
    "    \"r2\": \"r2\",\n",
    "    \"mae\": \"neg_mean_absolute_error\",\n",
    "    \"pearson\": make_scorer(pearson_corr),  # Pearson Correlation Coefficient\n",
    "}\n",
    "\n",
    "\n",
    "MUST_KEEP_FEATURES = [\n",
    "    # \"pause_duration_avg\",\n",
    "    # \"average_outer_brow_height_mean\",\n",
    "    # \"average_inner_brow_height_mean\",\n",
    "    # \"outer_lip_height_mean\",\n",
    "    \"Duration/Filler Words\",\n",
    "]\n",
    "\n",
    "PIPELINE_PARAMS = {'feature_selection__estimator__alpha': 0.057376790661083456, 'svr__C': 0.655379988356498, 'svr__gamma': 0.02784736494309893, 'svr__epsilon': 0.2617249201838037, 'svr__kernel': 'rbf'}\n",
    "HYPERPARAMETER_TUNING_ENABLED = True"
   ]
  },
  {
   "cell_type": "markdown",
   "id": "289c9d26",
   "metadata": {
    "papermill": {
     "duration": 0.001766,
     "end_time": "2025-04-07T22:45:45.319987",
     "exception": false,
     "start_time": "2025-04-07T22:45:45.318221",
     "status": "completed"
    },
    "tags": []
   },
   "source": [
    "# Data Preprocessing"
   ]
  },
  {
   "cell_type": "markdown",
   "id": "d20c06b2",
   "metadata": {
    "papermill": {
     "duration": 0.001663,
     "end_time": "2025-04-07T22:45:45.323337",
     "exception": false,
     "start_time": "2025-04-07T22:45:45.321674",
     "status": "completed"
    },
    "tags": []
   },
   "source": [
    "## Import Datasets"
   ]
  },
  {
   "cell_type": "code",
   "execution_count": 4,
   "id": "56aba73c",
   "metadata": {
    "execution": {
     "iopub.execute_input": "2025-04-07T22:45:45.327478Z",
     "iopub.status.busy": "2025-04-07T22:45:45.327158Z",
     "iopub.status.idle": "2025-04-07T22:45:45.340909Z",
     "shell.execute_reply": "2025-04-07T22:45:45.340525Z"
    },
    "papermill": {
     "duration": 0.016768,
     "end_time": "2025-04-07T22:45:45.341770",
     "exception": false,
     "start_time": "2025-04-07T22:45:45.325002",
     "status": "completed"
    },
    "tags": []
   },
   "outputs": [],
   "source": [
    "import pandas as pd\n",
    "import os\n",
    "\n",
    "features_df = pd.read_csv(os.path.join(SCRIPT_DIR, \"datasets\", \"add.csv\"))\n",
    "features_df = features_df.set_index(\"participant_id\")\n",
    "\n",
    "labels_df = pd.read_csv(\n",
    "    os.path.join(os.path.join(SCRIPT_DIR,  \"datasets\", \"turker_scores_full_interview.csv\"))\n",
    ")\n",
    "labels_df = labels_df.set_index(\"Participant\")\n",
    "labels_df = labels_df.loc[labels_df[\"Worker\"] == \"AGGR\"]\n",
    "\n",
    "features_df.index = features_df.index.str.lower()\n",
    "labels_df.index = labels_df.index.str.lower()\n",
    "indexed_combined_df = features_df.join(labels_df[[target_column]], how=\"left\")\n",
    "combined_df = indexed_combined_df.reset_index(drop=True)"
   ]
  },
  {
   "cell_type": "markdown",
   "id": "8a7cece5",
   "metadata": {
    "papermill": {
     "duration": 0.002053,
     "end_time": "2025-04-07T22:45:45.345953",
     "exception": false,
     "start_time": "2025-04-07T22:45:45.343900",
     "status": "completed"
    },
    "tags": []
   },
   "source": [
    "# Model"
   ]
  },
  {
   "cell_type": "markdown",
   "id": "1885f150",
   "metadata": {
    "papermill": {
     "duration": 0.001683,
     "end_time": "2025-04-07T22:45:45.349347",
     "exception": false,
     "start_time": "2025-04-07T22:45:45.347664",
     "status": "completed"
    },
    "tags": []
   },
   "source": [
    "## Split Data"
   ]
  },
  {
   "cell_type": "code",
   "execution_count": 5,
   "id": "ec89fda3",
   "metadata": {
    "execution": {
     "iopub.execute_input": "2025-04-07T22:45:45.353423Z",
     "iopub.status.busy": "2025-04-07T22:45:45.353169Z",
     "iopub.status.idle": "2025-04-07T22:45:45.355637Z",
     "shell.execute_reply": "2025-04-07T22:45:45.355329Z"
    },
    "papermill": {
     "duration": 0.00544,
     "end_time": "2025-04-07T22:45:45.356457",
     "exception": false,
     "start_time": "2025-04-07T22:45:45.351017",
     "status": "completed"
    },
    "tags": []
   },
   "outputs": [],
   "source": [
    "X = combined_df.drop(columns=[target_column, GROUPS_COLUMN])\n",
    "y = combined_df[target_column]"
   ]
  },
  {
   "cell_type": "markdown",
   "id": "07a4e4fa",
   "metadata": {
    "papermill": {
     "duration": 0.001741,
     "end_time": "2025-04-07T22:45:45.360043",
     "exception": false,
     "start_time": "2025-04-07T22:45:45.358302",
     "status": "completed"
    },
    "tags": []
   },
   "source": [
    "## Pipeline Creation"
   ]
  },
  {
   "cell_type": "code",
   "execution_count": 6,
   "id": "6f8e7de5",
   "metadata": {
    "execution": {
     "iopub.execute_input": "2025-04-07T22:45:45.364057Z",
     "iopub.status.busy": "2025-04-07T22:45:45.363833Z",
     "iopub.status.idle": "2025-04-07T22:45:45.437659Z",
     "shell.execute_reply": "2025-04-07T22:45:45.437270Z"
    },
    "papermill": {
     "duration": 0.076923,
     "end_time": "2025-04-07T22:45:45.438665",
     "exception": false,
     "start_time": "2025-04-07T22:45:45.361742",
     "status": "completed"
    },
    "tags": []
   },
   "outputs": [],
   "source": [
    "import numpy as np\n",
    "from sklearn.compose import ColumnTransformer\n",
    "from sklearn.feature_selection import SelectFromModel\n",
    "from sklearn.impute import SimpleImputer\n",
    "from sklearn.linear_model import Lasso, LassoCV\n",
    "from sklearn.pipeline import Pipeline\n",
    "from sklearn.preprocessing import StandardScaler\n",
    "from sklearn.svm import SVR\n",
    "from sklearn.model_selection import GroupKFold, cross_val_score, cross_validate\n",
    "import sys\n",
    "\n",
    "sys.path.append(\"..\")\n",
    "from models.domain_aware_selector import DomainAwareSelector\n",
    "\n",
    "groups_column = combined_df[GROUPS_COLUMN].astype(str).values\n",
    "\n",
    "\n",
    "preprocessor = ColumnTransformer(\n",
    "    [\n",
    "        ('dropper', 'drop', DROPPED_FACIAL_FEATURES + \n",
    "                            DROPPED_LEXICAL_COLUMNS + \n",
    "                            DROPPED_PROSODIC_COLUMNS)\n",
    "    ],\n",
    "    remainder='passthrough'\n",
    ")\n",
    "unfitted_pipeline = Pipeline(\n",
    "    [\n",
    "        ('preprocessor', preprocessor),\n",
    "        (\"imputer\", SimpleImputer(strategy=\"mean\")),  # NaN imputation\n",
    "        (\"scaler\", StandardScaler()),\n",
    "        (\"feature_selection\", SelectFromModel(estimator=Lasso(max_iter=50000), )),\n",
    "        # ('feature_selection', DomainAwareSelector(\n",
    "        #     must_keep_features=MUST_KEEP_FEATURES,\n",
    "        #     selector=SelectFromModel(lasso_feature_selection_model, max_features=10),\n",
    "        # )),\n",
    "        (\"svr\", SVR(kernel=\"rbf\")),\n",
    "    ]\n",
    ")"
   ]
  },
  {
   "cell_type": "markdown",
   "id": "be167071",
   "metadata": {
    "papermill": {
     "duration": 0.001762,
     "end_time": "2025-04-07T22:45:45.442585",
     "exception": false,
     "start_time": "2025-04-07T22:45:45.440823",
     "status": "completed"
    },
    "tags": []
   },
   "source": [
    "## Hyperparameter Tuning"
   ]
  },
  {
   "cell_type": "code",
   "execution_count": 7,
   "id": "38b833fc",
   "metadata": {
    "execution": {
     "iopub.execute_input": "2025-04-07T22:45:45.446771Z",
     "iopub.status.busy": "2025-04-07T22:45:45.446574Z",
     "iopub.status.idle": "2025-04-07T22:45:59.964308Z",
     "shell.execute_reply": "2025-04-07T22:45:59.963951Z"
    },
    "papermill": {
     "duration": 14.520905,
     "end_time": "2025-04-07T22:45:59.965273",
     "exception": false,
     "start_time": "2025-04-07T22:45:45.444368",
     "status": "completed"
    },
    "tags": []
   },
   "outputs": [
    {
     "name": "stderr",
     "output_type": "stream",
     "text": [
      "/Users/bassel27/personal_projects/hireverse/venv/lib/python3.13/site-packages/tqdm/auto.py:21: TqdmWarning: IProgress not found. Please update jupyter and ipywidgets. See https://ipywidgets.readthedocs.io/en/stable/user_install.html\n",
      "  from .autonotebook import tqdm as notebook_tqdm\n",
      "[I 2025-04-08 00:45:45,495] A new study created in memory with name: no-name-17051f0c-4483-4676-8323-6f1550ec9d41\n"
     ]
    },
    {
     "name": "stderr",
     "output_type": "stream",
     "text": [
      "[I 2025-04-08 00:45:46,427] Trial 3 finished with value: 0.07845514124275874 and parameters: {'feature_selection__estimator__alpha': 0.0020662523858685565, 'svr__C': 1.8656989848912469, 'svr__gamma': 0.014023063763186953, 'svr__epsilon': 0.07600777242830688, 'svr__kernel': 'rbf'}. Best is trial 3 with value: 0.07845514124275874.\n"
     ]
    },
    {
     "name": "stderr",
     "output_type": "stream",
     "text": [
      "[I 2025-04-08 00:45:46,429] Trial 4 finished with value: 0.10705542655939064 and parameters: {'feature_selection__estimator__alpha': 0.0808499083806953, 'svr__C': 2.7140548097470516, 'svr__gamma': 0.025180540423057517, 'svr__epsilon': 0.3520361852418756, 'svr__kernel': 'rbf'}. Best is trial 4 with value: 0.10705542655939064.\n"
     ]
    },
    {
     "name": "stderr",
     "output_type": "stream",
     "text": [
      "[I 2025-04-08 00:45:46,500] Trial 2 finished with value: -0.14502044698656943 and parameters: {'feature_selection__estimator__alpha': 0.003476005102927311, 'svr__C': 0.05807546909287261, 'svr__gamma': 4.491644364897645, 'svr__epsilon': 0.08128361665408501, 'svr__kernel': 'rbf'}. Best is trial 4 with value: 0.10705542655939064.\n"
     ]
    },
    {
     "name": "stderr",
     "output_type": "stream",
     "text": [
      "[I 2025-04-08 00:45:46,546] Trial 0 finished with value: 0.07716002194844226 and parameters: {'feature_selection__estimator__alpha': 0.000837558133035314, 'svr__C': 99.31980011402402, 'svr__gamma': 0.04581147904428183, 'svr__epsilon': 0.36091783389565285, 'svr__kernel': 'rbf'}. Best is trial 4 with value: 0.10705542655939064.\n"
     ]
    },
    {
     "name": "stderr",
     "output_type": "stream",
     "text": [
      "[I 2025-04-08 00:45:46,569] Trial 6 finished with value: 0.03852064402545172 and parameters: {'feature_selection__estimator__alpha': 0.0007520829781754286, 'svr__C': 3.4802423948383088, 'svr__gamma': 0.02907534210507567, 'svr__epsilon': 0.04080459321591228, 'svr__kernel': 'rbf'}. Best is trial 4 with value: 0.10705542655939064.\n"
     ]
    },
    {
     "name": "stderr",
     "output_type": "stream",
     "text": [
      "[I 2025-04-08 00:45:47,193] Trial 1 finished with value: 0.09590797010649565 and parameters: {'feature_selection__estimator__alpha': 0.000415374438409209, 'svr__C': 0.23696468280344546, 'svr__gamma': 0.009154261778814463, 'svr__epsilon': 0.2019603809579679, 'svr__kernel': 'rbf'}. Best is trial 4 with value: 0.10705542655939064.\n"
     ]
    },
    {
     "name": "stderr",
     "output_type": "stream",
     "text": [
      "[I 2025-04-08 00:45:47,285] Trial 5 finished with value: -0.09844169796435674 and parameters: {'feature_selection__estimator__alpha': 0.0002673150850936222, 'svr__C': 0.014138287938608808, 'svr__gamma': 0.015295864662112192, 'svr__epsilon': 0.38608666086915044, 'svr__kernel': 'rbf'}. Best is trial 4 with value: 0.10705542655939064.\n"
     ]
    },
    {
     "name": "stderr",
     "output_type": "stream",
     "text": [
      "[I 2025-04-08 00:45:47,291] Trial 7 finished with value: -0.05628542645560151 and parameters: {'feature_selection__estimator__alpha': 0.00023199416118410777, 'svr__C': 30.257838337049204, 'svr__gamma': 0.01299727257722064, 'svr__epsilon': 0.23100336812153693, 'svr__kernel': 'rbf'}. Best is trial 4 with value: 0.10705542655939064.\n"
     ]
    },
    {
     "name": "stderr",
     "output_type": "stream",
     "text": [
      "[I 2025-04-08 00:45:47,339] Trial 9 finished with value: -0.10325268420021946 and parameters: {'feature_selection__estimator__alpha': 0.022246852595868526, 'svr__C': 0.021718165392590798, 'svr__gamma': 0.15543021843772195, 'svr__epsilon': 0.46363139225418776, 'svr__kernel': 'rbf'}. Best is trial 4 with value: 0.10705542655939064.\n"
     ]
    },
    {
     "name": "stderr",
     "output_type": "stream",
     "text": [
      "[I 2025-04-08 00:45:47,443] Trial 8 finished with value: -0.12586124228426462 and parameters: {'feature_selection__estimator__alpha': 0.003367462355774206, 'svr__C': 6.906599401117313, 'svr__gamma': 1.6737879723979403, 'svr__epsilon': 0.3960844772038607, 'svr__kernel': 'rbf'}. Best is trial 4 with value: 0.10705542655939064.\n"
     ]
    },
    {
     "name": "stderr",
     "output_type": "stream",
     "text": [
      "[I 2025-04-08 00:45:47,492] Trial 10 finished with value: -0.12959456701273853 and parameters: {'feature_selection__estimator__alpha': 0.012363294905823935, 'svr__C': 0.011165162317155532, 'svr__gamma': 0.1818279499818538, 'svr__epsilon': 0.24270038826010415, 'svr__kernel': 'rbf'}. Best is trial 4 with value: 0.10705542655939064.\n"
     ]
    },
    {
     "name": "stderr",
     "output_type": "stream",
     "text": [
      "[I 2025-04-08 00:45:47,564] Trial 11 finished with value: 0.0001955908204577861 and parameters: {'feature_selection__estimator__alpha': 0.026767137702785625, 'svr__C': 0.04356817090273986, 'svr__gamma': 0.024051462140612014, 'svr__epsilon': 0.2329538106093522, 'svr__kernel': 'rbf'}. Best is trial 4 with value: 0.10705542655939064.\n"
     ]
    },
    {
     "name": "stderr",
     "output_type": "stream",
     "text": [
      "[I 2025-04-08 00:45:48,256] Trial 13 finished with value: 0.000680325821227401 and parameters: {'feature_selection__estimator__alpha': 0.0010480661372680982, 'svr__C': 0.5062784704773362, 'svr__gamma': 0.07028780051033068, 'svr__epsilon': 0.46362688742497576, 'svr__kernel': 'rbf'}. Best is trial 4 with value: 0.10705542655939064.\n"
     ]
    },
    {
     "name": "stderr",
     "output_type": "stream",
     "text": [
      "[I 2025-04-08 00:45:48,257] Trial 14 finished with value: -0.12832451202376713 and parameters: {'feature_selection__estimator__alpha': 0.0029612221636104307, 'svr__C': 67.31996190509068, 'svr__gamma': 5.920066330850177, 'svr__epsilon': 0.22635566990969283, 'svr__kernel': 'rbf'}. Best is trial 4 with value: 0.10705542655939064.\n"
     ]
    },
    {
     "name": "stderr",
     "output_type": "stream",
     "text": [
      "[I 2025-04-08 00:45:48,264] Trial 16 finished with value: 0.10463306869123998 and parameters: {'feature_selection__estimator__alpha': 0.07540264899878275, 'svr__C': 0.10242995796542265, 'svr__gamma': 0.09343675473986773, 'svr__epsilon': 0.12210964937230306, 'svr__kernel': 'rbf'}. Best is trial 4 with value: 0.10705542655939064.\n"
     ]
    },
    {
     "name": "stderr",
     "output_type": "stream",
     "text": [
      "[I 2025-04-08 00:45:48,381] Trial 18 finished with value: -0.06417829038325698 and parameters: {'feature_selection__estimator__alpha': 0.08360993648771277, 'svr__C': 0.14718130004040308, 'svr__gamma': 0.002000016019812911, 'svr__epsilon': 0.17428436662051694, 'svr__kernel': 'rbf'}. Best is trial 4 with value: 0.10705542655939064.\n"
     ]
    },
    {
     "name": "stderr",
     "output_type": "stream",
     "text": [
      "[I 2025-04-08 00:45:48,383] Trial 17 finished with value: -0.07417772120111729 and parameters: {'feature_selection__estimator__alpha': 0.08719322450765153, 'svr__C': 0.2535820246071425, 'svr__gamma': 0.0010538742996090446, 'svr__epsilon': 0.3085511518186652, 'svr__kernel': 'rbf'}. Best is trial 4 with value: 0.10705542655939064.\n"
     ]
    },
    {
     "name": "stderr",
     "output_type": "stream",
     "text": [
      "[I 2025-04-08 00:45:48,483] Trial 19 finished with value: -0.03435520530412671 and parameters: {'feature_selection__estimator__alpha': 0.056448884477767025, 'svr__C': 0.23499713834692865, 'svr__gamma': 0.001495818466472867, 'svr__epsilon': 0.15335844376016888, 'svr__kernel': 'rbf'}. Best is trial 4 with value: 0.10705542655939064.\n"
     ]
    },
    {
     "name": "stderr",
     "output_type": "stream",
     "text": [
      "[I 2025-04-08 00:45:48,561] Trial 12 finished with value: -0.12910281062172507 and parameters: {'feature_selection__estimator__alpha': 0.00013417016050448378, 'svr__C': 1.4027484429754091, 'svr__gamma': 1.987338597641507, 'svr__epsilon': 0.1397649323272254, 'svr__kernel': 'rbf'}. Best is trial 4 with value: 0.10705542655939064.\n"
     ]
    },
    {
     "name": "stderr",
     "output_type": "stream",
     "text": [
      "[I 2025-04-08 00:45:48,915] Trial 15 finished with value: -0.13681967053676258 and parameters: {'feature_selection__estimator__alpha': 0.0002412487573084409, 'svr__C': 0.03891963223932818, 'svr__gamma': 0.46096222690404925, 'svr__epsilon': 0.30188658227088194, 'svr__kernel': 'rbf'}. Best is trial 4 with value: 0.10705542655939064.\n"
     ]
    },
    {
     "name": "stderr",
     "output_type": "stream",
     "text": [
      "[I 2025-04-08 00:45:49,157] Trial 20 finished with value: -0.06001895432101832 and parameters: {'feature_selection__estimator__alpha': 0.08870645252360554, 'svr__C': 0.18249576513519936, 'svr__gamma': 0.0016125329127454928, 'svr__epsilon': 0.13333918571265416, 'svr__kernel': 'rbf'}. Best is trial 4 with value: 0.10705542655939064.\n"
     ]
    },
    {
     "name": "stderr",
     "output_type": "stream",
     "text": [
      "[I 2025-04-08 00:45:49,214] Trial 21 finished with value: -0.060497364809019294 and parameters: {'feature_selection__estimator__alpha': 0.07906721113457271, 'svr__C': 0.22265789076290934, 'svr__gamma': 0.001194438068858752, 'svr__epsilon': 0.1310450381136202, 'svr__kernel': 'rbf'}. Best is trial 4 with value: 0.10705542655939064.\n"
     ]
    },
    {
     "name": "stderr",
     "output_type": "stream",
     "text": [
      "[I 2025-04-08 00:45:49,253] Trial 22 finished with value: -0.02959971014458503 and parameters: {'feature_selection__estimator__alpha': 0.0823284027726391, 'svr__C': 0.1906870170102992, 'svr__gamma': 0.9031790096647132, 'svr__epsilon': 0.15092531792014288, 'svr__kernel': 'rbf'}. Best is trial 4 with value: 0.10705542655939064.\n"
     ]
    },
    {
     "name": "stderr",
     "output_type": "stream",
     "text": [
      "[I 2025-04-08 00:45:49,278] Trial 24 finished with value: -0.12371288159817082 and parameters: {'feature_selection__estimator__alpha': 0.009803515372521124, 'svr__C': 11.4508312645903, 'svr__gamma': 0.5557935752581757, 'svr__epsilon': 0.15664919838436492, 'svr__kernel': 'rbf'}. Best is trial 4 with value: 0.10705542655939064.\n"
     ]
    },
    {
     "name": "stderr",
     "output_type": "stream",
     "text": [
      "[I 2025-04-08 00:45:49,403] Trial 23 finished with value: -0.035949451694675096 and parameters: {'feature_selection__estimator__alpha': 0.044611851247943785, 'svr__C': 10.509026307822925, 'svr__gamma': 0.4629356608117655, 'svr__epsilon': 0.13846200155426222, 'svr__kernel': 'rbf'}. Best is trial 4 with value: 0.10705542655939064.\n"
     ]
    },
    {
     "name": "stderr",
     "output_type": "stream",
     "text": [
      "[I 2025-04-08 00:45:49,496] Trial 26 finished with value: -0.09318144974373545 and parameters: {'feature_selection__estimator__alpha': 0.010823408014205838, 'svr__C': 16.694798664373266, 'svr__gamma': 0.29565359773350025, 'svr__epsilon': 0.30121457811192826, 'svr__kernel': 'rbf'}. Best is trial 4 with value: 0.10705542655939064.\n"
     ]
    },
    {
     "name": "stderr",
     "output_type": "stream",
     "text": [
      "[I 2025-04-08 00:45:49,834] Trial 27 finished with value: 0.002375892766268273 and parameters: {'feature_selection__estimator__alpha': 0.012280993988506298, 'svr__C': 10.275790369800296, 'svr__gamma': 0.005140944367374624, 'svr__epsilon': 0.29310247806143486, 'svr__kernel': 'rbf'}. Best is trial 4 with value: 0.10705542655939064.\n"
     ]
    },
    {
     "name": "stderr",
     "output_type": "stream",
     "text": [
      "[I 2025-04-08 00:45:50,131] Trial 28 finished with value: 0.01681717277022819 and parameters: {'feature_selection__estimator__alpha': 0.008354163229885261, 'svr__C': 7.368337521749835, 'svr__gamma': 0.005470166836179754, 'svr__epsilon': 0.31402165958454387, 'svr__kernel': 'rbf'}. Best is trial 4 with value: 0.10705542655939064.\n"
     ]
    },
    {
     "name": "stderr",
     "output_type": "stream",
     "text": [
      "[I 2025-04-08 00:45:50,137] Trial 29 finished with value: 0.13656239166656206 and parameters: {'feature_selection__estimator__alpha': 0.008503506328151215, 'svr__C': 0.648943031726313, 'svr__gamma': 0.004784295850211031, 'svr__epsilon': 0.2856172409489674, 'svr__kernel': 'rbf'}. Best is trial 29 with value: 0.13656239166656206.\n"
     ]
    },
    {
     "name": "stderr",
     "output_type": "stream",
     "text": [
      "[I 2025-04-08 00:45:50,192] Trial 30 finished with value: 0.15811228525168133 and parameters: {'feature_selection__estimator__alpha': 0.036519579515496815, 'svr__C': 0.7254617892062591, 'svr__gamma': 0.005366613615819708, 'svr__epsilon': 0.29944161632456456, 'svr__kernel': 'rbf'}. Best is trial 30 with value: 0.15811228525168133.\n"
     ]
    },
    {
     "name": "stderr",
     "output_type": "stream",
     "text": [
      "[I 2025-04-08 00:45:50,235] Trial 31 finished with value: 0.151005383853772 and parameters: {'feature_selection__estimator__alpha': 0.035389287989981755, 'svr__C': 0.6773230575229429, 'svr__gamma': 0.005172125843202971, 'svr__epsilon': 0.3025111446558388, 'svr__kernel': 'rbf'}. Best is trial 30 with value: 0.15811228525168133.\n"
     ]
    },
    {
     "name": "stderr",
     "output_type": "stream",
     "text": [
      "[I 2025-04-08 00:45:50,386] Trial 32 finished with value: 0.13364409435347466 and parameters: {'feature_selection__estimator__alpha': 0.007495094708547463, 'svr__C': 0.604477532007495, 'svr__gamma': 0.005047248933637475, 'svr__epsilon': 0.28824273020769753, 'svr__kernel': 'rbf'}. Best is trial 30 with value: 0.15811228525168133.\n"
     ]
    },
    {
     "name": "stderr",
     "output_type": "stream",
     "text": [
      "[I 2025-04-08 00:45:50,470] Trial 33 finished with value: 0.1229613880505724 and parameters: {'feature_selection__estimator__alpha': 0.006627134540691801, 'svr__C': 0.4577424669240775, 'svr__gamma': 0.00540382899462992, 'svr__epsilon': 0.1950818645801625, 'svr__kernel': 'rbf'}. Best is trial 30 with value: 0.15811228525168133.\n"
     ]
    },
    {
     "name": "stderr",
     "output_type": "stream",
     "text": [
      "[I 2025-04-08 00:45:50,530] Trial 25 finished with value: -0.12348345265580574 and parameters: {'feature_selection__estimator__alpha': 0.00010170581886559485, 'svr__C': 9.341874922417928, 'svr__gamma': 0.3075516590291665, 'svr__epsilon': 0.3042300670547752, 'svr__kernel': 'rbf'}. Best is trial 30 with value: 0.15811228525168133.\n"
     ]
    },
    {
     "name": "stderr",
     "output_type": "stream",
     "text": [
      "[I 2025-04-08 00:45:50,756] Trial 34 finished with value: 0.15701578548700315 and parameters: {'feature_selection__estimator__alpha': 0.020264790403631903, 'svr__C': 0.5141551513961609, 'svr__gamma': 0.0061340799213565975, 'svr__epsilon': 0.1838055475764079, 'svr__kernel': 'rbf'}. Best is trial 30 with value: 0.15811228525168133.\n"
     ]
    },
    {
     "name": "stderr",
     "output_type": "stream",
     "text": [
      "[I 2025-04-08 00:45:51,139] Trial 35 finished with value: 0.17522052253130413 and parameters: {'feature_selection__estimator__alpha': 0.027009191698832615, 'svr__C': 0.7529524894967893, 'svr__gamma': 0.05179385307261992, 'svr__epsilon': 0.34586741997565446, 'svr__kernel': 'rbf'}. Best is trial 35 with value: 0.17522052253130413.\n"
     ]
    },
    {
     "name": "stderr",
     "output_type": "stream",
     "text": [
      "[I 2025-04-08 00:45:51,182] Trial 37 finished with value: 0.11250197214285787 and parameters: {'feature_selection__estimator__alpha': 0.02781555689895506, 'svr__C': 0.629327710243367, 'svr__gamma': 0.0034849768908370854, 'svr__epsilon': 0.3535975652473174, 'svr__kernel': 'rbf'}. Best is trial 35 with value: 0.17522052253130413.\n"
     ]
    },
    {
     "name": "stderr",
     "output_type": "stream",
     "text": [
      "[I 2025-04-08 00:45:51,214] Trial 38 finished with value: 0.1085265379125087 and parameters: {'feature_selection__estimator__alpha': 0.02848116227132529, 'svr__C': 0.5998834243153072, 'svr__gamma': 0.003576402252382906, 'svr__epsilon': 0.3494660137065388, 'svr__kernel': 'rbf'}. Best is trial 35 with value: 0.17522052253130413.\n"
     ]
    },
    {
     "name": "stderr",
     "output_type": "stream",
     "text": [
      "[I 2025-04-08 00:45:51,247] Trial 36 finished with value: 0.1649335504003845 and parameters: {'feature_selection__estimator__alpha': 0.03091869231730841, 'svr__C': 0.6891891398380363, 'svr__gamma': 0.053276932265335086, 'svr__epsilon': 0.3572487074448042, 'svr__kernel': 'rbf'}. Best is trial 35 with value: 0.17522052253130413.\n"
     ]
    },
    {
     "name": "stderr",
     "output_type": "stream",
     "text": [
      "[I 2025-04-08 00:45:51,352] Trial 39 finished with value: 0.11337778803357694 and parameters: {'feature_selection__estimator__alpha': 0.005861575544259088, 'svr__C': 0.6461921979952385, 'svr__gamma': 0.003161056821882363, 'svr__epsilon': 0.27218844595978053, 'svr__kernel': 'rbf'}. Best is trial 35 with value: 0.17522052253130413.\n"
     ]
    },
    {
     "name": "stderr",
     "output_type": "stream",
     "text": [
      "[I 2025-04-08 00:45:51,516] Trial 40 finished with value: 0.11444011259439987 and parameters: {'feature_selection__estimator__alpha': 0.024296232001588154, 'svr__C': 0.6490136650683848, 'svr__gamma': 0.002770941704968215, 'svr__epsilon': 0.26892765658586704, 'svr__kernel': 'rbf'}. Best is trial 35 with value: 0.17522052253130413.\n"
     ]
    },
    {
     "name": "stderr",
     "output_type": "stream",
     "text": [
      "[I 2025-04-08 00:45:51,643] Trial 41 finished with value: 0.12380528693162929 and parameters: {'feature_selection__estimator__alpha': 0.025112512721805053, 'svr__C': 0.7979001894241962, 'svr__gamma': 0.0029188662990815677, 'svr__epsilon': 0.3457315949813898, 'svr__kernel': 'rbf'}. Best is trial 35 with value: 0.17522052253130413.\n"
     ]
    },
    {
     "name": "stderr",
     "output_type": "stream",
     "text": [
      "[I 2025-04-08 00:45:51,780] Trial 42 finished with value: 0.13415772815059968 and parameters: {'feature_selection__estimator__alpha': 0.026362943632864975, 'svr__C': 0.8971872081954471, 'svr__gamma': 0.002981881534998121, 'svr__epsilon': 0.34680117411866074, 'svr__kernel': 'rbf'}. Best is trial 35 with value: 0.17522052253130413.\n"
     ]
    },
    {
     "name": "stderr",
     "output_type": "stream",
     "text": [
      "[I 2025-04-08 00:45:52,163] Trial 43 finished with value: 0.14680120016187176 and parameters: {'feature_selection__estimator__alpha': 0.02478424871334316, 'svr__C': 1.0876860716158252, 'svr__gamma': 0.002732435997560487, 'svr__epsilon': 0.34595177428868484, 'svr__kernel': 'rbf'}. Best is trial 35 with value: 0.17522052253130413.\n"
     ]
    },
    {
     "name": "stderr",
     "output_type": "stream",
     "text": [
      "[I 2025-04-08 00:45:52,238] Trial 45 finished with value: 0.19908125774961855 and parameters: {'feature_selection__estimator__alpha': 0.017556867388719956, 'svr__C': 1.150981198042654, 'svr__gamma': 0.009291684061102375, 'svr__epsilon': 0.4191372222991985, 'svr__kernel': 'rbf'}. Best is trial 45 with value: 0.19908125774961855.\n"
     ]
    },
    {
     "name": "stderr",
     "output_type": "stream",
     "text": [
      "[I 2025-04-08 00:45:52,240] Trial 44 finished with value: 0.12900621570896412 and parameters: {'feature_selection__estimator__alpha': 0.043475540283621085, 'svr__C': 1.1123857157139747, 'svr__gamma': 0.0490993968929462, 'svr__epsilon': 0.42534758129282935, 'svr__kernel': 'rbf'}. Best is trial 45 with value: 0.19908125774961855.\n"
     ]
    },
    {
     "name": "stderr",
     "output_type": "stream",
     "text": [
      "[I 2025-04-08 00:45:52,244] Trial 46 finished with value: 0.06715418819191424 and parameters: {'feature_selection__estimator__alpha': 0.017473231432249627, 'svr__C': 3.077824875412997, 'svr__gamma': 0.05091720450729214, 'svr__epsilon': 0.40515202986485727, 'svr__kernel': 'rbf'}. Best is trial 45 with value: 0.19908125774961855.\n"
     ]
    },
    {
     "name": "stderr",
     "output_type": "stream",
     "text": [
      "[I 2025-04-08 00:45:52,376] Trial 47 finished with value: 0.08550694038326674 and parameters: {'feature_selection__estimator__alpha': 0.017742251282457856, 'svr__C': 2.14044641945624, 'svr__gamma': 0.043362763218410205, 'svr__epsilon': 0.41569681981848017, 'svr__kernel': 'rbf'}. Best is trial 45 with value: 0.19908125774961855.\n"
     ]
    },
    {
     "name": "stderr",
     "output_type": "stream",
     "text": [
      "[I 2025-04-08 00:45:52,624] Trial 48 finished with value: 0.1433782829845744 and parameters: {'feature_selection__estimator__alpha': 0.05006527693445455, 'svr__C': 1.2935327368380594, 'svr__gamma': 0.037742380250844094, 'svr__epsilon': 0.4107163924033669, 'svr__kernel': 'rbf'}. Best is trial 45 with value: 0.19908125774961855.\n"
     ]
    },
    {
     "name": "stderr",
     "output_type": "stream",
     "text": [
      "[I 2025-04-08 00:45:52,695] Trial 49 finished with value: 0.12185189151753309 and parameters: {'feature_selection__estimator__alpha': 0.016650637046494082, 'svr__C': 2.9500360834222863, 'svr__gamma': 0.009166387808092771, 'svr__epsilon': 0.4027392193854863, 'svr__kernel': 'rbf'}. Best is trial 45 with value: 0.19908125774961855.\n"
     ]
    },
    {
     "name": "stderr",
     "output_type": "stream",
     "text": [
      "[I 2025-04-08 00:45:52,712] Trial 50 finished with value: 0.025868950306469275 and parameters: {'feature_selection__estimator__alpha': 0.04127863724861081, 'svr__C': 3.3760732269744396, 'svr__gamma': 0.03880804688236637, 'svr__epsilon': 0.3993540574567805, 'svr__kernel': 'rbf'}. Best is trial 45 with value: 0.19908125774961855.\n"
     ]
    },
    {
     "name": "stderr",
     "output_type": "stream",
     "text": [
      "[I 2025-04-08 00:45:53,142] Trial 51 finished with value: 0.04706800877968147 and parameters: {'feature_selection__estimator__alpha': 0.0156405594606062, 'svr__C': 3.8082194317817097, 'svr__gamma': 0.03871672714921027, 'svr__epsilon': 0.4081092423857725, 'svr__kernel': 'rbf'}. Best is trial 45 with value: 0.19908125774961855.\n"
     ]
    },
    {
     "name": "stderr",
     "output_type": "stream",
     "text": [
      "[I 2025-04-08 00:45:53,235] Trial 53 finished with value: 0.1644049857345496 and parameters: {'feature_selection__estimator__alpha': 0.016972888642512902, 'svr__C': 1.9179486329744941, 'svr__gamma': 0.011252197747151268, 'svr__epsilon': 0.4150877919331666, 'svr__kernel': 'rbf'}. Best is trial 45 with value: 0.19908125774961855.\n"
     ]
    },
    {
     "name": "stderr",
     "output_type": "stream",
     "text": [
      "[I 2025-04-08 00:45:53,274] Trial 54 finished with value: 0.168039957836096 and parameters: {'feature_selection__estimator__alpha': 0.017903452629466788, 'svr__C': 2.048631978273916, 'svr__gamma': 0.009144487428054352, 'svr__epsilon': 0.49407486590101424, 'svr__kernel': 'rbf'}. Best is trial 45 with value: 0.19908125774961855.\n"
     ]
    },
    {
     "name": "stderr",
     "output_type": "stream",
     "text": [
      "[I 2025-04-08 00:45:53,356] Trial 52 finished with value: 0.1777130720463304 and parameters: {'feature_selection__estimator__alpha': 0.004617236987186118, 'svr__C': 1.6600159791297309, 'svr__gamma': 0.009975268945785763, 'svr__epsilon': 0.43484759614289037, 'svr__kernel': 'rbf'}. Best is trial 45 with value: 0.19908125774961855.\n"
     ]
    },
    {
     "name": "stderr",
     "output_type": "stream",
     "text": [
      "[I 2025-04-08 00:45:53,439] Trial 55 finished with value: 0.1468730656199801 and parameters: {'feature_selection__estimator__alpha': 0.017773860242993877, 'svr__C': 0.3485059135592976, 'svr__gamma': 0.009854452360060264, 'svr__epsilon': 0.3798008196395655, 'svr__kernel': 'rbf'}. Best is trial 45 with value: 0.19908125774961855.\n"
     ]
    },
    {
     "name": "stderr",
     "output_type": "stream",
     "text": [
      "[I 2025-04-08 00:45:53,618] Trial 56 finished with value: 0.17795460220527787 and parameters: {'feature_selection__estimator__alpha': 0.017303757173799596, 'svr__C': 1.60295262521683, 'svr__gamma': 0.0098903142779309, 'svr__epsilon': 0.4898748593512251, 'svr__kernel': 'rbf'}. Best is trial 45 with value: 0.19908125774961855.\n"
     ]
    },
    {
     "name": "stderr",
     "output_type": "stream",
     "text": [
      "[I 2025-04-08 00:45:53,697] Trial 57 finished with value: 0.15943585442443356 and parameters: {'feature_selection__estimator__alpha': 0.03384726679568365, 'svr__C': 0.3478272893648552, 'svr__gamma': 0.020400154920088, 'svr__epsilon': 0.38128218201485553, 'svr__kernel': 'rbf'}. Best is trial 45 with value: 0.19908125774961855.\n"
     ]
    },
    {
     "name": "stderr",
     "output_type": "stream",
     "text": [
      "[I 2025-04-08 00:45:53,705] Trial 58 finished with value: 0.14582861939803976 and parameters: {'feature_selection__estimator__alpha': 0.03466324476082537, 'svr__C': 0.30896977111020935, 'svr__gamma': 0.017853681363679572, 'svr__epsilon': 0.37375665485482035, 'svr__kernel': 'rbf'}. Best is trial 45 with value: 0.19908125774961855.\n"
     ]
    },
    {
     "name": "stderr",
     "output_type": "stream",
     "text": [
      "[I 2025-04-08 00:45:54,207] Trial 59 finished with value: 0.1644642182732993 and parameters: {'feature_selection__estimator__alpha': 0.03322563662338652, 'svr__C': 0.4136731898488436, 'svr__gamma': 0.017206407380183898, 'svr__epsilon': 0.3759060428215236, 'svr__kernel': 'rbf'}. Best is trial 45 with value: 0.19908125774961855.\n"
     ]
    },
    {
     "name": "stderr",
     "output_type": "stream",
     "text": [
      "[I 2025-04-08 00:45:54,231] Trial 60 finished with value: 0.1312467593271262 and parameters: {'feature_selection__estimator__alpha': 0.06136268786444559, 'svr__C': 0.3638999957667297, 'svr__gamma': 0.014366882789802358, 'svr__epsilon': 0.4388324484232589, 'svr__kernel': 'rbf'}. Best is trial 45 with value: 0.19908125774961855.\n"
     ]
    },
    {
     "name": "stderr",
     "output_type": "stream",
     "text": [
      "[I 2025-04-08 00:45:54,366] Trial 61 finished with value: 0.1460248178322 and parameters: {'feature_selection__estimator__alpha': 0.004262999628653724, 'svr__C': 0.36814745015476513, 'svr__gamma': 0.018615167376006866, 'svr__epsilon': 0.48493530555850234, 'svr__kernel': 'rbf'}. Best is trial 45 with value: 0.19908125774961855.\n"
     ]
    },
    {
     "name": "stderr",
     "output_type": "stream",
     "text": [
      "[I 2025-04-08 00:45:54,518] Trial 62 finished with value: 0.04665823950984147 and parameters: {'feature_selection__estimator__alpha': 0.0021215179368708256, 'svr__C': 5.026495498137283, 'svr__gamma': 0.02056474043859237, 'svr__epsilon': 0.4817622348634377, 'svr__kernel': 'rbf'}. Best is trial 45 with value: 0.19908125774961855.\n"
     ]
    },
    {
     "name": "stderr",
     "output_type": "stream",
     "text": [
      "[I 2025-04-08 00:45:54,560] Trial 63 finished with value: 0.10801418916799584 and parameters: {'feature_selection__estimator__alpha': 0.0047313178176025626, 'svr__C': 1.8805474314474988, 'svr__gamma': 0.016558373595988923, 'svr__epsilon': 0.4926495026790284, 'svr__kernel': 'rbf'}. Best is trial 45 with value: 0.19908125774961855.\n"
     ]
    },
    {
     "name": "stderr",
     "output_type": "stream",
     "text": [
      "[I 2025-04-08 00:45:54,747] Trial 64 finished with value: 0.04429537345097775 and parameters: {'feature_selection__estimator__alpha': 0.004874227148098988, 'svr__C': 4.878706504365954, 'svr__gamma': 0.023095250590779173, 'svr__epsilon': 0.4939173283107252, 'svr__kernel': 'rbf'}. Best is trial 45 with value: 0.19908125774961855.\n"
     ]
    },
    {
     "name": "stderr",
     "output_type": "stream",
     "text": [
      "[I 2025-04-08 00:45:54,779] Trial 65 finished with value: -0.041145533046554696 and parameters: {'feature_selection__estimator__alpha': 0.0019315759924599335, 'svr__C': 4.295567797291263, 'svr__gamma': 0.12245180391659681, 'svr__epsilon': 0.49107498938572386, 'svr__kernel': 'rbf'}. Best is trial 45 with value: 0.19908125774961855.\n"
     ]
    },
    {
     "name": "stderr",
     "output_type": "stream",
     "text": [
      "[I 2025-04-08 00:45:54,786] Trial 66 finished with value: -0.027277010916429072 and parameters: {'feature_selection__estimator__alpha': 0.0021584457974884613, 'svr__C': 4.643523539088689, 'svr__gamma': 0.11278108235208523, 'svr__epsilon': 0.4910347610837326, 'svr__kernel': 'rbf'}. Best is trial 45 with value: 0.19908125774961855.\n"
     ]
    },
    {
     "name": "stderr",
     "output_type": "stream",
     "text": [
      "[I 2025-04-08 00:45:55,312] Trial 69 finished with value: 0.05653055384598464 and parameters: {'feature_selection__estimator__alpha': 0.013205947934208507, 'svr__C': 5.018772474641461, 'svr__gamma': 0.09356417888272855, 'svr__epsilon': 0.49480831372825007, 'svr__kernel': 'rbf'}. Best is trial 45 with value: 0.19908125774961855.\n"
     ]
    },
    {
     "name": "stderr",
     "output_type": "stream",
     "text": [
      "[I 2025-04-08 00:45:55,315] Trial 67 finished with value: 0.09039561893204509 and parameters: {'feature_selection__estimator__alpha': 0.0008989211208514437, 'svr__C': 4.7948522418119115, 'svr__gamma': 0.02639337058209368, 'svr__epsilon': 0.48772562266111724, 'svr__kernel': 'rbf'}. Best is trial 45 with value: 0.19908125774961855.\n"
     ]
    },
    {
     "name": "stderr",
     "output_type": "stream",
     "text": [
      "[I 2025-04-08 00:45:55,316] Trial 68 finished with value: 0.009741587483316267 and parameters: {'feature_selection__estimator__alpha': 0.0008857098087501899, 'svr__C': 4.878784297882648, 'svr__gamma': 0.07909263169180301, 'svr__epsilon': 0.4941549180041254, 'svr__kernel': 'rbf'}. Best is trial 45 with value: 0.19908125774961855.\n"
     ]
    },
    {
     "name": "stderr",
     "output_type": "stream",
     "text": [
      "[I 2025-04-08 00:45:55,494] Trial 70 finished with value: 0.0729037956520264 and parameters: {'feature_selection__estimator__alpha': 0.013410833979604622, 'svr__C': 1.6023234876552814, 'svr__gamma': 0.07846633160016692, 'svr__epsilon': 0.4510018019276927, 'svr__kernel': 'rbf'}. Best is trial 45 with value: 0.19908125774961855.\n"
     ]
    },
    {
     "name": "stderr",
     "output_type": "stream",
     "text": [
      "[I 2025-04-08 00:45:55,733] Trial 71 finished with value: -0.04216247099866297 and parameters: {'feature_selection__estimator__alpha': 0.0007764617254348525, 'svr__C': 1.3981816991471077, 'svr__gamma': 0.11297987790154086, 'svr__epsilon': 0.45013395046141286, 'svr__kernel': 'rbf'}. Best is trial 45 with value: 0.19908125774961855.\n"
     ]
    },
    {
     "name": "stderr",
     "output_type": "stream",
     "text": [
      "[I 2025-04-08 00:45:55,740] Trial 73 finished with value: 0.07799822571469164 and parameters: {'feature_selection__estimator__alpha': 0.012341592677952179, 'svr__C': 1.4872967454194796, 'svr__gamma': 0.06964148515807027, 'svr__epsilon': 0.4522837906189984, 'svr__kernel': 'rbf'}. Best is trial 45 with value: 0.19908125774961855.\n"
     ]
    },
    {
     "name": "stderr",
     "output_type": "stream",
     "text": [
      "[I 2025-04-08 00:45:55,757] Trial 74 finished with value: 0.20018591692548365 and parameters: {'feature_selection__estimator__alpha': 0.013283965040613592, 'svr__C': 1.4089438846239357, 'svr__gamma': 0.0074454702031749075, 'svr__epsilon': 0.4607329249643162, 'svr__kernel': 'rbf'}. Best is trial 74 with value: 0.20018591692548365.\n"
     ]
    },
    {
     "name": "stderr",
     "output_type": "stream",
     "text": [
      "[I 2025-04-08 00:45:55,777] Trial 72 finished with value: -0.04737033228843831 and parameters: {'feature_selection__estimator__alpha': 0.0008881316212269955, 'svr__C': 1.6495678501514235, 'svr__gamma': 0.11700679079046668, 'svr__epsilon': 0.4594704407684992, 'svr__kernel': 'rbf'}. Best is trial 74 with value: 0.20018591692548365.\n"
     ]
    },
    {
     "name": "stderr",
     "output_type": "stream",
     "text": [
      "[I 2025-04-08 00:45:56,259] Trial 76 finished with value: -0.02566489574175565 and parameters: {'feature_selection__estimator__alpha': 0.06352643175778609, 'svr__C': 0.09776565849369032, 'svr__gamma': 0.007398028408472742, 'svr__epsilon': 0.4449333905509723, 'svr__kernel': 'rbf'}. Best is trial 74 with value: 0.20018591692548365.\n"
     ]
    },
    {
     "name": "stderr",
     "output_type": "stream",
     "text": [
      "[I 2025-04-08 00:45:56,343] Trial 78 finished with value: 0.15006439555445006 and parameters: {'feature_selection__estimator__alpha': 0.020917122111944214, 'svr__C': 2.220140856848917, 'svr__gamma': 0.010719464592585447, 'svr__epsilon': 0.46430678572240286, 'svr__kernel': 'rbf'}. Best is trial 74 with value: 0.20018591692548365.\n"
     ]
    },
    {
     "name": "stderr",
     "output_type": "stream",
     "text": [
      "[I 2025-04-08 00:45:56,584] Trial 77 finished with value: 0.20564019278484028 and parameters: {'feature_selection__estimator__alpha': 0.000564518732465574, 'svr__C': 1.472352503409597, 'svr__gamma': 0.007489108275176515, 'svr__epsilon': 0.4545848194830384, 'svr__kernel': 'rbf'}. Best is trial 77 with value: 0.20564019278484028.\n"
     ]
    },
    {
     "name": "stderr",
     "output_type": "stream",
     "text": [
      "[I 2025-04-08 00:45:56,688] Trial 79 finished with value: 0.11766120096632884 and parameters: {'feature_selection__estimator__alpha': 0.06101728619106554, 'svr__C': 2.4729821494927027, 'svr__gamma': 0.011140114900445539, 'svr__epsilon': 0.4310374351033165, 'svr__kernel': 'rbf'}. Best is trial 77 with value: 0.20564019278484028.\n"
     ]
    },
    {
     "name": "stderr",
     "output_type": "stream",
     "text": [
      "[I 2025-04-08 00:45:56,689] Trial 80 finished with value: -0.03317045556074068 and parameters: {'feature_selection__estimator__alpha': 0.05926502145045031, 'svr__C': 0.09769673542630991, 'svr__gamma': 0.007765512664826436, 'svr__epsilon': 0.46707479166722415, 'svr__kernel': 'rbf'}. Best is trial 77 with value: 0.20564019278484028.\n"
     ]
    },
    {
     "name": "stderr",
     "output_type": "stream",
     "text": [
      "[I 2025-04-08 00:45:56,753] Trial 81 finished with value: 0.11061336827676368 and parameters: {'feature_selection__estimator__alpha': 0.06253554078494006, 'svr__C': 2.398937224315305, 'svr__gamma': 0.007286587907098587, 'svr__epsilon': 0.47250587719836035, 'svr__kernel': 'rbf'}. Best is trial 77 with value: 0.20564019278484028.\n"
     ]
    },
    {
     "name": "stderr",
     "output_type": "stream",
     "text": [
      "[I 2025-04-08 00:45:56,762] Trial 82 finished with value: 0.14004019130768966 and parameters: {'feature_selection__estimator__alpha': 0.009277237759524083, 'svr__C': 2.3514243702743514, 'svr__gamma': 0.008268311147476502, 'svr__epsilon': 0.4700405870248879, 'svr__kernel': 'rbf'}. Best is trial 77 with value: 0.20564019278484028.\n"
     ]
    },
    {
     "name": "stderr",
     "output_type": "stream",
     "text": [
      "[I 2025-04-08 00:45:56,768] Trial 75 finished with value: 0.19350375713043586 and parameters: {'feature_selection__estimator__alpha': 0.0004841016545555085, 'svr__C': 1.449040498263282, 'svr__gamma': 0.008481107291041923, 'svr__epsilon': 0.4492897647827078, 'svr__kernel': 'rbf'}. Best is trial 77 with value: 0.20564019278484028.\n"
     ]
    },
    {
     "name": "stderr",
     "output_type": "stream",
     "text": [
      "[I 2025-04-08 00:45:57,215] Trial 83 finished with value: 0.1618276455334064 and parameters: {'feature_selection__estimator__alpha': 0.02125569684854375, 'svr__C': 2.400652023866527, 'svr__gamma': 0.008001268642109854, 'svr__epsilon': 0.4314516932444654, 'svr__kernel': 'rbf'}. Best is trial 77 with value: 0.20564019278484028.\n"
     ]
    },
    {
     "name": "stderr",
     "output_type": "stream",
     "text": [
      "[I 2025-04-08 00:45:57,216] Trial 84 finished with value: 0.1948725690131225 and parameters: {'feature_selection__estimator__alpha': 0.009834312745432975, 'svr__C': 0.9392909902916499, 'svr__gamma': 0.007399858093487023, 'svr__epsilon': 0.4312614073148613, 'svr__kernel': 'rbf'}. Best is trial 77 with value: 0.20564019278484028.\n"
     ]
    },
    {
     "name": "stderr",
     "output_type": "stream",
     "text": [
      "[I 2025-04-08 00:45:57,636] Trial 86 finished with value: 0.21335510004719574 and parameters: {'feature_selection__estimator__alpha': 0.0012693428109479302, 'svr__C': 1.08933256186536, 'svr__gamma': 0.007383880324670445, 'svr__epsilon': 0.4747279409436811, 'svr__kernel': 'rbf'}. Best is trial 86 with value: 0.21335510004719574.\n"
     ]
    },
    {
     "name": "stderr",
     "output_type": "stream",
     "text": [
      "[I 2025-04-08 00:45:58,136] Trial 87 finished with value: -0.10702553828624128 and parameters: {'feature_selection__estimator__alpha': 0.0005161144587459318, 'svr__C': 0.9999805529245117, 'svr__gamma': 0.20451285472802141, 'svr__epsilon': 0.32260005613637593, 'svr__kernel': 'rbf'}. Best is trial 86 with value: 0.21335510004719574.\n"
     ]
    },
    {
     "name": "stderr",
     "output_type": "stream",
     "text": [
      "[I 2025-04-08 00:45:58,200] Trial 89 finished with value: -0.10681236814363544 and parameters: {'feature_selection__estimator__alpha': 0.00046617152692542526, 'svr__C': 0.9627649822591567, 'svr__gamma': 0.19564478978631955, 'svr__epsilon': 0.01825732210742964, 'svr__kernel': 'rbf'}. Best is trial 86 with value: 0.21335510004719574.\n"
     ]
    },
    {
     "name": "stderr",
     "output_type": "stream",
     "text": [
      "[I 2025-04-08 00:45:58,365] Trial 85 finished with value: 0.12961866119691162 and parameters: {'feature_selection__estimator__alpha': 0.0002856637901498154, 'svr__C': 2.5360182843987804, 'svr__gamma': 0.007152360305723216, 'svr__epsilon': 0.47332015210276346, 'svr__kernel': 'rbf'}. Best is trial 86 with value: 0.21335510004719574.\n"
     ]
    },
    {
     "name": "stderr",
     "output_type": "stream",
     "text": [
      "[I 2025-04-08 00:45:58,403] Trial 90 finished with value: 0.18912756588904972 and parameters: {'feature_selection__estimator__alpha': 0.00036074726329911756, 'svr__C': 0.9176438713794788, 'svr__gamma': 0.004315971949687006, 'svr__epsilon': 0.4369311427164688, 'svr__kernel': 'rbf'}. Best is trial 86 with value: 0.21335510004719574.\n"
     ]
    },
    {
     "name": "stderr",
     "output_type": "stream",
     "text": [
      "[I 2025-04-08 00:45:58,622] Trial 88 finished with value: 0.16505009683804225 and parameters: {'feature_selection__estimator__alpha': 0.00027609263420491534, 'svr__C': 1.0191659515310814, 'svr__gamma': 0.004059453949346249, 'svr__epsilon': 0.32556967325533737, 'svr__kernel': 'rbf'}. Best is trial 86 with value: 0.21335510004719574.\n"
     ]
    },
    {
     "name": "stderr",
     "output_type": "stream",
     "text": [
      "[I 2025-04-08 00:45:58,787] Trial 92 finished with value: 0.18181715256029027 and parameters: {'feature_selection__estimator__alpha': 0.0004791967907025735, 'svr__C': 0.9050421203121947, 'svr__gamma': 0.0037796303894011515, 'svr__epsilon': 0.4239775772953648, 'svr__kernel': 'rbf'}. Best is trial 86 with value: 0.21335510004719574.\n"
     ]
    },
    {
     "name": "stderr",
     "output_type": "stream",
     "text": [
      "[I 2025-04-08 00:45:58,912] Trial 91 finished with value: 0.1745760477832891 and parameters: {'feature_selection__estimator__alpha': 0.0004066133472858601, 'svr__C': 0.9159708635597538, 'svr__gamma': 0.012632285470474075, 'svr__epsilon': 0.32397128779741297, 'svr__kernel': 'rbf'}. Best is trial 86 with value: 0.21335510004719574.\n"
     ]
    },
    {
     "name": "stderr",
     "output_type": "stream",
     "text": [
      "[I 2025-04-08 00:45:59,375] Trial 93 finished with value: 0.18655436717920515 and parameters: {'feature_selection__estimator__alpha': 0.000432975376257357, 'svr__C': 0.9176334575233349, 'svr__gamma': 0.004002712582121286, 'svr__epsilon': 0.42903296503335925, 'svr__kernel': 'rbf'}. Best is trial 86 with value: 0.21335510004719574.\n"
     ]
    },
    {
     "name": "stderr",
     "output_type": "stream",
     "text": [
      "[I 2025-04-08 00:45:59,404] Trial 97 finished with value: 0.20538944375595908 and parameters: {'feature_selection__estimator__alpha': 0.0014802219350996532, 'svr__C': 1.2959696323411798, 'svr__gamma': 0.004365131696798142, 'svr__epsilon': 0.42420203495725584, 'svr__kernel': 'rbf'}. Best is trial 86 with value: 0.21335510004719574.\n"
     ]
    },
    {
     "name": "stderr",
     "output_type": "stream",
     "text": [
      "[I 2025-04-08 00:45:59,451] Trial 96 finished with value: 0.14930346059346458 and parameters: {'feature_selection__estimator__alpha': 0.0011492368185143497, 'svr__C': 1.1631069258141085, 'svr__gamma': 0.0018217757664494856, 'svr__epsilon': 0.4213248816613282, 'svr__kernel': 'rbf'}. Best is trial 86 with value: 0.21335510004719574.\n"
     ]
    },
    {
     "name": "stderr",
     "output_type": "stream",
     "text": [
      "[I 2025-04-08 00:45:59,511] Trial 95 finished with value: 0.20347476302934756 and parameters: {'feature_selection__estimator__alpha': 0.0005815630962529162, 'svr__C': 1.0921814108091665, 'svr__gamma': 0.003965685792645633, 'svr__epsilon': 0.4307127290867892, 'svr__kernel': 'rbf'}. Best is trial 86 with value: 0.21335510004719574.\n"
     ]
    },
    {
     "name": "stderr",
     "output_type": "stream",
     "text": [
      "[I 2025-04-08 00:45:59,690] Trial 99 finished with value: 0.17520814232544688 and parameters: {'feature_selection__estimator__alpha': 0.0006386634694190589, 'svr__C': 1.1988825353540022, 'svr__gamma': 0.0022414481939009444, 'svr__epsilon': 0.42289617454698314, 'svr__kernel': 'rbf'}. Best is trial 86 with value: 0.21335510004719574.\n"
     ]
    },
    {
     "name": "stderr",
     "output_type": "stream",
     "text": [
      "[I 2025-04-08 00:45:59,850] Trial 94 finished with value: 0.19201041131532925 and parameters: {'feature_selection__estimator__alpha': 0.00029285914074015854, 'svr__C': 0.899408003893454, 'svr__gamma': 0.004541595702917719, 'svr__epsilon': 0.4359661688264824, 'svr__kernel': 'rbf'}. Best is trial 86 with value: 0.21335510004719574.\n"
     ]
    },
    {
     "name": "stderr",
     "output_type": "stream",
     "text": [
      "[I 2025-04-08 00:45:59,961] Trial 98 finished with value: 0.16705275648207601 and parameters: {'feature_selection__estimator__alpha': 0.0003485643784588591, 'svr__C': 1.2154509285976414, 'svr__gamma': 0.002137330576625067, 'svr__epsilon': 0.4239952300218971, 'svr__kernel': 'rbf'}. Best is trial 86 with value: 0.21335510004719574.\n"
     ]
    },
    {
     "name": "stdout",
     "output_type": "stream",
     "text": [
      "Best hyperparameters: {'feature_selection__estimator__alpha': 0.0012693428109479302, 'svr__C': 1.08933256186536, 'svr__gamma': 0.007383880324670445, 'svr__epsilon': 0.4747279409436811, 'svr__kernel': 'rbf'}\n",
      "Best R² score: 0.2134\n"
     ]
    }
   ],
   "source": [
    "import optuna\n",
    "from sklearn.base import clone\n",
    "from sklearn.model_selection import GroupShuffleSplit, cross_val_score\n",
    "import numpy as np\n",
    "\n",
    "def objective(trial):\n",
    "    pipeline_clone = clone(unfitted_pipeline)  # Clone pipeline for thread safety\n",
    "    \n",
    "    params = {\n",
    "        \"feature_selection__estimator__alpha\": trial.suggest_float(\n",
    "        \"feature_selection__estimator__alpha\", 1e-4, 0.1, log=True  # Adjusted lower bound\n",
    "        ),\n",
    "        \"svr__C\": trial.suggest_float(\"svr__C\", 0.01, 100, log=True),\n",
    "        \"svr__gamma\": trial.suggest_float(\"svr__gamma\", 1e-3, 1e1, log=True),\n",
    "        \"svr__epsilon\": trial.suggest_float(\"svr__epsilon\", 0.01, 0.5),\n",
    "        \"svr__kernel\": trial.suggest_categorical(\"svr__kernel\", [\"rbf\"\n",
    "                                                                #  , \"poly\"\n",
    "                                                                 ]),\n",
    "    }\n",
    "    \n",
    "    # if params[\"svr__kernel\"] == \"poly\":\n",
    "    #     params[\"svr__degree\"] = trial.suggest_int(\"svr__degree\", 2, 3)  # Reduced from 5\n",
    "    #     params[\"svr__coef0\"] = trial.suggest_float(\"svr__coef0\", 0.0, 0.5)  # Narrower range\n",
    "        \n",
    "    pipeline_clone.set_params(**params)\n",
    "    \n",
    "    mc_cv_tuning = GroupShuffleSplit(n_splits=20, test_size=0.2, random_state=42)\n",
    "    \n",
    "    scores = cross_val_score(\n",
    "        pipeline_clone, X, y, cv=mc_cv_tuning, groups=groups_column, n_jobs=1\n",
    "    )\n",
    "\n",
    "    return np.mean(scores)\n",
    "\n",
    "if HYPERPARAMETER_TUNING_ENABLED:\n",
    "    study = optuna.create_study(direction=\"maximize\")\n",
    "    study.optimize(objective, n_trials=100, n_jobs=-1, timeout=4*60)\n",
    "    \n",
    "    print(\"Best hyperparameters:\", study.best_params)\n",
    "    print(f\"Best R² score: {study.best_value:.4f}\")"
   ]
  },
  {
   "cell_type": "markdown",
   "id": "ee487f20",
   "metadata": {
    "papermill": {
     "duration": 0.004914,
     "end_time": "2025-04-07T22:45:59.975798",
     "exception": false,
     "start_time": "2025-04-07T22:45:59.970884",
     "status": "completed"
    },
    "tags": []
   },
   "source": [
    "## Store Trained Model"
   ]
  },
  {
   "cell_type": "code",
   "execution_count": 8,
   "id": "14fc7ae1",
   "metadata": {
    "execution": {
     "iopub.execute_input": "2025-04-07T22:45:59.985840Z",
     "iopub.status.busy": "2025-04-07T22:45:59.985677Z",
     "iopub.status.idle": "2025-04-07T22:46:00.011898Z",
     "shell.execute_reply": "2025-04-07T22:46:00.011563Z"
    },
    "papermill": {
     "duration": 0.032331,
     "end_time": "2025-04-07T22:46:00.012838",
     "exception": false,
     "start_time": "2025-04-07T22:45:59.980507",
     "status": "completed"
    },
    "tags": []
   },
   "outputs": [
    {
     "name": "stderr",
     "output_type": "stream",
     "text": [
      "/Users/bassel27/personal_projects/hireverse/venv/lib/python3.13/site-packages/sklearn/compose/_column_transformer.py:1667: FutureWarning: \n",
      "The format of the columns of the 'remainder' transformer in ColumnTransformer.transformers_ will change in version 1.7 to match the format of the other transformers.\n",
      "At the moment the remainder columns are stored as indices (of type int). With the same ColumnTransformer configuration, in the future they will be stored as column names (of type str).\n",
      "To use the new behavior now and suppress this warning, use ColumnTransformer(force_int_remainder_cols=False).\n",
      "\n",
      "  warnings.warn(\n"
     ]
    },
    {
     "data": {
      "text/html": [
       "<style>#sk-container-id-1 {\n",
       "  /* Definition of color scheme common for light and dark mode */\n",
       "  --sklearn-color-text: #000;\n",
       "  --sklearn-color-text-muted: #666;\n",
       "  --sklearn-color-line: gray;\n",
       "  /* Definition of color scheme for unfitted estimators */\n",
       "  --sklearn-color-unfitted-level-0: #fff5e6;\n",
       "  --sklearn-color-unfitted-level-1: #f6e4d2;\n",
       "  --sklearn-color-unfitted-level-2: #ffe0b3;\n",
       "  --sklearn-color-unfitted-level-3: chocolate;\n",
       "  /* Definition of color scheme for fitted estimators */\n",
       "  --sklearn-color-fitted-level-0: #f0f8ff;\n",
       "  --sklearn-color-fitted-level-1: #d4ebff;\n",
       "  --sklearn-color-fitted-level-2: #b3dbfd;\n",
       "  --sklearn-color-fitted-level-3: cornflowerblue;\n",
       "\n",
       "  /* Specific color for light theme */\n",
       "  --sklearn-color-text-on-default-background: var(--sg-text-color, var(--theme-code-foreground, var(--jp-content-font-color1, black)));\n",
       "  --sklearn-color-background: var(--sg-background-color, var(--theme-background, var(--jp-layout-color0, white)));\n",
       "  --sklearn-color-border-box: var(--sg-text-color, var(--theme-code-foreground, var(--jp-content-font-color1, black)));\n",
       "  --sklearn-color-icon: #696969;\n",
       "\n",
       "  @media (prefers-color-scheme: dark) {\n",
       "    /* Redefinition of color scheme for dark theme */\n",
       "    --sklearn-color-text-on-default-background: var(--sg-text-color, var(--theme-code-foreground, var(--jp-content-font-color1, white)));\n",
       "    --sklearn-color-background: var(--sg-background-color, var(--theme-background, var(--jp-layout-color0, #111)));\n",
       "    --sklearn-color-border-box: var(--sg-text-color, var(--theme-code-foreground, var(--jp-content-font-color1, white)));\n",
       "    --sklearn-color-icon: #878787;\n",
       "  }\n",
       "}\n",
       "\n",
       "#sk-container-id-1 {\n",
       "  color: var(--sklearn-color-text);\n",
       "}\n",
       "\n",
       "#sk-container-id-1 pre {\n",
       "  padding: 0;\n",
       "}\n",
       "\n",
       "#sk-container-id-1 input.sk-hidden--visually {\n",
       "  border: 0;\n",
       "  clip: rect(1px 1px 1px 1px);\n",
       "  clip: rect(1px, 1px, 1px, 1px);\n",
       "  height: 1px;\n",
       "  margin: -1px;\n",
       "  overflow: hidden;\n",
       "  padding: 0;\n",
       "  position: absolute;\n",
       "  width: 1px;\n",
       "}\n",
       "\n",
       "#sk-container-id-1 div.sk-dashed-wrapped {\n",
       "  border: 1px dashed var(--sklearn-color-line);\n",
       "  margin: 0 0.4em 0.5em 0.4em;\n",
       "  box-sizing: border-box;\n",
       "  padding-bottom: 0.4em;\n",
       "  background-color: var(--sklearn-color-background);\n",
       "}\n",
       "\n",
       "#sk-container-id-1 div.sk-container {\n",
       "  /* jupyter's `normalize.less` sets `[hidden] { display: none; }`\n",
       "     but bootstrap.min.css set `[hidden] { display: none !important; }`\n",
       "     so we also need the `!important` here to be able to override the\n",
       "     default hidden behavior on the sphinx rendered scikit-learn.org.\n",
       "     See: https://github.com/scikit-learn/scikit-learn/issues/21755 */\n",
       "  display: inline-block !important;\n",
       "  position: relative;\n",
       "}\n",
       "\n",
       "#sk-container-id-1 div.sk-text-repr-fallback {\n",
       "  display: none;\n",
       "}\n",
       "\n",
       "div.sk-parallel-item,\n",
       "div.sk-serial,\n",
       "div.sk-item {\n",
       "  /* draw centered vertical line to link estimators */\n",
       "  background-image: linear-gradient(var(--sklearn-color-text-on-default-background), var(--sklearn-color-text-on-default-background));\n",
       "  background-size: 2px 100%;\n",
       "  background-repeat: no-repeat;\n",
       "  background-position: center center;\n",
       "}\n",
       "\n",
       "/* Parallel-specific style estimator block */\n",
       "\n",
       "#sk-container-id-1 div.sk-parallel-item::after {\n",
       "  content: \"\";\n",
       "  width: 100%;\n",
       "  border-bottom: 2px solid var(--sklearn-color-text-on-default-background);\n",
       "  flex-grow: 1;\n",
       "}\n",
       "\n",
       "#sk-container-id-1 div.sk-parallel {\n",
       "  display: flex;\n",
       "  align-items: stretch;\n",
       "  justify-content: center;\n",
       "  background-color: var(--sklearn-color-background);\n",
       "  position: relative;\n",
       "}\n",
       "\n",
       "#sk-container-id-1 div.sk-parallel-item {\n",
       "  display: flex;\n",
       "  flex-direction: column;\n",
       "}\n",
       "\n",
       "#sk-container-id-1 div.sk-parallel-item:first-child::after {\n",
       "  align-self: flex-end;\n",
       "  width: 50%;\n",
       "}\n",
       "\n",
       "#sk-container-id-1 div.sk-parallel-item:last-child::after {\n",
       "  align-self: flex-start;\n",
       "  width: 50%;\n",
       "}\n",
       "\n",
       "#sk-container-id-1 div.sk-parallel-item:only-child::after {\n",
       "  width: 0;\n",
       "}\n",
       "\n",
       "/* Serial-specific style estimator block */\n",
       "\n",
       "#sk-container-id-1 div.sk-serial {\n",
       "  display: flex;\n",
       "  flex-direction: column;\n",
       "  align-items: center;\n",
       "  background-color: var(--sklearn-color-background);\n",
       "  padding-right: 1em;\n",
       "  padding-left: 1em;\n",
       "}\n",
       "\n",
       "\n",
       "/* Toggleable style: style used for estimator/Pipeline/ColumnTransformer box that is\n",
       "clickable and can be expanded/collapsed.\n",
       "- Pipeline and ColumnTransformer use this feature and define the default style\n",
       "- Estimators will overwrite some part of the style using the `sk-estimator` class\n",
       "*/\n",
       "\n",
       "/* Pipeline and ColumnTransformer style (default) */\n",
       "\n",
       "#sk-container-id-1 div.sk-toggleable {\n",
       "  /* Default theme specific background. It is overwritten whether we have a\n",
       "  specific estimator or a Pipeline/ColumnTransformer */\n",
       "  background-color: var(--sklearn-color-background);\n",
       "}\n",
       "\n",
       "/* Toggleable label */\n",
       "#sk-container-id-1 label.sk-toggleable__label {\n",
       "  cursor: pointer;\n",
       "  display: flex;\n",
       "  width: 100%;\n",
       "  margin-bottom: 0;\n",
       "  padding: 0.5em;\n",
       "  box-sizing: border-box;\n",
       "  text-align: center;\n",
       "  align-items: start;\n",
       "  justify-content: space-between;\n",
       "  gap: 0.5em;\n",
       "}\n",
       "\n",
       "#sk-container-id-1 label.sk-toggleable__label .caption {\n",
       "  font-size: 0.6rem;\n",
       "  font-weight: lighter;\n",
       "  color: var(--sklearn-color-text-muted);\n",
       "}\n",
       "\n",
       "#sk-container-id-1 label.sk-toggleable__label-arrow:before {\n",
       "  /* Arrow on the left of the label */\n",
       "  content: \"▸\";\n",
       "  float: left;\n",
       "  margin-right: 0.25em;\n",
       "  color: var(--sklearn-color-icon);\n",
       "}\n",
       "\n",
       "#sk-container-id-1 label.sk-toggleable__label-arrow:hover:before {\n",
       "  color: var(--sklearn-color-text);\n",
       "}\n",
       "\n",
       "/* Toggleable content - dropdown */\n",
       "\n",
       "#sk-container-id-1 div.sk-toggleable__content {\n",
       "  max-height: 0;\n",
       "  max-width: 0;\n",
       "  overflow: hidden;\n",
       "  text-align: left;\n",
       "  /* unfitted */\n",
       "  background-color: var(--sklearn-color-unfitted-level-0);\n",
       "}\n",
       "\n",
       "#sk-container-id-1 div.sk-toggleable__content.fitted {\n",
       "  /* fitted */\n",
       "  background-color: var(--sklearn-color-fitted-level-0);\n",
       "}\n",
       "\n",
       "#sk-container-id-1 div.sk-toggleable__content pre {\n",
       "  margin: 0.2em;\n",
       "  border-radius: 0.25em;\n",
       "  color: var(--sklearn-color-text);\n",
       "  /* unfitted */\n",
       "  background-color: var(--sklearn-color-unfitted-level-0);\n",
       "}\n",
       "\n",
       "#sk-container-id-1 div.sk-toggleable__content.fitted pre {\n",
       "  /* unfitted */\n",
       "  background-color: var(--sklearn-color-fitted-level-0);\n",
       "}\n",
       "\n",
       "#sk-container-id-1 input.sk-toggleable__control:checked~div.sk-toggleable__content {\n",
       "  /* Expand drop-down */\n",
       "  max-height: 200px;\n",
       "  max-width: 100%;\n",
       "  overflow: auto;\n",
       "}\n",
       "\n",
       "#sk-container-id-1 input.sk-toggleable__control:checked~label.sk-toggleable__label-arrow:before {\n",
       "  content: \"▾\";\n",
       "}\n",
       "\n",
       "/* Pipeline/ColumnTransformer-specific style */\n",
       "\n",
       "#sk-container-id-1 div.sk-label input.sk-toggleable__control:checked~label.sk-toggleable__label {\n",
       "  color: var(--sklearn-color-text);\n",
       "  background-color: var(--sklearn-color-unfitted-level-2);\n",
       "}\n",
       "\n",
       "#sk-container-id-1 div.sk-label.fitted input.sk-toggleable__control:checked~label.sk-toggleable__label {\n",
       "  background-color: var(--sklearn-color-fitted-level-2);\n",
       "}\n",
       "\n",
       "/* Estimator-specific style */\n",
       "\n",
       "/* Colorize estimator box */\n",
       "#sk-container-id-1 div.sk-estimator input.sk-toggleable__control:checked~label.sk-toggleable__label {\n",
       "  /* unfitted */\n",
       "  background-color: var(--sklearn-color-unfitted-level-2);\n",
       "}\n",
       "\n",
       "#sk-container-id-1 div.sk-estimator.fitted input.sk-toggleable__control:checked~label.sk-toggleable__label {\n",
       "  /* fitted */\n",
       "  background-color: var(--sklearn-color-fitted-level-2);\n",
       "}\n",
       "\n",
       "#sk-container-id-1 div.sk-label label.sk-toggleable__label,\n",
       "#sk-container-id-1 div.sk-label label {\n",
       "  /* The background is the default theme color */\n",
       "  color: var(--sklearn-color-text-on-default-background);\n",
       "}\n",
       "\n",
       "/* On hover, darken the color of the background */\n",
       "#sk-container-id-1 div.sk-label:hover label.sk-toggleable__label {\n",
       "  color: var(--sklearn-color-text);\n",
       "  background-color: var(--sklearn-color-unfitted-level-2);\n",
       "}\n",
       "\n",
       "/* Label box, darken color on hover, fitted */\n",
       "#sk-container-id-1 div.sk-label.fitted:hover label.sk-toggleable__label.fitted {\n",
       "  color: var(--sklearn-color-text);\n",
       "  background-color: var(--sklearn-color-fitted-level-2);\n",
       "}\n",
       "\n",
       "/* Estimator label */\n",
       "\n",
       "#sk-container-id-1 div.sk-label label {\n",
       "  font-family: monospace;\n",
       "  font-weight: bold;\n",
       "  display: inline-block;\n",
       "  line-height: 1.2em;\n",
       "}\n",
       "\n",
       "#sk-container-id-1 div.sk-label-container {\n",
       "  text-align: center;\n",
       "}\n",
       "\n",
       "/* Estimator-specific */\n",
       "#sk-container-id-1 div.sk-estimator {\n",
       "  font-family: monospace;\n",
       "  border: 1px dotted var(--sklearn-color-border-box);\n",
       "  border-radius: 0.25em;\n",
       "  box-sizing: border-box;\n",
       "  margin-bottom: 0.5em;\n",
       "  /* unfitted */\n",
       "  background-color: var(--sklearn-color-unfitted-level-0);\n",
       "}\n",
       "\n",
       "#sk-container-id-1 div.sk-estimator.fitted {\n",
       "  /* fitted */\n",
       "  background-color: var(--sklearn-color-fitted-level-0);\n",
       "}\n",
       "\n",
       "/* on hover */\n",
       "#sk-container-id-1 div.sk-estimator:hover {\n",
       "  /* unfitted */\n",
       "  background-color: var(--sklearn-color-unfitted-level-2);\n",
       "}\n",
       "\n",
       "#sk-container-id-1 div.sk-estimator.fitted:hover {\n",
       "  /* fitted */\n",
       "  background-color: var(--sklearn-color-fitted-level-2);\n",
       "}\n",
       "\n",
       "/* Specification for estimator info (e.g. \"i\" and \"?\") */\n",
       "\n",
       "/* Common style for \"i\" and \"?\" */\n",
       "\n",
       ".sk-estimator-doc-link,\n",
       "a:link.sk-estimator-doc-link,\n",
       "a:visited.sk-estimator-doc-link {\n",
       "  float: right;\n",
       "  font-size: smaller;\n",
       "  line-height: 1em;\n",
       "  font-family: monospace;\n",
       "  background-color: var(--sklearn-color-background);\n",
       "  border-radius: 1em;\n",
       "  height: 1em;\n",
       "  width: 1em;\n",
       "  text-decoration: none !important;\n",
       "  margin-left: 0.5em;\n",
       "  text-align: center;\n",
       "  /* unfitted */\n",
       "  border: var(--sklearn-color-unfitted-level-1) 1pt solid;\n",
       "  color: var(--sklearn-color-unfitted-level-1);\n",
       "}\n",
       "\n",
       ".sk-estimator-doc-link.fitted,\n",
       "a:link.sk-estimator-doc-link.fitted,\n",
       "a:visited.sk-estimator-doc-link.fitted {\n",
       "  /* fitted */\n",
       "  border: var(--sklearn-color-fitted-level-1) 1pt solid;\n",
       "  color: var(--sklearn-color-fitted-level-1);\n",
       "}\n",
       "\n",
       "/* On hover */\n",
       "div.sk-estimator:hover .sk-estimator-doc-link:hover,\n",
       ".sk-estimator-doc-link:hover,\n",
       "div.sk-label-container:hover .sk-estimator-doc-link:hover,\n",
       ".sk-estimator-doc-link:hover {\n",
       "  /* unfitted */\n",
       "  background-color: var(--sklearn-color-unfitted-level-3);\n",
       "  color: var(--sklearn-color-background);\n",
       "  text-decoration: none;\n",
       "}\n",
       "\n",
       "div.sk-estimator.fitted:hover .sk-estimator-doc-link.fitted:hover,\n",
       ".sk-estimator-doc-link.fitted:hover,\n",
       "div.sk-label-container:hover .sk-estimator-doc-link.fitted:hover,\n",
       ".sk-estimator-doc-link.fitted:hover {\n",
       "  /* fitted */\n",
       "  background-color: var(--sklearn-color-fitted-level-3);\n",
       "  color: var(--sklearn-color-background);\n",
       "  text-decoration: none;\n",
       "}\n",
       "\n",
       "/* Span, style for the box shown on hovering the info icon */\n",
       ".sk-estimator-doc-link span {\n",
       "  display: none;\n",
       "  z-index: 9999;\n",
       "  position: relative;\n",
       "  font-weight: normal;\n",
       "  right: .2ex;\n",
       "  padding: .5ex;\n",
       "  margin: .5ex;\n",
       "  width: min-content;\n",
       "  min-width: 20ex;\n",
       "  max-width: 50ex;\n",
       "  color: var(--sklearn-color-text);\n",
       "  box-shadow: 2pt 2pt 4pt #999;\n",
       "  /* unfitted */\n",
       "  background: var(--sklearn-color-unfitted-level-0);\n",
       "  border: .5pt solid var(--sklearn-color-unfitted-level-3);\n",
       "}\n",
       "\n",
       ".sk-estimator-doc-link.fitted span {\n",
       "  /* fitted */\n",
       "  background: var(--sklearn-color-fitted-level-0);\n",
       "  border: var(--sklearn-color-fitted-level-3);\n",
       "}\n",
       "\n",
       ".sk-estimator-doc-link:hover span {\n",
       "  display: block;\n",
       "}\n",
       "\n",
       "/* \"?\"-specific style due to the `<a>` HTML tag */\n",
       "\n",
       "#sk-container-id-1 a.estimator_doc_link {\n",
       "  float: right;\n",
       "  font-size: 1rem;\n",
       "  line-height: 1em;\n",
       "  font-family: monospace;\n",
       "  background-color: var(--sklearn-color-background);\n",
       "  border-radius: 1rem;\n",
       "  height: 1rem;\n",
       "  width: 1rem;\n",
       "  text-decoration: none;\n",
       "  /* unfitted */\n",
       "  color: var(--sklearn-color-unfitted-level-1);\n",
       "  border: var(--sklearn-color-unfitted-level-1) 1pt solid;\n",
       "}\n",
       "\n",
       "#sk-container-id-1 a.estimator_doc_link.fitted {\n",
       "  /* fitted */\n",
       "  border: var(--sklearn-color-fitted-level-1) 1pt solid;\n",
       "  color: var(--sklearn-color-fitted-level-1);\n",
       "}\n",
       "\n",
       "/* On hover */\n",
       "#sk-container-id-1 a.estimator_doc_link:hover {\n",
       "  /* unfitted */\n",
       "  background-color: var(--sklearn-color-unfitted-level-3);\n",
       "  color: var(--sklearn-color-background);\n",
       "  text-decoration: none;\n",
       "}\n",
       "\n",
       "#sk-container-id-1 a.estimator_doc_link.fitted:hover {\n",
       "  /* fitted */\n",
       "  background-color: var(--sklearn-color-fitted-level-3);\n",
       "}\n",
       "</style><div id=\"sk-container-id-1\" class=\"sk-top-container\"><div class=\"sk-text-repr-fallback\"><pre>Pipeline(steps=[(&#x27;preprocessor&#x27;,\n",
       "                 ColumnTransformer(remainder=&#x27;passthrough&#x27;,\n",
       "                                   transformers=[(&#x27;dropper&#x27;, &#x27;drop&#x27;,\n",
       "                                                  [&#x27;average_inner_brow_height_max&#x27;,\n",
       "                                                   &#x27;average_inner_brow_height_median&#x27;,\n",
       "                                                   &#x27;average_inner_brow_height_min&#x27;,\n",
       "                                                   &#x27;average_inner_brow_height_std&#x27;,\n",
       "                                                   &#x27;average_inner_brow_height_mean&#x27;,\n",
       "                                                   &#x27;average_outer_brow_height_max&#x27;,\n",
       "                                                   &#x27;average_outer_brow_height_median&#x27;,\n",
       "                                                   &#x27;average_out...\n",
       "                                                   &#x27;outer_lip_height_max&#x27;,\n",
       "                                                   &#x27;outer_lip_height_median&#x27;,\n",
       "                                                   &#x27;outer_lip_height_min&#x27;,\n",
       "                                                   &#x27;outer_lip_height_std&#x27;,\n",
       "                                                   &#x27;outer_lip_height_mean&#x27;, ...])])),\n",
       "                (&#x27;imputer&#x27;, SimpleImputer()), (&#x27;scaler&#x27;, StandardScaler()),\n",
       "                (&#x27;feature_selection&#x27;,\n",
       "                 SelectFromModel(estimator=Lasso(alpha=0.0012693428109479302,\n",
       "                                                 max_iter=50000))),\n",
       "                (&#x27;svr&#x27;,\n",
       "                 SVR(C=1.08933256186536, epsilon=0.4747279409436811,\n",
       "                     gamma=0.007383880324670445))])</pre><b>In a Jupyter environment, please rerun this cell to show the HTML representation or trust the notebook. <br />On GitHub, the HTML representation is unable to render, please try loading this page with nbviewer.org.</b></div><div class=\"sk-container\" hidden><div class=\"sk-item sk-dashed-wrapped\"><div class=\"sk-label-container\"><div class=\"sk-label fitted sk-toggleable\"><input class=\"sk-toggleable__control sk-hidden--visually\" id=\"sk-estimator-id-1\" type=\"checkbox\" ><label for=\"sk-estimator-id-1\" class=\"sk-toggleable__label fitted sk-toggleable__label-arrow\"><div><div>Pipeline</div></div><div><a class=\"sk-estimator-doc-link fitted\" rel=\"noreferrer\" target=\"_blank\" href=\"https://scikit-learn.org/1.6/modules/generated/sklearn.pipeline.Pipeline.html\">?<span>Documentation for Pipeline</span></a><span class=\"sk-estimator-doc-link fitted\">i<span>Fitted</span></span></div></label><div class=\"sk-toggleable__content fitted\"><pre>Pipeline(steps=[(&#x27;preprocessor&#x27;,\n",
       "                 ColumnTransformer(remainder=&#x27;passthrough&#x27;,\n",
       "                                   transformers=[(&#x27;dropper&#x27;, &#x27;drop&#x27;,\n",
       "                                                  [&#x27;average_inner_brow_height_max&#x27;,\n",
       "                                                   &#x27;average_inner_brow_height_median&#x27;,\n",
       "                                                   &#x27;average_inner_brow_height_min&#x27;,\n",
       "                                                   &#x27;average_inner_brow_height_std&#x27;,\n",
       "                                                   &#x27;average_inner_brow_height_mean&#x27;,\n",
       "                                                   &#x27;average_outer_brow_height_max&#x27;,\n",
       "                                                   &#x27;average_outer_brow_height_median&#x27;,\n",
       "                                                   &#x27;average_out...\n",
       "                                                   &#x27;outer_lip_height_max&#x27;,\n",
       "                                                   &#x27;outer_lip_height_median&#x27;,\n",
       "                                                   &#x27;outer_lip_height_min&#x27;,\n",
       "                                                   &#x27;outer_lip_height_std&#x27;,\n",
       "                                                   &#x27;outer_lip_height_mean&#x27;, ...])])),\n",
       "                (&#x27;imputer&#x27;, SimpleImputer()), (&#x27;scaler&#x27;, StandardScaler()),\n",
       "                (&#x27;feature_selection&#x27;,\n",
       "                 SelectFromModel(estimator=Lasso(alpha=0.0012693428109479302,\n",
       "                                                 max_iter=50000))),\n",
       "                (&#x27;svr&#x27;,\n",
       "                 SVR(C=1.08933256186536, epsilon=0.4747279409436811,\n",
       "                     gamma=0.007383880324670445))])</pre></div> </div></div><div class=\"sk-serial\"><div class=\"sk-item sk-dashed-wrapped\"><div class=\"sk-label-container\"><div class=\"sk-label fitted sk-toggleable\"><input class=\"sk-toggleable__control sk-hidden--visually\" id=\"sk-estimator-id-2\" type=\"checkbox\" ><label for=\"sk-estimator-id-2\" class=\"sk-toggleable__label fitted sk-toggleable__label-arrow\"><div><div>preprocessor: ColumnTransformer</div></div><div><a class=\"sk-estimator-doc-link fitted\" rel=\"noreferrer\" target=\"_blank\" href=\"https://scikit-learn.org/1.6/modules/generated/sklearn.compose.ColumnTransformer.html\">?<span>Documentation for preprocessor: ColumnTransformer</span></a></div></label><div class=\"sk-toggleable__content fitted\"><pre>ColumnTransformer(remainder=&#x27;passthrough&#x27;,\n",
       "                  transformers=[(&#x27;dropper&#x27;, &#x27;drop&#x27;,\n",
       "                                 [&#x27;average_inner_brow_height_max&#x27;,\n",
       "                                  &#x27;average_inner_brow_height_median&#x27;,\n",
       "                                  &#x27;average_inner_brow_height_min&#x27;,\n",
       "                                  &#x27;average_inner_brow_height_std&#x27;,\n",
       "                                  &#x27;average_inner_brow_height_mean&#x27;,\n",
       "                                  &#x27;average_outer_brow_height_max&#x27;,\n",
       "                                  &#x27;average_outer_brow_height_median&#x27;,\n",
       "                                  &#x27;average_outer_brow_height_min&#x27;,\n",
       "                                  &#x27;average_out...\n",
       "                                  &#x27;inner_lip_height_median&#x27;,\n",
       "                                  &#x27;inner_lip_height_min&#x27;,\n",
       "                                  &#x27;inner_lip_height_std&#x27;,\n",
       "                                  &#x27;inner_lip_height_mean&#x27;,\n",
       "                                  &#x27;lip_corner_distance_max&#x27;,\n",
       "                                  &#x27;lip_corner_distance_median&#x27;,\n",
       "                                  &#x27;lip_corner_distance_min&#x27;,\n",
       "                                  &#x27;lip_corner_distance_std&#x27;,\n",
       "                                  &#x27;lip_corner_distance_mean&#x27;,\n",
       "                                  &#x27;outer_lip_height_max&#x27;,\n",
       "                                  &#x27;outer_lip_height_median&#x27;,\n",
       "                                  &#x27;outer_lip_height_min&#x27;,\n",
       "                                  &#x27;outer_lip_height_std&#x27;,\n",
       "                                  &#x27;outer_lip_height_mean&#x27;, ...])])</pre></div> </div></div><div class=\"sk-parallel\"><div class=\"sk-parallel-item\"><div class=\"sk-item\"><div class=\"sk-label-container\"><div class=\"sk-label fitted sk-toggleable\"><input class=\"sk-toggleable__control sk-hidden--visually\" id=\"sk-estimator-id-3\" type=\"checkbox\" ><label for=\"sk-estimator-id-3\" class=\"sk-toggleable__label fitted sk-toggleable__label-arrow\"><div><div>dropper</div></div></label><div class=\"sk-toggleable__content fitted\"><pre>[&#x27;average_inner_brow_height_max&#x27;, &#x27;average_inner_brow_height_median&#x27;, &#x27;average_inner_brow_height_min&#x27;, &#x27;average_inner_brow_height_std&#x27;, &#x27;average_inner_brow_height_mean&#x27;, &#x27;average_outer_brow_height_max&#x27;, &#x27;average_outer_brow_height_median&#x27;, &#x27;average_outer_brow_height_min&#x27;, &#x27;average_outer_brow_height_std&#x27;, &#x27;average_outer_brow_height_mean&#x27;, &#x27;eye_open_max&#x27;, &#x27;eye_open_median&#x27;, &#x27;eye_open_min&#x27;, &#x27;eye_open_std&#x27;, &#x27;eye_open_mean&#x27;, &#x27;inner_lip_height_max&#x27;, &#x27;inner_lip_height_median&#x27;, &#x27;inner_lip_height_min&#x27;, &#x27;inner_lip_height_std&#x27;, &#x27;inner_lip_height_mean&#x27;, &#x27;lip_corner_distance_max&#x27;, &#x27;lip_corner_distance_median&#x27;, &#x27;lip_corner_distance_min&#x27;, &#x27;lip_corner_distance_std&#x27;, &#x27;lip_corner_distance_mean&#x27;, &#x27;outer_lip_height_max&#x27;, &#x27;outer_lip_height_median&#x27;, &#x27;outer_lip_height_min&#x27;, &#x27;outer_lip_height_std&#x27;, &#x27;outer_lip_height_mean&#x27;, &#x27;smile_max&#x27;, &#x27;smile_median&#x27;, &#x27;smile_min&#x27;, &#x27;smile_std&#x27;, &#x27;smile_mean&#x27;, &#x27;pitch_max&#x27;, &#x27;pitch_median&#x27;, &#x27;pitch_min&#x27;, &#x27;pitch_std&#x27;, &#x27;pitch_mean&#x27;, &#x27;roll_max&#x27;, &#x27;roll_median&#x27;, &#x27;roll_min&#x27;, &#x27;roll_std&#x27;, &#x27;roll_mean&#x27;, &#x27;yaw_max&#x27;, &#x27;yaw_median&#x27;, &#x27;yaw_min&#x27;, &#x27;yaw_std&#x27;, &#x27;yaw_mean&#x27;, &#x27;Swear&#x27;, &#x27;Numbers&#x27;, &#x27;Inhibition&#x27;, &#x27;Preceptual&#x27;, &#x27;Anxiety&#x27;, &#x27;Anger&#x27;, &#x27;Sadness&#x27;, &#x27;Work&#x27;, &#x27;Articles&#x27;, &#x27;Verbs&#x27;, &#x27;Adverbs&#x27;, &#x27;Prepositions&#x27;, &#x27;Conjunctions&#x27;, &#x27;Negations&#x27;]</pre></div> </div></div><div class=\"sk-serial\"><div class=\"sk-item\"><div class=\"sk-estimator fitted sk-toggleable\"><input class=\"sk-toggleable__control sk-hidden--visually\" id=\"sk-estimator-id-4\" type=\"checkbox\" ><label for=\"sk-estimator-id-4\" class=\"sk-toggleable__label fitted sk-toggleable__label-arrow\"><div><div>drop</div></div></label><div class=\"sk-toggleable__content fitted\"><pre>drop</pre></div> </div></div></div></div></div><div class=\"sk-parallel-item\"><div class=\"sk-item\"><div class=\"sk-label-container\"><div class=\"sk-label fitted sk-toggleable\"><input class=\"sk-toggleable__control sk-hidden--visually\" id=\"sk-estimator-id-5\" type=\"checkbox\" ><label for=\"sk-estimator-id-5\" class=\"sk-toggleable__label fitted sk-toggleable__label-arrow\"><div><div>remainder</div></div></label><div class=\"sk-toggleable__content fitted\"><pre>[&#x27;f0_mean&#x27;, &#x27;f0_min&#x27;, &#x27;f0_max&#x27;, &#x27;f0_range&#x27;, &#x27;f0_sd&#x27;, &#x27;intensity_mean&#x27;, &#x27;intensity_min&#x27;, &#x27;intensity_max&#x27;, &#x27;intensity_range&#x27;, &#x27;intensity_sd&#x27;, &#x27;f1_mean&#x27;, &#x27;f1_sd&#x27;, &#x27;f2_mean&#x27;, &#x27;f2_sd&#x27;, &#x27;f3_mean&#x27;, &#x27;f3_sd&#x27;, &#x27;f2_f1_mean&#x27;, &#x27;f3_f1_mean&#x27;, &#x27;f2_f1_sd&#x27;, &#x27;f3_f1_sd&#x27;, &#x27;jitter&#x27;, &#x27;shimmer&#x27;, &#x27;percent_unvoiced&#x27;, &#x27;percent_breaks&#x27;, &#x27;pause_duration_max&#x27;, &#x27;pause_duration_avg&#x27;, &#x27;duration&#x27;, &#x27;Total Words&#x27;, &#x27;Unique Words&#x27;, &#x27;Filler Words&#x27;, &#x27;Audio Duration (s)&#x27;, &#x27;Duration/Total Words&#x27;, &#x27;Duration/Unique Words&#x27;, &#x27;Duration/Filler Words&#x27;, &#x27;Individual&#x27;, &#x27;We&#x27;, &#x27;They&#x27;, &#x27;Non-Fluences&#x27;, &#x27;PosEmotion&#x27;, &#x27;NegEmotion&#x27;, &#x27;Cognitive&#x27;, &#x27;Relativity&#x27;, &#x27;Quantifiers&#x27;]</pre></div> </div></div><div class=\"sk-serial\"><div class=\"sk-item\"><div class=\"sk-estimator fitted sk-toggleable\"><input class=\"sk-toggleable__control sk-hidden--visually\" id=\"sk-estimator-id-6\" type=\"checkbox\" ><label for=\"sk-estimator-id-6\" class=\"sk-toggleable__label fitted sk-toggleable__label-arrow\"><div><div>passthrough</div></div></label><div class=\"sk-toggleable__content fitted\"><pre>passthrough</pre></div> </div></div></div></div></div></div></div><div class=\"sk-item\"><div class=\"sk-estimator fitted sk-toggleable\"><input class=\"sk-toggleable__control sk-hidden--visually\" id=\"sk-estimator-id-7\" type=\"checkbox\" ><label for=\"sk-estimator-id-7\" class=\"sk-toggleable__label fitted sk-toggleable__label-arrow\"><div><div>SimpleImputer</div></div><div><a class=\"sk-estimator-doc-link fitted\" rel=\"noreferrer\" target=\"_blank\" href=\"https://scikit-learn.org/1.6/modules/generated/sklearn.impute.SimpleImputer.html\">?<span>Documentation for SimpleImputer</span></a></div></label><div class=\"sk-toggleable__content fitted\"><pre>SimpleImputer()</pre></div> </div></div><div class=\"sk-item\"><div class=\"sk-estimator fitted sk-toggleable\"><input class=\"sk-toggleable__control sk-hidden--visually\" id=\"sk-estimator-id-8\" type=\"checkbox\" ><label for=\"sk-estimator-id-8\" class=\"sk-toggleable__label fitted sk-toggleable__label-arrow\"><div><div>StandardScaler</div></div><div><a class=\"sk-estimator-doc-link fitted\" rel=\"noreferrer\" target=\"_blank\" href=\"https://scikit-learn.org/1.6/modules/generated/sklearn.preprocessing.StandardScaler.html\">?<span>Documentation for StandardScaler</span></a></div></label><div class=\"sk-toggleable__content fitted\"><pre>StandardScaler()</pre></div> </div></div><div class=\"sk-item sk-dashed-wrapped\"><div class=\"sk-label-container\"><div class=\"sk-label fitted sk-toggleable\"><input class=\"sk-toggleable__control sk-hidden--visually\" id=\"sk-estimator-id-9\" type=\"checkbox\" ><label for=\"sk-estimator-id-9\" class=\"sk-toggleable__label fitted sk-toggleable__label-arrow\"><div><div>feature_selection: SelectFromModel</div></div><div><a class=\"sk-estimator-doc-link fitted\" rel=\"noreferrer\" target=\"_blank\" href=\"https://scikit-learn.org/1.6/modules/generated/sklearn.feature_selection.SelectFromModel.html\">?<span>Documentation for feature_selection: SelectFromModel</span></a></div></label><div class=\"sk-toggleable__content fitted\"><pre>SelectFromModel(estimator=Lasso(alpha=0.0012693428109479302, max_iter=50000))</pre></div> </div></div><div class=\"sk-parallel\"><div class=\"sk-parallel-item\"><div class=\"sk-item\"><div class=\"sk-label-container\"><div class=\"sk-label fitted sk-toggleable\"><input class=\"sk-toggleable__control sk-hidden--visually\" id=\"sk-estimator-id-10\" type=\"checkbox\" ><label for=\"sk-estimator-id-10\" class=\"sk-toggleable__label fitted sk-toggleable__label-arrow\"><div><div>estimator: Lasso</div></div></label><div class=\"sk-toggleable__content fitted\"><pre>Lasso(alpha=0.0012693428109479302, max_iter=50000)</pre></div> </div></div><div class=\"sk-serial\"><div class=\"sk-item\"><div class=\"sk-estimator fitted sk-toggleable\"><input class=\"sk-toggleable__control sk-hidden--visually\" id=\"sk-estimator-id-11\" type=\"checkbox\" ><label for=\"sk-estimator-id-11\" class=\"sk-toggleable__label fitted sk-toggleable__label-arrow\"><div><div>Lasso</div></div><div><a class=\"sk-estimator-doc-link fitted\" rel=\"noreferrer\" target=\"_blank\" href=\"https://scikit-learn.org/1.6/modules/generated/sklearn.linear_model.Lasso.html\">?<span>Documentation for Lasso</span></a></div></label><div class=\"sk-toggleable__content fitted\"><pre>Lasso(alpha=0.0012693428109479302, max_iter=50000)</pre></div> </div></div></div></div></div></div></div><div class=\"sk-item\"><div class=\"sk-estimator fitted sk-toggleable\"><input class=\"sk-toggleable__control sk-hidden--visually\" id=\"sk-estimator-id-12\" type=\"checkbox\" ><label for=\"sk-estimator-id-12\" class=\"sk-toggleable__label fitted sk-toggleable__label-arrow\"><div><div>SVR</div></div><div><a class=\"sk-estimator-doc-link fitted\" rel=\"noreferrer\" target=\"_blank\" href=\"https://scikit-learn.org/1.6/modules/generated/sklearn.svm.SVR.html\">?<span>Documentation for SVR</span></a></div></label><div class=\"sk-toggleable__content fitted\"><pre>SVR(C=1.08933256186536, epsilon=0.4747279409436811, gamma=0.007383880324670445)</pre></div> </div></div></div></div></div></div>"
      ],
      "text/plain": [
       "Pipeline(steps=[('preprocessor',\n",
       "                 ColumnTransformer(remainder='passthrough',\n",
       "                                   transformers=[('dropper', 'drop',\n",
       "                                                  ['average_inner_brow_height_max',\n",
       "                                                   'average_inner_brow_height_median',\n",
       "                                                   'average_inner_brow_height_min',\n",
       "                                                   'average_inner_brow_height_std',\n",
       "                                                   'average_inner_brow_height_mean',\n",
       "                                                   'average_outer_brow_height_max',\n",
       "                                                   'average_outer_brow_height_median',\n",
       "                                                   'average_out...\n",
       "                                                   'outer_lip_height_max',\n",
       "                                                   'outer_lip_height_median',\n",
       "                                                   'outer_lip_height_min',\n",
       "                                                   'outer_lip_height_std',\n",
       "                                                   'outer_lip_height_mean', ...])])),\n",
       "                ('imputer', SimpleImputer()), ('scaler', StandardScaler()),\n",
       "                ('feature_selection',\n",
       "                 SelectFromModel(estimator=Lasso(alpha=0.0012693428109479302,\n",
       "                                                 max_iter=50000))),\n",
       "                ('svr',\n",
       "                 SVR(C=1.08933256186536, epsilon=0.4747279409436811,\n",
       "                     gamma=0.007383880324670445))])"
      ]
     },
     "execution_count": 8,
     "metadata": {},
     "output_type": "execute_result"
    }
   ],
   "source": [
    "from sklearn import clone\n",
    "\n",
    "if HYPERPARAMETER_TUNING_ENABLED:\n",
    "    unfitted_pipeline.set_params(**study.best_params)\n",
    "else:\n",
    "    unfitted_pipeline.set_params(**PIPELINE_PARAMS)\n",
    "fitted_pipeline = clone(unfitted_pipeline)\n",
    "fitted_pipeline.fit(X, y)"
   ]
  },
  {
   "cell_type": "markdown",
   "id": "03fcecc9",
   "metadata": {
    "papermill": {
     "duration": 0.005521,
     "end_time": "2025-04-07T22:46:00.023764",
     "exception": false,
     "start_time": "2025-04-07T22:46:00.018243",
     "status": "completed"
    },
    "tags": []
   },
   "source": [
    "## Feature Selection Results"
   ]
  },
  {
   "cell_type": "code",
   "execution_count": 9,
   "id": "22799fd0",
   "metadata": {
    "execution": {
     "iopub.execute_input": "2025-04-07T22:46:00.034970Z",
     "iopub.status.busy": "2025-04-07T22:46:00.034782Z",
     "iopub.status.idle": "2025-04-07T22:46:00.038140Z",
     "shell.execute_reply": "2025-04-07T22:46:00.037769Z"
    },
    "papermill": {
     "duration": 0.00995,
     "end_time": "2025-04-07T22:46:00.039041",
     "exception": false,
     "start_time": "2025-04-07T22:46:00.029091",
     "status": "completed"
    },
    "tags": []
   },
   "outputs": [
    {
     "name": "stdout",
     "output_type": "stream",
     "text": [
      "Number of Selected features (39):\n",
      "Selected features: ['remainder__f0_mean' 'remainder__f0_min' 'remainder__f0_range'\n",
      " 'remainder__f0_sd' 'remainder__intensity_mean' 'remainder__intensity_min'\n",
      " 'remainder__intensity_max' 'remainder__intensity_sd' 'remainder__f1_mean'\n",
      " 'remainder__f1_sd' 'remainder__f2_mean' 'remainder__f2_sd'\n",
      " 'remainder__f3_mean' 'remainder__f3_sd' 'remainder__f2_f1_mean'\n",
      " 'remainder__f3_f1_mean' 'remainder__f2_f1_sd' 'remainder__f3_f1_sd'\n",
      " 'remainder__jitter' 'remainder__shimmer' 'remainder__percent_unvoiced'\n",
      " 'remainder__percent_breaks' 'remainder__pause_duration_max'\n",
      " 'remainder__pause_duration_avg' 'remainder__duration'\n",
      " 'remainder__Total Words' 'remainder__Unique Words'\n",
      " 'remainder__Filler Words' 'remainder__Audio Duration (s)'\n",
      " 'remainder__Duration/Total Words' 'remainder__Duration/Unique Words'\n",
      " 'remainder__Individual' 'remainder__We' 'remainder__They'\n",
      " 'remainder__PosEmotion' 'remainder__NegEmotion' 'remainder__Cognitive'\n",
      " 'remainder__Relativity' 'remainder__Quantifiers']\n",
      "Unselected features: ['remainder__f0_max' 'remainder__intensity_range'\n",
      " 'remainder__Duration/Filler Words' 'remainder__Non-Fluences']\n"
     ]
    }
   ],
   "source": [
    "preprocessor = fitted_pipeline.named_steps['preprocessor']\n",
    "feature_names = preprocessor.get_feature_names_out()    # after preprocessing\n",
    "\n",
    "feature_selector = fitted_pipeline.named_steps['feature_selection']\n",
    "selected_mask = feature_selector.get_support()\n",
    "\n",
    "selected_features = feature_names[selected_mask]\n",
    "unselected_features = feature_names[~selected_mask]\n",
    "\n",
    "print(f\"Number of Selected features ({len(selected_features)}):\")\n",
    "print(f\"Selected features: {selected_features}\")\n",
    "print(f\"Unselected features: {unselected_features}\")"
   ]
  },
  {
   "cell_type": "markdown",
   "id": "bacc275b",
   "metadata": {
    "papermill": {
     "duration": 0.005107,
     "end_time": "2025-04-07T22:46:00.049627",
     "exception": false,
     "start_time": "2025-04-07T22:46:00.044520",
     "status": "completed"
    },
    "tags": []
   },
   "source": [
    "# Monte Carlo Cross Validation"
   ]
  },
  {
   "cell_type": "code",
   "execution_count": 10,
   "id": "91b4ff2f",
   "metadata": {
    "execution": {
     "iopub.execute_input": "2025-04-07T22:46:00.060721Z",
     "iopub.status.busy": "2025-04-07T22:46:00.060434Z",
     "iopub.status.idle": "2025-04-07T22:46:07.507754Z",
     "shell.execute_reply": "2025-04-07T22:46:07.506928Z"
    },
    "papermill": {
     "duration": 7.456239,
     "end_time": "2025-04-07T22:46:07.510972",
     "exception": false,
     "start_time": "2025-04-07T22:46:00.054733",
     "status": "completed"
    },
    "tags": []
   },
   "outputs": [
    {
     "name": "stdout",
     "output_type": "stream",
     "text": [
      "Mean R² Score: 0.14 (±0.22)\n",
      "Mean Pearson Correlation: 0.47 (±0.17)\n"
     ]
    }
   ],
   "source": [
    "from sklearn.model_selection import cross_validate\n",
    "from sklearn.metrics import r2_score\n",
    "\n",
    "scoring = {\n",
    "    \"r2\": make_scorer(r2_score),\n",
    "    \"pearson\": make_scorer(pearson_corr)\n",
    "}\n",
    "\n",
    "results = cross_validate(\n",
    "    unfitted_pipeline,\n",
    "    X,\n",
    "    y,\n",
    "    cv=GroupShuffleSplit(n_splits=1000, test_size=0.2, random_state=42),\n",
    "    groups=groups_column,\n",
    "    scoring=scoring,\n",
    "    n_jobs=-1,\n",
    ")\n",
    "\n",
    "r2_scores = results[\"test_r2\"]\n",
    "pearson_scores = results[\"test_pearson\"]\n",
    "# Report the average performance and variability\n",
    "avg_r2_score = np.mean(r2_scores)\n",
    "print(\n",
    "    f\"Mean R² Score: {avg_r2_score:.2f} (±{np.std(r2_scores):.2f})\"\n",
    ")\n",
    "avg_perason_score = np.mean(pearson_scores)\n",
    "print(\n",
    "    f\"Mean Pearson Correlation: {avg_perason_score:.2f} (±{np.std(pearson_scores):.2f})\"\n",
    ")\n",
    "\n",
    "# Mean R² Score: 0.20 (±0.23)\n",
    "# Mean Pearson Correlation: 0.53 (±0.16)"
   ]
  },
  {
   "cell_type": "markdown",
   "id": "9368fe87",
   "metadata": {
    "papermill": {
     "duration": 0.007483,
     "end_time": "2025-04-07T22:46:07.527917",
     "exception": false,
     "start_time": "2025-04-07T22:46:07.520434",
     "status": "completed"
    },
    "tags": []
   },
   "source": [
    "# Save the Model"
   ]
  },
  {
   "cell_type": "code",
   "execution_count": 11,
   "id": "86eb5868",
   "metadata": {
    "execution": {
     "iopub.execute_input": "2025-04-07T22:46:07.548741Z",
     "iopub.status.busy": "2025-04-07T22:46:07.548413Z",
     "iopub.status.idle": "2025-04-07T22:46:07.557301Z",
     "shell.execute_reply": "2025-04-07T22:46:07.556922Z"
    },
    "papermill": {
     "duration": 0.018861,
     "end_time": "2025-04-07T22:46:07.558311",
     "exception": false,
     "start_time": "2025-04-07T22:46:07.539450",
     "status": "completed"
    },
    "tags": []
   },
   "outputs": [
    {
     "data": {
      "text/plain": [
       "['./regression_models/saved_models/Colleague.joblib']"
      ]
     },
     "execution_count": 11,
     "metadata": {},
     "output_type": "execute_result"
    }
   ],
   "source": [
    "from joblib import dump, load\n",
    "\n",
    "dump(fitted_pipeline, os.path.join(SAVED_MODELS_PATH,f'{target_column}.joblib'))"
   ]
  }
 ],
 "metadata": {
  "colab": {
   "provenance": []
  },
  "kernelspec": {
   "display_name": "venv",
   "language": "python",
   "name": "python3"
  },
  "language_info": {
   "codemirror_mode": {
    "name": "ipython",
    "version": 3
   },
   "file_extension": ".py",
   "mimetype": "text/x-python",
   "name": "python",
   "nbconvert_exporter": "python",
   "pygments_lexer": "ipython3",
   "version": "3.13.1"
  },
  "papermill": {
   "default_parameters": {},
   "duration": 26.353267,
   "end_time": "2025-04-07T22:46:10.183210",
   "environment_variables": {},
   "exception": null,
   "input_path": "/Users/bassel27/personal_projects/hireverse/hirability_model.ipynb",
   "output_path": "/Users/bassel27/personal_projects/hireverse/runners/outputs/Colleague_runner_output.ipynb",
   "parameters": {
    "target_column": "Colleague"
   },
   "start_time": "2025-04-07T22:45:43.829943",
   "version": "2.6.0"
  }
 },
 "nbformat": 4,
 "nbformat_minor": 5
}