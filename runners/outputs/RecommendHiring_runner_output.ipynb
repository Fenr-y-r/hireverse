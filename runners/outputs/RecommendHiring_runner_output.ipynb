{
 "cells": [
  {
   "cell_type": "markdown",
   "id": "fa82b268",
   "metadata": {
    "papermill": {
     "duration": 0.007352,
     "end_time": "2025-04-07T22:45:17.185703",
     "exception": false,
     "start_time": "2025-04-07T22:45:17.178351",
     "status": "completed"
    },
    "tags": []
   },
   "source": [
    "# Input"
   ]
  },
  {
   "cell_type": "code",
   "execution_count": 1,
   "id": "bdc2b1dc",
   "metadata": {
    "execution": {
     "iopub.execute_input": "2025-04-07T22:45:17.194413Z",
     "iopub.status.busy": "2025-04-07T22:45:17.194105Z",
     "iopub.status.idle": "2025-04-07T22:45:17.198987Z",
     "shell.execute_reply": "2025-04-07T22:45:17.198473Z"
    },
    "papermill": {
     "duration": 0.010698,
     "end_time": "2025-04-07T22:45:17.200399",
     "exception": false,
     "start_time": "2025-04-07T22:45:17.189701",
     "status": "completed"
    },
    "tags": [
     "parameters"
    ]
   },
   "outputs": [],
   "source": [
    "target_column = \"RecommendHiring\""
   ]
  },
  {
   "cell_type": "code",
   "execution_count": 2,
   "id": "0f6de4f2",
   "metadata": {
    "execution": {
     "iopub.execute_input": "2025-04-07T22:45:17.207494Z",
     "iopub.status.busy": "2025-04-07T22:45:17.207242Z",
     "iopub.status.idle": "2025-04-07T22:45:17.210079Z",
     "shell.execute_reply": "2025-04-07T22:45:17.209446Z"
    },
    "papermill": {
     "duration": 0.008658,
     "end_time": "2025-04-07T22:45:17.212174",
     "exception": false,
     "start_time": "2025-04-07T22:45:17.203516",
     "status": "completed"
    },
    "tags": [
     "injected-parameters"
    ]
   },
   "outputs": [],
   "source": [
    "# Parameters\n",
    "target_column = \"RecommendHiring\"\n"
   ]
  },
  {
   "cell_type": "markdown",
   "id": "12975ea7",
   "metadata": {
    "papermill": {
     "duration": 0.002129,
     "end_time": "2025-04-07T22:45:17.217577",
     "exception": false,
     "start_time": "2025-04-07T22:45:17.215448",
     "status": "completed"
    },
    "tags": []
   },
   "source": [
    "# Constants"
   ]
  },
  {
   "cell_type": "code",
   "execution_count": 3,
   "id": "4dff46e9",
   "metadata": {
    "execution": {
     "iopub.execute_input": "2025-04-07T22:45:17.222721Z",
     "iopub.status.busy": "2025-04-07T22:45:17.222501Z",
     "iopub.status.idle": "2025-04-07T22:45:18.226861Z",
     "shell.execute_reply": "2025-04-07T22:45:18.226483Z"
    },
    "papermill": {
     "duration": 1.008179,
     "end_time": "2025-04-07T22:45:18.227906",
     "exception": false,
     "start_time": "2025-04-07T22:45:17.219727",
     "status": "completed"
    },
    "tags": []
   },
   "outputs": [],
   "source": [
    "import os\n",
    "import numpy as np\n",
    "from sklearn.metrics import make_scorer\n",
    "\n",
    "SCRIPT_DIR = os.path.join(os.getcwd(),)\n",
    "\n",
    "SAVED_MODELS_PATH=\"./regression_models/saved_models\"\n",
    "\n",
    "DROPPED_LEXICAL_COLUMNS = [\n",
    "    \"Swear\",\n",
    "    \"Numbers\",\n",
    "    \"Inhibition\",\n",
    "    \"Preceptual\",\n",
    "    \"Anxiety\",\n",
    "    \"Anger\",\n",
    "    \"Sadness\",\n",
    "    \"Work\",\n",
    "    \"Articles\",\n",
    "    \"Verbs\",\n",
    "    \"Adverbs\",\n",
    "    \"Prepositions\",\n",
    "    \"Conjunctions\",\n",
    "    \"Negations\",\n",
    "]\n",
    "\n",
    "facial_features = [\n",
    "    \"average_inner_brow_height\",\n",
    "    \"average_outer_brow_height\",\n",
    "    \"eye_open\",\n",
    "    \"inner_lip_height\",\n",
    "    \"lip_corner_distance\",\n",
    "    \"outer_lip_height\",\n",
    "    \"smile\",\n",
    "    \"pitch\",\n",
    "    \"roll\",\n",
    "    \"yaw\",\n",
    "]\n",
    "stats = [\"max\", \"median\", \"min\", \"std\", \"mean\"]\n",
    "DROPPED_FACIAL_FEATURES = [\n",
    "    f\"{feature}_{stat}\" for feature in facial_features for stat in stats\n",
    "]\n",
    "\n",
    "\n",
    "DROPPED_PROSODIC_COLUMNS = []\n",
    "\n",
    "ALREADY_NORMALIZED_FEATURES = [\n",
    "    \"average_outer_brow_height_mean\",\n",
    "    \"average_inner_brow_height_mean\",\n",
    "    \"eye_open_mean\",\n",
    "    \"inner_lip_height_mean\",\n",
    "    \"inner_lip_height_mean\",\n",
    "    \"lip_corner_distance_mean\",\n",
    "    \"average_outer_brow_height_std\",\n",
    "    \"average_inner_brow_height_std\",\n",
    "    \"eye_open_std\",\n",
    "    \"outer_lip_height_std\",\n",
    "    \"inner_lip_height_std\",\n",
    "    \"lip_corner_distance_std\",\n",
    "    \"average_outer_brow_height_min\",\n",
    "    \"average_inner_brow_height_min\",\n",
    "    \"eye_open_min\",\n",
    "    \"outer_lip_height_min\",\n",
    "    \"inner_lip_height_min\",\n",
    "    \"lip_corner_distance_min\",\n",
    "    \"average_outer_brow_height_max\",\n",
    "    \"average_inner_brow_height_max\",\n",
    "    \"eye_open_max\",\n",
    "    \"outer_lip_height_max\",\n",
    "    \"inner_lip_height_max\",\n",
    "    \"lip_corner_distance_max\",\n",
    "    \"average_outer_brow_height_median\",\n",
    "    \"average_inner_brow_height_median\",\n",
    "    \"eye_open_median\",\n",
    "    \"outer_lip_height_median\",\n",
    "    \"inner_lip_height_median\",\n",
    "    \"lip_corner_distance_median\",\n",
    "]  # these are already in [0, 1]\n",
    "\n",
    "MUST_KEEP_FEATURES = [\n",
    "    \"pause_duration_avg\",\n",
    "    \"average_outer_brow_height_mean\",\n",
    "    \"average_inner_brow_height_mean\",\n",
    "    \"outer_lip_height_mean\",\n",
    "    \"Duration/Filler Words\",\n",
    "]\n",
    "\n",
    "\n",
    "GROUPS_COLUMN = \"cleaned_ids\"\n",
    "INDEX_COLUMN = \"participant_id\"\n",
    "\n",
    "\n",
    "def pearson_corr(y_true, y_pred):\n",
    "    return np.corrcoef(y_true, y_pred)[0, 1]\n",
    "\n",
    "\n",
    "SCORING_METRICS = {\n",
    "    \"r2\": \"r2\",\n",
    "    \"mae\": \"neg_mean_absolute_error\",\n",
    "    \"pearson\": make_scorer(pearson_corr),  # Pearson Correlation Coefficient\n",
    "}\n",
    "\n",
    "\n",
    "MUST_KEEP_FEATURES = [\n",
    "    # \"pause_duration_avg\",\n",
    "    # \"average_outer_brow_height_mean\",\n",
    "    # \"average_inner_brow_height_mean\",\n",
    "    # \"outer_lip_height_mean\",\n",
    "    \"Duration/Filler Words\",\n",
    "]\n",
    "\n",
    "PIPELINE_PARAMS = {'feature_selection__estimator__alpha': 0.057376790661083456, 'svr__C': 0.655379988356498, 'svr__gamma': 0.02784736494309893, 'svr__epsilon': 0.2617249201838037, 'svr__kernel': 'rbf'}\n",
    "HYPERPARAMETER_TUNING_ENABLED = True"
   ]
  },
  {
   "cell_type": "markdown",
   "id": "7b7b691d",
   "metadata": {
    "papermill": {
     "duration": 0.001755,
     "end_time": "2025-04-07T22:45:18.231754",
     "exception": false,
     "start_time": "2025-04-07T22:45:18.229999",
     "status": "completed"
    },
    "tags": []
   },
   "source": [
    "# Data Preprocessing"
   ]
  },
  {
   "cell_type": "markdown",
   "id": "2b3b04bd",
   "metadata": {
    "papermill": {
     "duration": 0.001683,
     "end_time": "2025-04-07T22:45:18.235122",
     "exception": false,
     "start_time": "2025-04-07T22:45:18.233439",
     "status": "completed"
    },
    "tags": []
   },
   "source": [
    "## Import Datasets"
   ]
  },
  {
   "cell_type": "code",
   "execution_count": 4,
   "id": "a91def6f",
   "metadata": {
    "execution": {
     "iopub.execute_input": "2025-04-07T22:45:18.239655Z",
     "iopub.status.busy": "2025-04-07T22:45:18.239434Z",
     "iopub.status.idle": "2025-04-07T22:45:18.255073Z",
     "shell.execute_reply": "2025-04-07T22:45:18.254680Z"
    },
    "papermill": {
     "duration": 0.018958,
     "end_time": "2025-04-07T22:45:18.256000",
     "exception": false,
     "start_time": "2025-04-07T22:45:18.237042",
     "status": "completed"
    },
    "tags": []
   },
   "outputs": [],
   "source": [
    "import pandas as pd\n",
    "import os\n",
    "\n",
    "features_df = pd.read_csv(os.path.join(SCRIPT_DIR, \"datasets\", \"add.csv\"))\n",
    "features_df = features_df.set_index(\"participant_id\")\n",
    "\n",
    "labels_df = pd.read_csv(\n",
    "    os.path.join(os.path.join(SCRIPT_DIR,  \"datasets\", \"turker_scores_full_interview.csv\"))\n",
    ")\n",
    "labels_df = labels_df.set_index(\"Participant\")\n",
    "labels_df = labels_df.loc[labels_df[\"Worker\"] == \"AGGR\"]\n",
    "\n",
    "features_df.index = features_df.index.str.lower()\n",
    "labels_df.index = labels_df.index.str.lower()\n",
    "indexed_combined_df = features_df.join(labels_df[[target_column]], how=\"left\")\n",
    "combined_df = indexed_combined_df.reset_index(drop=True)"
   ]
  },
  {
   "cell_type": "markdown",
   "id": "86eded27",
   "metadata": {
    "papermill": {
     "duration": 0.001903,
     "end_time": "2025-04-07T22:45:18.260149",
     "exception": false,
     "start_time": "2025-04-07T22:45:18.258246",
     "status": "completed"
    },
    "tags": []
   },
   "source": [
    "# Model"
   ]
  },
  {
   "cell_type": "markdown",
   "id": "98b934d6",
   "metadata": {
    "papermill": {
     "duration": 0.001719,
     "end_time": "2025-04-07T22:45:18.263647",
     "exception": false,
     "start_time": "2025-04-07T22:45:18.261928",
     "status": "completed"
    },
    "tags": []
   },
   "source": [
    "## Split Data"
   ]
  },
  {
   "cell_type": "code",
   "execution_count": 5,
   "id": "8a7217ab",
   "metadata": {
    "execution": {
     "iopub.execute_input": "2025-04-07T22:45:18.267628Z",
     "iopub.status.busy": "2025-04-07T22:45:18.267475Z",
     "iopub.status.idle": "2025-04-07T22:45:18.270052Z",
     "shell.execute_reply": "2025-04-07T22:45:18.269731Z"
    },
    "papermill": {
     "duration": 0.005565,
     "end_time": "2025-04-07T22:45:18.270904",
     "exception": false,
     "start_time": "2025-04-07T22:45:18.265339",
     "status": "completed"
    },
    "tags": []
   },
   "outputs": [],
   "source": [
    "X = combined_df.drop(columns=[target_column, GROUPS_COLUMN])\n",
    "y = combined_df[target_column]"
   ]
  },
  {
   "cell_type": "markdown",
   "id": "35fdaf74",
   "metadata": {
    "papermill": {
     "duration": 0.001755,
     "end_time": "2025-04-07T22:45:18.274564",
     "exception": false,
     "start_time": "2025-04-07T22:45:18.272809",
     "status": "completed"
    },
    "tags": []
   },
   "source": [
    "## Pipeline Creation"
   ]
  },
  {
   "cell_type": "code",
   "execution_count": 6,
   "id": "02bbaf9f",
   "metadata": {
    "execution": {
     "iopub.execute_input": "2025-04-07T22:45:18.278748Z",
     "iopub.status.busy": "2025-04-07T22:45:18.278602Z",
     "iopub.status.idle": "2025-04-07T22:45:18.390551Z",
     "shell.execute_reply": "2025-04-07T22:45:18.390185Z"
    },
    "papermill": {
     "duration": 0.115224,
     "end_time": "2025-04-07T22:45:18.391657",
     "exception": false,
     "start_time": "2025-04-07T22:45:18.276433",
     "status": "completed"
    },
    "tags": []
   },
   "outputs": [],
   "source": [
    "import numpy as np\n",
    "from sklearn.compose import ColumnTransformer\n",
    "from sklearn.feature_selection import SelectFromModel\n",
    "from sklearn.impute import SimpleImputer\n",
    "from sklearn.linear_model import Lasso, LassoCV\n",
    "from sklearn.pipeline import Pipeline\n",
    "from sklearn.preprocessing import StandardScaler\n",
    "from sklearn.svm import SVR\n",
    "from sklearn.model_selection import GroupKFold, cross_val_score, cross_validate\n",
    "import sys\n",
    "\n",
    "sys.path.append(\"..\")\n",
    "from models.domain_aware_selector import DomainAwareSelector\n",
    "\n",
    "groups_column = combined_df[GROUPS_COLUMN].astype(str).values\n",
    "\n",
    "\n",
    "preprocessor = ColumnTransformer(\n",
    "    [\n",
    "        ('dropper', 'drop', DROPPED_FACIAL_FEATURES + \n",
    "                            DROPPED_LEXICAL_COLUMNS + \n",
    "                            DROPPED_PROSODIC_COLUMNS)\n",
    "    ],\n",
    "    remainder='passthrough'\n",
    ")\n",
    "unfitted_pipeline = Pipeline(\n",
    "    [\n",
    "        ('preprocessor', preprocessor),\n",
    "        (\"imputer\", SimpleImputer(strategy=\"mean\")),  # NaN imputation\n",
    "        (\"scaler\", StandardScaler()),\n",
    "        (\"feature_selection\", SelectFromModel(estimator=Lasso(max_iter=50000), )),\n",
    "        # ('feature_selection', DomainAwareSelector(\n",
    "        #     must_keep_features=MUST_KEEP_FEATURES,\n",
    "        #     selector=SelectFromModel(lasso_feature_selection_model, max_features=10),\n",
    "        # )),\n",
    "        (\"svr\", SVR(kernel=\"rbf\")),\n",
    "    ]\n",
    ")"
   ]
  },
  {
   "cell_type": "markdown",
   "id": "8d4cafdc",
   "metadata": {
    "papermill": {
     "duration": 0.002161,
     "end_time": "2025-04-07T22:45:18.395928",
     "exception": false,
     "start_time": "2025-04-07T22:45:18.393767",
     "status": "completed"
    },
    "tags": []
   },
   "source": [
    "## Hyperparameter Tuning"
   ]
  },
  {
   "cell_type": "code",
   "execution_count": 7,
   "id": "527d9da4",
   "metadata": {
    "execution": {
     "iopub.execute_input": "2025-04-07T22:45:18.400307Z",
     "iopub.status.busy": "2025-04-07T22:45:18.400099Z",
     "iopub.status.idle": "2025-04-07T22:45:34.091191Z",
     "shell.execute_reply": "2025-04-07T22:45:34.090831Z"
    },
    "papermill": {
     "duration": 15.694356,
     "end_time": "2025-04-07T22:45:34.092187",
     "exception": false,
     "start_time": "2025-04-07T22:45:18.397831",
     "status": "completed"
    },
    "tags": []
   },
   "outputs": [
    {
     "name": "stderr",
     "output_type": "stream",
     "text": [
      "/Users/bassel27/personal_projects/hireverse/venv/lib/python3.13/site-packages/tqdm/auto.py:21: TqdmWarning: IProgress not found. Please update jupyter and ipywidgets. See https://ipywidgets.readthedocs.io/en/stable/user_install.html\n",
      "  from .autonotebook import tqdm as notebook_tqdm\n",
      "[I 2025-04-08 00:45:18,455] A new study created in memory with name: no-name-4d1a2985-45bc-490a-ad86-f952f12c6778\n"
     ]
    },
    {
     "name": "stderr",
     "output_type": "stream",
     "text": [
      "[I 2025-04-08 00:45:19,306] Trial 0 finished with value: 0.17350901171998703 and parameters: {'feature_selection__estimator__alpha': 0.015567668163072177, 'svr__C': 3.2737829675206935, 'svr__gamma': 0.018634431126422882, 'svr__epsilon': 0.36439877643924773, 'svr__kernel': 'rbf'}. Best is trial 0 with value: 0.17350901171998703.\n"
     ]
    },
    {
     "name": "stderr",
     "output_type": "stream",
     "text": [
      "[I 2025-04-08 00:45:19,318] Trial 6 finished with value: 0.049136390489087724 and parameters: {'feature_selection__estimator__alpha': 0.07993352056589773, 'svr__C': 0.05025331686876881, 'svr__gamma': 0.11033591525742865, 'svr__epsilon': 0.42770551739421897, 'svr__kernel': 'rbf'}. Best is trial 0 with value: 0.17350901171998703.\n"
     ]
    },
    {
     "name": "stderr",
     "output_type": "stream",
     "text": [
      "[I 2025-04-08 00:45:19,319] Trial 7 finished with value: 0.24887720948256264 and parameters: {'feature_selection__estimator__alpha': 0.09830661370366535, 'svr__C': 3.1560331817736675, 'svr__gamma': 0.0018701524065659792, 'svr__epsilon': 0.3146965258650922, 'svr__kernel': 'rbf'}. Best is trial 7 with value: 0.24887720948256264.\n"
     ]
    },
    {
     "name": "stderr",
     "output_type": "stream",
     "text": [
      "[I 2025-04-08 00:45:19,320] Trial 4 finished with value: 0.016455632630669376 and parameters: {'feature_selection__estimator__alpha': 0.060078203388261815, 'svr__C': 39.87758176128221, 'svr__gamma': 0.29906070135818663, 'svr__epsilon': 0.01311962815896581, 'svr__kernel': 'rbf'}. Best is trial 7 with value: 0.24887720948256264.\n"
     ]
    },
    {
     "name": "stderr",
     "output_type": "stream",
     "text": [
      "[I 2025-04-08 00:45:19,351] Trial 2 finished with value: -0.07539867161004057 and parameters: {'feature_selection__estimator__alpha': 0.04764989546441475, 'svr__C': 0.03243407289552119, 'svr__gamma': 0.0030585310140017964, 'svr__epsilon': 0.22976368426061564, 'svr__kernel': 'rbf'}. Best is trial 7 with value: 0.24887720948256264.\n"
     ]
    },
    {
     "name": "stderr",
     "output_type": "stream",
     "text": [
      "[I 2025-04-08 00:45:19,419] Trial 1 finished with value: -0.10268241951006987 and parameters: {'feature_selection__estimator__alpha': 0.0021455653736297633, 'svr__C': 0.21828485867764905, 'svr__gamma': 3.1331337345447468, 'svr__epsilon': 0.17083165604420944, 'svr__kernel': 'rbf'}. Best is trial 7 with value: 0.24887720948256264.\n"
     ]
    },
    {
     "name": "stderr",
     "output_type": "stream",
     "text": [
      "[I 2025-04-08 00:45:19,427] Trial 3 finished with value: -0.09722088979822842 and parameters: {'feature_selection__estimator__alpha': 0.002719312815457394, 'svr__C': 0.2083424547361178, 'svr__gamma': 1.228204695854617, 'svr__epsilon': 0.4181441882184514, 'svr__kernel': 'rbf'}. Best is trial 7 with value: 0.24887720948256264.\n"
     ]
    },
    {
     "name": "stderr",
     "output_type": "stream",
     "text": [
      "[I 2025-04-08 00:45:20,140] Trial 5 finished with value: 0.22367976675078555 and parameters: {'feature_selection__estimator__alpha': 0.0005874559948561746, 'svr__C': 1.0154421429498972, 'svr__gamma': 0.021798428010753455, 'svr__epsilon': 0.21924858416162413, 'svr__kernel': 'rbf'}. Best is trial 7 with value: 0.24887720948256264.\n"
     ]
    },
    {
     "name": "stderr",
     "output_type": "stream",
     "text": [
      "[I 2025-04-08 00:45:20,353] Trial 11 finished with value: 0.23363698018949183 and parameters: {'feature_selection__estimator__alpha': 0.013592318949064437, 'svr__C': 0.7726989997763725, 'svr__gamma': 0.00865517365772045, 'svr__epsilon': 0.30886229071828225, 'svr__kernel': 'rbf'}. Best is trial 7 with value: 0.24887720948256264.\n"
     ]
    },
    {
     "name": "stderr",
     "output_type": "stream",
     "text": [
      "[I 2025-04-08 00:45:20,377] Trial 9 finished with value: 0.2279223434544789 and parameters: {'feature_selection__estimator__alpha': 0.020715474711806216, 'svr__C': 0.5446302546863867, 'svr__gamma': 0.014970858376175355, 'svr__epsilon': 0.19366666765759802, 'svr__kernel': 'rbf'}. Best is trial 7 with value: 0.24887720948256264.\n"
     ]
    },
    {
     "name": "stderr",
     "output_type": "stream",
     "text": [
      "[I 2025-04-08 00:45:20,381] Trial 14 finished with value: 0.15822179323738456 and parameters: {'feature_selection__estimator__alpha': 0.08323797021989544, 'svr__C': 3.093319101800204, 'svr__gamma': 0.1838491679442266, 'svr__epsilon': 0.2528421063091114, 'svr__kernel': 'rbf'}. Best is trial 7 with value: 0.24887720948256264.\n"
     ]
    },
    {
     "name": "stderr",
     "output_type": "stream",
     "text": [
      "[I 2025-04-08 00:45:20,941] Trial 12 finished with value: -0.0840694623829581 and parameters: {'feature_selection__estimator__alpha': 0.0010998424735936178, 'svr__C': 0.0186123212272048, 'svr__gamma': 0.0023353859419117085, 'svr__epsilon': 0.4749867020476553, 'svr__kernel': 'rbf'}. Best is trial 7 with value: 0.24887720948256264.\n"
     ]
    },
    {
     "name": "stderr",
     "output_type": "stream",
     "text": [
      "[I 2025-04-08 00:45:21,067] Trial 8 finished with value: 0.14390417986461188 and parameters: {'feature_selection__estimator__alpha': 0.0009244557306497062, 'svr__C': 63.02218536234399, 'svr__gamma': 0.04021048979080345, 'svr__epsilon': 0.07168509721674264, 'svr__kernel': 'rbf'}. Best is trial 7 with value: 0.24887720948256264.\n"
     ]
    },
    {
     "name": "stderr",
     "output_type": "stream",
     "text": [
      "[I 2025-04-08 00:45:21,146] Trial 15 finished with value: 0.26074293293293743 and parameters: {'feature_selection__estimator__alpha': 0.08955972112217186, 'svr__C': 0.6442178929775443, 'svr__gamma': 0.030488035456915637, 'svr__epsilon': 0.19679127032814667, 'svr__kernel': 'rbf'}. Best is trial 15 with value: 0.26074293293293743.\n"
     ]
    },
    {
     "name": "stderr",
     "output_type": "stream",
     "text": [
      "[I 2025-04-08 00:45:21,422] Trial 16 finished with value: 0.02057717878066322 and parameters: {'feature_selection__estimator__alpha': 0.024364961539798734, 'svr__C': 0.0508215213050401, 'svr__gamma': 0.01925986799999699, 'svr__epsilon': 0.20211798586354998, 'svr__kernel': 'rbf'}. Best is trial 15 with value: 0.26074293293293743.\n"
     ]
    },
    {
     "name": "stderr",
     "output_type": "stream",
     "text": [
      "[I 2025-04-08 00:45:21,484] Trial 18 finished with value: 0.19824212011042383 and parameters: {'feature_selection__estimator__alpha': 0.008583861459370115, 'svr__C': 22.13340093378217, 'svr__gamma': 0.0010965422142834125, 'svr__epsilon': 0.3265417346862306, 'svr__kernel': 'rbf'}. Best is trial 15 with value: 0.26074293293293743.\n"
     ]
    },
    {
     "name": "stderr",
     "output_type": "stream",
     "text": [
      "[I 2025-04-08 00:45:21,491] Trial 17 finished with value: 0.20972457214334503 and parameters: {'feature_selection__estimator__alpha': 0.012946198296099365, 'svr__C': 20.088588185412743, 'svr__gamma': 0.001101422189907239, 'svr__epsilon': 0.33849148602675294, 'svr__kernel': 'rbf'}. Best is trial 15 with value: 0.26074293293293743.\n"
     ]
    },
    {
     "name": "stderr",
     "output_type": "stream",
     "text": [
      "[I 2025-04-08 00:45:21,728] Trial 13 finished with value: 0.04016231883349029 and parameters: {'feature_selection__estimator__alpha': 0.0003104499645143583, 'svr__C': 98.3611017905012, 'svr__gamma': 0.014346528868329298, 'svr__epsilon': 0.02537905519982132, 'svr__kernel': 'rbf'}. Best is trial 15 with value: 0.26074293293293743.\n"
     ]
    },
    {
     "name": "stderr",
     "output_type": "stream",
     "text": [
      "[I 2025-04-08 00:45:21,918] Trial 20 finished with value: 0.2308645172968215 and parameters: {'feature_selection__estimator__alpha': 0.012147557820421144, 'svr__C': 11.122525819264325, 'svr__gamma': 0.0010979573721388062, 'svr__epsilon': 0.31222038418313125, 'svr__kernel': 'rbf'}. Best is trial 15 with value: 0.26074293293293743.\n"
     ]
    },
    {
     "name": "stderr",
     "output_type": "stream",
     "text": [
      "[I 2025-04-08 00:45:22,285] Trial 25 finished with value: -0.09205683356075203 and parameters: {'feature_selection__estimator__alpha': 0.005631794006497526, 'svr__C': 5.678005002952588, 'svr__gamma': 0.5448941336503803, 'svr__epsilon': 0.12331502431070288, 'svr__kernel': 'rbf'}. Best is trial 15 with value: 0.26074293293293743.\n"
     ]
    },
    {
     "name": "stderr",
     "output_type": "stream",
     "text": [
      "[I 2025-04-08 00:45:22,638] Trial 10 finished with value: -0.03763222054716604 and parameters: {'feature_selection__estimator__alpha': 0.00015598518612062673, 'svr__C': 0.3940736210960707, 'svr__gamma': 0.09447539544440962, 'svr__epsilon': 0.4941271925420992, 'svr__kernel': 'rbf'}. Best is trial 15 with value: 0.26074293293293743.\n"
     ]
    },
    {
     "name": "stderr",
     "output_type": "stream",
     "text": [
      "[I 2025-04-08 00:45:22,820] Trial 27 finished with value: 0.27179886845497075 and parameters: {'feature_selection__estimator__alpha': 0.03504949569744124, 'svr__C': 2.0055069383926756, 'svr__gamma': 0.005038071956551019, 'svr__epsilon': 0.13661425141299813, 'svr__kernel': 'rbf'}. Best is trial 27 with value: 0.27179886845497075.\n"
     ]
    },
    {
     "name": "stderr",
     "output_type": "stream",
     "text": [
      "[I 2025-04-08 00:45:23,284] Trial 28 finished with value: 0.2723073977701415 and parameters: {'feature_selection__estimator__alpha': 0.03605035186219133, 'svr__C': 1.4757334196384273, 'svr__gamma': 0.0053953095047143945, 'svr__epsilon': 0.28537327993033, 'svr__kernel': 'rbf'}. Best is trial 28 with value: 0.2723073977701415.\n"
     ]
    },
    {
     "name": "stderr",
     "output_type": "stream",
     "text": [
      "[I 2025-04-08 00:45:23,530] Trial 29 finished with value: 0.2668598797908909 and parameters: {'feature_selection__estimator__alpha': 0.03674066993894598, 'svr__C': 1.836580263454697, 'svr__gamma': 0.0051126897397481596, 'svr__epsilon': 0.13832930130717921, 'svr__kernel': 'rbf'}. Best is trial 28 with value: 0.2723073977701415.\n"
     ]
    },
    {
     "name": "stderr",
     "output_type": "stream",
     "text": [
      "[I 2025-04-08 00:45:24,169] Trial 30 finished with value: 0.2631806742879436 and parameters: {'feature_selection__estimator__alpha': 0.03332949535437492, 'svr__C': 2.231251079948694, 'svr__gamma': 0.005487133993495437, 'svr__epsilon': 0.1445512405476591, 'svr__kernel': 'rbf'}. Best is trial 28 with value: 0.2723073977701415.\n"
     ]
    },
    {
     "name": "stderr",
     "output_type": "stream",
     "text": [
      "[I 2025-04-08 00:45:24,335] Trial 31 finished with value: 0.24005716055659257 and parameters: {'feature_selection__estimator__alpha': 0.03263311948166365, 'svr__C': 1.598709402119262, 'svr__gamma': 0.004651482070866006, 'svr__epsilon': 0.12552352918106235, 'svr__kernel': 'rbf'}. Best is trial 28 with value: 0.2723073977701415.\n"
     ]
    },
    {
     "name": "stderr",
     "output_type": "stream",
     "text": [
      "[I 2025-04-08 00:45:24,675] Trial 21 finished with value: 0.23091930346171136 and parameters: {'feature_selection__estimator__alpha': 0.0001830078164053614, 'svr__C': 10.020805049660401, 'svr__gamma': 0.0011453173925596377, 'svr__epsilon': 0.1294519700695383, 'svr__kernel': 'rbf'}. Best is trial 28 with value: 0.2723073977701415.\n"
     ]
    },
    {
     "name": "stderr",
     "output_type": "stream",
     "text": [
      "[I 2025-04-08 00:45:24,812] Trial 19 finished with value: 0.2320856268479458 and parameters: {'feature_selection__estimator__alpha': 0.0001589414206459391, 'svr__C': 16.817123737641037, 'svr__gamma': 0.0010463246298411987, 'svr__epsilon': 0.32530999461763, 'svr__kernel': 'rbf'}. Best is trial 28 with value: 0.2723073977701415.\n"
     ]
    },
    {
     "name": "stderr",
     "output_type": "stream",
     "text": [
      "[I 2025-04-08 00:45:25,082] Trial 32 finished with value: 0.2303520844844515 and parameters: {'feature_selection__estimator__alpha': 0.005583809967846833, 'svr__C': 1.2673668236064697, 'svr__gamma': 0.005605730706128647, 'svr__epsilon': 0.09773833485816741, 'svr__kernel': 'rbf'}. Best is trial 28 with value: 0.2723073977701415.\n"
     ]
    },
    {
     "name": "stderr",
     "output_type": "stream",
     "text": [
      "[I 2025-04-08 00:45:25,471] Trial 33 finished with value: 0.04300818752672092 and parameters: {'feature_selection__estimator__alpha': 0.005395204586218458, 'svr__C': 0.21884899514916625, 'svr__gamma': 0.05585408429977601, 'svr__epsilon': 0.0788649151009968, 'svr__kernel': 'rbf'}. Best is trial 28 with value: 0.2723073977701415.\n"
     ]
    },
    {
     "name": "stderr",
     "output_type": "stream",
     "text": [
      "[I 2025-04-08 00:45:25,561] Trial 22 finished with value: 0.23399078996120207 and parameters: {'feature_selection__estimator__alpha': 0.00012502778357121244, 'svr__C': 8.774064078955332, 'svr__gamma': 0.0014323012903375708, 'svr__epsilon': 0.12530673966035133, 'svr__kernel': 'rbf'}. Best is trial 28 with value: 0.2723073977701415.\n"
     ]
    },
    {
     "name": "stderr",
     "output_type": "stream",
     "text": [
      "[I 2025-04-08 00:45:25,657] Trial 24 finished with value: 0.25553534725812443 and parameters: {'feature_selection__estimator__alpha': 0.0001316689450412096, 'svr__C': 6.7621993500696975, 'svr__gamma': 0.00539520960110983, 'svr__epsilon': 0.12496835230475062, 'svr__kernel': 'rbf'}. Best is trial 28 with value: 0.2723073977701415.\n"
     ]
    },
    {
     "name": "stderr",
     "output_type": "stream",
     "text": [
      "[I 2025-04-08 00:45:25,740] Trial 34 finished with value: 0.08157650748619331 and parameters: {'feature_selection__estimator__alpha': 0.0063079541016861146, 'svr__C': 0.18585274581105798, 'svr__gamma': 0.006237097814167646, 'svr__epsilon': 0.08284445109842473, 'svr__kernel': 'rbf'}. Best is trial 28 with value: 0.2723073977701415.\n"
     ]
    },
    {
     "name": "stderr",
     "output_type": "stream",
     "text": [
      "[I 2025-04-08 00:45:25,839] Trial 23 finished with value: 0.26907238024728675 and parameters: {'feature_selection__estimator__alpha': 0.0001209026391939519, 'svr__C': 4.478776609335474, 'svr__gamma': 0.00462511644280001, 'svr__epsilon': 0.13209310811300312, 'svr__kernel': 'rbf'}. Best is trial 28 with value: 0.2723073977701415.\n"
     ]
    },
    {
     "name": "stderr",
     "output_type": "stream",
     "text": [
      "[I 2025-04-08 00:45:26,013] Trial 35 finished with value: 0.053025816035774255 and parameters: {'feature_selection__estimator__alpha': 0.006279670932769966, 'svr__C': 0.21183734415737301, 'svr__gamma': 0.05331537490078901, 'svr__epsilon': 0.07784073596247812, 'svr__kernel': 'rbf'}. Best is trial 28 with value: 0.2723073977701415.\n"
     ]
    },
    {
     "name": "stderr",
     "output_type": "stream",
     "text": [
      "[I 2025-04-08 00:45:26,153] Trial 36 finished with value: 0.1678490973863242 and parameters: {'feature_selection__estimator__alpha': 0.04304481324251985, 'svr__C': 5.229298141910233, 'svr__gamma': 0.04791965313095649, 'svr__epsilon': 0.2538940577987965, 'svr__kernel': 'rbf'}. Best is trial 28 with value: 0.2723073977701415.\n"
     ]
    },
    {
     "name": "stderr",
     "output_type": "stream",
     "text": [
      "[I 2025-04-08 00:45:26,296] Trial 26 finished with value: -0.09303231439453269 and parameters: {'feature_selection__estimator__alpha': 0.00010734038207377075, 'svr__C': 4.026577364606203, 'svr__gamma': 0.5266091349684497, 'svr__epsilon': 0.10552525721313369, 'svr__kernel': 'rbf'}. Best is trial 28 with value: 0.2723073977701415.\n"
     ]
    },
    {
     "name": "stderr",
     "output_type": "stream",
     "text": [
      "[I 2025-04-08 00:45:26,559] Trial 37 finished with value: 0.2922372006245864 and parameters: {'feature_selection__estimator__alpha': 0.03809262818881697, 'svr__C': 5.603017587925503, 'svr__gamma': 0.009511931361900896, 'svr__epsilon': 0.25942708450623053, 'svr__kernel': 'rbf'}. Best is trial 37 with value: 0.2922372006245864.\n"
     ]
    },
    {
     "name": "stderr",
     "output_type": "stream",
     "text": [
      "[I 2025-04-08 00:45:26,682] Trial 40 finished with value: 0.25730565398529043 and parameters: {'feature_selection__estimator__alpha': 0.03970752246941649, 'svr__C': 1.6342240170104354, 'svr__gamma': 0.0034919477053734632, 'svr__epsilon': 0.27697694806084616, 'svr__kernel': 'rbf'}. Best is trial 37 with value: 0.2922372006245864.\n"
     ]
    },
    {
     "name": "stderr",
     "output_type": "stream",
     "text": [
      "[I 2025-04-08 00:45:26,686] Trial 38 finished with value: 0.2795842068655224 and parameters: {'feature_selection__estimator__alpha': 0.03467376732816953, 'svr__C': 2.088485945754797, 'svr__gamma': 0.007374739063041242, 'svr__epsilon': 0.26831040277613843, 'svr__kernel': 'rbf'}. Best is trial 37 with value: 0.2922372006245864.\n"
     ]
    },
    {
     "name": "stderr",
     "output_type": "stream",
     "text": [
      "[I 2025-04-08 00:45:26,776] Trial 39 finished with value: 0.2823879443007433 and parameters: {'feature_selection__estimator__alpha': 0.03600190873809946, 'svr__C': 1.8009883442021892, 'svr__gamma': 0.008566424352019781, 'svr__epsilon': 0.1636553687406465, 'svr__kernel': 'rbf'}. Best is trial 37 with value: 0.2922372006245864.\n"
     ]
    },
    {
     "name": "stderr",
     "output_type": "stream",
     "text": [
      "[I 2025-04-08 00:45:26,852] Trial 41 finished with value: 0.29458643344169455 and parameters: {'feature_selection__estimator__alpha': 0.04816492123997186, 'svr__C': 4.831663222675531, 'svr__gamma': 0.0029594905363585456, 'svr__epsilon': 0.2594141411052615, 'svr__kernel': 'rbf'}. Best is trial 41 with value: 0.29458643344169455.\n"
     ]
    },
    {
     "name": "stderr",
     "output_type": "stream",
     "text": [
      "[I 2025-04-08 00:45:27,038] Trial 42 finished with value: 0.29004398928022157 and parameters: {'feature_selection__estimator__alpha': 0.04541105016617079, 'svr__C': 4.51039777238906, 'svr__gamma': 0.003082035222796581, 'svr__epsilon': 0.27292473333525646, 'svr__kernel': 'rbf'}. Best is trial 41 with value: 0.29458643344169455.\n"
     ]
    },
    {
     "name": "stderr",
     "output_type": "stream",
     "text": [
      "[I 2025-04-08 00:45:27,417] Trial 43 finished with value: -0.09245422954484261 and parameters: {'feature_selection__estimator__alpha': 0.001954949198204999, 'svr__C': 1.704060959038676, 'svr__gamma': 4.8033113226199555, 'svr__epsilon': 0.16092701533735854, 'svr__kernel': 'rbf'}. Best is trial 41 with value: 0.29458643344169455.\n"
     ]
    },
    {
     "name": "stderr",
     "output_type": "stream",
     "text": [
      "[I 2025-04-08 00:45:27,427] Trial 44 finished with value: 0.29261761935917663 and parameters: {'feature_selection__estimator__alpha': 0.04910450469577028, 'svr__C': 1.6129452391326087, 'svr__gamma': 0.00972206590589264, 'svr__epsilon': 0.16535911021612604, 'svr__kernel': 'rbf'}. Best is trial 41 with value: 0.29458643344169455.\n"
     ]
    },
    {
     "name": "stderr",
     "output_type": "stream",
     "text": [
      "[I 2025-04-08 00:45:27,530] Trial 45 finished with value: -0.09026479513079126 and parameters: {'feature_selection__estimator__alpha': 0.05699813621135941, 'svr__C': 2.618239783062492, 'svr__gamma': 5.381642234877095, 'svr__epsilon': 0.2896738221699172, 'svr__kernel': 'rbf'}. Best is trial 41 with value: 0.29458643344169455.\n"
     ]
    },
    {
     "name": "stderr",
     "output_type": "stream",
     "text": [
      "[I 2025-04-08 00:45:27,603] Trial 46 finished with value: 0.22390622416403927 and parameters: {'feature_selection__estimator__alpha': 0.05566571687229608, 'svr__C': 0.333131082830325, 'svr__gamma': 0.010631188514530893, 'svr__epsilon': 0.36792792630286386, 'svr__kernel': 'rbf'}. Best is trial 41 with value: 0.29458643344169455.\n"
     ]
    },
    {
     "name": "stderr",
     "output_type": "stream",
     "text": [
      "[I 2025-04-08 00:45:27,650] Trial 47 finished with value: -0.08919783011687063 and parameters: {'feature_selection__estimator__alpha': 0.06290983174347371, 'svr__C': 2.5071552822796646, 'svr__gamma': 5.6487572315744945, 'svr__epsilon': 0.36982368546673994, 'svr__kernel': 'rbf'}. Best is trial 41 with value: 0.29458643344169455.\n"
     ]
    },
    {
     "name": "stderr",
     "output_type": "stream",
     "text": [
      "[I 2025-04-08 00:45:27,787] Trial 48 finished with value: 0.3024393638389276 and parameters: {'feature_selection__estimator__alpha': 0.05774318982740513, 'svr__C': 2.335728480983109, 'svr__gamma': 0.011297313875558258, 'svr__epsilon': 0.16845815529430316, 'svr__kernel': 'rbf'}. Best is trial 48 with value: 0.3024393638389276.\n"
     ]
    },
    {
     "name": "stderr",
     "output_type": "stream",
     "text": [
      "[I 2025-04-08 00:45:27,950] Trial 49 finished with value: 0.28970167475368236 and parameters: {'feature_selection__estimator__alpha': 0.05682056032003833, 'svr__C': 0.9599874331683528, 'svr__gamma': 0.010477131528071615, 'svr__epsilon': 0.2815986325849442, 'svr__kernel': 'rbf'}. Best is trial 48 with value: 0.3024393638389276.\n"
     ]
    },
    {
     "name": "stderr",
     "output_type": "stream",
     "text": [
      "[I 2025-04-08 00:45:28,096] Trial 50 finished with value: 0.2928642761090795 and parameters: {'feature_selection__estimator__alpha': 0.06213828817088402, 'svr__C': 2.8772217234719255, 'svr__gamma': 0.009552580063778097, 'svr__epsilon': 0.36193273863745296, 'svr__kernel': 'rbf'}. Best is trial 48 with value: 0.3024393638389276.\n"
     ]
    },
    {
     "name": "stderr",
     "output_type": "stream",
     "text": [
      "[I 2025-04-08 00:45:28,358] Trial 52 finished with value: 0.2845972014118701 and parameters: {'feature_selection__estimator__alpha': 0.06175577206455025, 'svr__C': 0.893234860222278, 'svr__gamma': 0.011964610029829516, 'svr__epsilon': 0.2291440968617115, 'svr__kernel': 'rbf'}. Best is trial 48 with value: 0.3024393638389276.\n"
     ]
    },
    {
     "name": "stderr",
     "output_type": "stream",
     "text": [
      "[I 2025-04-08 00:45:28,463] Trial 51 finished with value: 0.05910474789180011 and parameters: {'feature_selection__estimator__alpha': 0.020976884850980617, 'svr__C': 33.854365832944005, 'svr__gamma': 0.011217724442901504, 'svr__epsilon': 0.3660951569949223, 'svr__kernel': 'rbf'}. Best is trial 48 with value: 0.3024393638389276.\n"
     ]
    },
    {
     "name": "stderr",
     "output_type": "stream",
     "text": [
      "[I 2025-04-08 00:45:28,645] Trial 54 finished with value: 0.2194555056854725 and parameters: {'feature_selection__estimator__alpha': 0.020561275565605407, 'svr__C': 36.97566979531203, 'svr__gamma': 0.0021069348087189026, 'svr__epsilon': 0.2211534541649706, 'svr__kernel': 'rbf'}. Best is trial 48 with value: 0.3024393638389276.\n"
     ]
    },
    {
     "name": "stderr",
     "output_type": "stream",
     "text": [
      "[I 2025-04-08 00:45:28,656] Trial 53 finished with value: 0.030889019458214356 and parameters: {'feature_selection__estimator__alpha': 0.020288500731012474, 'svr__C': 30.320902876410315, 'svr__gamma': 0.01078849104897118, 'svr__epsilon': 0.23306496395877638, 'svr__kernel': 'rbf'}. Best is trial 48 with value: 0.3024393638389276.\n"
     ]
    },
    {
     "name": "stderr",
     "output_type": "stream",
     "text": [
      "[I 2025-04-08 00:45:28,757] Trial 55 finished with value: 0.1898598916091898 and parameters: {'feature_selection__estimator__alpha': 0.020499137637353428, 'svr__C': 0.8789754559540632, 'svr__gamma': 0.0029434397342944572, 'svr__epsilon': 0.22804427791819915, 'svr__kernel': 'rbf'}. Best is trial 48 with value: 0.3024393638389276.\n"
     ]
    },
    {
     "name": "stderr",
     "output_type": "stream",
     "text": [
      "[I 2025-04-08 00:45:28,815] Trial 56 finished with value: 0.18292658927098385 and parameters: {'feature_selection__estimator__alpha': 0.019770432102002338, 'svr__C': 0.9467209615886191, 'svr__gamma': 0.002478600656418037, 'svr__epsilon': 0.22389245153201484, 'svr__kernel': 'rbf'}. Best is trial 48 with value: 0.3024393638389276.\n"
     ]
    },
    {
     "name": "stderr",
     "output_type": "stream",
     "text": [
      "[I 2025-04-08 00:45:28,922] Trial 57 finished with value: 0.22395153593910844 and parameters: {'feature_selection__estimator__alpha': 0.018698892972105755, 'svr__C': 11.9402418665342, 'svr__gamma': 0.0021231345118091754, 'svr__epsilon': 0.22776977019815003, 'svr__kernel': 'rbf'}. Best is trial 48 with value: 0.3024393638389276.\n"
     ]
    },
    {
     "name": "stderr",
     "output_type": "stream",
     "text": [
      "[I 2025-04-08 00:45:29,134] Trial 58 finished with value: 0.2557637242545803 and parameters: {'feature_selection__estimator__alpha': 0.022408798023974733, 'svr__C': 3.6846740852187327, 'svr__gamma': 0.0024955035327438977, 'svr__epsilon': 0.22587273029379873, 'svr__kernel': 'rbf'}. Best is trial 48 with value: 0.3024393638389276.\n"
     ]
    },
    {
     "name": "stderr",
     "output_type": "stream",
     "text": [
      "[I 2025-04-08 00:45:29,349] Trial 59 finished with value: 0.15556251586726147 and parameters: {'feature_selection__estimator__alpha': 0.019610129411331202, 'svr__C': 34.31143048880764, 'svr__gamma': 0.002544442960885979, 'svr__epsilon': 0.39566031577995114, 'svr__kernel': 'rbf'}. Best is trial 48 with value: 0.3024393638389276.\n"
     ]
    },
    {
     "name": "stderr",
     "output_type": "stream",
     "text": [
      "[I 2025-04-08 00:45:29,507] Trial 60 finished with value: 0.2297309747021011 and parameters: {'feature_selection__estimator__alpha': 0.09995687234112426, 'svr__C': 13.54373823778407, 'svr__gamma': 0.0023432527820797895, 'svr__epsilon': 0.4332788056588776, 'svr__kernel': 'rbf'}. Best is trial 48 with value: 0.3024393638389276.\n"
     ]
    },
    {
     "name": "stderr",
     "output_type": "stream",
     "text": [
      "[I 2025-04-08 00:45:29,678] Trial 62 finished with value: 0.2566297371085054 and parameters: {'feature_selection__estimator__alpha': 0.09804624968008911, 'svr__C': 3.3884208905746895, 'svr__gamma': 0.0033352579657320745, 'svr__epsilon': 0.4117045553170473, 'svr__kernel': 'rbf'}. Best is trial 48 with value: 0.3024393638389276.\n"
     ]
    },
    {
     "name": "stderr",
     "output_type": "stream",
     "text": [
      "[I 2025-04-08 00:45:29,696] Trial 61 finished with value: 0.23213810034636037 and parameters: {'feature_selection__estimator__alpha': 0.08067805747526519, 'svr__C': 3.6809697305681857, 'svr__gamma': 0.029670422469564642, 'svr__epsilon': 0.42817955294518195, 'svr__kernel': 'rbf'}. Best is trial 48 with value: 0.3024393638389276.\n"
     ]
    },
    {
     "name": "stderr",
     "output_type": "stream",
     "text": [
      "[I 2025-04-08 00:45:29,761] Trial 63 finished with value: 0.2304733576127725 and parameters: {'feature_selection__estimator__alpha': 0.09750494942293553, 'svr__C': 3.421336171379714, 'svr__gamma': 0.021950770660603504, 'svr__epsilon': 0.38703153510764576, 'svr__kernel': 'rbf'}. Best is trial 48 with value: 0.3024393638389276.\n"
     ]
    },
    {
     "name": "stderr",
     "output_type": "stream",
     "text": [
      "[I 2025-04-08 00:45:29,900] Trial 64 finished with value: 0.16064119209828856 and parameters: {'feature_selection__estimator__alpha': 0.07723062323626918, 'svr__C': 12.97050463459374, 'svr__gamma': 0.02817937139100368, 'svr__epsilon': 0.43474946501216954, 'svr__kernel': 'rbf'}. Best is trial 48 with value: 0.3024393638389276.\n"
     ]
    },
    {
     "name": "stderr",
     "output_type": "stream",
     "text": [
      "[I 2025-04-08 00:45:29,959] Trial 65 finished with value: 0.2358406702633873 and parameters: {'feature_selection__estimator__alpha': 0.07779883035249105, 'svr__C': 3.7017376142233847, 'svr__gamma': 0.028827521991343898, 'svr__epsilon': 0.4032039437837868, 'svr__kernel': 'rbf'}. Best is trial 48 with value: 0.3024393638389276.\n"
     ]
    },
    {
     "name": "stderr",
     "output_type": "stream",
     "text": [
      "[I 2025-04-08 00:45:30,226] Trial 66 finished with value: 0.16798091855092895 and parameters: {'feature_selection__estimator__alpha': 0.07890551537549408, 'svr__C': 8.701877434251855, 'svr__gamma': 0.02762322995246683, 'svr__epsilon': 0.3925029787978213, 'svr__kernel': 'rbf'}. Best is trial 48 with value: 0.3024393638389276.\n"
     ]
    },
    {
     "name": "stderr",
     "output_type": "stream",
     "text": [
      "[I 2025-04-08 00:45:30,438] Trial 67 finished with value: 0.16342689821554254 and parameters: {'feature_selection__estimator__alpha': 0.0987046884585413, 'svr__C': 7.639839404476183, 'svr__gamma': 0.023987628531267572, 'svr__epsilon': 0.18446019893813045, 'svr__kernel': 'rbf'}. Best is trial 48 with value: 0.3024393638389276.\n"
     ]
    },
    {
     "name": "stderr",
     "output_type": "stream",
     "text": [
      "[I 2025-04-08 00:45:30,440] Trial 68 finished with value: 0.18296139296378885 and parameters: {'feature_selection__estimator__alpha': 0.07339136301096354, 'svr__C': 7.482313204217089, 'svr__gamma': 0.021420964183841616, 'svr__epsilon': 0.18765392263824723, 'svr__kernel': 'rbf'}. Best is trial 48 with value: 0.3024393638389276.\n"
     ]
    },
    {
     "name": "stderr",
     "output_type": "stream",
     "text": [
      "[I 2025-04-08 00:45:30,737] Trial 69 finished with value: 0.2665751642408808 and parameters: {'feature_selection__estimator__alpha': 0.07103167810808467, 'svr__C': 0.5175138916779864, 'svr__gamma': 0.02827294797445443, 'svr__epsilon': 0.18985083798647195, 'svr__kernel': 'rbf'}. Best is trial 48 with value: 0.3024393638389276.\n"
     ]
    },
    {
     "name": "stderr",
     "output_type": "stream",
     "text": [
      "[I 2025-04-08 00:45:30,770] Trial 70 finished with value: 0.2181093800378438 and parameters: {'feature_selection__estimator__alpha': 0.07129386242677176, 'svr__C': 6.458357014162559, 'svr__gamma': 0.018685505757530987, 'svr__epsilon': 0.1802045610415236, 'svr__kernel': 'rbf'}. Best is trial 48 with value: 0.3024393638389276.\n"
     ]
    },
    {
     "name": "stderr",
     "output_type": "stream",
     "text": [
      "[I 2025-04-08 00:45:30,866] Trial 71 finished with value: 0.24202165238831846 and parameters: {'feature_selection__estimator__alpha': 0.04841166237635747, 'svr__C': 7.084778119977998, 'svr__gamma': 0.01681611196502239, 'svr__epsilon': 0.2980859223542834, 'svr__kernel': 'rbf'}. Best is trial 48 with value: 0.3024393638389276.\n"
     ]
    },
    {
     "name": "stderr",
     "output_type": "stream",
     "text": [
      "[I 2025-04-08 00:45:31,046] Trial 72 finished with value: 0.16077489226389727 and parameters: {'feature_selection__estimator__alpha': 0.02687715824928005, 'svr__C': 9.101015996018532, 'svr__gamma': 0.01706651720449777, 'svr__epsilon': 0.17878938439371894, 'svr__kernel': 'rbf'}. Best is trial 48 with value: 0.3024393638389276.\n"
     ]
    },
    {
     "name": "stderr",
     "output_type": "stream",
     "text": [
      "[I 2025-04-08 00:45:31,051] Trial 73 finished with value: 0.21614856381126182 and parameters: {'feature_selection__estimator__alpha': 0.027640850998601255, 'svr__C': 7.532881026705849, 'svr__gamma': 0.013544854779644375, 'svr__epsilon': 0.18187081070424604, 'svr__kernel': 'rbf'}. Best is trial 48 with value: 0.3024393638389276.\n"
     ]
    },
    {
     "name": "stderr",
     "output_type": "stream",
     "text": [
      "[I 2025-04-08 00:45:31,325] Trial 74 finished with value: 0.19392519198198938 and parameters: {'feature_selection__estimator__alpha': 0.02829487109589449, 'svr__C': 6.99713224922668, 'svr__gamma': 0.015108653309382629, 'svr__epsilon': 0.18232369168920456, 'svr__kernel': 'rbf'}. Best is trial 48 with value: 0.3024393638389276.\n"
     ]
    },
    {
     "name": "stderr",
     "output_type": "stream",
     "text": [
      "[I 2025-04-08 00:45:31,459] Trial 75 finished with value: 0.06326799608769214 and parameters: {'feature_selection__estimator__alpha': 0.02598089047050764, 'svr__C': 0.4903805577008772, 'svr__gamma': 0.0015988798506032433, 'svr__epsilon': 0.3020486933077639, 'svr__kernel': 'rbf'}. Best is trial 48 with value: 0.3024393638389276.\n"
     ]
    },
    {
     "name": "stderr",
     "output_type": "stream",
     "text": [
      "[I 2025-04-08 00:45:31,509] Trial 76 finished with value: 0.26302992306699036 and parameters: {'feature_selection__estimator__alpha': 0.048116563466281084, 'svr__C': 0.4841817133848147, 'svr__gamma': 0.015865837935097223, 'svr__epsilon': 0.24431064795444912, 'svr__kernel': 'rbf'}. Best is trial 48 with value: 0.3024393638389276.\n"
     ]
    },
    {
     "name": "stderr",
     "output_type": "stream",
     "text": [
      "[I 2025-04-08 00:45:31,818] Trial 78 finished with value: 0.2634341123616849 and parameters: {'feature_selection__estimator__alpha': 0.027671344563963935, 'svr__C': 0.7123861415357676, 'svr__gamma': 0.014150333292361122, 'svr__epsilon': 0.3406284971250109, 'svr__kernel': 'rbf'}. Best is trial 48 with value: 0.3024393638389276.\n"
     ]
    },
    {
     "name": "stderr",
     "output_type": "stream",
     "text": [
      "[I 2025-04-08 00:45:31,849] Trial 77 finished with value: 0.27211810006150977 and parameters: {'feature_selection__estimator__alpha': 0.02667140269831158, 'svr__C': 1.147235051181524, 'svr__gamma': 0.016352210890663257, 'svr__epsilon': 0.3462250359508561, 'svr__kernel': 'rbf'}. Best is trial 48 with value: 0.3024393638389276.\n"
     ]
    },
    {
     "name": "stderr",
     "output_type": "stream",
     "text": [
      "[I 2025-04-08 00:45:31,869] Trial 79 finished with value: 0.27552710747972087 and parameters: {'feature_selection__estimator__alpha': 0.02619398838998633, 'svr__C': 1.2148900519403243, 'svr__gamma': 0.013040243165097744, 'svr__epsilon': 0.3425777881653533, 'svr__kernel': 'rbf'}. Best is trial 48 with value: 0.3024393638389276.\n"
     ]
    },
    {
     "name": "stderr",
     "output_type": "stream",
     "text": [
      "[I 2025-04-08 00:45:32,100] Trial 81 finished with value: 0.10630454042392859 and parameters: {'feature_selection__estimator__alpha': 0.04971569503528298, 'svr__C': 0.7260254968073669, 'svr__gamma': 0.0016396532502982615, 'svr__epsilon': 0.3456518554444967, 'svr__kernel': 'rbf'}. Best is trial 48 with value: 0.3024393638389276.\n"
     ]
    },
    {
     "name": "stderr",
     "output_type": "stream",
     "text": [
      "[I 2025-04-08 00:45:32,169] Trial 80 finished with value: 0.2503017828907447 and parameters: {'feature_selection__estimator__alpha': 0.0502103383418362, 'svr__C': 0.6909909595958103, 'svr__gamma': 0.007817323971101705, 'svr__epsilon': 0.2476768119345844, 'svr__kernel': 'rbf'}. Best is trial 48 with value: 0.3024393638389276.\n"
     ]
    },
    {
     "name": "stderr",
     "output_type": "stream",
     "text": [
      "[I 2025-04-08 00:45:32,285] Trial 82 finished with value: 0.21309636206714036 and parameters: {'feature_selection__estimator__alpha': 0.04814466987715254, 'svr__C': 0.6649955814829718, 'svr__gamma': 0.08514520241321197, 'svr__epsilon': 0.2457368695635766, 'svr__kernel': 'rbf'}. Best is trial 48 with value: 0.3024393638389276.\n"
     ]
    },
    {
     "name": "stderr",
     "output_type": "stream",
     "text": [
      "[I 2025-04-08 00:45:32,551] Trial 84 finished with value: 0.29032974334553246 and parameters: {'feature_selection__estimator__alpha': 0.05162942050680658, 'svr__C': 1.274938077859782, 'svr__gamma': 0.007346579011056605, 'svr__epsilon': 0.3440557749731954, 'svr__kernel': 'rbf'}. Best is trial 48 with value: 0.3024393638389276.\n"
     ]
    },
    {
     "name": "stderr",
     "output_type": "stream",
     "text": [
      "[I 2025-04-08 00:45:32,555] Trial 83 finished with value: 0.18823958159743412 and parameters: {'feature_selection__estimator__alpha': 0.050277455663777434, 'svr__C': 1.148591078197152, 'svr__gamma': 0.1077357871676859, 'svr__epsilon': 0.3431754263848209, 'svr__kernel': 'rbf'}. Best is trial 48 with value: 0.3024393638389276.\n"
     ]
    },
    {
     "name": "stderr",
     "output_type": "stream",
     "text": [
      "[I 2025-04-08 00:45:32,807] Trial 85 finished with value: 0.2889528189131694 and parameters: {'feature_selection__estimator__alpha': 0.05229925742902182, 'svr__C': 1.165473596346174, 'svr__gamma': 0.008579964051540247, 'svr__epsilon': 0.2665665333635833, 'svr__kernel': 'rbf'}. Best is trial 48 with value: 0.3024393638389276.\n"
     ]
    },
    {
     "name": "stderr",
     "output_type": "stream",
     "text": [
      "[I 2025-04-08 00:45:32,911] Trial 87 finished with value: 0.14302352121201048 and parameters: {'feature_selection__estimator__alpha': 0.05075773034744476, 'svr__C': 4.9790291146381405, 'svr__gamma': 0.0742692968241129, 'svr__epsilon': 0.2591077603909902, 'svr__kernel': 'rbf'}. Best is trial 48 with value: 0.3024393638389276.\n"
     ]
    },
    {
     "name": "stderr",
     "output_type": "stream",
     "text": [
      "[I 2025-04-08 00:45:32,932] Trial 86 finished with value: 0.21419170466698456 and parameters: {'feature_selection__estimator__alpha': 0.05153191539319532, 'svr__C': 1.1494260723395213, 'svr__gamma': 0.08306022664101563, 'svr__epsilon': 0.2070962222446549, 'svr__kernel': 'rbf'}. Best is trial 48 with value: 0.3024393638389276.\n"
     ]
    },
    {
     "name": "stderr",
     "output_type": "stream",
     "text": [
      "[I 2025-04-08 00:45:33,125] Trial 88 finished with value: 0.30053441533832903 and parameters: {'feature_selection__estimator__alpha': 0.05771343434684922, 'svr__C': 2.256945007992333, 'svr__gamma': 0.007348886081130886, 'svr__epsilon': 0.20886520581499868, 'svr__kernel': 'rbf'}. Best is trial 48 with value: 0.3024393638389276.\n"
     ]
    },
    {
     "name": "stderr",
     "output_type": "stream",
     "text": [
      "[I 2025-04-08 00:45:33,191] Trial 89 finished with value: 0.29687951677368213 and parameters: {'feature_selection__estimator__alpha': 0.06288264840083996, 'svr__C': 4.762417998439058, 'svr__gamma': 0.009216623346718198, 'svr__epsilon': 0.15641376125206072, 'svr__kernel': 'rbf'}. Best is trial 48 with value: 0.3024393638389276.\n"
     ]
    },
    {
     "name": "stderr",
     "output_type": "stream",
     "text": [
      "[I 2025-04-08 00:45:33,352] Trial 90 finished with value: 0.2943555840891846 and parameters: {'feature_selection__estimator__alpha': 0.06054053901692061, 'svr__C': 2.7697027879753877, 'svr__gamma': 0.008614832217945925, 'svr__epsilon': 0.16046927013159124, 'svr__kernel': 'rbf'}. Best is trial 48 with value: 0.3024393638389276.\n"
     ]
    },
    {
     "name": "stderr",
     "output_type": "stream",
     "text": [
      "[I 2025-04-08 00:45:33,608] Trial 92 finished with value: 0.28517393564732246 and parameters: {'feature_selection__estimator__alpha': 0.060586179073257446, 'svr__C': 5.214085910496992, 'svr__gamma': 0.003974796684069671, 'svr__epsilon': 0.27155994438713094, 'svr__kernel': 'rbf'}. Best is trial 48 with value: 0.3024393638389276.\n"
     ]
    },
    {
     "name": "stderr",
     "output_type": "stream",
     "text": [
      "[I 2025-04-08 00:45:33,613] Trial 91 finished with value: 0.30336125573220407 and parameters: {'feature_selection__estimator__alpha': 0.06352016982789091, 'svr__C': 2.7830525069909835, 'svr__gamma': 0.007432112632355197, 'svr__epsilon': 0.20885547184188877, 'svr__kernel': 'rbf'}. Best is trial 91 with value: 0.30336125573220407.\n"
     ]
    },
    {
     "name": "stderr",
     "output_type": "stream",
     "text": [
      "[I 2025-04-08 00:45:33,750] Trial 93 finished with value: 0.2903920857906193 and parameters: {'feature_selection__estimator__alpha': 0.06127874996824762, 'svr__C': 4.449470859557808, 'svr__gamma': 0.003907892040127075, 'svr__epsilon': 0.26336100854773825, 'svr__kernel': 'rbf'}. Best is trial 91 with value: 0.30336125573220407.\n"
     ]
    },
    {
     "name": "stderr",
     "output_type": "stream",
     "text": [
      "[I 2025-04-08 00:45:33,906] Trial 95 finished with value: 0.28186834363360125 and parameters: {'feature_selection__estimator__alpha': 0.04136567189416738, 'svr__C': 2.1428107661394806, 'svr__gamma': 0.003945873606734564, 'svr__epsilon': 0.3211044702251088, 'svr__kernel': 'rbf'}. Best is trial 91 with value: 0.30336125573220407.\n"
     ]
    },
    {
     "name": "stderr",
     "output_type": "stream",
     "text": [
      "[I 2025-04-08 00:45:33,911] Trial 94 finished with value: 0.25575286122024227 and parameters: {'feature_selection__estimator__alpha': 0.010187862383314391, 'svr__C': 2.610315564662616, 'svr__gamma': 0.004065389103169334, 'svr__epsilon': 0.20873886494842828, 'svr__kernel': 'rbf'}. Best is trial 91 with value: 0.30336125573220407.\n"
     ]
    },
    {
     "name": "stderr",
     "output_type": "stream",
     "text": [
      "[I 2025-04-08 00:45:33,996] Trial 96 finished with value: 0.28351695437549534 and parameters: {'feature_selection__estimator__alpha': 0.062101306842862566, 'svr__C': 2.8299744179903503, 'svr__gamma': 0.003846973643221383, 'svr__epsilon': 0.32001277185506793, 'svr__kernel': 'rbf'}. Best is trial 91 with value: 0.30336125573220407.\n"
     ]
    },
    {
     "name": "stderr",
     "output_type": "stream",
     "text": [
      "[I 2025-04-08 00:45:34,025] Trial 97 finished with value: 0.23733023914299162 and parameters: {'feature_selection__estimator__alpha': 0.014940315341691511, 'svr__C': 2.6403049850537985, 'svr__gamma': 0.004246728089348708, 'svr__epsilon': 0.14782597681236923, 'svr__kernel': 'rbf'}. Best is trial 91 with value: 0.30336125573220407.\n"
     ]
    },
    {
     "name": "stderr",
     "output_type": "stream",
     "text": [
      "[I 2025-04-08 00:45:34,057] Trial 98 finished with value: 0.2731713016333882 and parameters: {'feature_selection__estimator__alpha': 0.04086206995690584, 'svr__C': 2.3876496237856735, 'svr__gamma': 0.0037972443954974624, 'svr__epsilon': 0.15613099445909046, 'svr__kernel': 'rbf'}. Best is trial 91 with value: 0.30336125573220407.\n"
     ]
    },
    {
     "name": "stderr",
     "output_type": "stream",
     "text": [
      "[I 2025-04-08 00:45:34,088] Trial 99 finished with value: 0.2861250651235435 and parameters: {'feature_selection__estimator__alpha': 0.039749574941484817, 'svr__C': 2.6272428770161276, 'svr__gamma': 0.006564441762319138, 'svr__epsilon': 0.15453777770414487, 'svr__kernel': 'rbf'}. Best is trial 91 with value: 0.30336125573220407.\n"
     ]
    },
    {
     "name": "stdout",
     "output_type": "stream",
     "text": [
      "Best hyperparameters: {'feature_selection__estimator__alpha': 0.06352016982789091, 'svr__C': 2.7830525069909835, 'svr__gamma': 0.007432112632355197, 'svr__epsilon': 0.20885547184188877, 'svr__kernel': 'rbf'}\n",
      "Best R² score: 0.3034\n"
     ]
    }
   ],
   "source": [
    "import optuna\n",
    "from sklearn.base import clone\n",
    "from sklearn.model_selection import GroupShuffleSplit, cross_val_score\n",
    "import numpy as np\n",
    "\n",
    "def objective(trial):\n",
    "    pipeline_clone = clone(unfitted_pipeline)  # Clone pipeline for thread safety\n",
    "    \n",
    "    params = {\n",
    "        \"feature_selection__estimator__alpha\": trial.suggest_float(\n",
    "        \"feature_selection__estimator__alpha\", 1e-4, 0.1, log=True  # Adjusted lower bound\n",
    "        ),\n",
    "        \"svr__C\": trial.suggest_float(\"svr__C\", 0.01, 100, log=True),\n",
    "        \"svr__gamma\": trial.suggest_float(\"svr__gamma\", 1e-3, 1e1, log=True),\n",
    "        \"svr__epsilon\": trial.suggest_float(\"svr__epsilon\", 0.01, 0.5),\n",
    "        \"svr__kernel\": trial.suggest_categorical(\"svr__kernel\", [\"rbf\"\n",
    "                                                                #  , \"poly\"\n",
    "                                                                 ]),\n",
    "    }\n",
    "    \n",
    "    # if params[\"svr__kernel\"] == \"poly\":\n",
    "    #     params[\"svr__degree\"] = trial.suggest_int(\"svr__degree\", 2, 3)  # Reduced from 5\n",
    "    #     params[\"svr__coef0\"] = trial.suggest_float(\"svr__coef0\", 0.0, 0.5)  # Narrower range\n",
    "        \n",
    "    pipeline_clone.set_params(**params)\n",
    "    \n",
    "    mc_cv_tuning = GroupShuffleSplit(n_splits=20, test_size=0.2, random_state=42)\n",
    "    \n",
    "    scores = cross_val_score(\n",
    "        pipeline_clone, X, y, cv=mc_cv_tuning, groups=groups_column, n_jobs=1\n",
    "    )\n",
    "\n",
    "    return np.mean(scores)\n",
    "\n",
    "if HYPERPARAMETER_TUNING_ENABLED:\n",
    "    study = optuna.create_study(direction=\"maximize\")\n",
    "    study.optimize(objective, n_trials=100, n_jobs=-1, timeout=4*60)\n",
    "    \n",
    "    print(\"Best hyperparameters:\", study.best_params)\n",
    "    print(f\"Best R² score: {study.best_value:.4f}\")"
   ]
  },
  {
   "cell_type": "markdown",
   "id": "e94f3390",
   "metadata": {
    "papermill": {
     "duration": 0.004772,
     "end_time": "2025-04-07T22:45:34.103114",
     "exception": false,
     "start_time": "2025-04-07T22:45:34.098342",
     "status": "completed"
    },
    "tags": []
   },
   "source": [
    "## Store Trained Model"
   ]
  },
  {
   "cell_type": "code",
   "execution_count": 8,
   "id": "9c615d8b",
   "metadata": {
    "execution": {
     "iopub.execute_input": "2025-04-07T22:45:34.113302Z",
     "iopub.status.busy": "2025-04-07T22:45:34.113020Z",
     "iopub.status.idle": "2025-04-07T22:45:34.136700Z",
     "shell.execute_reply": "2025-04-07T22:45:34.136365Z"
    },
    "papermill": {
     "duration": 0.029945,
     "end_time": "2025-04-07T22:45:34.137691",
     "exception": false,
     "start_time": "2025-04-07T22:45:34.107746",
     "status": "completed"
    },
    "tags": []
   },
   "outputs": [
    {
     "name": "stderr",
     "output_type": "stream",
     "text": [
      "/Users/bassel27/personal_projects/hireverse/venv/lib/python3.13/site-packages/sklearn/compose/_column_transformer.py:1667: FutureWarning: \n",
      "The format of the columns of the 'remainder' transformer in ColumnTransformer.transformers_ will change in version 1.7 to match the format of the other transformers.\n",
      "At the moment the remainder columns are stored as indices (of type int). With the same ColumnTransformer configuration, in the future they will be stored as column names (of type str).\n",
      "To use the new behavior now and suppress this warning, use ColumnTransformer(force_int_remainder_cols=False).\n",
      "\n",
      "  warnings.warn(\n"
     ]
    },
    {
     "data": {
      "text/html": [
       "<style>#sk-container-id-1 {\n",
       "  /* Definition of color scheme common for light and dark mode */\n",
       "  --sklearn-color-text: #000;\n",
       "  --sklearn-color-text-muted: #666;\n",
       "  --sklearn-color-line: gray;\n",
       "  /* Definition of color scheme for unfitted estimators */\n",
       "  --sklearn-color-unfitted-level-0: #fff5e6;\n",
       "  --sklearn-color-unfitted-level-1: #f6e4d2;\n",
       "  --sklearn-color-unfitted-level-2: #ffe0b3;\n",
       "  --sklearn-color-unfitted-level-3: chocolate;\n",
       "  /* Definition of color scheme for fitted estimators */\n",
       "  --sklearn-color-fitted-level-0: #f0f8ff;\n",
       "  --sklearn-color-fitted-level-1: #d4ebff;\n",
       "  --sklearn-color-fitted-level-2: #b3dbfd;\n",
       "  --sklearn-color-fitted-level-3: cornflowerblue;\n",
       "\n",
       "  /* Specific color for light theme */\n",
       "  --sklearn-color-text-on-default-background: var(--sg-text-color, var(--theme-code-foreground, var(--jp-content-font-color1, black)));\n",
       "  --sklearn-color-background: var(--sg-background-color, var(--theme-background, var(--jp-layout-color0, white)));\n",
       "  --sklearn-color-border-box: var(--sg-text-color, var(--theme-code-foreground, var(--jp-content-font-color1, black)));\n",
       "  --sklearn-color-icon: #696969;\n",
       "\n",
       "  @media (prefers-color-scheme: dark) {\n",
       "    /* Redefinition of color scheme for dark theme */\n",
       "    --sklearn-color-text-on-default-background: var(--sg-text-color, var(--theme-code-foreground, var(--jp-content-font-color1, white)));\n",
       "    --sklearn-color-background: var(--sg-background-color, var(--theme-background, var(--jp-layout-color0, #111)));\n",
       "    --sklearn-color-border-box: var(--sg-text-color, var(--theme-code-foreground, var(--jp-content-font-color1, white)));\n",
       "    --sklearn-color-icon: #878787;\n",
       "  }\n",
       "}\n",
       "\n",
       "#sk-container-id-1 {\n",
       "  color: var(--sklearn-color-text);\n",
       "}\n",
       "\n",
       "#sk-container-id-1 pre {\n",
       "  padding: 0;\n",
       "}\n",
       "\n",
       "#sk-container-id-1 input.sk-hidden--visually {\n",
       "  border: 0;\n",
       "  clip: rect(1px 1px 1px 1px);\n",
       "  clip: rect(1px, 1px, 1px, 1px);\n",
       "  height: 1px;\n",
       "  margin: -1px;\n",
       "  overflow: hidden;\n",
       "  padding: 0;\n",
       "  position: absolute;\n",
       "  width: 1px;\n",
       "}\n",
       "\n",
       "#sk-container-id-1 div.sk-dashed-wrapped {\n",
       "  border: 1px dashed var(--sklearn-color-line);\n",
       "  margin: 0 0.4em 0.5em 0.4em;\n",
       "  box-sizing: border-box;\n",
       "  padding-bottom: 0.4em;\n",
       "  background-color: var(--sklearn-color-background);\n",
       "}\n",
       "\n",
       "#sk-container-id-1 div.sk-container {\n",
       "  /* jupyter's `normalize.less` sets `[hidden] { display: none; }`\n",
       "     but bootstrap.min.css set `[hidden] { display: none !important; }`\n",
       "     so we also need the `!important` here to be able to override the\n",
       "     default hidden behavior on the sphinx rendered scikit-learn.org.\n",
       "     See: https://github.com/scikit-learn/scikit-learn/issues/21755 */\n",
       "  display: inline-block !important;\n",
       "  position: relative;\n",
       "}\n",
       "\n",
       "#sk-container-id-1 div.sk-text-repr-fallback {\n",
       "  display: none;\n",
       "}\n",
       "\n",
       "div.sk-parallel-item,\n",
       "div.sk-serial,\n",
       "div.sk-item {\n",
       "  /* draw centered vertical line to link estimators */\n",
       "  background-image: linear-gradient(var(--sklearn-color-text-on-default-background), var(--sklearn-color-text-on-default-background));\n",
       "  background-size: 2px 100%;\n",
       "  background-repeat: no-repeat;\n",
       "  background-position: center center;\n",
       "}\n",
       "\n",
       "/* Parallel-specific style estimator block */\n",
       "\n",
       "#sk-container-id-1 div.sk-parallel-item::after {\n",
       "  content: \"\";\n",
       "  width: 100%;\n",
       "  border-bottom: 2px solid var(--sklearn-color-text-on-default-background);\n",
       "  flex-grow: 1;\n",
       "}\n",
       "\n",
       "#sk-container-id-1 div.sk-parallel {\n",
       "  display: flex;\n",
       "  align-items: stretch;\n",
       "  justify-content: center;\n",
       "  background-color: var(--sklearn-color-background);\n",
       "  position: relative;\n",
       "}\n",
       "\n",
       "#sk-container-id-1 div.sk-parallel-item {\n",
       "  display: flex;\n",
       "  flex-direction: column;\n",
       "}\n",
       "\n",
       "#sk-container-id-1 div.sk-parallel-item:first-child::after {\n",
       "  align-self: flex-end;\n",
       "  width: 50%;\n",
       "}\n",
       "\n",
       "#sk-container-id-1 div.sk-parallel-item:last-child::after {\n",
       "  align-self: flex-start;\n",
       "  width: 50%;\n",
       "}\n",
       "\n",
       "#sk-container-id-1 div.sk-parallel-item:only-child::after {\n",
       "  width: 0;\n",
       "}\n",
       "\n",
       "/* Serial-specific style estimator block */\n",
       "\n",
       "#sk-container-id-1 div.sk-serial {\n",
       "  display: flex;\n",
       "  flex-direction: column;\n",
       "  align-items: center;\n",
       "  background-color: var(--sklearn-color-background);\n",
       "  padding-right: 1em;\n",
       "  padding-left: 1em;\n",
       "}\n",
       "\n",
       "\n",
       "/* Toggleable style: style used for estimator/Pipeline/ColumnTransformer box that is\n",
       "clickable and can be expanded/collapsed.\n",
       "- Pipeline and ColumnTransformer use this feature and define the default style\n",
       "- Estimators will overwrite some part of the style using the `sk-estimator` class\n",
       "*/\n",
       "\n",
       "/* Pipeline and ColumnTransformer style (default) */\n",
       "\n",
       "#sk-container-id-1 div.sk-toggleable {\n",
       "  /* Default theme specific background. It is overwritten whether we have a\n",
       "  specific estimator or a Pipeline/ColumnTransformer */\n",
       "  background-color: var(--sklearn-color-background);\n",
       "}\n",
       "\n",
       "/* Toggleable label */\n",
       "#sk-container-id-1 label.sk-toggleable__label {\n",
       "  cursor: pointer;\n",
       "  display: flex;\n",
       "  width: 100%;\n",
       "  margin-bottom: 0;\n",
       "  padding: 0.5em;\n",
       "  box-sizing: border-box;\n",
       "  text-align: center;\n",
       "  align-items: start;\n",
       "  justify-content: space-between;\n",
       "  gap: 0.5em;\n",
       "}\n",
       "\n",
       "#sk-container-id-1 label.sk-toggleable__label .caption {\n",
       "  font-size: 0.6rem;\n",
       "  font-weight: lighter;\n",
       "  color: var(--sklearn-color-text-muted);\n",
       "}\n",
       "\n",
       "#sk-container-id-1 label.sk-toggleable__label-arrow:before {\n",
       "  /* Arrow on the left of the label */\n",
       "  content: \"▸\";\n",
       "  float: left;\n",
       "  margin-right: 0.25em;\n",
       "  color: var(--sklearn-color-icon);\n",
       "}\n",
       "\n",
       "#sk-container-id-1 label.sk-toggleable__label-arrow:hover:before {\n",
       "  color: var(--sklearn-color-text);\n",
       "}\n",
       "\n",
       "/* Toggleable content - dropdown */\n",
       "\n",
       "#sk-container-id-1 div.sk-toggleable__content {\n",
       "  max-height: 0;\n",
       "  max-width: 0;\n",
       "  overflow: hidden;\n",
       "  text-align: left;\n",
       "  /* unfitted */\n",
       "  background-color: var(--sklearn-color-unfitted-level-0);\n",
       "}\n",
       "\n",
       "#sk-container-id-1 div.sk-toggleable__content.fitted {\n",
       "  /* fitted */\n",
       "  background-color: var(--sklearn-color-fitted-level-0);\n",
       "}\n",
       "\n",
       "#sk-container-id-1 div.sk-toggleable__content pre {\n",
       "  margin: 0.2em;\n",
       "  border-radius: 0.25em;\n",
       "  color: var(--sklearn-color-text);\n",
       "  /* unfitted */\n",
       "  background-color: var(--sklearn-color-unfitted-level-0);\n",
       "}\n",
       "\n",
       "#sk-container-id-1 div.sk-toggleable__content.fitted pre {\n",
       "  /* unfitted */\n",
       "  background-color: var(--sklearn-color-fitted-level-0);\n",
       "}\n",
       "\n",
       "#sk-container-id-1 input.sk-toggleable__control:checked~div.sk-toggleable__content {\n",
       "  /* Expand drop-down */\n",
       "  max-height: 200px;\n",
       "  max-width: 100%;\n",
       "  overflow: auto;\n",
       "}\n",
       "\n",
       "#sk-container-id-1 input.sk-toggleable__control:checked~label.sk-toggleable__label-arrow:before {\n",
       "  content: \"▾\";\n",
       "}\n",
       "\n",
       "/* Pipeline/ColumnTransformer-specific style */\n",
       "\n",
       "#sk-container-id-1 div.sk-label input.sk-toggleable__control:checked~label.sk-toggleable__label {\n",
       "  color: var(--sklearn-color-text);\n",
       "  background-color: var(--sklearn-color-unfitted-level-2);\n",
       "}\n",
       "\n",
       "#sk-container-id-1 div.sk-label.fitted input.sk-toggleable__control:checked~label.sk-toggleable__label {\n",
       "  background-color: var(--sklearn-color-fitted-level-2);\n",
       "}\n",
       "\n",
       "/* Estimator-specific style */\n",
       "\n",
       "/* Colorize estimator box */\n",
       "#sk-container-id-1 div.sk-estimator input.sk-toggleable__control:checked~label.sk-toggleable__label {\n",
       "  /* unfitted */\n",
       "  background-color: var(--sklearn-color-unfitted-level-2);\n",
       "}\n",
       "\n",
       "#sk-container-id-1 div.sk-estimator.fitted input.sk-toggleable__control:checked~label.sk-toggleable__label {\n",
       "  /* fitted */\n",
       "  background-color: var(--sklearn-color-fitted-level-2);\n",
       "}\n",
       "\n",
       "#sk-container-id-1 div.sk-label label.sk-toggleable__label,\n",
       "#sk-container-id-1 div.sk-label label {\n",
       "  /* The background is the default theme color */\n",
       "  color: var(--sklearn-color-text-on-default-background);\n",
       "}\n",
       "\n",
       "/* On hover, darken the color of the background */\n",
       "#sk-container-id-1 div.sk-label:hover label.sk-toggleable__label {\n",
       "  color: var(--sklearn-color-text);\n",
       "  background-color: var(--sklearn-color-unfitted-level-2);\n",
       "}\n",
       "\n",
       "/* Label box, darken color on hover, fitted */\n",
       "#sk-container-id-1 div.sk-label.fitted:hover label.sk-toggleable__label.fitted {\n",
       "  color: var(--sklearn-color-text);\n",
       "  background-color: var(--sklearn-color-fitted-level-2);\n",
       "}\n",
       "\n",
       "/* Estimator label */\n",
       "\n",
       "#sk-container-id-1 div.sk-label label {\n",
       "  font-family: monospace;\n",
       "  font-weight: bold;\n",
       "  display: inline-block;\n",
       "  line-height: 1.2em;\n",
       "}\n",
       "\n",
       "#sk-container-id-1 div.sk-label-container {\n",
       "  text-align: center;\n",
       "}\n",
       "\n",
       "/* Estimator-specific */\n",
       "#sk-container-id-1 div.sk-estimator {\n",
       "  font-family: monospace;\n",
       "  border: 1px dotted var(--sklearn-color-border-box);\n",
       "  border-radius: 0.25em;\n",
       "  box-sizing: border-box;\n",
       "  margin-bottom: 0.5em;\n",
       "  /* unfitted */\n",
       "  background-color: var(--sklearn-color-unfitted-level-0);\n",
       "}\n",
       "\n",
       "#sk-container-id-1 div.sk-estimator.fitted {\n",
       "  /* fitted */\n",
       "  background-color: var(--sklearn-color-fitted-level-0);\n",
       "}\n",
       "\n",
       "/* on hover */\n",
       "#sk-container-id-1 div.sk-estimator:hover {\n",
       "  /* unfitted */\n",
       "  background-color: var(--sklearn-color-unfitted-level-2);\n",
       "}\n",
       "\n",
       "#sk-container-id-1 div.sk-estimator.fitted:hover {\n",
       "  /* fitted */\n",
       "  background-color: var(--sklearn-color-fitted-level-2);\n",
       "}\n",
       "\n",
       "/* Specification for estimator info (e.g. \"i\" and \"?\") */\n",
       "\n",
       "/* Common style for \"i\" and \"?\" */\n",
       "\n",
       ".sk-estimator-doc-link,\n",
       "a:link.sk-estimator-doc-link,\n",
       "a:visited.sk-estimator-doc-link {\n",
       "  float: right;\n",
       "  font-size: smaller;\n",
       "  line-height: 1em;\n",
       "  font-family: monospace;\n",
       "  background-color: var(--sklearn-color-background);\n",
       "  border-radius: 1em;\n",
       "  height: 1em;\n",
       "  width: 1em;\n",
       "  text-decoration: none !important;\n",
       "  margin-left: 0.5em;\n",
       "  text-align: center;\n",
       "  /* unfitted */\n",
       "  border: var(--sklearn-color-unfitted-level-1) 1pt solid;\n",
       "  color: var(--sklearn-color-unfitted-level-1);\n",
       "}\n",
       "\n",
       ".sk-estimator-doc-link.fitted,\n",
       "a:link.sk-estimator-doc-link.fitted,\n",
       "a:visited.sk-estimator-doc-link.fitted {\n",
       "  /* fitted */\n",
       "  border: var(--sklearn-color-fitted-level-1) 1pt solid;\n",
       "  color: var(--sklearn-color-fitted-level-1);\n",
       "}\n",
       "\n",
       "/* On hover */\n",
       "div.sk-estimator:hover .sk-estimator-doc-link:hover,\n",
       ".sk-estimator-doc-link:hover,\n",
       "div.sk-label-container:hover .sk-estimator-doc-link:hover,\n",
       ".sk-estimator-doc-link:hover {\n",
       "  /* unfitted */\n",
       "  background-color: var(--sklearn-color-unfitted-level-3);\n",
       "  color: var(--sklearn-color-background);\n",
       "  text-decoration: none;\n",
       "}\n",
       "\n",
       "div.sk-estimator.fitted:hover .sk-estimator-doc-link.fitted:hover,\n",
       ".sk-estimator-doc-link.fitted:hover,\n",
       "div.sk-label-container:hover .sk-estimator-doc-link.fitted:hover,\n",
       ".sk-estimator-doc-link.fitted:hover {\n",
       "  /* fitted */\n",
       "  background-color: var(--sklearn-color-fitted-level-3);\n",
       "  color: var(--sklearn-color-background);\n",
       "  text-decoration: none;\n",
       "}\n",
       "\n",
       "/* Span, style for the box shown on hovering the info icon */\n",
       ".sk-estimator-doc-link span {\n",
       "  display: none;\n",
       "  z-index: 9999;\n",
       "  position: relative;\n",
       "  font-weight: normal;\n",
       "  right: .2ex;\n",
       "  padding: .5ex;\n",
       "  margin: .5ex;\n",
       "  width: min-content;\n",
       "  min-width: 20ex;\n",
       "  max-width: 50ex;\n",
       "  color: var(--sklearn-color-text);\n",
       "  box-shadow: 2pt 2pt 4pt #999;\n",
       "  /* unfitted */\n",
       "  background: var(--sklearn-color-unfitted-level-0);\n",
       "  border: .5pt solid var(--sklearn-color-unfitted-level-3);\n",
       "}\n",
       "\n",
       ".sk-estimator-doc-link.fitted span {\n",
       "  /* fitted */\n",
       "  background: var(--sklearn-color-fitted-level-0);\n",
       "  border: var(--sklearn-color-fitted-level-3);\n",
       "}\n",
       "\n",
       ".sk-estimator-doc-link:hover span {\n",
       "  display: block;\n",
       "}\n",
       "\n",
       "/* \"?\"-specific style due to the `<a>` HTML tag */\n",
       "\n",
       "#sk-container-id-1 a.estimator_doc_link {\n",
       "  float: right;\n",
       "  font-size: 1rem;\n",
       "  line-height: 1em;\n",
       "  font-family: monospace;\n",
       "  background-color: var(--sklearn-color-background);\n",
       "  border-radius: 1rem;\n",
       "  height: 1rem;\n",
       "  width: 1rem;\n",
       "  text-decoration: none;\n",
       "  /* unfitted */\n",
       "  color: var(--sklearn-color-unfitted-level-1);\n",
       "  border: var(--sklearn-color-unfitted-level-1) 1pt solid;\n",
       "}\n",
       "\n",
       "#sk-container-id-1 a.estimator_doc_link.fitted {\n",
       "  /* fitted */\n",
       "  border: var(--sklearn-color-fitted-level-1) 1pt solid;\n",
       "  color: var(--sklearn-color-fitted-level-1);\n",
       "}\n",
       "\n",
       "/* On hover */\n",
       "#sk-container-id-1 a.estimator_doc_link:hover {\n",
       "  /* unfitted */\n",
       "  background-color: var(--sklearn-color-unfitted-level-3);\n",
       "  color: var(--sklearn-color-background);\n",
       "  text-decoration: none;\n",
       "}\n",
       "\n",
       "#sk-container-id-1 a.estimator_doc_link.fitted:hover {\n",
       "  /* fitted */\n",
       "  background-color: var(--sklearn-color-fitted-level-3);\n",
       "}\n",
       "</style><div id=\"sk-container-id-1\" class=\"sk-top-container\"><div class=\"sk-text-repr-fallback\"><pre>Pipeline(steps=[(&#x27;preprocessor&#x27;,\n",
       "                 ColumnTransformer(remainder=&#x27;passthrough&#x27;,\n",
       "                                   transformers=[(&#x27;dropper&#x27;, &#x27;drop&#x27;,\n",
       "                                                  [&#x27;average_inner_brow_height_max&#x27;,\n",
       "                                                   &#x27;average_inner_brow_height_median&#x27;,\n",
       "                                                   &#x27;average_inner_brow_height_min&#x27;,\n",
       "                                                   &#x27;average_inner_brow_height_std&#x27;,\n",
       "                                                   &#x27;average_inner_brow_height_mean&#x27;,\n",
       "                                                   &#x27;average_outer_brow_height_max&#x27;,\n",
       "                                                   &#x27;average_outer_brow_height_median&#x27;,\n",
       "                                                   &#x27;average_out...\n",
       "                                                   &#x27;outer_lip_height_max&#x27;,\n",
       "                                                   &#x27;outer_lip_height_median&#x27;,\n",
       "                                                   &#x27;outer_lip_height_min&#x27;,\n",
       "                                                   &#x27;outer_lip_height_std&#x27;,\n",
       "                                                   &#x27;outer_lip_height_mean&#x27;, ...])])),\n",
       "                (&#x27;imputer&#x27;, SimpleImputer()), (&#x27;scaler&#x27;, StandardScaler()),\n",
       "                (&#x27;feature_selection&#x27;,\n",
       "                 SelectFromModel(estimator=Lasso(alpha=0.06352016982789091,\n",
       "                                                 max_iter=50000))),\n",
       "                (&#x27;svr&#x27;,\n",
       "                 SVR(C=2.7830525069909835, epsilon=0.20885547184188877,\n",
       "                     gamma=0.007432112632355197))])</pre><b>In a Jupyter environment, please rerun this cell to show the HTML representation or trust the notebook. <br />On GitHub, the HTML representation is unable to render, please try loading this page with nbviewer.org.</b></div><div class=\"sk-container\" hidden><div class=\"sk-item sk-dashed-wrapped\"><div class=\"sk-label-container\"><div class=\"sk-label fitted sk-toggleable\"><input class=\"sk-toggleable__control sk-hidden--visually\" id=\"sk-estimator-id-1\" type=\"checkbox\" ><label for=\"sk-estimator-id-1\" class=\"sk-toggleable__label fitted sk-toggleable__label-arrow\"><div><div>Pipeline</div></div><div><a class=\"sk-estimator-doc-link fitted\" rel=\"noreferrer\" target=\"_blank\" href=\"https://scikit-learn.org/1.6/modules/generated/sklearn.pipeline.Pipeline.html\">?<span>Documentation for Pipeline</span></a><span class=\"sk-estimator-doc-link fitted\">i<span>Fitted</span></span></div></label><div class=\"sk-toggleable__content fitted\"><pre>Pipeline(steps=[(&#x27;preprocessor&#x27;,\n",
       "                 ColumnTransformer(remainder=&#x27;passthrough&#x27;,\n",
       "                                   transformers=[(&#x27;dropper&#x27;, &#x27;drop&#x27;,\n",
       "                                                  [&#x27;average_inner_brow_height_max&#x27;,\n",
       "                                                   &#x27;average_inner_brow_height_median&#x27;,\n",
       "                                                   &#x27;average_inner_brow_height_min&#x27;,\n",
       "                                                   &#x27;average_inner_brow_height_std&#x27;,\n",
       "                                                   &#x27;average_inner_brow_height_mean&#x27;,\n",
       "                                                   &#x27;average_outer_brow_height_max&#x27;,\n",
       "                                                   &#x27;average_outer_brow_height_median&#x27;,\n",
       "                                                   &#x27;average_out...\n",
       "                                                   &#x27;outer_lip_height_max&#x27;,\n",
       "                                                   &#x27;outer_lip_height_median&#x27;,\n",
       "                                                   &#x27;outer_lip_height_min&#x27;,\n",
       "                                                   &#x27;outer_lip_height_std&#x27;,\n",
       "                                                   &#x27;outer_lip_height_mean&#x27;, ...])])),\n",
       "                (&#x27;imputer&#x27;, SimpleImputer()), (&#x27;scaler&#x27;, StandardScaler()),\n",
       "                (&#x27;feature_selection&#x27;,\n",
       "                 SelectFromModel(estimator=Lasso(alpha=0.06352016982789091,\n",
       "                                                 max_iter=50000))),\n",
       "                (&#x27;svr&#x27;,\n",
       "                 SVR(C=2.7830525069909835, epsilon=0.20885547184188877,\n",
       "                     gamma=0.007432112632355197))])</pre></div> </div></div><div class=\"sk-serial\"><div class=\"sk-item sk-dashed-wrapped\"><div class=\"sk-label-container\"><div class=\"sk-label fitted sk-toggleable\"><input class=\"sk-toggleable__control sk-hidden--visually\" id=\"sk-estimator-id-2\" type=\"checkbox\" ><label for=\"sk-estimator-id-2\" class=\"sk-toggleable__label fitted sk-toggleable__label-arrow\"><div><div>preprocessor: ColumnTransformer</div></div><div><a class=\"sk-estimator-doc-link fitted\" rel=\"noreferrer\" target=\"_blank\" href=\"https://scikit-learn.org/1.6/modules/generated/sklearn.compose.ColumnTransformer.html\">?<span>Documentation for preprocessor: ColumnTransformer</span></a></div></label><div class=\"sk-toggleable__content fitted\"><pre>ColumnTransformer(remainder=&#x27;passthrough&#x27;,\n",
       "                  transformers=[(&#x27;dropper&#x27;, &#x27;drop&#x27;,\n",
       "                                 [&#x27;average_inner_brow_height_max&#x27;,\n",
       "                                  &#x27;average_inner_brow_height_median&#x27;,\n",
       "                                  &#x27;average_inner_brow_height_min&#x27;,\n",
       "                                  &#x27;average_inner_brow_height_std&#x27;,\n",
       "                                  &#x27;average_inner_brow_height_mean&#x27;,\n",
       "                                  &#x27;average_outer_brow_height_max&#x27;,\n",
       "                                  &#x27;average_outer_brow_height_median&#x27;,\n",
       "                                  &#x27;average_outer_brow_height_min&#x27;,\n",
       "                                  &#x27;average_out...\n",
       "                                  &#x27;inner_lip_height_median&#x27;,\n",
       "                                  &#x27;inner_lip_height_min&#x27;,\n",
       "                                  &#x27;inner_lip_height_std&#x27;,\n",
       "                                  &#x27;inner_lip_height_mean&#x27;,\n",
       "                                  &#x27;lip_corner_distance_max&#x27;,\n",
       "                                  &#x27;lip_corner_distance_median&#x27;,\n",
       "                                  &#x27;lip_corner_distance_min&#x27;,\n",
       "                                  &#x27;lip_corner_distance_std&#x27;,\n",
       "                                  &#x27;lip_corner_distance_mean&#x27;,\n",
       "                                  &#x27;outer_lip_height_max&#x27;,\n",
       "                                  &#x27;outer_lip_height_median&#x27;,\n",
       "                                  &#x27;outer_lip_height_min&#x27;,\n",
       "                                  &#x27;outer_lip_height_std&#x27;,\n",
       "                                  &#x27;outer_lip_height_mean&#x27;, ...])])</pre></div> </div></div><div class=\"sk-parallel\"><div class=\"sk-parallel-item\"><div class=\"sk-item\"><div class=\"sk-label-container\"><div class=\"sk-label fitted sk-toggleable\"><input class=\"sk-toggleable__control sk-hidden--visually\" id=\"sk-estimator-id-3\" type=\"checkbox\" ><label for=\"sk-estimator-id-3\" class=\"sk-toggleable__label fitted sk-toggleable__label-arrow\"><div><div>dropper</div></div></label><div class=\"sk-toggleable__content fitted\"><pre>[&#x27;average_inner_brow_height_max&#x27;, &#x27;average_inner_brow_height_median&#x27;, &#x27;average_inner_brow_height_min&#x27;, &#x27;average_inner_brow_height_std&#x27;, &#x27;average_inner_brow_height_mean&#x27;, &#x27;average_outer_brow_height_max&#x27;, &#x27;average_outer_brow_height_median&#x27;, &#x27;average_outer_brow_height_min&#x27;, &#x27;average_outer_brow_height_std&#x27;, &#x27;average_outer_brow_height_mean&#x27;, &#x27;eye_open_max&#x27;, &#x27;eye_open_median&#x27;, &#x27;eye_open_min&#x27;, &#x27;eye_open_std&#x27;, &#x27;eye_open_mean&#x27;, &#x27;inner_lip_height_max&#x27;, &#x27;inner_lip_height_median&#x27;, &#x27;inner_lip_height_min&#x27;, &#x27;inner_lip_height_std&#x27;, &#x27;inner_lip_height_mean&#x27;, &#x27;lip_corner_distance_max&#x27;, &#x27;lip_corner_distance_median&#x27;, &#x27;lip_corner_distance_min&#x27;, &#x27;lip_corner_distance_std&#x27;, &#x27;lip_corner_distance_mean&#x27;, &#x27;outer_lip_height_max&#x27;, &#x27;outer_lip_height_median&#x27;, &#x27;outer_lip_height_min&#x27;, &#x27;outer_lip_height_std&#x27;, &#x27;outer_lip_height_mean&#x27;, &#x27;smile_max&#x27;, &#x27;smile_median&#x27;, &#x27;smile_min&#x27;, &#x27;smile_std&#x27;, &#x27;smile_mean&#x27;, &#x27;pitch_max&#x27;, &#x27;pitch_median&#x27;, &#x27;pitch_min&#x27;, &#x27;pitch_std&#x27;, &#x27;pitch_mean&#x27;, &#x27;roll_max&#x27;, &#x27;roll_median&#x27;, &#x27;roll_min&#x27;, &#x27;roll_std&#x27;, &#x27;roll_mean&#x27;, &#x27;yaw_max&#x27;, &#x27;yaw_median&#x27;, &#x27;yaw_min&#x27;, &#x27;yaw_std&#x27;, &#x27;yaw_mean&#x27;, &#x27;Swear&#x27;, &#x27;Numbers&#x27;, &#x27;Inhibition&#x27;, &#x27;Preceptual&#x27;, &#x27;Anxiety&#x27;, &#x27;Anger&#x27;, &#x27;Sadness&#x27;, &#x27;Work&#x27;, &#x27;Articles&#x27;, &#x27;Verbs&#x27;, &#x27;Adverbs&#x27;, &#x27;Prepositions&#x27;, &#x27;Conjunctions&#x27;, &#x27;Negations&#x27;]</pre></div> </div></div><div class=\"sk-serial\"><div class=\"sk-item\"><div class=\"sk-estimator fitted sk-toggleable\"><input class=\"sk-toggleable__control sk-hidden--visually\" id=\"sk-estimator-id-4\" type=\"checkbox\" ><label for=\"sk-estimator-id-4\" class=\"sk-toggleable__label fitted sk-toggleable__label-arrow\"><div><div>drop</div></div></label><div class=\"sk-toggleable__content fitted\"><pre>drop</pre></div> </div></div></div></div></div><div class=\"sk-parallel-item\"><div class=\"sk-item\"><div class=\"sk-label-container\"><div class=\"sk-label fitted sk-toggleable\"><input class=\"sk-toggleable__control sk-hidden--visually\" id=\"sk-estimator-id-5\" type=\"checkbox\" ><label for=\"sk-estimator-id-5\" class=\"sk-toggleable__label fitted sk-toggleable__label-arrow\"><div><div>remainder</div></div></label><div class=\"sk-toggleable__content fitted\"><pre>[&#x27;f0_mean&#x27;, &#x27;f0_min&#x27;, &#x27;f0_max&#x27;, &#x27;f0_range&#x27;, &#x27;f0_sd&#x27;, &#x27;intensity_mean&#x27;, &#x27;intensity_min&#x27;, &#x27;intensity_max&#x27;, &#x27;intensity_range&#x27;, &#x27;intensity_sd&#x27;, &#x27;f1_mean&#x27;, &#x27;f1_sd&#x27;, &#x27;f2_mean&#x27;, &#x27;f2_sd&#x27;, &#x27;f3_mean&#x27;, &#x27;f3_sd&#x27;, &#x27;f2_f1_mean&#x27;, &#x27;f3_f1_mean&#x27;, &#x27;f2_f1_sd&#x27;, &#x27;f3_f1_sd&#x27;, &#x27;jitter&#x27;, &#x27;shimmer&#x27;, &#x27;percent_unvoiced&#x27;, &#x27;percent_breaks&#x27;, &#x27;pause_duration_max&#x27;, &#x27;pause_duration_avg&#x27;, &#x27;duration&#x27;, &#x27;Total Words&#x27;, &#x27;Unique Words&#x27;, &#x27;Filler Words&#x27;, &#x27;Audio Duration (s)&#x27;, &#x27;Duration/Total Words&#x27;, &#x27;Duration/Unique Words&#x27;, &#x27;Duration/Filler Words&#x27;, &#x27;Individual&#x27;, &#x27;We&#x27;, &#x27;They&#x27;, &#x27;Non-Fluences&#x27;, &#x27;PosEmotion&#x27;, &#x27;NegEmotion&#x27;, &#x27;Cognitive&#x27;, &#x27;Relativity&#x27;, &#x27;Quantifiers&#x27;]</pre></div> </div></div><div class=\"sk-serial\"><div class=\"sk-item\"><div class=\"sk-estimator fitted sk-toggleable\"><input class=\"sk-toggleable__control sk-hidden--visually\" id=\"sk-estimator-id-6\" type=\"checkbox\" ><label for=\"sk-estimator-id-6\" class=\"sk-toggleable__label fitted sk-toggleable__label-arrow\"><div><div>passthrough</div></div></label><div class=\"sk-toggleable__content fitted\"><pre>passthrough</pre></div> </div></div></div></div></div></div></div><div class=\"sk-item\"><div class=\"sk-estimator fitted sk-toggleable\"><input class=\"sk-toggleable__control sk-hidden--visually\" id=\"sk-estimator-id-7\" type=\"checkbox\" ><label for=\"sk-estimator-id-7\" class=\"sk-toggleable__label fitted sk-toggleable__label-arrow\"><div><div>SimpleImputer</div></div><div><a class=\"sk-estimator-doc-link fitted\" rel=\"noreferrer\" target=\"_blank\" href=\"https://scikit-learn.org/1.6/modules/generated/sklearn.impute.SimpleImputer.html\">?<span>Documentation for SimpleImputer</span></a></div></label><div class=\"sk-toggleable__content fitted\"><pre>SimpleImputer()</pre></div> </div></div><div class=\"sk-item\"><div class=\"sk-estimator fitted sk-toggleable\"><input class=\"sk-toggleable__control sk-hidden--visually\" id=\"sk-estimator-id-8\" type=\"checkbox\" ><label for=\"sk-estimator-id-8\" class=\"sk-toggleable__label fitted sk-toggleable__label-arrow\"><div><div>StandardScaler</div></div><div><a class=\"sk-estimator-doc-link fitted\" rel=\"noreferrer\" target=\"_blank\" href=\"https://scikit-learn.org/1.6/modules/generated/sklearn.preprocessing.StandardScaler.html\">?<span>Documentation for StandardScaler</span></a></div></label><div class=\"sk-toggleable__content fitted\"><pre>StandardScaler()</pre></div> </div></div><div class=\"sk-item sk-dashed-wrapped\"><div class=\"sk-label-container\"><div class=\"sk-label fitted sk-toggleable\"><input class=\"sk-toggleable__control sk-hidden--visually\" id=\"sk-estimator-id-9\" type=\"checkbox\" ><label for=\"sk-estimator-id-9\" class=\"sk-toggleable__label fitted sk-toggleable__label-arrow\"><div><div>feature_selection: SelectFromModel</div></div><div><a class=\"sk-estimator-doc-link fitted\" rel=\"noreferrer\" target=\"_blank\" href=\"https://scikit-learn.org/1.6/modules/generated/sklearn.feature_selection.SelectFromModel.html\">?<span>Documentation for feature_selection: SelectFromModel</span></a></div></label><div class=\"sk-toggleable__content fitted\"><pre>SelectFromModel(estimator=Lasso(alpha=0.06352016982789091, max_iter=50000))</pre></div> </div></div><div class=\"sk-parallel\"><div class=\"sk-parallel-item\"><div class=\"sk-item\"><div class=\"sk-label-container\"><div class=\"sk-label fitted sk-toggleable\"><input class=\"sk-toggleable__control sk-hidden--visually\" id=\"sk-estimator-id-10\" type=\"checkbox\" ><label for=\"sk-estimator-id-10\" class=\"sk-toggleable__label fitted sk-toggleable__label-arrow\"><div><div>estimator: Lasso</div></div></label><div class=\"sk-toggleable__content fitted\"><pre>Lasso(alpha=0.06352016982789091, max_iter=50000)</pre></div> </div></div><div class=\"sk-serial\"><div class=\"sk-item\"><div class=\"sk-estimator fitted sk-toggleable\"><input class=\"sk-toggleable__control sk-hidden--visually\" id=\"sk-estimator-id-11\" type=\"checkbox\" ><label for=\"sk-estimator-id-11\" class=\"sk-toggleable__label fitted sk-toggleable__label-arrow\"><div><div>Lasso</div></div><div><a class=\"sk-estimator-doc-link fitted\" rel=\"noreferrer\" target=\"_blank\" href=\"https://scikit-learn.org/1.6/modules/generated/sklearn.linear_model.Lasso.html\">?<span>Documentation for Lasso</span></a></div></label><div class=\"sk-toggleable__content fitted\"><pre>Lasso(alpha=0.06352016982789091, max_iter=50000)</pre></div> </div></div></div></div></div></div></div><div class=\"sk-item\"><div class=\"sk-estimator fitted sk-toggleable\"><input class=\"sk-toggleable__control sk-hidden--visually\" id=\"sk-estimator-id-12\" type=\"checkbox\" ><label for=\"sk-estimator-id-12\" class=\"sk-toggleable__label fitted sk-toggleable__label-arrow\"><div><div>SVR</div></div><div><a class=\"sk-estimator-doc-link fitted\" rel=\"noreferrer\" target=\"_blank\" href=\"https://scikit-learn.org/1.6/modules/generated/sklearn.svm.SVR.html\">?<span>Documentation for SVR</span></a></div></label><div class=\"sk-toggleable__content fitted\"><pre>SVR(C=2.7830525069909835, epsilon=0.20885547184188877,\n",
       "    gamma=0.007432112632355197)</pre></div> </div></div></div></div></div></div>"
      ],
      "text/plain": [
       "Pipeline(steps=[('preprocessor',\n",
       "                 ColumnTransformer(remainder='passthrough',\n",
       "                                   transformers=[('dropper', 'drop',\n",
       "                                                  ['average_inner_brow_height_max',\n",
       "                                                   'average_inner_brow_height_median',\n",
       "                                                   'average_inner_brow_height_min',\n",
       "                                                   'average_inner_brow_height_std',\n",
       "                                                   'average_inner_brow_height_mean',\n",
       "                                                   'average_outer_brow_height_max',\n",
       "                                                   'average_outer_brow_height_median',\n",
       "                                                   'average_out...\n",
       "                                                   'outer_lip_height_max',\n",
       "                                                   'outer_lip_height_median',\n",
       "                                                   'outer_lip_height_min',\n",
       "                                                   'outer_lip_height_std',\n",
       "                                                   'outer_lip_height_mean', ...])])),\n",
       "                ('imputer', SimpleImputer()), ('scaler', StandardScaler()),\n",
       "                ('feature_selection',\n",
       "                 SelectFromModel(estimator=Lasso(alpha=0.06352016982789091,\n",
       "                                                 max_iter=50000))),\n",
       "                ('svr',\n",
       "                 SVR(C=2.7830525069909835, epsilon=0.20885547184188877,\n",
       "                     gamma=0.007432112632355197))])"
      ]
     },
     "execution_count": 8,
     "metadata": {},
     "output_type": "execute_result"
    }
   ],
   "source": [
    "from sklearn import clone\n",
    "\n",
    "if HYPERPARAMETER_TUNING_ENABLED:\n",
    "    unfitted_pipeline.set_params(**study.best_params)\n",
    "else:\n",
    "    unfitted_pipeline.set_params(**PIPELINE_PARAMS)\n",
    "fitted_pipeline = clone(unfitted_pipeline)\n",
    "fitted_pipeline.fit(X, y)"
   ]
  },
  {
   "cell_type": "markdown",
   "id": "4c778f96",
   "metadata": {
    "papermill": {
     "duration": 0.005164,
     "end_time": "2025-04-07T22:45:34.148609",
     "exception": false,
     "start_time": "2025-04-07T22:45:34.143445",
     "status": "completed"
    },
    "tags": []
   },
   "source": [
    "## Feature Selection Results"
   ]
  },
  {
   "cell_type": "code",
   "execution_count": 9,
   "id": "9e1dd140",
   "metadata": {
    "execution": {
     "iopub.execute_input": "2025-04-07T22:45:34.159530Z",
     "iopub.status.busy": "2025-04-07T22:45:34.159361Z",
     "iopub.status.idle": "2025-04-07T22:45:34.162709Z",
     "shell.execute_reply": "2025-04-07T22:45:34.162365Z"
    },
    "papermill": {
     "duration": 0.009745,
     "end_time": "2025-04-07T22:45:34.163545",
     "exception": false,
     "start_time": "2025-04-07T22:45:34.153800",
     "status": "completed"
    },
    "tags": []
   },
   "outputs": [
    {
     "name": "stdout",
     "output_type": "stream",
     "text": [
      "Number of Selected features (8):\n",
      "Selected features: ['remainder__intensity_mean' 'remainder__f3_sd' 'remainder__f2_f1_mean'\n",
      " 'remainder__percent_unvoiced' 'remainder__percent_breaks'\n",
      " 'remainder__Duration/Total Words' 'remainder__They'\n",
      " 'remainder__Cognitive']\n",
      "Unselected features: ['remainder__f0_mean' 'remainder__f0_min' 'remainder__f0_max'\n",
      " 'remainder__f0_range' 'remainder__f0_sd' 'remainder__intensity_min'\n",
      " 'remainder__intensity_max' 'remainder__intensity_range'\n",
      " 'remainder__intensity_sd' 'remainder__f1_mean' 'remainder__f1_sd'\n",
      " 'remainder__f2_mean' 'remainder__f2_sd' 'remainder__f3_mean'\n",
      " 'remainder__f3_f1_mean' 'remainder__f2_f1_sd' 'remainder__f3_f1_sd'\n",
      " 'remainder__jitter' 'remainder__shimmer' 'remainder__pause_duration_max'\n",
      " 'remainder__pause_duration_avg' 'remainder__duration'\n",
      " 'remainder__Total Words' 'remainder__Unique Words'\n",
      " 'remainder__Filler Words' 'remainder__Audio Duration (s)'\n",
      " 'remainder__Duration/Unique Words' 'remainder__Duration/Filler Words'\n",
      " 'remainder__Individual' 'remainder__We' 'remainder__Non-Fluences'\n",
      " 'remainder__PosEmotion' 'remainder__NegEmotion' 'remainder__Relativity'\n",
      " 'remainder__Quantifiers']\n"
     ]
    }
   ],
   "source": [
    "preprocessor = fitted_pipeline.named_steps['preprocessor']\n",
    "feature_names = preprocessor.get_feature_names_out()    # after preprocessing\n",
    "\n",
    "feature_selector = fitted_pipeline.named_steps['feature_selection']\n",
    "selected_mask = feature_selector.get_support()\n",
    "\n",
    "selected_features = feature_names[selected_mask]\n",
    "unselected_features = feature_names[~selected_mask]\n",
    "\n",
    "print(f\"Number of Selected features ({len(selected_features)}):\")\n",
    "print(f\"Selected features: {selected_features}\")\n",
    "print(f\"Unselected features: {unselected_features}\")"
   ]
  },
  {
   "cell_type": "markdown",
   "id": "9b9267d0",
   "metadata": {
    "papermill": {
     "duration": 0.005753,
     "end_time": "2025-04-07T22:45:34.174908",
     "exception": false,
     "start_time": "2025-04-07T22:45:34.169155",
     "status": "completed"
    },
    "tags": []
   },
   "source": [
    "# Monte Carlo Cross Validation"
   ]
  },
  {
   "cell_type": "code",
   "execution_count": 10,
   "id": "71522ec2",
   "metadata": {
    "execution": {
     "iopub.execute_input": "2025-04-07T22:45:34.185837Z",
     "iopub.status.busy": "2025-04-07T22:45:34.185671Z",
     "iopub.status.idle": "2025-04-07T22:45:41.123071Z",
     "shell.execute_reply": "2025-04-07T22:45:41.122016Z"
    },
    "papermill": {
     "duration": 6.94726,
     "end_time": "2025-04-07T22:45:41.127387",
     "exception": false,
     "start_time": "2025-04-07T22:45:34.180127",
     "status": "completed"
    },
    "tags": []
   },
   "outputs": [
    {
     "name": "stdout",
     "output_type": "stream",
     "text": [
      "Mean R² Score: 0.20 (±0.27)\n",
      "Mean Pearson Correlation: 0.54 (±0.16)\n"
     ]
    }
   ],
   "source": [
    "from sklearn.model_selection import cross_validate\n",
    "from sklearn.metrics import r2_score\n",
    "\n",
    "scoring = {\n",
    "    \"r2\": make_scorer(r2_score),\n",
    "    \"pearson\": make_scorer(pearson_corr)\n",
    "}\n",
    "\n",
    "results = cross_validate(\n",
    "    unfitted_pipeline,\n",
    "    X,\n",
    "    y,\n",
    "    cv=GroupShuffleSplit(n_splits=1000, test_size=0.2, random_state=42),\n",
    "    groups=groups_column,\n",
    "    scoring=scoring,\n",
    "    n_jobs=-1,\n",
    ")\n",
    "\n",
    "r2_scores = results[\"test_r2\"]\n",
    "pearson_scores = results[\"test_pearson\"]\n",
    "# Report the average performance and variability\n",
    "avg_r2_score = np.mean(r2_scores)\n",
    "print(\n",
    "    f\"Mean R² Score: {avg_r2_score:.2f} (±{np.std(r2_scores):.2f})\"\n",
    ")\n",
    "avg_perason_score = np.mean(pearson_scores)\n",
    "print(\n",
    "    f\"Mean Pearson Correlation: {avg_perason_score:.2f} (±{np.std(pearson_scores):.2f})\"\n",
    ")\n",
    "\n",
    "# Mean R² Score: 0.20 (±0.23)\n",
    "# Mean Pearson Correlation: 0.53 (±0.16)"
   ]
  },
  {
   "cell_type": "markdown",
   "id": "b90c9d8a",
   "metadata": {
    "papermill": {
     "duration": 0.009266,
     "end_time": "2025-04-07T22:45:41.149535",
     "exception": false,
     "start_time": "2025-04-07T22:45:41.140269",
     "status": "completed"
    },
    "tags": []
   },
   "source": [
    "# Save the Model"
   ]
  },
  {
   "cell_type": "code",
   "execution_count": 11,
   "id": "b580b149",
   "metadata": {
    "execution": {
     "iopub.execute_input": "2025-04-07T22:45:41.165968Z",
     "iopub.status.busy": "2025-04-07T22:45:41.165659Z",
     "iopub.status.idle": "2025-04-07T22:45:41.173560Z",
     "shell.execute_reply": "2025-04-07T22:45:41.173135Z"
    },
    "papermill": {
     "duration": 0.017227,
     "end_time": "2025-04-07T22:45:41.174694",
     "exception": false,
     "start_time": "2025-04-07T22:45:41.157467",
     "status": "completed"
    },
    "tags": []
   },
   "outputs": [
    {
     "data": {
      "text/plain": [
       "['./regression_models/saved_models/RecommendHiring.joblib']"
      ]
     },
     "execution_count": 11,
     "metadata": {},
     "output_type": "execute_result"
    }
   ],
   "source": [
    "from joblib import dump, load\n",
    "\n",
    "dump(fitted_pipeline, os.path.join(SAVED_MODELS_PATH,f'{target_column}.joblib'))"
   ]
  }
 ],
 "metadata": {
  "colab": {
   "provenance": []
  },
  "kernelspec": {
   "display_name": "venv",
   "language": "python",
   "name": "python3"
  },
  "language_info": {
   "codemirror_mode": {
    "name": "ipython",
    "version": 3
   },
   "file_extension": ".py",
   "mimetype": "text/x-python",
   "name": "python",
   "nbconvert_exporter": "python",
   "pygments_lexer": "ipython3",
   "version": "3.13.1"
  },
  "papermill": {
   "default_parameters": {},
   "duration": 27.492761,
   "end_time": "2025-04-07T22:45:43.801106",
   "environment_variables": {},
   "exception": null,
   "input_path": "/Users/bassel27/personal_projects/hireverse/hirability_model.ipynb",
   "output_path": "/Users/bassel27/personal_projects/hireverse/runners/outputs/RecommendHiring_runner_output.ipynb",
   "parameters": {
    "target_column": "RecommendHiring"
   },
   "start_time": "2025-04-07T22:45:16.308345",
   "version": "2.6.0"
  }
 },
 "nbformat": 4,
 "nbformat_minor": 5
}