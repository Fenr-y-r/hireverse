{
 "cells": [
  {
   "cell_type": "code",
   "execution_count": 15,
   "metadata": {
    "tags": [
     "parameters"
    ]
   },
   "outputs": [],
   "source": [
    "participant_id = \"P1\""
   ]
  },
  {
   "cell_type": "code",
   "execution_count": 16,
   "metadata": {},
   "outputs": [
    {
     "name": "stdout",
     "output_type": "stream",
     "text": [
      "The autoreload extension is already loaded. To reload it, use:\n",
      "  %reload_ext autoreload\n"
     ]
    }
   ],
   "source": [
    "%load_ext autoreload\n",
    "%autoreload 2\n",
    "import importlib.util\n",
    "from pathlib import Path\n",
    "import os\n",
    "import sys\n",
    "from utils.utils import *\n",
    "\n",
    "VID_FILE_PATH = MAIN_DIR + \"/data/raw/videos\"\n",
    "OUTPUT_CSV_FILE = MAIN_DIR + \"/data/processed/interview_features.csv\""
   ]
  },
  {
   "cell_type": "code",
   "execution_count": null,
   "metadata": {},
   "outputs": [],
   "source": [
    "from utils.face_analyzer import FaceAnalyzer\n",
    "\n",
    "face_analyzer = FaceAnalyzer()\n",
    "frames = face_analyzer.get_video_frames_for_participant(\n",
    "    participant_id, VID_FILE_PATH, num_selected_frames=25)"
   ]
  },
  {
   "cell_type": "markdown",
   "metadata": {},
   "source": [
    "# Lexical Features"
   ]
  },
  {
   "cell_type": "code",
   "execution_count": null,
   "metadata": {},
   "outputs": [],
   "source": [
    "# from src.utils.LexicalAnalyser import LexicalAnalyser\n",
    "\n",
    "# AUDIO_FILE_PATH = f\"../../data/raw/audio/trimmed_{participant_id}.wav\"\n",
    "# lexical_analyser = LexicalAnalyser(AUDIO_FILE_PATH)\n",
    "# # Extract all features\n",
    "# lexical_features = lexical_analyser.extract_all_features()\n",
    "\n",
    "# # Print the extracted features\n",
    "# print(lexical_features)"
   ]
  },
  {
   "cell_type": "markdown",
   "metadata": {},
   "source": [
    "# Facial Features"
   ]
  },
  {
   "cell_type": "markdown",
   "metadata": {},
   "source": [
    "### Face Mesh"
   ]
  },
  {
   "cell_type": "code",
   "execution_count": null,
   "metadata": {},
   "outputs": [
    {
     "name": "stderr",
     "output_type": "stream",
     "text": [
      "W0000 00:00:1745523354.892034 15626657 landmark_projection_calculator.cc:186] Using NORM_RECT without IMAGE_DIMENSIONS is only supported for the square ROI. Provide IMAGE_DIMENSIONS or use PROJECTION_MATRIX.\n"
     ]
    }
   ],
   "source": [
    "for frame in frames:\n",
    "    detected_faces_landmarks = face_analyzer.process_image_results(frame.image)\n",
    "    frame.facial_landmarks_obj= face_analyzer.get_largest_face_landmarks_obj(frame.image, detected_faces_landmarks)\n",
    "    if frame.facial_landmarks_obj:\n",
    "        frame.facial_landmarks = frame.facial_landmarks_obj.landmark"
   ]
  },
  {
   "cell_type": "markdown",
   "metadata": {},
   "source": [
    "### Face"
   ]
  },
  {
   "cell_type": "code",
   "execution_count": null,
   "metadata": {},
   "outputs": [],
   "source": [
    "\n",
    "for frame in frames:\n",
    "    if frame.facial_landmarks:\n",
    "        frame.face = face_analyzer.get_face_coordinates(frame.facial_landmarks, frame.image)"
   ]
  },
  {
   "cell_type": "markdown",
   "metadata": {},
   "source": [
    "### Smile"
   ]
  },
  {
   "cell_type": "code",
   "execution_count": null,
   "metadata": {},
   "outputs": [
    {
     "name": "stderr",
     "output_type": "stream",
     "text": [
      "Action: emotion: 100%|██████████| 1/1 [00:00<00:00,  1.46it/s]\n",
      "Action: emotion: 100%|██████████| 1/1 [00:00<00:00,  5.55it/s]\n",
      "Action: emotion: 100%|██████████| 1/1 [00:00<00:00,  2.11it/s]\n",
      "Action: emotion: 100%|██████████| 1/1 [00:00<00:00,  8.51it/s]\n",
      "Action: emotion: 100%|██████████| 1/1 [00:00<00:00, 10.20it/s]\n",
      "Action: emotion: 100%|██████████| 1/1 [00:00<00:00,  9.25it/s]\n",
      "Action: emotion: 100%|██████████| 1/1 [00:00<00:00,  8.85it/s]\n",
      "Action: emotion: 100%|██████████| 1/1 [00:00<00:00,  6.68it/s]\n",
      "Action: emotion: 100%|██████████| 1/1 [00:00<00:00,  7.77it/s]\n",
      "Action: emotion: 100%|██████████| 1/1 [00:00<00:00,  8.16it/s]\n",
      "Action: emotion: 100%|██████████| 1/1 [00:00<00:00,  5.60it/s]\n",
      "Action: emotion: 100%|██████████| 1/1 [00:00<00:00,  7.05it/s]\n",
      "Action: emotion: 100%|██████████| 1/1 [00:00<00:00,  6.65it/s]\n",
      "Action: emotion: 100%|██████████| 1/1 [00:00<00:00, 11.39it/s]\n",
      "Action: emotion: 100%|██████████| 1/1 [00:00<00:00, 12.91it/s]\n",
      "Action: emotion: 100%|██████████| 1/1 [00:00<00:00, 13.77it/s]\n",
      "Action: emotion: 100%|██████████| 1/1 [00:00<00:00, 13.09it/s]\n",
      "Action: emotion: 100%|██████████| 1/1 [00:00<00:00, 12.95it/s]\n",
      "Action: emotion: 100%|██████████| 1/1 [00:00<00:00, 14.92it/s]\n",
      "Action: emotion: 100%|██████████| 1/1 [00:00<00:00, 13.91it/s]\n",
      "Action: emotion: 100%|██████████| 1/1 [00:00<00:00, 12.83it/s]\n",
      "Action: emotion: 100%|██████████| 1/1 [00:00<00:00,  9.09it/s]\n"
     ]
    }
   ],
   "source": [
    "import numpy as np\n",
    "\n",
    "SMOOTH_WINDOW = 5\n",
    "happiness_buffer = []\n",
    "def smooth_happiness(happiness_prob):\n",
    "    if happiness_prob is None:\n",
    "        return 0 # TODO: change?\n",
    "    happiness_buffer.append(happiness_prob)\n",
    "    if len(happiness_buffer) > SMOOTH_WINDOW:\n",
    "        happiness_buffer.pop(0)\n",
    "    return np.mean(happiness_buffer)\n",
    "\n",
    "\n",
    "for i, frame in enumerate(frames):\n",
    "    face_roi = face_analyzer.get_face_roi_image(frame.image, frame.face, expand_ratio=1.1)\n",
    "    frame.smile = smooth_happiness(face_analyzer.get_smile_from_frame(face_roi))"
   ]
  },
  {
   "cell_type": "markdown",
   "metadata": {},
   "source": [
    "### Selected Facial Features"
   ]
  },
  {
   "cell_type": "code",
   "execution_count": null,
   "metadata": {},
   "outputs": [],
   "source": [
    "for frame in frames:\n",
    "    frame.two_landmarks_connectors = face_analyzer.get_selected_facial_landmarks(frame.facial_landmarks)"
   ]
  },
  {
   "cell_type": "markdown",
   "metadata": {},
   "source": [
    "### Head Pose"
   ]
  },
  {
   "cell_type": "code",
   "execution_count": null,
   "metadata": {},
   "outputs": [],
   "source": [
    "texts = []\n",
    "for frame in frames:\n",
    "    result = face_analyzer.get_face_angles(frame.image, frame.facial_landmarks)\n",
    "    frame.face_angles = result"
   ]
  },
  {
   "cell_type": "markdown",
   "metadata": {},
   "source": [
    "# Prosodic Extraction"
   ]
  },
  {
   "cell_type": "code",
   "execution_count": null,
   "metadata": {},
   "outputs": [
    {
     "name": "stdout",
     "output_type": "stream",
     "text": [
      "ProsodicFeatures(f0_mean=138.8311168142939, f0_min=75.34559605984698, f0_max=599.1469508185926, f0_range=523.8013547587456, f0_sd=67.08530112931376, intensity_mean=-17.989479064941406, intensity_min=-36.43029022216797, intensity_max=0.0, intensity_range=36.43029022216797, intensity_sd=7.597977638244629, f1_mean=626.2173706460609, f1_sd=255.618004717988, f2_mean=1801.0016796933116, f2_sd=369.19335979732216, f3_mean=2718.6018206978147, f3_sd=363.6766279398512, f2_f1_mean=3.2093469178503944, f3_f1_mean=4.813353523730503, f2_f1_sd=1.1984938994193113, f3_f1_sd=1.5116794397601092, jitter=0.02250039669976796, shimmer=0.17853661247111466, percent_unvoiced=14.22418608114985, percent_breaks=1.6075754239154016, max_pause_duration=2.429999999999999, avg_pause_duration=0.31397260273972616, duration=161.134)\n"
     ]
    }
   ],
   "source": [
    "from schemas.model_features import ProsodicFeatures\n",
    "from utils.prosody_analyzer import ProsodyAnalyzer\n",
    " \n",
    "\n",
    "prosody_analyzer = ProsodyAnalyzer(participant_id)\n",
    "prosodic_features: ProsodicFeatures = prosody_analyzer.extract_all_features()\n",
    "print(prosodic_features)"
   ]
  },
  {
   "cell_type": "markdown",
   "metadata": {},
   "source": [
    "# Features Storage"
   ]
  },
  {
   "cell_type": "markdown",
   "metadata": {},
   "source": [
    "### Facial Features Aggregation"
   ]
  },
  {
   "cell_type": "code",
   "execution_count": null,
   "metadata": {},
   "outputs": [],
   "source": [
    "from utils.feature_storage import FeatureStorage\n",
    "\n",
    "\n",
    "feature_storage = FeatureStorage(OUTPUT_CSV_FILE)\n",
    "facial_features = feature_storage.aggregate_facial_features(frames)"
   ]
  },
  {
   "cell_type": "code",
   "execution_count": null,
   "metadata": {},
   "outputs": [
    {
     "name": "stdout",
     "output_type": "stream",
     "text": [
      "Feature attributes: {'average_outer_brow_height_mean': 0.015890050341756404, 'average_inner_brow_height_mean': 0.016284589885823656, 'eye_open_mean': 0.01085505329413801, 'outer_lip_height_mean': 0.018655821403552167, 'inner_lip_height_mean': 0.001846763133971166, 'lip_corner_distance_mean': 0.04322746442280764, 'smile_mean': 15.888, 'pitch_mean': -3.8133313622621867, 'yaw_mean': -0.9521981544606294, 'roll_mean': 3.451073601215206, 'average_outer_brow_height_std': 0.0008441109534395815, 'average_inner_brow_height_std': 0.0012152401062414803, 'eye_open_std': 0.002049133023612686, 'outer_lip_height_std': 0.0021018301016168766, 'inner_lip_height_std': 0.001167212325336287, 'lip_corner_distance_std': 0.0032804564548584354, 'smile_std': 14.63126296667516, 'pitch_std': 4.974100153321804, 'yaw_std': 8.416358155725508, 'roll_std': 7.397905781936845, 'average_outer_brow_height_min': 0.014379539616075099, 'average_inner_brow_height_min': 0.014122260379802482, 'eye_open_min': 0.007684497723014232, 'outer_lip_height_min': 0.014581645787345124, 'inner_lip_height_min': 0.00040418117613827544, 'lip_corner_distance_min': 0.037399823164514984, 'smile_min': 0.0, 'pitch_min': -11.339285105548054, 'yaw_min': -16.099061455537665, 'roll_min': -15.345220118594428, 'average_outer_brow_height_max': 0.01777560228337336, 'average_inner_brow_height_max': 0.01924279433574668, 'eye_open_max': 0.01413603300005584, 'outer_lip_height_max': 0.022233997227149048, 'inner_lip_height_max': 0.003941599240037801, 'lip_corner_distance_max': 0.05121685849080048, 'smile_max': 44.0, 'pitch_max': 10.627875871017283, 'yaw_max': 15.30359178801833, 'roll_max': 11.55540088472576, 'average_outer_brow_height_median': 0.01577055644525226, 'average_inner_brow_height_median': 0.016241319177483504, 'eye_open_median': 0.010636833160765038, 'outer_lip_height_median': 0.018574295710096993, 'inner_lip_height_median': 0.0016058579898459043, 'lip_corner_distance_median': 0.04357272855237621, 'smile_median': 12.0, 'pitch_median': -4.386795424278736, 'yaw_median': 1.8368537061593226, 'roll_median': 5.177042380530014}\n",
      "Feature attributes: {'f0_mean': 138.8311168142939, 'f0_min': 75.34559605984698, 'f0_max': 599.1469508185926, 'f0_range': 523.8013547587456, 'f0_sd': 67.08530112931376, 'intensity_mean': -17.98948, 'intensity_min': -36.43029, 'intensity_max': 0.0, 'intensity_range': 36.43029, 'intensity_sd': 7.5979776, 'f1_mean': 626.2173706460609, 'f1_sd': 255.618004717988, 'f2_mean': 1801.0016796933116, 'f2_sd': 369.19335979732216, 'f3_mean': 2718.6018206978147, 'f3_sd': 363.6766279398512, 'f2_f1_mean': 3.2093469178503944, 'f3_f1_mean': 4.813353523730503, 'f2_f1_sd': 1.1984938994193113, 'f3_f1_sd': 1.5116794397601092, 'jitter': 0.02250039669976796, 'shimmer': 0.17853661247111466, 'percent_unvoiced': 14.22418608114985, 'percent_breaks': 1.6075754239154016, 'max_pause_duration': 2.429999999999999, 'avg_pause_duration': 0.31397260273972616, 'duration': 161.134}\n"
     ]
    }
   ],
   "source": [
    "feature_storage.save_to_csv(participant_id, facial_features, prosodic_features)"
   ]
  },
  {
   "cell_type": "markdown",
   "metadata": {},
   "source": [
    "# Display Frames"
   ]
  },
  {
   "cell_type": "code",
   "execution_count": null,
   "metadata": {},
   "outputs": [],
   "source": [
    "# for frame in frames:\n",
    "#     frame.reset_drawable_image()\n",
    "#     # frame.draw_face_border()\n",
    "    \n",
    "#     frame.draw_selected_facial_landmarks(draw_lines=True)\n",
    "    \n",
    "#     frame.put_face_angles()\n",
    "#     # frame.draw_facial_landmarks()\n",
    "#     frame.display()"
   ]
  }
 ],
 "metadata": {
  "kernelspec": {
   "display_name": "venv",
   "language": "python",
   "name": "python3"
  },
  "language_info": {
   "codemirror_mode": {
    "name": "ipython",
    "version": 3
   },
   "file_extension": ".py",
   "mimetype": "text/x-python",
   "name": "python",
   "nbconvert_exporter": "python",
   "pygments_lexer": "ipython3",
   "version": "3.9.13"
  }
 },
 "nbformat": 4,
 "nbformat_minor": 2
}
