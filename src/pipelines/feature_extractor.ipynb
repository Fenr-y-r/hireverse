{
 "cells": [
  {
   "cell_type": "code",
   "execution_count": 1,
   "metadata": {
    "tags": [
     "parameters"
    ]
   },
   "outputs": [],
   "source": [
    "participant_id = \"P1\""
   ]
  },
  {
   "cell_type": "code",
   "execution_count": 2,
   "metadata": {},
   "outputs": [],
   "source": [
    "%load_ext autoreload\n",
    "%autoreload 2\n",
    "from utils.utils import *\n",
    "\n",
    "VID_FILE_PATH = BASE_DIR + \"/data/raw/videos\"\n",
    "OUTPUT_CSV_FILE = BASE_DIR + \"/data/processed/interview_features.csv\""
   ]
  },
  {
   "cell_type": "code",
   "execution_count": 3,
   "metadata": {},
   "outputs": [
    {
     "name": "stderr",
     "output_type": "stream",
     "text": [
      "WARNING: All log messages before absl::InitializeLog() is called are written to STDERR\n",
      "I0000 00:00:1745528241.637041 15775298 gl_context.cc:369] GL version: 2.1 (2.1 Metal - 88), renderer: Apple M1\n",
      "INFO: Created TensorFlow Lite XNNPACK delegate for CPU.\n",
      "W0000 00:00:1745528241.851329 15782121 inference_feedback_manager.cc:114] Feedback manager requires a model with a single signature inference. Disabling support for feedback tensors.\n",
      "W0000 00:00:1745528241.894087 15782121 inference_feedback_manager.cc:114] Feedback manager requires a model with a single signature inference. Disabling support for feedback tensors.\n"
     ]
    }
   ],
   "source": [
    "from utils.face_analyzer import FaceAnalyzer\n",
    "\n",
    "face_analyzer = FaceAnalyzer()\n",
    "frames = face_analyzer.get_video_frames_for_participant(\n",
    "    participant_id, VID_FILE_PATH, num_selected_frames=25)"
   ]
  },
  {
   "cell_type": "markdown",
   "metadata": {},
   "source": [
    "# Lexical Features"
   ]
  },
  {
   "cell_type": "code",
   "execution_count": 4,
   "metadata": {},
   "outputs": [],
   "source": [
    "# from src.utils.LexicalAnalyser import LexicalAnalyser\n",
    "\n",
    "# AUDIO_FILE_PATH = f\"../../data/raw/audio/trimmed_{participant_id}.wav\"\n",
    "# lexical_analyser = LexicalAnalyser(AUDIO_FILE_PATH)\n",
    "# # Extract all features\n",
    "# lexical_features = lexical_analyser.extract_all_features()\n",
    "\n",
    "# # Print the extracted features\n",
    "# print(lexical_features)"
   ]
  },
  {
   "cell_type": "markdown",
   "metadata": {},
   "source": [
    "# Facial Features"
   ]
  },
  {
   "cell_type": "markdown",
   "metadata": {},
   "source": [
    "### Face Mesh"
   ]
  },
  {
   "cell_type": "code",
   "execution_count": 5,
   "metadata": {},
   "outputs": [
    {
     "name": "stderr",
     "output_type": "stream",
     "text": [
      "W0000 00:00:1745528249.661348 15782120 landmark_projection_calculator.cc:186] Using NORM_RECT without IMAGE_DIMENSIONS is only supported for the square ROI. Provide IMAGE_DIMENSIONS or use PROJECTION_MATRIX.\n"
     ]
    }
   ],
   "source": [
    "for frame in frames:\n",
    "    detected_faces_landmarks = face_analyzer.process_image_results(frame.image)\n",
    "    frame.facial_landmarks_obj= face_analyzer.get_largest_face_landmarks_obj(frame.image, detected_faces_landmarks)\n",
    "    if frame.facial_landmarks_obj:\n",
    "        frame.facial_landmarks = frame.facial_landmarks_obj.landmark"
   ]
  },
  {
   "cell_type": "markdown",
   "metadata": {},
   "source": [
    "### Face"
   ]
  },
  {
   "cell_type": "code",
   "execution_count": 6,
   "metadata": {},
   "outputs": [],
   "source": [
    "\n",
    "for frame in frames:\n",
    "    if frame.facial_landmarks:\n",
    "        frame.face = face_analyzer.get_face_coordinates(frame.facial_landmarks, frame.image)"
   ]
  },
  {
   "cell_type": "markdown",
   "metadata": {},
   "source": [
    "### Smile"
   ]
  },
  {
   "cell_type": "code",
   "execution_count": 7,
   "metadata": {},
   "outputs": [
    {
     "name": "stderr",
     "output_type": "stream",
     "text": [
      "Action: emotion: 100%|██████████| 1/1 [00:00<00:00,  1.33it/s]\n",
      "Action: emotion: 100%|██████████| 1/1 [00:00<00:00,  5.19it/s]\n",
      "Action: emotion: 100%|██████████| 1/1 [00:00<00:00,  3.92it/s]\n",
      "Action: emotion: 100%|██████████| 1/1 [00:00<00:00,  4.04it/s]\n",
      "Action: emotion: 100%|██████████| 1/1 [00:00<00:00,  4.63it/s]\n",
      "Action: emotion: 100%|██████████| 1/1 [00:00<00:00,  6.32it/s]\n",
      "Action: emotion: 100%|██████████| 1/1 [00:00<00:00,  7.81it/s]\n",
      "Action: emotion: 100%|██████████| 1/1 [00:00<00:00,  6.91it/s]\n",
      "Action: emotion: 100%|██████████| 1/1 [00:00<00:00,  5.23it/s]\n",
      "Action: emotion: 100%|██████████| 1/1 [00:00<00:00,  7.10it/s]\n",
      "Action: emotion: 100%|██████████| 1/1 [00:00<00:00,  8.43it/s]\n",
      "Action: emotion: 100%|██████████| 1/1 [00:00<00:00,  4.67it/s]\n",
      "Action: emotion: 100%|██████████| 1/1 [00:00<00:00,  7.05it/s]\n",
      "Action: emotion: 100%|██████████| 1/1 [00:00<00:00,  9.98it/s]\n",
      "Action: emotion: 100%|██████████| 1/1 [00:00<00:00,  8.36it/s]\n",
      "Action: emotion: 100%|██████████| 1/1 [00:00<00:00,  6.80it/s]\n",
      "Action: emotion: 100%|██████████| 1/1 [00:00<00:00,  6.15it/s]\n",
      "Action: emotion: 100%|██████████| 1/1 [00:00<00:00,  6.81it/s]\n",
      "Action: emotion: 100%|██████████| 1/1 [00:00<00:00,  4.14it/s]\n",
      "Action: emotion: 100%|██████████| 1/1 [00:00<00:00,  5.02it/s]\n",
      "Action: emotion: 100%|██████████| 1/1 [00:00<00:00,  7.33it/s]\n",
      "Action: emotion: 100%|██████████| 1/1 [00:00<00:00,  8.30it/s]\n",
      "Action: emotion: 100%|██████████| 1/1 [00:00<00:00,  9.42it/s]\n",
      "Action: emotion: 100%|██████████| 1/1 [00:00<00:00,  9.06it/s]\n"
     ]
    }
   ],
   "source": [
    "import numpy as np\n",
    "\n",
    "SMOOTH_WINDOW = 5\n",
    "happiness_buffer = []\n",
    "def smooth_happiness(happiness_prob):\n",
    "    if happiness_prob is None:\n",
    "        return 0 # TODO: change?\n",
    "    happiness_buffer.append(happiness_prob)\n",
    "    if len(happiness_buffer) > SMOOTH_WINDOW:\n",
    "        happiness_buffer.pop(0)\n",
    "    return np.mean(happiness_buffer)\n",
    "\n",
    "\n",
    "for i, frame in enumerate(frames):\n",
    "    face_roi = face_analyzer.get_face_roi_image(frame.image, frame.face, expand_ratio=1.1)\n",
    "    frame.smile = smooth_happiness(face_analyzer.get_smile_from_frame(face_roi))"
   ]
  },
  {
   "cell_type": "markdown",
   "metadata": {},
   "source": [
    "### Selected Facial Features"
   ]
  },
  {
   "cell_type": "code",
   "execution_count": 8,
   "metadata": {},
   "outputs": [],
   "source": [
    "for frame in frames:\n",
    "    frame.two_landmarks_connectors = face_analyzer.get_selected_facial_landmarks(frame.facial_landmarks)"
   ]
  },
  {
   "cell_type": "markdown",
   "metadata": {},
   "source": [
    "### Head Pose"
   ]
  },
  {
   "cell_type": "code",
   "execution_count": 9,
   "metadata": {},
   "outputs": [],
   "source": [
    "texts = []\n",
    "for frame in frames:\n",
    "    result = face_analyzer.get_face_angles(frame.image, frame.facial_landmarks)\n",
    "    frame.face_angles = result"
   ]
  },
  {
   "cell_type": "markdown",
   "metadata": {},
   "source": [
    "# Prosodic Extraction"
   ]
  },
  {
   "cell_type": "code",
   "execution_count": 10,
   "metadata": {},
   "outputs": [
    {
     "name": "stdout",
     "output_type": "stream",
     "text": [
      "ProsodicFeatures(f0_mean=138.8311168142939, f0_min=75.34559605984698, f0_max=599.1469508185926, f0_range=523.8013547587456, f0_sd=67.08530112931376, intensity_mean=-17.989479064941406, intensity_min=-36.43029022216797, intensity_max=0.0, intensity_range=36.43029022216797, intensity_sd=7.597977638244629, f1_mean=626.2173706460609, f1_sd=255.618004717988, f2_mean=1801.0016796933116, f2_sd=369.19335979732216, f3_mean=2718.6018206978147, f3_sd=363.6766279398512, f2_f1_mean=3.2093469178503944, f3_f1_mean=4.813353523730503, f2_f1_sd=1.1984938994193113, f3_f1_sd=1.5116794397601092, jitter=0.02250039669976796, shimmer=0.17853661247111466, percent_unvoiced=14.22418608114985, percent_breaks=1.6075754239154016, max_pause_duration=2.429999999999999, avg_pause_duration=0.31397260273972616, duration=161.134)\n"
     ]
    }
   ],
   "source": [
    "from schemas.model_features import ProsodicFeatures\n",
    "from utils.prosody_analyzer import ProsodyAnalyzer\n",
    " \n",
    "\n",
    "prosody_analyzer = ProsodyAnalyzer(participant_id)\n",
    "prosodic_features: ProsodicFeatures = prosody_analyzer.extract_all_features()\n",
    "print(prosodic_features)"
   ]
  },
  {
   "cell_type": "markdown",
   "metadata": {},
   "source": [
    "# Features Storage"
   ]
  },
  {
   "cell_type": "markdown",
   "metadata": {},
   "source": [
    "### Facial Features Aggregation"
   ]
  },
  {
   "cell_type": "code",
   "execution_count": 11,
   "metadata": {},
   "outputs": [],
   "source": [
    "from utils.feature_storage import FeatureStorage\n",
    "\n",
    "\n",
    "feature_storage = FeatureStorage(OUTPUT_CSV_FILE)\n",
    "facial_features = feature_storage.aggregate_facial_features(frames)"
   ]
  },
  {
   "cell_type": "code",
   "execution_count": 12,
   "metadata": {},
   "outputs": [],
   "source": [
    "feature_storage.save_to_csv(participant_id, facial_features, prosodic_features)"
   ]
  },
  {
   "cell_type": "markdown",
   "metadata": {},
   "source": [
    "# Display Frames"
   ]
  },
  {
   "cell_type": "code",
   "execution_count": 13,
   "metadata": {},
   "outputs": [],
   "source": [
    "# for frame in frames:\n",
    "#     frame.reset_drawable_image()\n",
    "#     # frame.draw_face_border()\n",
    "    \n",
    "#     frame.draw_selected_facial_landmarks(draw_lines=True)\n",
    "    \n",
    "#     frame.put_face_angles()\n",
    "#     # frame.draw_facial_landmarks()\n",
    "#     frame.display()"
   ]
  }
 ],
 "metadata": {
  "kernelspec": {
   "display_name": "venv",
   "language": "python",
   "name": "python3"
  },
  "language_info": {
   "codemirror_mode": {
    "name": "ipython",
    "version": 3
   },
   "file_extension": ".py",
   "mimetype": "text/x-python",
   "name": "python",
   "nbconvert_exporter": "python",
   "pygments_lexer": "ipython3",
   "version": "3.9.13"
  }
 },
 "nbformat": 4,
 "nbformat_minor": 2
}
