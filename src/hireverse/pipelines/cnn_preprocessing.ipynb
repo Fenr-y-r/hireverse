{
 "cells": [
  {
   "cell_type": "code",
   "execution_count": 4,
   "id": "7e333baa",
   "metadata": {},
   "outputs": [],
   "source": [
    "participant_id = \"P4\""
   ]
  },
  {
   "cell_type": "code",
   "execution_count": 5,
   "id": "68a783ad",
   "metadata": {},
   "outputs": [
    {
     "name": "stdout",
     "output_type": "stream",
     "text": [
      "The autoreload extension is already loaded. To reload it, use:\n",
      "  %reload_ext autoreload\n",
      "/Users/bassel27/personal_projects/hireverse/data/raw/videos/P4.avi\n"
     ]
    }
   ],
   "source": [
    "%load_ext autoreload\n",
    "%autoreload 2\n",
    "from hireverse.utils.utils import *\n",
    "\n",
    "video_file_path = os.path.join(BASE_DIR, \"data/raw/videos\", f\"{participant_id}.avi\")\n",
    "print(video_file_path)"
   ]
  },
  {
   "cell_type": "code",
   "execution_count": 6,
   "id": "02ae1e01",
   "metadata": {},
   "outputs": [],
   "source": [
    "from hireverse.utils.face_analyzer import FaceAnalyzer\n",
    "from hireverse.schemas.frame import Frame\n",
    "face_analyzer = FaceAnalyzer()\n",
    "frames = face_analyzer.get_video_frames(participant_id=\"randomId\",video_path= video_file_path, target_fps=20)"
   ]
  },
  {
   "cell_type": "code",
   "execution_count": 7,
   "id": "36569d5a",
   "metadata": {},
   "outputs": [
    {
     "name": "stderr",
     "output_type": "stream",
     "text": [
      "W0000 00:00:1745836356.068528 1568704 landmark_projection_calculator.cc:186] Using NORM_RECT without IMAGE_DIMENSIONS is only supported for the square ROI. Provide IMAGE_DIMENSIONS or use PROJECTION_MATRIX.\n"
     ]
    }
   ],
   "source": [
    "filtered_frames: List[Frame] = []\n",
    "for frame in frames:\n",
    "    detected_faces_landmarks = face_analyzer.process_image_results(frame.image)\n",
    "    frame.facial_landmarks_obj = face_analyzer.get_largest_face_landmarks_obj(frame.image, detected_faces_landmarks)\n",
    "    if frame.facial_landmarks_obj:\n",
    "        frame.facial_landmarks = frame.facial_landmarks_obj.landmark\n",
    "        filtered_frames.append(frame)\n",
    "\n",
    "frames = filtered_frames "
   ]
  },
  {
   "cell_type": "code",
   "execution_count": 8,
   "id": "a196e862",
   "metadata": {},
   "outputs": [],
   "source": [
    "for frame in frames:\n",
    "    frame.resize(new_width=640)"
   ]
  },
  {
   "cell_type": "code",
   "execution_count": 9,
   "id": "7f6b74c7",
   "metadata": {},
   "outputs": [],
   "source": [
    "for frame in frames:\n",
    "    frame.align_face_with_mediapipe_landmarks()"
   ]
  },
  {
   "cell_type": "code",
   "execution_count": 10,
   "id": "672fd74c",
   "metadata": {},
   "outputs": [],
   "source": [
    "for frame in frames:\n",
    "    if frame.facial_landmarks:\n",
    "        frame.face = face_analyzer.get_face_coordinates(frame.facial_landmarks, frame.image)\n",
    "        x, y, w, h = frame.face\n",
    "        frame.crop_frame(x, y, x + w, y+h)"
   ]
  },
  {
   "cell_type": "code",
   "execution_count": 11,
   "id": "0b2de2d7",
   "metadata": {},
   "outputs": [],
   "source": [
    "import cv2\n",
    "\n",
    "for frame in frames:\n",
    "    frame.image =  cv2.cvtColor(frame.image, cv2.COLOR_BGR2GRAY)"
   ]
  },
  {
   "cell_type": "code",
   "execution_count": 12,
   "id": "5dfed73b",
   "metadata": {},
   "outputs": [],
   "source": [
    "for frame in frames:\n",
    "    frame.image = frame.image.astype('float32') / 255.0"
   ]
  },
  {
   "cell_type": "code",
   "execution_count": 13,
   "id": "930e188d",
   "metadata": {},
   "outputs": [],
   "source": [
    "for frame in frames:\n",
    "    frame.resize(new_width=640, new_height=640)"
   ]
  },
  {
   "cell_type": "code",
   "execution_count": null,
   "id": "15429c81",
   "metadata": {},
   "outputs": [
    {
     "name": "stderr",
     "output_type": "stream",
     "text": [
      "Clipping input data to the valid range for imshow with RGB data ([0..1] for floats or [0..255] for integers).\n"
     ]
    }
   ],
   "source": [
    "import numpy as np\n",
    "\n",
    "\n",
    "for frame in frames:\n",
    "    frame.reset_drawable_image()\n",
    "    # frame.draw_face_border()\n",
    "    # frame.draw_facial_landmarks()\n",
    "    # if frame.facial_landmarks:\n",
    "    #     frame.draw_circle_at_facial_landmark(frame.facial_landmarks[10], frame.facial_landmarks[152])\n",
    "    frame.display()"
   ]
  }
 ],
 "metadata": {
  "kernelspec": {
   "display_name": "venv",
   "language": "python",
   "name": "python3"
  },
  "language_info": {
   "codemirror_mode": {
    "name": "ipython",
    "version": 3
   },
   "file_extension": ".py",
   "mimetype": "text/x-python",
   "name": "python",
   "nbconvert_exporter": "python",
   "pygments_lexer": "ipython3",
   "version": "3.9.13"
  }
 },
 "nbformat": 4,
 "nbformat_minor": 5
}
