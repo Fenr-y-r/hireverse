{
  "cells": [
    {
      "cell_type": "markdown",
      "metadata": {},
      "source": [
        "# Constants"
      ]
    },
    {
      "cell_type": "code",
      "execution_count": null,
      "metadata": {},
      "outputs": [],
      "source": [
        "import numpy as np\n",
        "from sklearn.metrics import make_scorer\n",
        "\n",
        "HYPERPARAMETER_TUNING = TRUE\n",
        "\n",
        "DROPPED_LEXICAL_COLUMNS = [\n",
        "    \"Swear\",\n",
        "    \"Numbers\",\n",
        "    \"Inhibition\",\n",
        "    \"Preceptual\",\n",
        "    \"Anxiety\",\n",
        "    \"Anger\",\n",
        "    \"Sadness\",\n",
        "    \"Work\",\n",
        "    \"Articles\",\n",
        "    \"Verbs\",\n",
        "    \"Adverbs\",\n",
        "    \"Prepositions\",\n",
        "    \"Conjunctions\",\n",
        "    \"Negations\",\n",
        "]\n",
        "DROPPED_FACIAL_COLUMNS = [\n",
        "    \"average_inner_brow_height_max\",\n",
        "    \"average_inner_brow_height_median\",\n",
        "    \"average_inner_brow_height_min\",\n",
        "    \"average_outer_brow_height_max\",\n",
        "    \"average_outer_brow_height_median\",\n",
        "    \"average_outer_brow_height_min\",\n",
        "    \"eye_open_max\",\n",
        "    \"eye_open_median\",\n",
        "    \"eye_open_min\",\n",
        "    \"inner_lip_height_max\",\n",
        "    \"inner_lip_height_median\",\n",
        "    \"inner_lip_height_min\",\n",
        "    \"lip_corner_distance_max\",\n",
        "    \"lip_corner_distance_median\",\n",
        "    \"lip_corner_distance_min\",\n",
        "    \"outer_lip_height_max\",\n",
        "    \"outer_lip_height_median\",\n",
        "    \"outer_lip_height_min\",\n",
        "    \"smile_max\",\n",
        "    \"smile_median\",\n",
        "    \"smile_min\",\n",
        "    \"pitch_max\",\n",
        "    \"pitch_median\",\n",
        "    \"pitch_min\",\n",
        "    \"roll_max\",\n",
        "    \"roll_median\",\n",
        "    \"roll_min\",\n",
        "    \"yaw_max\",\n",
        "    \"yaw_median\",\n",
        "    \"yaw_min\",\n",
        "]\n",
        "DROPPED_PROSODIC_COLUMNS = []\n",
        "MUST_KEEP_FEATURES = [\n",
        "    \"pause_duration_avg\" \"average_outer_brow_height_mean\",\n",
        "    \"average_inner_brow_height_mean\" \"outer_lip_height_mean\" \"Duration/Filler Words\",\n",
        "]\n",
        "TARGET_COLUMN = \"RecommendHiring\"\n",
        "GROUPS_COLUMN = \"cleaned_ids\"\n",
        "\n",
        "def pearson_corr(y_true, y_pred):\n",
        "    return np.corrcoef(y_true, y_pred)[0, 1]\n",
        "SCORING_METRICS = {\n",
        "    \"r2\": \"r2\",\n",
        "    \"mae\": \"neg_mean_absolute_error\",\n",
        "    \"pearson\": make_scorer(pearson_corr),  # Pearson Correlation Coefficient\n",
        "}\n",
        "\n",
        "ALREADY_NORMALIZED_FEATURES = [\n",
        "    \"average_outer_brow_height_mean\",\n",
        "    \"average_inner_brow_height_mean\",\n",
        "    \"eye_open_mean\",\n",
        "    \"inner_lip_height_mean\",\n",
        "    \"inner_lip_height_mean\",\n",
        "    \"lip_corner_distance_mean\",\n",
        "    \"average_outer_brow_height_std\",\n",
        "    \"average_inner_brow_height_std\",\n",
        "    \"eye_open_std\",\n",
        "    \"outer_lip_height_std\",\n",
        "    \"inner_lip_height_std\",\n",
        "    \"lip_corner_distance_std\",\n",
        "    \"average_outer_brow_height_min\",\n",
        "    \"average_inner_brow_height_min\",\n",
        "    \"eye_open_min\",\n",
        "    \"outer_lip_height_min\",\n",
        "    \"inner_lip_height_min\",\n",
        "    \"lip_corner_distance_min\",\n",
        "    \"average_outer_brow_height_max\",\n",
        "    \"average_inner_brow_height_max\",\n",
        "    \"eye_open_max\",\n",
        "    \"outer_lip_height_max\",\n",
        "    \"inner_lip_height_max\",\n",
        "    \"lip_corner_distance_max\",\n",
        "    \"average_outer_brow_height_median\",\n",
        "    \"average_inner_brow_height_median\",\n",
        "    \"eye_open_median\",\n",
        "    \"outer_lip_height_median\",\n",
        "    \"inner_lip_height_median\",\n",
        "    \"lip_corner_distance_median\",\n",
        "]  # these are already in [0, 1]"
      ]
    },
    {
      "cell_type": "markdown",
      "metadata": {
        "id": "fD4hl39NFMny"
      },
      "source": [
        "# Data Preprocessing"
      ]
    },
    {
      "cell_type": "markdown",
      "metadata": {
        "id": "kFDduJ-UNVTL"
      },
      "source": [
        "## Import Datasets"
      ]
    },
    {
      "cell_type": "code",
      "execution_count": 2,
      "metadata": {
        "colab": {
          "base_uri": "https://localhost:8080/"
        },
        "id": "Zff5x2vK99H_",
        "outputId": "a04675c7-e23f-4fe9-aa8f-3d82166daeab"
      },
      "outputs": [],
      "source": [
        "import pandas as pd\n",
        "import os\n",
        "\n",
        "datasets_folder_path = \"../datasets\"\n",
        "\n",
        "features_df = pd.read_csv(os.path.join(datasets_folder_path, 'add.csv'))\n",
        "features_df = features_df.set_index('participant_id')\n",
        "\n",
        "labels_df = pd.read_csv(os.path.join(datasets_folder_path, 'turker_scores_full_interview.csv'))\n",
        "labels_df = labels_df.set_index('Participant')\n",
        "labels_df = labels_df.loc[labels_df['Worker'] == 'AGGR']\n",
        "\n",
        "features_df.index = features_df.index.str.lower()\n",
        "labels_df.index = labels_df.index.str.lower()\n",
        "indexed_combined_df = features_df.join(labels_df[[TARGET_COLUMN]], how='left')"
      ]
    },
    {
      "cell_type": "markdown",
      "metadata": {
        "id": "f5XKf5J83KKc"
      },
      "source": [
        "## Fill NaN Values"
      ]
    },
    {
      "cell_type": "code",
      "execution_count": 3,
      "metadata": {
        "colab": {
          "base_uri": "https://localhost:8080/"
        },
        "id": "Ha83-CXp3KCu",
        "outputId": "bbb03393-2e70-4279-ed70-df37b57cabbb"
      },
      "outputs": [
        {
          "name": "stdout",
          "output_type": "stream",
          "text": [
            "16\n",
            "0\n"
          ]
        }
      ],
      "source": [
        "# Print number of missing values before filling\n",
        "print(indexed_combined_df.isna().sum().sum())\n",
        "\n",
        "# Fill missing values only in numeric columns\n",
        "numeric_cols = indexed_combined_df.select_dtypes(include=['number']).columns\n",
        "indexed_combined_df[numeric_cols] = indexed_combined_df[numeric_cols].fillna(indexed_combined_df[numeric_cols].mean())\n",
        "\n",
        "# Print number of missing values after filling\n",
        "print(indexed_combined_df.isna().sum().sum())\n",
        "\n",
        "# Reset index\n",
        "combined_df = indexed_combined_df.reset_index()"
      ]
    },
    {
      "cell_type": "markdown",
      "metadata": {
        "id": "4mVWx35ENWtk"
      },
      "source": [
        "## Drop Unnecessary Columns"
      ]
    },
    {
      "cell_type": "code",
      "execution_count": 4,
      "metadata": {
        "id": "NFfHsJANHWu8"
      },
      "outputs": [],
      "source": [
        "combined_df= combined_df.drop(columns=DROPPED_FACIAL_COLUMNS + DROPPED_LEXICAL_COLUMNS + DROPPED_PROSODIC_COLUMNS)"
      ]
    },
    {
      "cell_type": "markdown",
      "metadata": {
        "id": "sDQ6pHknkARQ"
      },
      "source": [
        "# Split Data"
      ]
    },
    {
      "cell_type": "code",
      "execution_count": 46,
      "metadata": {},
      "outputs": [],
      "source": [
        "X = combined_df.iloc[:, 2:-1]\n",
        "y = combined_df.iloc[:, -1]"
      ]
    },
    {
      "cell_type": "markdown",
      "metadata": {
        "id": "XvvciJkN0UOa"
      },
      "source": [
        "# Train SVR Model"
      ]
    },
    {
      "cell_type": "code",
      "execution_count": null,
      "metadata": {
        "colab": {
          "base_uri": "https://localhost:8080/",
          "height": 137
        },
        "id": "dtuJl5nq0TE6",
        "outputId": "29e327d6-818f-424a-de55-ab7d93a0cab2"
      },
      "outputs": [],
      "source": [
        "# import numpy as np\n",
        "# from sklearn.compose import ColumnTransformer\n",
        "# from sklearn.feature_selection import SelectFromModel\n",
        "# from sklearn.linear_model import Lasso, LassoCV\n",
        "# from sklearn.pipeline import Pipeline\n",
        "# from sklearn.preprocessing import StandardScaler\n",
        "# from sklearn.svm import SVR\n",
        "# from sklearn.model_selection import GroupKFold, cross_val_score, cross_validate\n",
        "\n",
        "# import sys\n",
        "# # sys.path.append('..')\n",
        "# # from models.domain_aware_selector import DomainAwareSelector\n",
        "\n",
        "# groups_column = combined_df[GROUPS_COLUMN].astype(str).values  \n",
        "\n",
        "# lasso_feature_selection_model = LassoCV(cv=5, random_state=42, max_iter=30000, alphas=np.logspace(-5, 2, 100),)\n",
        "\n",
        "# # preprocessor = ColumnTransformer(\n",
        "# #     transformers=[(\"scale\", StandardScaler(),[column for column in X.columns if column not in ALREADY_NORMALIZED_FEATURES])],\n",
        "# #     remainder=\"passthrough\", \n",
        "# # )\n",
        "\n",
        "# pipeline = Pipeline([\n",
        "#     # ('preprocessor', preprocessor),\n",
        "#     ('scaler', StandardScaler()), \n",
        "#     ('feature_selection', SelectFromModel(estimator=lasso_feature_selection_model)),\n",
        "#     ('svr', SVR(kernel='rbf',)) \n",
        "# ])\n",
        "\n",
        "\n",
        "import numpy as np\n",
        "from sklearn.feature_selection import SelectFromModel\n",
        "from sklearn.linear_model import LassoCV\n",
        "from sklearn.pipeline import Pipeline\n",
        "from sklearn.preprocessing import StandardScaler\n",
        "from sklearn.svm import SVR\n",
        "from sklearn.model_selection import GroupKFold, cross_val_score, cross_validate\n",
        "\n",
        "groups_column = combined_df[GROUPS_COLUMN].astype(str).values\n",
        "\n",
        "lasso_feature_selection_model = LassoCV(cv=5, random_state=42, max_iter=30000, alphas=np.logspace(-3, 2, 20),)\n",
        "pipeline = Pipeline([\n",
        "    ('scaler', StandardScaler()),\n",
        "    ('feature_selection', SelectFromModel(estimator=lasso_feature_selection_model)),\n",
        "    ('svr', SVR(kernel='rbf'))\n",
        "])\n",
        "\n",
        "MUST_KEEP_FEATURES = ['pause_duration_avg' 'average_outer_brow_height_mean', 'average_inner_brow_height_mean' 'outer_lip_height_mean'  'Duration/Filler Words']\n"
      ]
    },
    {
      "cell_type": "markdown",
      "metadata": {},
      "source": [
        "# Hyperparameter Tuning"
      ]
    },
    {
      "cell_type": "code",
      "execution_count": 52,
      "metadata": {},
      "outputs": [
        {
          "name": "stdout",
          "output_type": "stream",
          "text": [
            "Fitting 3 folds for each of 4480 candidates, totalling 13440 fits\n"
          ]
        },
        {
          "ename": "KeyboardInterrupt",
          "evalue": "",
          "output_type": "error",
          "traceback": [
            "\u001b[0;31m---------------------------------------------------------------------------\u001b[0m",
            "\u001b[0;31mKeyboardInterrupt\u001b[0m                         Traceback (most recent call last)",
            "Cell \u001b[0;32mIn[52], line 27\u001b[0m\n\u001b[1;32m      3\u001b[0m param_grid \u001b[38;5;241m=\u001b[39m {\n\u001b[1;32m      4\u001b[0m     \u001b[38;5;66;03m# Feature selection parameters\u001b[39;00m\n\u001b[1;32m      5\u001b[0m     \u001b[38;5;124m'\u001b[39m\u001b[38;5;124mfeature_selection__threshold\u001b[39m\u001b[38;5;124m'\u001b[39m: [\u001b[38;5;28;01mNone\u001b[39;00m, \u001b[38;5;124m'\u001b[39m\u001b[38;5;124mmedian\u001b[39m\u001b[38;5;124m'\u001b[39m],  \u001b[38;5;66;03m# Control feature retention\u001b[39;00m\n\u001b[0;32m   (...)\u001b[0m\n\u001b[1;32m     16\u001b[0m     \u001b[38;5;124m'\u001b[39m\u001b[38;5;124msvr__shrinking\u001b[39m\u001b[38;5;124m'\u001b[39m: [\u001b[38;5;28;01mTrue\u001b[39;00m, \u001b[38;5;28;01mFalse\u001b[39;00m]  \u001b[38;5;66;03m# Sometimes helps with complex datasets\u001b[39;00m\n\u001b[1;32m     17\u001b[0m }\n\u001b[1;32m     19\u001b[0m grid_search \u001b[38;5;241m=\u001b[39m GridSearchCV(\n\u001b[1;32m     20\u001b[0m     pipeline,\n\u001b[1;32m     21\u001b[0m     param_grid,\n\u001b[0;32m   (...)\u001b[0m\n\u001b[1;32m     25\u001b[0m     n_jobs\u001b[38;5;241m=\u001b[39m\u001b[38;5;241m-\u001b[39m\u001b[38;5;241m1\u001b[39m   \u001b[38;5;66;03m# Uses all available CPU cores for faster execution\u001b[39;00m\n\u001b[1;32m     26\u001b[0m )\n\u001b[0;32m---> 27\u001b[0m \u001b[43mgrid_search\u001b[49m\u001b[38;5;241;43m.\u001b[39;49m\u001b[43mfit\u001b[49m\u001b[43m(\u001b[49m\u001b[43mX\u001b[49m\u001b[43m,\u001b[49m\u001b[43m \u001b[49m\u001b[43my\u001b[49m\u001b[43m,\u001b[49m\u001b[43m \u001b[49m\u001b[43mgroups\u001b[49m\u001b[38;5;241;43m=\u001b[39;49m\u001b[43mgroups_column\u001b[49m\u001b[43m)\u001b[49m \u001b[38;5;66;03m# Trains models on different hyperparameter combinations using cross-validation.\u001b[39;00m\n\u001b[1;32m     28\u001b[0m \u001b[38;5;28mprint\u001b[39m(\u001b[38;5;124m\"\u001b[39m\u001b[38;5;124mBest hyperparameters:\u001b[39m\u001b[38;5;124m\"\u001b[39m, grid_search\u001b[38;5;241m.\u001b[39mbest_params_)\n\u001b[1;32m     29\u001b[0m \u001b[38;5;28mprint\u001b[39m(\u001b[38;5;124mf\u001b[39m\u001b[38;5;124m\"\u001b[39m\u001b[38;5;124mBest R² score from GridSearchCV: \u001b[39m\u001b[38;5;132;01m{\u001b[39;00mgrid_search\u001b[38;5;241m.\u001b[39mbest_score_\u001b[38;5;132;01m:\u001b[39;00m\u001b[38;5;124m.4f\u001b[39m\u001b[38;5;132;01m}\u001b[39;00m\u001b[38;5;124m\"\u001b[39m)\n",
            "File \u001b[0;32m~/personal_projects/facial_expressions_detection/myenv/lib/python3.12/site-packages/sklearn/base.py:1389\u001b[0m, in \u001b[0;36m_fit_context.<locals>.decorator.<locals>.wrapper\u001b[0;34m(estimator, *args, **kwargs)\u001b[0m\n\u001b[1;32m   1382\u001b[0m     estimator\u001b[38;5;241m.\u001b[39m_validate_params()\n\u001b[1;32m   1384\u001b[0m \u001b[38;5;28;01mwith\u001b[39;00m config_context(\n\u001b[1;32m   1385\u001b[0m     skip_parameter_validation\u001b[38;5;241m=\u001b[39m(\n\u001b[1;32m   1386\u001b[0m         prefer_skip_nested_validation \u001b[38;5;129;01mor\u001b[39;00m global_skip_validation\n\u001b[1;32m   1387\u001b[0m     )\n\u001b[1;32m   1388\u001b[0m ):\n\u001b[0;32m-> 1389\u001b[0m     \u001b[38;5;28;01mreturn\u001b[39;00m \u001b[43mfit_method\u001b[49m\u001b[43m(\u001b[49m\u001b[43mestimator\u001b[49m\u001b[43m,\u001b[49m\u001b[43m \u001b[49m\u001b[38;5;241;43m*\u001b[39;49m\u001b[43margs\u001b[49m\u001b[43m,\u001b[49m\u001b[43m \u001b[49m\u001b[38;5;241;43m*\u001b[39;49m\u001b[38;5;241;43m*\u001b[39;49m\u001b[43mkwargs\u001b[49m\u001b[43m)\u001b[49m\n",
            "File \u001b[0;32m~/personal_projects/facial_expressions_detection/myenv/lib/python3.12/site-packages/sklearn/model_selection/_search.py:1023\u001b[0m, in \u001b[0;36mBaseSearchCV.fit\u001b[0;34m(self, X, y, **params)\u001b[0m\n\u001b[1;32m   1017\u001b[0m     results \u001b[38;5;241m=\u001b[39m \u001b[38;5;28mself\u001b[39m\u001b[38;5;241m.\u001b[39m_format_results(\n\u001b[1;32m   1018\u001b[0m         all_candidate_params, n_splits, all_out, all_more_results\n\u001b[1;32m   1019\u001b[0m     )\n\u001b[1;32m   1021\u001b[0m     \u001b[38;5;28;01mreturn\u001b[39;00m results\n\u001b[0;32m-> 1023\u001b[0m \u001b[38;5;28;43mself\u001b[39;49m\u001b[38;5;241;43m.\u001b[39;49m\u001b[43m_run_search\u001b[49m\u001b[43m(\u001b[49m\u001b[43mevaluate_candidates\u001b[49m\u001b[43m)\u001b[49m\n\u001b[1;32m   1025\u001b[0m \u001b[38;5;66;03m# multimetric is determined here because in the case of a callable\u001b[39;00m\n\u001b[1;32m   1026\u001b[0m \u001b[38;5;66;03m# self.scoring the return type is only known after calling\u001b[39;00m\n\u001b[1;32m   1027\u001b[0m first_test_score \u001b[38;5;241m=\u001b[39m all_out[\u001b[38;5;241m0\u001b[39m][\u001b[38;5;124m\"\u001b[39m\u001b[38;5;124mtest_scores\u001b[39m\u001b[38;5;124m\"\u001b[39m]\n",
            "File \u001b[0;32m~/personal_projects/facial_expressions_detection/myenv/lib/python3.12/site-packages/sklearn/model_selection/_search.py:1570\u001b[0m, in \u001b[0;36mGridSearchCV._run_search\u001b[0;34m(self, evaluate_candidates)\u001b[0m\n\u001b[1;32m   1568\u001b[0m \u001b[38;5;28;01mdef\u001b[39;00m \u001b[38;5;21m_run_search\u001b[39m(\u001b[38;5;28mself\u001b[39m, evaluate_candidates):\n\u001b[1;32m   1569\u001b[0m \u001b[38;5;250m    \u001b[39m\u001b[38;5;124;03m\"\"\"Search all candidates in param_grid\"\"\"\u001b[39;00m\n\u001b[0;32m-> 1570\u001b[0m     \u001b[43mevaluate_candidates\u001b[49m\u001b[43m(\u001b[49m\u001b[43mParameterGrid\u001b[49m\u001b[43m(\u001b[49m\u001b[38;5;28;43mself\u001b[39;49m\u001b[38;5;241;43m.\u001b[39;49m\u001b[43mparam_grid\u001b[49m\u001b[43m)\u001b[49m\u001b[43m)\u001b[49m\n",
            "File \u001b[0;32m~/personal_projects/facial_expressions_detection/myenv/lib/python3.12/site-packages/sklearn/model_selection/_search.py:969\u001b[0m, in \u001b[0;36mBaseSearchCV.fit.<locals>.evaluate_candidates\u001b[0;34m(candidate_params, cv, more_results)\u001b[0m\n\u001b[1;32m    961\u001b[0m \u001b[38;5;28;01mif\u001b[39;00m \u001b[38;5;28mself\u001b[39m\u001b[38;5;241m.\u001b[39mverbose \u001b[38;5;241m>\u001b[39m \u001b[38;5;241m0\u001b[39m:\n\u001b[1;32m    962\u001b[0m     \u001b[38;5;28mprint\u001b[39m(\n\u001b[1;32m    963\u001b[0m         \u001b[38;5;124m\"\u001b[39m\u001b[38;5;124mFitting \u001b[39m\u001b[38;5;132;01m{0}\u001b[39;00m\u001b[38;5;124m folds for each of \u001b[39m\u001b[38;5;132;01m{1}\u001b[39;00m\u001b[38;5;124m candidates,\u001b[39m\u001b[38;5;124m\"\u001b[39m\n\u001b[1;32m    964\u001b[0m         \u001b[38;5;124m\"\u001b[39m\u001b[38;5;124m totalling \u001b[39m\u001b[38;5;132;01m{2}\u001b[39;00m\u001b[38;5;124m fits\u001b[39m\u001b[38;5;124m\"\u001b[39m\u001b[38;5;241m.\u001b[39mformat(\n\u001b[1;32m    965\u001b[0m             n_splits, n_candidates, n_candidates \u001b[38;5;241m*\u001b[39m n_splits\n\u001b[1;32m    966\u001b[0m         )\n\u001b[1;32m    967\u001b[0m     )\n\u001b[0;32m--> 969\u001b[0m out \u001b[38;5;241m=\u001b[39m \u001b[43mparallel\u001b[49m\u001b[43m(\u001b[49m\n\u001b[1;32m    970\u001b[0m \u001b[43m    \u001b[49m\u001b[43mdelayed\u001b[49m\u001b[43m(\u001b[49m\u001b[43m_fit_and_score\u001b[49m\u001b[43m)\u001b[49m\u001b[43m(\u001b[49m\n\u001b[1;32m    971\u001b[0m \u001b[43m        \u001b[49m\u001b[43mclone\u001b[49m\u001b[43m(\u001b[49m\u001b[43mbase_estimator\u001b[49m\u001b[43m)\u001b[49m\u001b[43m,\u001b[49m\n\u001b[1;32m    972\u001b[0m \u001b[43m        \u001b[49m\u001b[43mX\u001b[49m\u001b[43m,\u001b[49m\n\u001b[1;32m    973\u001b[0m \u001b[43m        \u001b[49m\u001b[43my\u001b[49m\u001b[43m,\u001b[49m\n\u001b[1;32m    974\u001b[0m \u001b[43m        \u001b[49m\u001b[43mtrain\u001b[49m\u001b[38;5;241;43m=\u001b[39;49m\u001b[43mtrain\u001b[49m\u001b[43m,\u001b[49m\n\u001b[1;32m    975\u001b[0m \u001b[43m        \u001b[49m\u001b[43mtest\u001b[49m\u001b[38;5;241;43m=\u001b[39;49m\u001b[43mtest\u001b[49m\u001b[43m,\u001b[49m\n\u001b[1;32m    976\u001b[0m \u001b[43m        \u001b[49m\u001b[43mparameters\u001b[49m\u001b[38;5;241;43m=\u001b[39;49m\u001b[43mparameters\u001b[49m\u001b[43m,\u001b[49m\n\u001b[1;32m    977\u001b[0m \u001b[43m        \u001b[49m\u001b[43msplit_progress\u001b[49m\u001b[38;5;241;43m=\u001b[39;49m\u001b[43m(\u001b[49m\u001b[43msplit_idx\u001b[49m\u001b[43m,\u001b[49m\u001b[43m \u001b[49m\u001b[43mn_splits\u001b[49m\u001b[43m)\u001b[49m\u001b[43m,\u001b[49m\n\u001b[1;32m    978\u001b[0m \u001b[43m        \u001b[49m\u001b[43mcandidate_progress\u001b[49m\u001b[38;5;241;43m=\u001b[39;49m\u001b[43m(\u001b[49m\u001b[43mcand_idx\u001b[49m\u001b[43m,\u001b[49m\u001b[43m \u001b[49m\u001b[43mn_candidates\u001b[49m\u001b[43m)\u001b[49m\u001b[43m,\u001b[49m\n\u001b[1;32m    979\u001b[0m \u001b[43m        \u001b[49m\u001b[38;5;241;43m*\u001b[39;49m\u001b[38;5;241;43m*\u001b[39;49m\u001b[43mfit_and_score_kwargs\u001b[49m\u001b[43m,\u001b[49m\n\u001b[1;32m    980\u001b[0m \u001b[43m    \u001b[49m\u001b[43m)\u001b[49m\n\u001b[1;32m    981\u001b[0m \u001b[43m    \u001b[49m\u001b[38;5;28;43;01mfor\u001b[39;49;00m\u001b[43m \u001b[49m\u001b[43m(\u001b[49m\u001b[43mcand_idx\u001b[49m\u001b[43m,\u001b[49m\u001b[43m \u001b[49m\u001b[43mparameters\u001b[49m\u001b[43m)\u001b[49m\u001b[43m,\u001b[49m\u001b[43m \u001b[49m\u001b[43m(\u001b[49m\u001b[43msplit_idx\u001b[49m\u001b[43m,\u001b[49m\u001b[43m \u001b[49m\u001b[43m(\u001b[49m\u001b[43mtrain\u001b[49m\u001b[43m,\u001b[49m\u001b[43m \u001b[49m\u001b[43mtest\u001b[49m\u001b[43m)\u001b[49m\u001b[43m)\u001b[49m\u001b[43m \u001b[49m\u001b[38;5;129;43;01min\u001b[39;49;00m\u001b[43m \u001b[49m\u001b[43mproduct\u001b[49m\u001b[43m(\u001b[49m\n\u001b[1;32m    982\u001b[0m \u001b[43m        \u001b[49m\u001b[38;5;28;43menumerate\u001b[39;49m\u001b[43m(\u001b[49m\u001b[43mcandidate_params\u001b[49m\u001b[43m)\u001b[49m\u001b[43m,\u001b[49m\n\u001b[1;32m    983\u001b[0m \u001b[43m        \u001b[49m\u001b[38;5;28;43menumerate\u001b[39;49m\u001b[43m(\u001b[49m\u001b[43mcv\u001b[49m\u001b[38;5;241;43m.\u001b[39;49m\u001b[43msplit\u001b[49m\u001b[43m(\u001b[49m\u001b[43mX\u001b[49m\u001b[43m,\u001b[49m\u001b[43m \u001b[49m\u001b[43my\u001b[49m\u001b[43m,\u001b[49m\u001b[43m \u001b[49m\u001b[38;5;241;43m*\u001b[39;49m\u001b[38;5;241;43m*\u001b[39;49m\u001b[43mrouted_params\u001b[49m\u001b[38;5;241;43m.\u001b[39;49m\u001b[43msplitter\u001b[49m\u001b[38;5;241;43m.\u001b[39;49m\u001b[43msplit\u001b[49m\u001b[43m)\u001b[49m\u001b[43m)\u001b[49m\u001b[43m,\u001b[49m\n\u001b[1;32m    984\u001b[0m \u001b[43m    \u001b[49m\u001b[43m)\u001b[49m\n\u001b[1;32m    985\u001b[0m \u001b[43m\u001b[49m\u001b[43m)\u001b[49m\n\u001b[1;32m    987\u001b[0m \u001b[38;5;28;01mif\u001b[39;00m \u001b[38;5;28mlen\u001b[39m(out) \u001b[38;5;241m<\u001b[39m \u001b[38;5;241m1\u001b[39m:\n\u001b[1;32m    988\u001b[0m     \u001b[38;5;28;01mraise\u001b[39;00m \u001b[38;5;167;01mValueError\u001b[39;00m(\n\u001b[1;32m    989\u001b[0m         \u001b[38;5;124m\"\u001b[39m\u001b[38;5;124mNo fits were performed. \u001b[39m\u001b[38;5;124m\"\u001b[39m\n\u001b[1;32m    990\u001b[0m         \u001b[38;5;124m\"\u001b[39m\u001b[38;5;124mWas the CV iterator empty? \u001b[39m\u001b[38;5;124m\"\u001b[39m\n\u001b[1;32m    991\u001b[0m         \u001b[38;5;124m\"\u001b[39m\u001b[38;5;124mWere there no candidates?\u001b[39m\u001b[38;5;124m\"\u001b[39m\n\u001b[1;32m    992\u001b[0m     )\n",
            "File \u001b[0;32m~/personal_projects/facial_expressions_detection/myenv/lib/python3.12/site-packages/sklearn/utils/parallel.py:77\u001b[0m, in \u001b[0;36mParallel.__call__\u001b[0;34m(self, iterable)\u001b[0m\n\u001b[1;32m     72\u001b[0m config \u001b[38;5;241m=\u001b[39m get_config()\n\u001b[1;32m     73\u001b[0m iterable_with_config \u001b[38;5;241m=\u001b[39m (\n\u001b[1;32m     74\u001b[0m     (_with_config(delayed_func, config), args, kwargs)\n\u001b[1;32m     75\u001b[0m     \u001b[38;5;28;01mfor\u001b[39;00m delayed_func, args, kwargs \u001b[38;5;129;01min\u001b[39;00m iterable\n\u001b[1;32m     76\u001b[0m )\n\u001b[0;32m---> 77\u001b[0m \u001b[38;5;28;01mreturn\u001b[39;00m \u001b[38;5;28;43msuper\u001b[39;49m\u001b[43m(\u001b[49m\u001b[43m)\u001b[49m\u001b[38;5;241;43m.\u001b[39;49m\u001b[38;5;21;43m__call__\u001b[39;49m\u001b[43m(\u001b[49m\u001b[43miterable_with_config\u001b[49m\u001b[43m)\u001b[49m\n",
            "File \u001b[0;32m~/personal_projects/facial_expressions_detection/myenv/lib/python3.12/site-packages/joblib/parallel.py:2007\u001b[0m, in \u001b[0;36mParallel.__call__\u001b[0;34m(self, iterable)\u001b[0m\n\u001b[1;32m   2001\u001b[0m \u001b[38;5;66;03m# The first item from the output is blank, but it makes the interpreter\u001b[39;00m\n\u001b[1;32m   2002\u001b[0m \u001b[38;5;66;03m# progress until it enters the Try/Except block of the generator and\u001b[39;00m\n\u001b[1;32m   2003\u001b[0m \u001b[38;5;66;03m# reaches the first `yield` statement. This starts the asynchronous\u001b[39;00m\n\u001b[1;32m   2004\u001b[0m \u001b[38;5;66;03m# dispatch of the tasks to the workers.\u001b[39;00m\n\u001b[1;32m   2005\u001b[0m \u001b[38;5;28mnext\u001b[39m(output)\n\u001b[0;32m-> 2007\u001b[0m \u001b[38;5;28;01mreturn\u001b[39;00m output \u001b[38;5;28;01mif\u001b[39;00m \u001b[38;5;28mself\u001b[39m\u001b[38;5;241m.\u001b[39mreturn_generator \u001b[38;5;28;01melse\u001b[39;00m \u001b[38;5;28;43mlist\u001b[39;49m\u001b[43m(\u001b[49m\u001b[43moutput\u001b[49m\u001b[43m)\u001b[49m\n",
            "File \u001b[0;32m~/personal_projects/facial_expressions_detection/myenv/lib/python3.12/site-packages/joblib/parallel.py:1650\u001b[0m, in \u001b[0;36mParallel._get_outputs\u001b[0;34m(self, iterator, pre_dispatch)\u001b[0m\n\u001b[1;32m   1647\u001b[0m     \u001b[38;5;28;01myield\u001b[39;00m\n\u001b[1;32m   1649\u001b[0m     \u001b[38;5;28;01mwith\u001b[39;00m \u001b[38;5;28mself\u001b[39m\u001b[38;5;241m.\u001b[39m_backend\u001b[38;5;241m.\u001b[39mretrieval_context():\n\u001b[0;32m-> 1650\u001b[0m         \u001b[38;5;28;01myield from\u001b[39;00m \u001b[38;5;28mself\u001b[39m\u001b[38;5;241m.\u001b[39m_retrieve()\n\u001b[1;32m   1652\u001b[0m \u001b[38;5;28;01mexcept\u001b[39;00m \u001b[38;5;167;01mGeneratorExit\u001b[39;00m:\n\u001b[1;32m   1653\u001b[0m     \u001b[38;5;66;03m# The generator has been garbage collected before being fully\u001b[39;00m\n\u001b[1;32m   1654\u001b[0m     \u001b[38;5;66;03m# consumed. This aborts the remaining tasks if possible and warn\u001b[39;00m\n\u001b[1;32m   1655\u001b[0m     \u001b[38;5;66;03m# the user if necessary.\u001b[39;00m\n\u001b[1;32m   1656\u001b[0m     \u001b[38;5;28mself\u001b[39m\u001b[38;5;241m.\u001b[39m_exception \u001b[38;5;241m=\u001b[39m \u001b[38;5;28;01mTrue\u001b[39;00m\n",
            "File \u001b[0;32m~/personal_projects/facial_expressions_detection/myenv/lib/python3.12/site-packages/joblib/parallel.py:1762\u001b[0m, in \u001b[0;36mParallel._retrieve\u001b[0;34m(self)\u001b[0m\n\u001b[1;32m   1757\u001b[0m \u001b[38;5;66;03m# If the next job is not ready for retrieval yet, we just wait for\u001b[39;00m\n\u001b[1;32m   1758\u001b[0m \u001b[38;5;66;03m# async callbacks to progress.\u001b[39;00m\n\u001b[1;32m   1759\u001b[0m \u001b[38;5;28;01mif\u001b[39;00m ((\u001b[38;5;28mlen\u001b[39m(\u001b[38;5;28mself\u001b[39m\u001b[38;5;241m.\u001b[39m_jobs) \u001b[38;5;241m==\u001b[39m \u001b[38;5;241m0\u001b[39m) \u001b[38;5;129;01mor\u001b[39;00m\n\u001b[1;32m   1760\u001b[0m     (\u001b[38;5;28mself\u001b[39m\u001b[38;5;241m.\u001b[39m_jobs[\u001b[38;5;241m0\u001b[39m]\u001b[38;5;241m.\u001b[39mget_status(\n\u001b[1;32m   1761\u001b[0m         timeout\u001b[38;5;241m=\u001b[39m\u001b[38;5;28mself\u001b[39m\u001b[38;5;241m.\u001b[39mtimeout) \u001b[38;5;241m==\u001b[39m TASK_PENDING)):\n\u001b[0;32m-> 1762\u001b[0m     \u001b[43mtime\u001b[49m\u001b[38;5;241;43m.\u001b[39;49m\u001b[43msleep\u001b[49m\u001b[43m(\u001b[49m\u001b[38;5;241;43m0.01\u001b[39;49m\u001b[43m)\u001b[49m\n\u001b[1;32m   1763\u001b[0m     \u001b[38;5;28;01mcontinue\u001b[39;00m\n\u001b[1;32m   1765\u001b[0m \u001b[38;5;66;03m# We need to be careful: the job list can be filling up as\u001b[39;00m\n\u001b[1;32m   1766\u001b[0m \u001b[38;5;66;03m# we empty it and Python list are not thread-safe by\u001b[39;00m\n\u001b[1;32m   1767\u001b[0m \u001b[38;5;66;03m# default hence the use of the lock\u001b[39;00m\n",
            "\u001b[0;31mKeyboardInterrupt\u001b[0m: "
          ]
        }
      ],
      "source": [
        "from sklearn.model_selection import GridSearchCV\n",
        "\n",
        "param_grid = {\n",
        "    # Feature selection parameters\n",
        "    'feature_selection__threshold': [None, 'median'],  # Control feature retention\n",
        "\n",
        "    # SVR parameters\n",
        "    'svr__C': np.logspace(-2, 2, 5),  # [0.01, 0.1, 1, 10, 100]\n",
        "    'svr__gamma': ['scale', 'auto'] + list(np.logspace(-3, 1, 5)),  # More gamma options\n",
        "    'svr__epsilon': [0.01, 0.1, 0.5, 1.0],\n",
        "    'svr__kernel': ['rbf', 'poly'],  # Added poly kernel\n",
        "    'svr__degree': [2, 3],  # Only used for poly kernel\n",
        "    'svr__coef0': [0.0, 1.0],  # Important for poly kernel\n",
        "\n",
        "    # Experimental parameters\n",
        "    'svr__shrinking': [True, False]  # Sometimes helps with complex datasets\n",
        "}\n",
        "\n",
        "grid_search = GridSearchCV(\n",
        "    pipeline,\n",
        "    param_grid,\n",
        "    cv=GroupKFold(n_splits=3),  # Faster with 3 folds\n",
        "    scoring='r2',\n",
        "    verbose= 1,\n",
        "    n_jobs=-1   # Uses all available CPU cores for faster execution\n",
        ")\n",
        "grid_search.fit(X, y, groups=groups_column) # Trains models on different hyperparameter combinations using cross-validation.\n",
        "print(\"Best hyperparameters:\", grid_search.best_params_)\n",
        "print(f\"Best R² score from GridSearchCV: {grid_search.best_score_:.4f}\")"
      ]
    },
    {
      "cell_type": "code",
      "execution_count": null,
      "metadata": {},
      "outputs": [
        {
          "name": "stdout",
          "output_type": "stream",
          "text": [
            "Number of Selected features (27):\n",
            "Selected features (Index(['f0_sd', 'intensity_mean', 'f3_mean', 'f3_sd', 'f2_f1_mean', 'jitter',\n",
            "       'percent_unvoiced', 'percent_breaks', 'eye_open_mean',\n",
            "       'inner_lip_height_mean', 'lip_corner_distance_mean', 'smile_mean',\n",
            "       'pitch_mean', 'yaw_mean', 'roll_mean', 'eye_open_std',\n",
            "       'inner_lip_height_std', 'lip_corner_distance_std', 'yaw_std',\n",
            "       'roll_std', 'Duration/Total Words', 'Individual', 'They', 'PosEmotion',\n",
            "       'NegEmotion', 'Cognitive', 'Quantifiers'],\n",
            "      dtype='object')):\n",
            "Unselected features :Index(['f0_mean', 'f0_min', 'f0_max', 'f0_range', 'intensity_min',\n",
            "       'intensity_max', 'intensity_range', 'intensity_sd', 'f1_mean', 'f1_sd',\n",
            "       'f2_mean', 'f2_sd', 'f3_f1_mean', 'f2_f1_sd', 'f3_f1_sd', 'shimmer',\n",
            "       'pause_duration_max', 'pause_duration_avg', 'duration',\n",
            "       'average_outer_brow_height_mean', 'average_inner_brow_height_mean',\n",
            "       'outer_lip_height_mean', 'average_outer_brow_height_std',\n",
            "       'average_inner_brow_height_std', 'outer_lip_height_std', 'smile_std',\n",
            "       'pitch_std', 'Total Words', 'Unique Words', 'Filler Words',\n",
            "       'Audio Duration (s)', 'Duration/Unique Words', 'Duration/Filler Words',\n",
            "       'We', 'Non-Fluences', 'Relativity'],\n",
            "      dtype='object')):\n"
          ]
        }
      ],
      "source": [
        "best_pipeline = grid_search.best_estimator_\n",
        "\n",
        "selected_mask = best_pipeline.named_steps['feature_selection'].get_support()\n",
        "\n",
        "selected_features_bool_mask = best_pipeline.named_steps['feature_selection'].get_support()  # get_support returns a boolean mask\n",
        "selected_feature_names = X.columns[selected_features_bool_mask]\n",
        "unselected_feature_names = X.columns[~selected_features_bool_mask]\n",
        "print(f\"Number of Selected features ({len(selected_feature_names)}):\")\n",
        "print(f\"Selected features ({selected_feature_names}):\")\n",
        "print(f\"Unselected features :{unselected_feature_names}):\")"
      ]
    },
    {
      "cell_type": "markdown",
      "metadata": {},
      "source": [
        "# Model Evaluation"
      ]
    },
    {
      "cell_type": "code",
      "execution_count": null,
      "metadata": {},
      "outputs": [],
      "source": [
        "cv_results = cross_validate(\n",
        "    best_pipeline,\n",
        "    X,\n",
        "    y,\n",
        "    cv=GroupKFold(n_splits=5),\n",
        "    groups=groups_column,\n",
        "    scoring=SCORING_METRICS,\n",
        "    return_train_score=False,\n",
        "    return_estimator=True  # To access feature selection details\n",
        ")"
      ]
    },
    {
      "cell_type": "code",
      "execution_count": null,
      "metadata": {},
      "outputs": [
        {
          "name": "stdout",
          "output_type": "stream",
          "text": [
            "R2 (CV): 0.137 (±0.213)\n",
            "MAE (CV): -0.522 (±0.054)\n",
            "PEARSON (CV): 0.441 (±0.172)\n"
          ]
        }
      ],
      "source": [
        "for metric in SCORING_METRICS.keys():\n",
        "    mean_score = cv_results[f'test_{metric}'].mean()\n",
        "    std_score = cv_results[f'test_{metric}'].std()\n",
        "    print(f\"{metric.upper()} (CV): {mean_score:.3f} (±{std_score:.3f})\")"
      ]
    }
  ],
  "metadata": {
    "colab": {
      "provenance": []
    },
    "kernelspec": {
      "display_name": "myenv",
      "language": "python",
      "name": "python3"
    },
    "language_info": {
      "codemirror_mode": {
        "name": "ipython",
        "version": 3
      },
      "file_extension": ".py",
      "mimetype": "text/x-python",
      "name": "python",
      "nbconvert_exporter": "python",
      "pygments_lexer": "ipython3",
      "version": "3.12.4"
    }
  },
  "nbformat": 4,
  "nbformat_minor": 0
}
